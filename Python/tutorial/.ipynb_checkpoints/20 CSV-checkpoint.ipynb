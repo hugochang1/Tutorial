{
 "cells": [
  {
   "cell_type": "markdown",
   "metadata": {},
   "source": [
    "### CSV write"
   ]
  },
  {
   "cell_type": "code",
   "execution_count": 3,
   "metadata": {},
   "outputs": [],
   "source": [
    "import csv\n",
    "\n",
    "#delimiter=\",\"\n",
    "with open(\"test/c1.csv\", \"w\", newline=\"\") as f:\n",
    "    writer = csv.writer(f)\n",
    "    writer.writerow([\"lastname\", \"firstname\"])\n",
    "    writer.writerow([\"hugo\",\"chang\"])\n",
    "    writer.writerow([\"bean\",\"chan\"])\n",
    "    writer.writerow([\"gg\",\"yyy\"])"
   ]
  },
  {
   "cell_type": "code",
   "execution_count": 4,
   "metadata": {},
   "outputs": [],
   "source": [
    "import csv\n",
    "\n",
    "#delimiter=\"\\t\"\n",
    "with open(\"test/c2.csv\", \"w\", newline=\"\") as f:\n",
    "    writer = csv.writer(f, delimiter=\"\\t\")\n",
    "    writer.writerow([\"lastname\", \"firstname\"])\n",
    "    writer.writerow([\"hugo\",\"chang\"])\n",
    "    writer.writerow([\"bean\",\"chan\"])\n",
    "    writer.writerow([\"gg\",\"yyy\"])"
   ]
  },
  {
   "cell_type": "code",
   "execution_count": 5,
   "metadata": {},
   "outputs": [],
   "source": [
    "import csv\n",
    "\n",
    "#Chinese\n",
    "with open(\"test/c_utf8.csv\", \"w\", newline=\"\", encoding=\"utf8\") as f:\n",
    "    writer = csv.writer(f)\n",
    "    writer.writerow([\"lastname\", \"firstname\"])\n",
    "    writer.writerow([\"hugo\",\"chang\"])\n",
    "    writer.writerow([\"bean\",\"chan\"])\n",
    "    writer.writerow([\"中文\",\"測試\"])"
   ]
  },
  {
   "cell_type": "code",
   "execution_count": 6,
   "metadata": {},
   "outputs": [],
   "source": [
    "import csv\n",
    "\n",
    "#DictWirter()\n",
    "with open(\"test/c3.csv\", \"w\", newline=\"\") as f:\n",
    "    fields = [\"name\", \"age\", \"city\"]\n",
    "    writer = csv.DictWriter(f, fieldnames=fields)\n",
    "    writer.writeheader()\n",
    "    writer.writerow({\"name\":\"hugo\", \"age\":\"33\", \"city\":\"taipei\"})\n",
    "    writer.writerow({\"name\":\"bean\", \"age\":\"34\", \"city\":\"home\"})"
   ]
  },
  {
   "cell_type": "markdown",
   "metadata": {},
   "source": [
    "### CSV read"
   ]
  },
  {
   "cell_type": "code",
   "execution_count": 7,
   "metadata": {},
   "outputs": [
    {
     "name": "stdout",
     "output_type": "stream",
     "text": [
      "['lastname', 'firstname']\n",
      "['hugo', 'chang']\n",
      "['bean', 'chan']\n",
      "['gg', 'yyy']\n"
     ]
    }
   ],
   "source": [
    "import csv\n",
    "\n",
    "#delimiter=\",\"\n",
    "with open(\"test/c1.csv\", \"r\") as f:\n",
    "    reader = csv.reader(f)\n",
    "    for row in reader:\n",
    "        print(row)"
   ]
  },
  {
   "cell_type": "code",
   "execution_count": 8,
   "metadata": {},
   "outputs": [
    {
     "name": "stdout",
     "output_type": "stream",
     "text": [
      "[['lastname', 'firstname'], ['hugo', 'chang'], ['bean', 'chan'], ['gg', 'yyy']]\n"
     ]
    }
   ],
   "source": [
    "import csv\n",
    "\n",
    "#list\n",
    "with open(\"test/c1.csv\", \"r\") as f:\n",
    "    reader = csv.reader(f)\n",
    "    data = list(reader)\n",
    "\n",
    "print(data)"
   ]
  },
  {
   "cell_type": "code",
   "execution_count": 9,
   "metadata": {},
   "outputs": [
    {
     "name": "stdout",
     "output_type": "stream",
     "text": [
      "['lastname', 'firstname']\n",
      "['hugo', 'chang']\n",
      "['bean', 'chan']\n",
      "['gg', 'yyy']\n"
     ]
    }
   ],
   "source": [
    "import csv\n",
    "\n",
    "#delimiter=\"\\t\"\n",
    "with open(\"test/c2.csv\", \"r\") as f:\n",
    "    reader = csv.reader(f, delimiter=\"\\t\")\n",
    "    for row in reader:\n",
    "        print(row)"
   ]
  },
  {
   "cell_type": "code",
   "execution_count": 11,
   "metadata": {},
   "outputs": [
    {
     "name": "stdout",
     "output_type": "stream",
     "text": [
      "['lastname', 'firstname']\n",
      "['hugo', 'chang']\n",
      "['bean', 'chan']\n",
      "['中文', '測試']\n"
     ]
    }
   ],
   "source": [
    "import csv\n",
    "\n",
    "#Chinese\n",
    "with open(\"test/c_utf8.csv\", \"r\", encoding=\"utf8\") as f:\n",
    "    reader = csv.reader(f)\n",
    "    for row in reader:\n",
    "        print(row)"
   ]
  },
  {
   "cell_type": "code",
   "execution_count": 12,
   "metadata": {},
   "outputs": [
    {
     "name": "stdout",
     "output_type": "stream",
     "text": [
      "OrderedDict([('name', 'hugo'), ('age', '33'), ('city', 'taipei')])\n",
      "OrderedDict([('name', 'bean'), ('age', '34'), ('city', 'home')])\n"
     ]
    }
   ],
   "source": [
    "import csv\n",
    "\n",
    "#DictReader\n",
    "with open(\"test/c3.csv\", \"r\") as f:\n",
    "    reader = csv.DictReader(f)\n",
    "    for row in reader:\n",
    "        print(row)"
   ]
  },
  {
   "cell_type": "code",
   "execution_count": null,
   "metadata": {},
   "outputs": [],
   "source": []
  }
 ],
 "metadata": {
  "kernelspec": {
   "display_name": "Python 3",
   "language": "python",
   "name": "python3"
  },
  "language_info": {
   "codemirror_mode": {
    "name": "ipython",
    "version": 3
   },
   "file_extension": ".py",
   "mimetype": "text/x-python",
   "name": "python",
   "nbconvert_exporter": "python",
   "pygments_lexer": "ipython3",
   "version": "3.7.1"
  }
 },
 "nbformat": 4,
 "nbformat_minor": 2
}
