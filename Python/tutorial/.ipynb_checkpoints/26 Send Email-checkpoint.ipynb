{
 "cells": [
  {
   "cell_type": "markdown",
   "metadata": {},
   "source": [
    "### SMTP"
   ]
  },
  {
   "cell_type": "code",
   "execution_count": 1,
   "metadata": {},
   "outputs": [
    {
     "name": "stdout",
     "output_type": "stream",
     "text": [
      "<class 'smtplib.SMTP'>\n"
     ]
    }
   ],
   "source": [
    "import smtplib\n",
    "\n",
    "smtp = smtplib.SMTP(\"smtp.gmail.com\", 587)\n",
    "print(type(smtp))"
   ]
  },
  {
   "cell_type": "code",
   "execution_count": 2,
   "metadata": {},
   "outputs": [
    {
     "data": {
      "text/plain": [
       "(250,\n",
       " b'smtp.gmail.com at your service, [2001:b011:200e:344:d4ba:4a2c:e928:5822]\\nSIZE 35882577\\n8BITMIME\\nSTARTTLS\\nENHANCEDSTATUSCODES\\nPIPELINING\\nCHUNKING\\nSMTPUTF8')"
      ]
     },
     "execution_count": 2,
     "metadata": {},
     "output_type": "execute_result"
    }
   ],
   "source": [
    "#say hello to SMTP server\n",
    "smtp.ehlo()"
   ]
  },
  {
   "cell_type": "code",
   "execution_count": 3,
   "metadata": {},
   "outputs": [
    {
     "data": {
      "text/plain": [
       "(220, b'2.0.0 Ready to start TLS')"
      ]
     },
     "execution_count": 3,
     "metadata": {},
     "output_type": "execute_result"
    }
   ],
   "source": [
    "#start TLS\n",
    "smtp.starttls()"
   ]
  },
  {
   "cell_type": "code",
   "execution_count": 4,
   "metadata": {},
   "outputs": [
    {
     "data": {
      "text/plain": [
       "(235, b'2.7.0 Accepted')"
      ]
     },
     "execution_count": 4,
     "metadata": {},
     "output_type": "execute_result"
    }
   ],
   "source": [
    "smtp.login(\"sand208109@gmail.com\", \"helloworld123\")"
   ]
  },
  {
   "cell_type": "code",
   "execution_count": 5,
   "metadata": {},
   "outputs": [
    {
     "name": "stdout",
     "output_type": "stream",
     "text": [
      "mail sent successfully\n"
     ]
    }
   ],
   "source": [
    "#sendmail\n",
    "# param 1: from_addr\n",
    "# param 2: to_addr_list\n",
    "# param 3: msg\n",
    "\n",
    "msg = \"Subject: the subject\\n\\\n",
    "From: Hello world\\n\\\n",
    "To: sand208109@gmail.com\\n\\\n",
    "Cc: sand208109@gmail.com\\n\\\n",
    "Email from Python\"\n",
    "\n",
    "status = smtp.sendmail(\"sand208109@gmail.com\",\n",
    "                    [\"sand208109@gmail.com\"],\n",
    "                    msg)\n",
    "\n",
    "if status == {}:\n",
    "    print(\"mail sent successfully\")"
   ]
  },
  {
   "cell_type": "code",
   "execution_count": 6,
   "metadata": {},
   "outputs": [
    {
     "name": "stdout",
     "output_type": "stream",
     "text": [
      "{}\n"
     ]
    }
   ],
   "source": [
    "print(status)"
   ]
  },
  {
   "cell_type": "code",
   "execution_count": 7,
   "metadata": {},
   "outputs": [
    {
     "data": {
      "text/plain": [
       "(221, b'2.0.0 closing connection a90sm12868514pfj.109 - gsmtp')"
      ]
     },
     "execution_count": 7,
     "metadata": {},
     "output_type": "execute_result"
    }
   ],
   "source": [
    "smtp.quit()"
   ]
  },
  {
   "cell_type": "markdown",
   "metadata": {},
   "source": [
    "### MIME (Multiplepurpose Internet Mail Extensions)"
   ]
  },
  {
   "cell_type": "code",
   "execution_count": 9,
   "metadata": {},
   "outputs": [
    {
     "name": "stdout",
     "output_type": "stream",
     "text": [
      "mail sent successfully\n"
     ]
    }
   ],
   "source": [
    "import smtplib\n",
    "from email.mime.text import MIMEText\n",
    "\n",
    "from_addr = \"sand208109@gmail.com\"\n",
    "pwd = \"helloworld123\"\n",
    "to_addr_list = [\"sand208109@gmail.com\"]\n",
    "\n",
    "msg = MIMEText(\"中文字內容\", \"plain\", \"utf8\")\n",
    "msg[\"Subject\"] = \"subject plain\"\n",
    "msg[\"From\"] = \"sand208109@gmail.com\"\n",
    "msg[\"To\"] = \"sand208109@gmail.com\"\n",
    "msg[\"Cc\"] = \"sand208109@gmail.com\"\n",
    "\n",
    "try:\n",
    "    smtp = smtplib.SMTP(\"smtp.gmail.com\", 587)\n",
    "    smtp.ehlo()\n",
    "    smtp.starttls()\n",
    "    smtp.login(from_addr, pwd)\n",
    "    status = smtp.sendmail(from_addr, to_addr_list, msg.as_string())\n",
    "    if status == {}:\n",
    "        print(\"mail sent successfully\")\n",
    "    smtp.quit()\n",
    "except Exception as err:\n",
    "    print(err)"
   ]
  },
  {
   "cell_type": "code",
   "execution_count": 10,
   "metadata": {},
   "outputs": [
    {
     "name": "stdout",
     "output_type": "stream",
     "text": [
      "<class 'str'>\n",
      "\n",
      "Content-Type: text/plain; charset=\"utf8\"\n",
      "MIME-Version: 1.0\n",
      "Content-Transfer-Encoding: base64\n",
      "Subject: subject plain\n",
      "From: sand208109@gmail.com\n",
      "To: sand208109@gmail.com\n",
      "Cc: sand208109@gmail.com\n",
      "\n",
      "5Lit5paH5a2X5YWn5a65\n",
      "\n"
     ]
    }
   ],
   "source": [
    "print(type(msg.as_string()))\n",
    "print()\n",
    "print(msg.as_string())"
   ]
  },
  {
   "cell_type": "markdown",
   "metadata": {},
   "source": [
    "### HTML in email"
   ]
  },
  {
   "cell_type": "code",
   "execution_count": 11,
   "metadata": {},
   "outputs": [
    {
     "name": "stdout",
     "output_type": "stream",
     "text": [
      "mail sent successfully\n"
     ]
    }
   ],
   "source": [
    "import smtplib\n",
    "from email.mime.text import MIMEText\n",
    "\n",
    "from_addr = \"sand208109@gmail.com\"\n",
    "pwd = \"helloworld123\"\n",
    "to_addr_list = [\"sand208109@gmail.com\"]\n",
    "\n",
    "htmlstr = \"\"\"\n",
    "<!doctype html>\n",
    "<html>\n",
    "<head>\n",
    "    <meta charset=\"utf8\">\n",
    "    <title>file.html</title>\n",
    "</head>\n",
    "<body>\n",
    "this is body\n",
    "</body)\n",
    "</html>\n",
    "\"\"\"\n",
    "msg = MIMEText(htmlstr, \"html\", \"utf8\")\n",
    "msg[\"Subject\"] = \"subject html\"\n",
    "msg[\"From\"] = \"sand208109@gmail.com\"\n",
    "msg[\"To\"] = \"sand208109@gmail.com\"\n",
    "msg[\"Cc\"] = \"sand208109@gmail.com\"\n",
    "\n",
    "try:\n",
    "    smtp = smtplib.SMTP(\"smtp.gmail.com\", 587)\n",
    "    smtp.ehlo()\n",
    "    smtp.starttls()\n",
    "    smtp.login(from_addr, pwd)\n",
    "    status = smtp.sendmail(from_addr, to_addr_list, msg.as_string())\n",
    "    if status == {}:\n",
    "        print(\"mail sent successfully\")\n",
    "    smtp.quit()\n",
    "except Exception as err:\n",
    "    print(err)"
   ]
  },
  {
   "cell_type": "code",
   "execution_count": 12,
   "metadata": {},
   "outputs": [
    {
     "name": "stdout",
     "output_type": "stream",
     "text": [
      "Content-Type: text/html; charset=\"utf8\"\n",
      "MIME-Version: 1.0\n",
      "Content-Transfer-Encoding: base64\n",
      "Subject: subject html\n",
      "From: sand208109@gmail.com\n",
      "To: sand208109@gmail.com\n",
      "Cc: sand208109@gmail.com\n",
      "\n",
      "CjwhZG9jdHlwZSBodG1sPgo8aHRtbD4KPGhlYWQ+CiAgICA8bWV0YSBjaGFyc2V0PSJ1dGY4Ij4K\n",
      "ICAgIDx0aXRsZT5maWxlLmh0bWw8L3RpdGxlPgo8L2hlYWQ+Cjxib2R5Pgp0aGlzIGlzIGJvZHkK\n",
      "PC9ib2R5KQo8L2h0bWw+Cg==\n",
      "\n"
     ]
    }
   ],
   "source": [
    "print(msg.as_string())"
   ]
  },
  {
   "cell_type": "markdown",
   "metadata": {},
   "source": [
    "### attachment"
   ]
  },
  {
   "cell_type": "code",
   "execution_count": 13,
   "metadata": {},
   "outputs": [
    {
     "name": "stdout",
     "output_type": "stream",
     "text": [
      "mail sent successfully\n"
     ]
    }
   ],
   "source": [
    "import smtplib\n",
    "from email.mime.text import MIMEText\n",
    "\n",
    "from_addr = \"sand208109@gmail.com\"\n",
    "pwd = \"helloworld123\"\n",
    "to_addr_list = [\"sand208109@gmail.com\"]\n",
    "\n",
    "with open(\"res/music.mp3\", \"rb\") as f:\n",
    "    data = f.read()\n",
    "\n",
    "msg = MIMEText(data, \"base64\", \"utf8\")\n",
    "msg[\"Content-Type\"] = \"application/octet-stream\"\n",
    "msg[\"Content-Disposition\"] = 'attachment; filename=\"myMusic.mp3\"'\n",
    "msg[\"Subject\"] = \"subject attachment\"\n",
    "msg[\"From\"] = \"sand208109@gmail.com\"\n",
    "msg[\"To\"] = \"sand208109@gmail.com\"\n",
    "msg[\"Cc\"] = \"sand208109@gmail.com\"\n",
    "\n",
    "try:\n",
    "    smtp = smtplib.SMTP(\"smtp.gmail.com\", 587)\n",
    "    smtp.ehlo()\n",
    "    smtp.starttls()\n",
    "    smtp.login(from_addr, pwd)\n",
    "    status = smtp.sendmail(from_addr, to_addr_list, msg.as_string())\n",
    "    if status == {}:\n",
    "        print(\"mail sent successfully\")\n",
    "    smtp.quit()\n",
    "except Exception as err:\n",
    "    print(err)"
   ]
  },
  {
   "cell_type": "markdown",
   "metadata": {},
   "source": [
    "### picture"
   ]
  },
  {
   "cell_type": "code",
   "execution_count": 14,
   "metadata": {},
   "outputs": [
    {
     "name": "stdout",
     "output_type": "stream",
     "text": [
      "mail sent successfully\n"
     ]
    }
   ],
   "source": [
    "import smtplib\n",
    "from email.mime.text import MIMEText\n",
    "from email.mime.image import MIMEImage\n",
    "\n",
    "from_addr = \"sand208109@gmail.com\"\n",
    "pwd = \"helloworld123\"\n",
    "to_addr_list = [\"sand208109@gmail.com\"]\n",
    "\n",
    "with open(\"res/image.jpg\", \"rb\") as f:\n",
    "    data = f.read()\n",
    "\n",
    "msg = MIMEImage(data)\n",
    "msg[\"Content-Type\"] = \"application/octet-stream\"\n",
    "msg[\"Content-Disposition\"] = 'attachment; filename=\"phone.jpg\"'\n",
    "msg[\"Subject\"] = \"subject picture\"\n",
    "msg[\"From\"] = \"sand208109@gmail.com\"\n",
    "msg[\"To\"] = \"sand208109@gmail.com\"\n",
    "msg[\"Cc\"] = \"sand208109@gmail.com\"\n",
    "\n",
    "try:\n",
    "    smtp = smtplib.SMTP(\"smtp.gmail.com\", 587)\n",
    "    smtp.ehlo()\n",
    "    smtp.starttls()\n",
    "    smtp.login(from_addr, pwd)\n",
    "    status = smtp.sendmail(from_addr, to_addr_list, msg.as_string())\n",
    "    if status == {}:\n",
    "        print(\"mail sent successfully\")\n",
    "    smtp.quit()\n",
    "except Exception as err:\n",
    "    print(err)"
   ]
  },
  {
   "cell_type": "markdown",
   "metadata": {},
   "source": [
    "### text + picture + attachment"
   ]
  },
  {
   "cell_type": "code",
   "execution_count": 15,
   "metadata": {},
   "outputs": [
    {
     "name": "stdout",
     "output_type": "stream",
     "text": [
      "mail sent successfully\n"
     ]
    }
   ],
   "source": [
    "import smtplib\n",
    "from email.mime.application import MIMEApplication\n",
    "from email.mime.multipart import MIMEMultipart\n",
    "from email.mime.text import MIMEText\n",
    "\n",
    "from_addr = \"sand208109@gmail.com\"\n",
    "pwd = \"helloworld123\"\n",
    "to_addr_list = [\"sand208109@gmail.com\"]\n",
    "\n",
    "msg = MIMEMultipart()\n",
    "msg[\"From\"] = \"sand208109@gmail.com\"\n",
    "msg[\"To\"] = \"sand208109@gmail.com\"\n",
    "msg[\"Cc\"] = \"sand208109@gmail.com\"\n",
    "msg[\"Subject\"] = \"subject misc\"\n",
    "\n",
    "msg.attach(MIMEText(\"this is my content\"))\n",
    "\n",
    "with open(\"res/image.jpg\", \"rb\") as f:\n",
    "    data = f.read()\n",
    "    part = MIMEApplication(data)\n",
    "    part['Content-Disposition'] = 'attachment; filename=\"phone.jpg\"'\n",
    "    msg.attach(part)\n",
    "\n",
    "with open(\"res/music.mp3\", \"rb\") as f:\n",
    "    data = f.read()\n",
    "    part = MIMEApplication(data)\n",
    "    part['Content-Disposition'] = 'attachment; filename=\"music.mp3\"'\n",
    "    msg.attach(part)\n",
    "\n",
    "try:\n",
    "    smtp = smtplib.SMTP(\"smtp.gmail.com\", 587)\n",
    "    smtp.ehlo()\n",
    "    smtp.starttls()\n",
    "    smtp.login(from_addr, pwd)\n",
    "    status = smtp.sendmail(from_addr, to_addr_list, msg.as_string())\n",
    "    if status == {}:\n",
    "        print(\"mail sent successfully\")\n",
    "    smtp.quit()\n",
    "except Exception as err:\n",
    "    print(err)"
   ]
  },
  {
   "cell_type": "code",
   "execution_count": null,
   "metadata": {},
   "outputs": [],
   "source": []
  }
 ],
 "metadata": {
  "kernelspec": {
   "display_name": "Python 3",
   "language": "python",
   "name": "python3"
  },
  "language_info": {
   "codemirror_mode": {
    "name": "ipython",
    "version": 3
   },
   "file_extension": ".py",
   "mimetype": "text/x-python",
   "name": "python",
   "nbconvert_exporter": "python",
   "pygments_lexer": "ipython3",
   "version": "3.7.1"
  }
 },
 "nbformat": 4,
 "nbformat_minor": 2
}
