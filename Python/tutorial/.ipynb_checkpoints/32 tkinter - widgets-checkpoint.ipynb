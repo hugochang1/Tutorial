{
 "cells": [
  {
   "cell_type": "markdown",
   "metadata": {},
   "source": [
    "### Template"
   ]
  },
  {
   "cell_type": "code",
   "execution_count": 8,
   "metadata": {},
   "outputs": [],
   "source": [
    "from tkinter import *\n",
    "\n",
    "def keyEvent(event):\n",
    "    if event.keysym == \"Escape\":\n",
    "        tk.destroy()\n",
    "\n",
    "tk = Tk()\n",
    "# --------------- demo start ---------------\n",
    "# --------------- demo end   ---------------\n",
    "tk.bind_all(\"<KeyPress>\", keyEvent)\n",
    "tk.lift()\n",
    "tk.focus_force()\n",
    "tk.after(5000, tk.destroy)\n",
    "tk.mainloop()"
   ]
  },
  {
   "cell_type": "markdown",
   "metadata": {},
   "source": [
    "### Button"
   ]
  },
  {
   "cell_type": "code",
   "execution_count": 23,
   "metadata": {},
   "outputs": [],
   "source": [
    "from tkinter import *\n",
    "from PIL import ImageTk, Image\n",
    "\n",
    "def keyEvent(event):\n",
    "    if event.keysym == \"Escape\":\n",
    "        tk.destroy()\n",
    "\n",
    "def button_click():\n",
    "    print(\"button_click\")\n",
    "\n",
    "tk = Tk()\n",
    "# --------------- demo start ---------------\n",
    "button1 = Button(tk, text=\"test1\", command=button_click)\n",
    "button1.pack()\n",
    "\n",
    "button2 = Button(tk, text=\"test2\", command=button_click, bd=4,\n",
    "      width=50, height=2, bg=\"yellow\", fg=\"blue\", font=(\"\", 10))\n",
    "button2.pack()\n",
    "\n",
    "button3 = Button(tk, text=\"test3\", command=button_click, bd=8,\n",
    "      width=100, height=3, bg=\"#00ff00\", fg=\"#000000\", font=(\"\", 15))\n",
    "button3.pack()\n",
    "\n",
    "img = Image.open(\"res/mario.png\")\n",
    "img = img.resize((200, 150), Image.ANTIALIAS)\n",
    "img = ImageTk.PhotoImage(img)\n",
    "button4 = Button(tk, text=\"test4\", command=button_click, bd=12, image=img)\n",
    "button4.pack()\n",
    "# --------------- demo end   ---------------\n",
    "tk.bind_all(\"<KeyPress>\", keyEvent)\n",
    "tk.lift()\n",
    "tk.focus_force()\n",
    "tk.after(5000, tk.destroy)\n",
    "tk.mainloop()"
   ]
  },
  {
   "cell_type": "code",
   "execution_count": 1,
   "metadata": {},
   "outputs": [
    {
     "data": {
      "text/html": [
       "<img src=\"res/tk_button.png\">\n"
      ],
      "text/plain": [
       "<IPython.core.display.HTML object>"
      ]
     },
     "metadata": {},
     "output_type": "display_data"
    }
   ],
   "source": [
    "%%html\n",
    "<img src=\"res/tk_button.png\">"
   ]
  },
  {
   "cell_type": "markdown",
   "metadata": {},
   "source": [
    "### CheckButton"
   ]
  },
  {
   "cell_type": "code",
   "execution_count": 1,
   "metadata": {},
   "outputs": [],
   "source": [
    "from tkinter import *\n",
    "from PIL import ImageTk, Image\n",
    "\n",
    "def keyEvent(event):\n",
    "    if event.keysym == \"Escape\":\n",
    "        tk.destroy()\n",
    "\n",
    "def check_button_click():\n",
    "    value = check_var.get()\n",
    "    print(\"check_button_click\", type(value), value)\n",
    "    \n",
    "tk = Tk()\n",
    "# --------------- demo start ---------------\n",
    "check_var = IntVar()\n",
    "check1 = Checkbutton(tk, text=\"test1\", command=check_button_click, variable=check_var)\n",
    "check1.pack()\n",
    "\n",
    "check2 = Checkbutton(tk, text=\"test2\", command=check_button_click, variable=check_var, width=50, height=2, \n",
    "            bg=\"#00ff00\", fg=\"#ff0000\", font=(\"\", 10))\n",
    "check2.pack()\n",
    "\n",
    "check3 = Checkbutton(tk, text=\"test3\", command=check_button_click, variable=check_var, width=100, height=3, \n",
    "            bg=\"#ffff00\", fg=\"#0000ff\", font=(\"\", 15))\n",
    "check3.pack()\n",
    "\n",
    "img = Image.open(\"res/mario.png\")\n",
    "img = img.resize((200, 150), Image.ANTIALIAS)\n",
    "img = ImageTk.PhotoImage(img)\n",
    "check4 = Checkbutton(tk, command=check_button_click, variable=check_var, image=img)\n",
    "check4.pack()\n",
    "# --------------- demo end   ---------------\n",
    "tk.bind_all(\"<KeyPress>\", keyEvent)\n",
    "tk.lift()\n",
    "tk.focus_force()\n",
    "tk.after(5000, tk.destroy)\n",
    "tk.mainloop()"
   ]
  },
  {
   "cell_type": "code",
   "execution_count": 2,
   "metadata": {},
   "outputs": [
    {
     "data": {
      "text/html": [
       "<img src=\"res/tk_checkButton.png\">\n"
      ],
      "text/plain": [
       "<IPython.core.display.HTML object>"
      ]
     },
     "metadata": {},
     "output_type": "display_data"
    }
   ],
   "source": [
    "%%html\n",
    "<img src=\"res/tk_checkButton.png\">"
   ]
  },
  {
   "cell_type": "markdown",
   "metadata": {},
   "source": [
    "### Entry"
   ]
  },
  {
   "cell_type": "code",
   "execution_count": 4,
   "metadata": {},
   "outputs": [
    {
     "name": "stdout",
     "output_type": "stream",
     "text": [
      "<class 'str'> hello\n"
     ]
    }
   ],
   "source": [
    "from tkinter import *\n",
    "from PIL import ImageTk, Image\n",
    "\n",
    "def keyEvent(event):\n",
    "    if event.keysym == \"Escape\":\n",
    "        tk.destroy()\n",
    "\n",
    "tk = Tk()\n",
    "# --------------- demo start ---------------\n",
    "entry1 = Entry(tk)\n",
    "entry1.insert(0, \"hello\")\n",
    "entry1.focus()\n",
    "entry1.pack()\n",
    "print(type(entry1.get()), entry1.get())\n",
    "\n",
    "entry2 = Entry(tk, bd=8, width=50, bg=\"#00ff00\", fg=\"#ff0000\", font=(\"\", 10))\n",
    "entry2.insert(0, \"world\")\n",
    "entry2.pack()\n",
    "\n",
    "entry3 = Entry(tk, bd=12, width=100, bg=\"#ffff00\", fg=\"#0000ff\", font=(\"\", 15))\n",
    "entry3.insert(0, \"中文字\")\n",
    "entry3.pack()\n",
    "# --------------- demo end   ---------------\n",
    "tk.bind_all(\"<KeyPress>\", keyEvent)\n",
    "tk.lift()\n",
    "tk.focus_force()\n",
    "tk.after(5000, tk.destroy)\n",
    "tk.mainloop()"
   ]
  },
  {
   "cell_type": "code",
   "execution_count": 3,
   "metadata": {},
   "outputs": [
    {
     "data": {
      "text/html": [
       "<img src=\"res/tk_entry.png\">\n"
      ],
      "text/plain": [
       "<IPython.core.display.HTML object>"
      ]
     },
     "metadata": {},
     "output_type": "display_data"
    }
   ],
   "source": [
    "%%html\n",
    "<img src=\"res/tk_entry.png\">"
   ]
  },
  {
   "cell_type": "code",
   "execution_count": 1,
   "metadata": {},
   "outputs": [
    {
     "name": "stdout",
     "output_type": "stream",
     "text": [
      "hello\n",
      "helloa\n",
      "helloaa\n",
      "helloaaa\n",
      "helloaaac\n",
      "helloaaacd\n"
     ]
    }
   ],
   "source": [
    "# to customized the input (ex: check input, limit input length)\n",
    "from tkinter import *\n",
    "from PIL import ImageTk, Image\n",
    "\n",
    "def keyEvent(event):\n",
    "    if event.keysym == \"Escape\":\n",
    "        tk.destroy()\n",
    "\n",
    "tk = Tk()\n",
    "# --------------- demo start ---------------\n",
    "def string_var_cb(*args):\n",
    "    s = entry1.get()\n",
    "    print(s)\n",
    "    # limit the max length\n",
    "    if len(s) > 10:\n",
    "        var.set(s[:10])\n",
    "\n",
    "var = StringVar()  # create\n",
    "cb = var.trace_variable(\"w\", string_var_cb) # set callback\n",
    "\n",
    "entry1 = Entry(tk, textvariable=var)  # set textvariable\n",
    "entry1.insert(0, \"hello\")\n",
    "entry1.focus()\n",
    "entry1.pack()\n",
    "# --------------- demo end   ---------------\n",
    "tk.bind_all(\"<KeyPress>\", keyEvent)\n",
    "tk.lift()\n",
    "tk.focus_force()\n",
    "tk.after(5000, tk.destroy)\n",
    "tk.mainloop()\n",
    "\n",
    "var.trace_remove(\"write\", cb) # clear the callback"
   ]
  },
  {
   "cell_type": "markdown",
   "metadata": {},
   "source": [
    "### Label"
   ]
  },
  {
   "cell_type": "code",
   "execution_count": 38,
   "metadata": {},
   "outputs": [],
   "source": [
    "from tkinter import *\n",
    "from PIL import ImageTk, Image\n",
    "\n",
    "def keyEvent(event):\n",
    "    if event.keysym == \"Escape\":\n",
    "        tk.destroy()\n",
    "\n",
    "tk = Tk()\n",
    "# --------------- demo start ---------------\n",
    "Label(text=\"test1\").pack()\n",
    "Label(text=\"test2\", width=50, height=2, bg=\"#00ff00\", fg=\"#ff0000\", font=(\"\", 10)).pack()\n",
    "Label(text=\"test3\", width=100, height=3, bg=\"#ffff00\", fg=\"#0000ff\", font=(\"\", 15)).pack()\n",
    "\n",
    "img = Image.open(\"res/mario.png\")\n",
    "img = img.resize((200, 150), Image.ANTIALIAS)\n",
    "img = ImageTk.PhotoImage(img)\n",
    "Label(image=img).pack()\n",
    "# --------------- demo end   ---------------\n",
    "tk.bind_all(\"<KeyPress>\", keyEvent)\n",
    "tk.lift()\n",
    "tk.focus_force()\n",
    "tk.after(5000, tk.destroy)\n",
    "tk.mainloop()"
   ]
  },
  {
   "cell_type": "code",
   "execution_count": 4,
   "metadata": {},
   "outputs": [
    {
     "data": {
      "text/html": [
       "<img src=\"res/tk_label.png\">\n"
      ],
      "text/plain": [
       "<IPython.core.display.HTML object>"
      ]
     },
     "metadata": {},
     "output_type": "display_data"
    }
   ],
   "source": [
    "%%html\n",
    "<img src=\"res/tk_label.png\">"
   ]
  },
  {
   "cell_type": "markdown",
   "metadata": {},
   "source": [
    "### RadioButton"
   ]
  },
  {
   "cell_type": "code",
   "execution_count": 5,
   "metadata": {},
   "outputs": [],
   "source": [
    "from tkinter import *\n",
    "from PIL import ImageTk, Image\n",
    "\n",
    "def keyEvent(event):\n",
    "    if event.keysym == \"Escape\":\n",
    "        tk.destroy()\n",
    "\n",
    "def radio_button_click():\n",
    "    value = check_var.get()\n",
    "    print(\"radio_button_click\", type(value), value)\n",
    "    \n",
    "tk = Tk()\n",
    "# --------------- demo start ---------------\n",
    "check_var = IntVar()\n",
    "radio1 = Radiobutton(tk, text=\"radio1\", value=1, variable=check_var, command=radio_button_click)\n",
    "radio1.select()\n",
    "radio1.pack()\n",
    "radio2 = Radiobutton(tk, text=\"radio2\", value=2, variable=check_var, command=radio_button_click,\n",
    "                    width=50, height=2, bg=\"#00ff00\", fg=\"#ff0000\", font=(\"\", 10))\n",
    "radio2.pack()\n",
    "radio3 = Radiobutton(tk, text=\"radio3\", value=3, variable=check_var, command=radio_button_click,\n",
    "                    width=50, height=3, bg=\"#ffff00\", fg=\"#0000ff\", font=(\"\", 15))\n",
    "radio3.pack()\n",
    "\n",
    "img = Image.open(\"res/mario.png\")\n",
    "img = img.resize((200, 150), Image.ANTIALIAS)\n",
    "img = ImageTk.PhotoImage(img)\n",
    "radio4 = Radiobutton(tk, image=img, value=4, variable=check_var, command=radio_button_click)\n",
    "radio4.pack()\n",
    "# --------------- demo end   ---------------\n",
    "tk.bind_all(\"<KeyPress>\", keyEvent)\n",
    "tk.lift()\n",
    "tk.focus_force()\n",
    "tk.after(5000, tk.destroy)\n",
    "tk.mainloop()"
   ]
  },
  {
   "cell_type": "code",
   "execution_count": 5,
   "metadata": {},
   "outputs": [
    {
     "data": {
      "text/html": [
       "<img src=\"res/tk_radio.png\">\n"
      ],
      "text/plain": [
       "<IPython.core.display.HTML object>"
      ]
     },
     "metadata": {},
     "output_type": "display_data"
    }
   ],
   "source": [
    "%%html\n",
    "<img src=\"res/tk_radio.png\">"
   ]
  },
  {
   "cell_type": "markdown",
   "metadata": {},
   "source": [
    "### Scale"
   ]
  },
  {
   "cell_type": "code",
   "execution_count": 22,
   "metadata": {},
   "outputs": [
    {
     "name": "stdout",
     "output_type": "stream",
     "text": [
      "scale_click <class 'str'> 500\n",
      "scale_click <class 'str'> -100\n"
     ]
    }
   ],
   "source": [
    "from tkinter import *\n",
    "from PIL import ImageTk, Image\n",
    "\n",
    "def keyEvent(event):\n",
    "    if event.keysym == \"Escape\":\n",
    "        tk.destroy()\n",
    "\n",
    "def scale_click(value):\n",
    "    print(\"scale_click\", type(value), value)\n",
    "    \n",
    "tk = Tk()\n",
    "# --------------- demo start ---------------\n",
    "scale1 = Scale(tk, label=\"Scale1\", command=scale_click, orient=HORIZONTAL)\n",
    "scale1.pack()\n",
    "\n",
    "scale2 = Scale(tk, label=\"Scale2\", command=scale_click, orient=HORIZONTAL, length=200, from_=-100, to=100,\n",
    "              tickinterval=25, resolution=5, bg=\"#00ff00\", fg=\"#ff0000\", font=(\"\", 10), troughcolor=\"#000000\", width=30)\n",
    "scale2.set(-100)\n",
    "scale2.pack()\n",
    "\n",
    "scale3 = Scale(tk, label=\"Scale3\", command=scale_click, orient=HORIZONTAL, length=300, from_=-1000, to=1000,\n",
    "              tickinterval=500, resolution=100, bg=\"#ffff00\", fg=\"#0000ff\", font=(\"\", 15), troughcolor=\"#ffffff\", width=50)\n",
    "scale3.set(500)\n",
    "scale3.pack()\n",
    "# --------------- demo end   ---------------\n",
    "tk.bind_all(\"<KeyPress>\", keyEvent)\n",
    "tk.lift()\n",
    "tk.focus_force()\n",
    "tk.after(5000, tk.destroy)\n",
    "tk.mainloop()"
   ]
  },
  {
   "cell_type": "code",
   "execution_count": 6,
   "metadata": {},
   "outputs": [
    {
     "data": {
      "text/html": [
       "<img src=\"res/tk_scale.png\">\n"
      ],
      "text/plain": [
       "<IPython.core.display.HTML object>"
      ]
     },
     "metadata": {},
     "output_type": "display_data"
    }
   ],
   "source": [
    "%%html\n",
    "<img src=\"res/tk_scale.png\">"
   ]
  },
  {
   "cell_type": "code",
   "execution_count": 49,
   "metadata": {},
   "outputs": [],
   "source": [
    "from tkinter import *\n",
    "\n",
    "def keyEvent(event):\n",
    "    if event.keysym == \"Escape\":\n",
    "        tk.destroy()\n",
    "\n",
    "def spinbox_click():\n",
    "    print(\"spinbox_click\", type(spinbox1.get()), spinbox1.get())\n",
    "        \n",
    "tk = Tk()\n",
    "# --------------- demo start ---------------\n",
    "spinbox1 = Spinbox(tk, from_=0, to=100, command=spinbox_click)\n",
    "spinbox1.pack()\n",
    "\n",
    "spinbox2 = Spinbox(tk, from_=-100, to=100, command=spinbox_click, width=50, fg=\"#ff0000\", font=(\"\", 15))\n",
    "spinbox2.delete(0, END)\n",
    "spinbox2.insert(0, \"50\")\n",
    "spinbox2.pack()\n",
    "\n",
    "spinbox3 = Spinbox(tk, from_=-1000, to=1000, command=spinbox_click, width=50, fg=\"#0000ff\", font=(\"\", 30))\n",
    "spinbox3.delete(0, END)\n",
    "spinbox3.insert(0, \"100\")\n",
    "spinbox3.pack()\n",
    "# --------------- demo end   ---------------\n",
    "tk.bind_all(\"<KeyPress>\", keyEvent)\n",
    "tk.lift()\n",
    "tk.focus_force()\n",
    "tk.after(10000, tk.destroy)\n",
    "tk.mainloop()"
   ]
  },
  {
   "cell_type": "code",
   "execution_count": 7,
   "metadata": {},
   "outputs": [
    {
     "data": {
      "text/html": [
       "<img src=\"res/tk_spinbox.png\">\n"
      ],
      "text/plain": [
       "<IPython.core.display.HTML object>"
      ]
     },
     "metadata": {},
     "output_type": "display_data"
    }
   ],
   "source": [
    "%%html\n",
    "<img src=\"res/tk_spinbox.png\">"
   ]
  },
  {
   "cell_type": "markdown",
   "metadata": {},
   "source": [
    "### Text"
   ]
  },
  {
   "cell_type": "code",
   "execution_count": 81,
   "metadata": {},
   "outputs": [
    {
     "name": "stdout",
     "output_type": "stream",
     "text": [
      "1234567890\n",
      "\n",
      "\n"
     ]
    }
   ],
   "source": [
    "from tkinter import *\n",
    "\n",
    "def keyEvent(event):\n",
    "    if event.keysym == \"Escape\":\n",
    "        tk.destroy()\n",
    "\n",
    "tk = Tk()\n",
    "# --------------- demo start ---------------\n",
    "text1 = Text(tk) #height=24 width=80\n",
    "text1.insert(INSERT, \"1234567890\\n\")\n",
    "text1.focus()\n",
    "text1.pack()\n",
    "\n",
    "print(text1.get(\"1.0\", END))\n",
    "\n",
    "text2 = Text(tk, height=2, width=50, bd=5, bg=\"#00ff00\", fg=\"#ff0000\", font=(\"\", 20))\n",
    "text2.insert(INSERT, \"hello world\\n\")\n",
    "text2.pack()\n",
    "\n",
    "text3 = Text(tk, height=3, width=50, bd=10, bg=\"#ffff00\", fg=\"#0000ff\", font=(\"\", 30))\n",
    "text3.insert(INSERT, \"中文字\\n\")\n",
    "text3.pack()\n",
    "# --------------- demo end   ---------------\n",
    "tk.bind_all(\"<KeyPress>\", keyEvent)\n",
    "tk.lift()\n",
    "tk.focus_force()\n",
    "tk.after(10000, tk.destroy)\n",
    "tk.mainloop()"
   ]
  },
  {
   "cell_type": "code",
   "execution_count": 8,
   "metadata": {},
   "outputs": [
    {
     "data": {
      "text/html": [
       "<img src=\"res/tk_text.png\">\n"
      ],
      "text/plain": [
       "<IPython.core.display.HTML object>"
      ]
     },
     "metadata": {},
     "output_type": "display_data"
    }
   ],
   "source": [
    "%%html\n",
    "<img src=\"res/tk_text.png\">"
   ]
  },
  {
   "cell_type": "markdown",
   "metadata": {},
   "source": [
    "### Srollbar"
   ]
  },
  {
   "cell_type": "code",
   "execution_count": 40,
   "metadata": {},
   "outputs": [],
   "source": [
    "from tkinter import *\n",
    "import tkinter.scrolledtext\n",
    "\n",
    "def keyEvent(event):\n",
    "    if event.keysym == \"Escape\":\n",
    "        tk.destroy()\n",
    "\n",
    "tk = Tk()\n",
    "# --------------- demo start ---------------\n",
    "yscrollbar = Scrollbar(tk)\n",
    "yscrollbar.pack(side=RIGHT, fill=Y)\n",
    "\n",
    "text1 = Text(tk, height=5, width=50, yscrollcommand=yscrollbar.set)\n",
    "text1.insert(INSERT, \"1234567890\\n\")\n",
    "text1.focus()\n",
    "text1.pack()\n",
    "# --------------- demo end   ---------------\n",
    "tk.bind_all(\"<KeyPress>\", keyEvent)\n",
    "tk.lift()\n",
    "tk.focus_force()\n",
    "tk.after(10000, tk.destroy)\n",
    "tk.mainloop()"
   ]
  },
  {
   "cell_type": "code",
   "execution_count": 9,
   "metadata": {},
   "outputs": [
    {
     "data": {
      "text/html": [
       "<img src=\"res/tk_scrollbar.png\">\n"
      ],
      "text/plain": [
       "<IPython.core.display.HTML object>"
      ]
     },
     "metadata": {},
     "output_type": "display_data"
    }
   ],
   "source": [
    "%%html\n",
    "<img src=\"res/tk_scrollbar.png\">"
   ]
  },
  {
   "cell_type": "markdown",
   "metadata": {},
   "source": [
    "### OptionMenu"
   ]
  },
  {
   "cell_type": "code",
   "execution_count": 16,
   "metadata": {},
   "outputs": [],
   "source": [
    "from tkinter import *\n",
    "\n",
    "def keyEvent(event):\n",
    "    if event.keysym == \"Escape\":\n",
    "        tk.destroy()\n",
    "\n",
    "def option_menu_click(value):\n",
    "    print(\"option_menu_click\", type(value), value)\n",
    "\n",
    "tk = Tk()\n",
    "# --------------- demo start ---------------\n",
    "option_var = StringVar()\n",
    "option_var.set(\"OptionMenu\")\n",
    "option1 = OptionMenu(tk, option_var, \"Option 1\", \"Option 2\", \"Option 3\", command=option_menu_click)\n",
    "option1.pack()\n",
    "# --------------- demo end   ---------------\n",
    "tk.bind_all(\"<KeyPress>\", keyEvent)\n",
    "tk.lift()\n",
    "tk.focus_force()\n",
    "tk.after(10000, tk.destroy)\n",
    "tk.mainloop()"
   ]
  },
  {
   "cell_type": "code",
   "execution_count": 10,
   "metadata": {},
   "outputs": [
    {
     "data": {
      "text/html": [
       "<img src=\"res/tk_optionMenu.png\">\n"
      ],
      "text/plain": [
       "<IPython.core.display.HTML object>"
      ]
     },
     "metadata": {},
     "output_type": "display_data"
    }
   ],
   "source": [
    "%%html\n",
    "<img src=\"res/tk_optionMenu.png\">"
   ]
  },
  {
   "cell_type": "markdown",
   "metadata": {},
   "source": [
    "### message"
   ]
  },
  {
   "cell_type": "code",
   "execution_count": 7,
   "metadata": {},
   "outputs": [],
   "source": [
    "from tkinter import *\n",
    "import tkinter.messagebox\n",
    "\n",
    "def keyEvent(event):\n",
    "    if event.keysym == \"Escape\":\n",
    "        tk.destroy()\n",
    "\n",
    "tk = Tk()\n",
    "# --------------- demo start ---------------\n",
    "#tkinter.messagebox.showinfo(title=\"title\", message=\"message\")\n",
    "#tkinter.messagebox.showwarning(title=\"title\", message=\"message\")\n",
    "#tkinter.messagebox.showerror(title=\"title\", message=\"message\")\n",
    "#ret = tkinter.messagebox.askquestion(title=\"title\", message=\"message\")\n",
    "#print(type(ret), ret)\n",
    "# --------------- demo end   ---------------\n",
    "tk.bind_all(\"<KeyPress>\", keyEvent)\n",
    "tk.lift()\n",
    "tk.focus_force()\n",
    "tk.after(3000, tk.destroy)\n",
    "tk.mainloop()"
   ]
  },
  {
   "cell_type": "code",
   "execution_count": 11,
   "metadata": {},
   "outputs": [
    {
     "data": {
      "text/html": [
       "<img src=\"res/tk_message.png\">\n"
      ],
      "text/plain": [
       "<IPython.core.display.HTML object>"
      ]
     },
     "metadata": {},
     "output_type": "display_data"
    }
   ],
   "source": [
    "%%html\n",
    "<img src=\"res/tk_message.png\">"
   ]
  },
  {
   "cell_type": "markdown",
   "metadata": {},
   "source": [
    "### Canvas"
   ]
  },
  {
   "cell_type": "code",
   "execution_count": 3,
   "metadata": {},
   "outputs": [],
   "source": [
    "from tkinter import *\n",
    "from PIL import ImageTk, Image\n",
    "\n",
    "def keyEvent(event):\n",
    "    if event.keysym == \"Escape\":\n",
    "        tk.destroy()\n",
    "\n",
    "tk = Tk()\n",
    "# --------------- demo start ---------------\n",
    "canvas = Canvas(tk, bg='green', width=600, height=200)\n",
    "canvas.pack()\n",
    "\n",
    "img = Image.open(\"res/mario.png\")\n",
    "img = img.resize((200, 150), Image.ANTIALIAS)\n",
    "img = ImageTk.PhotoImage(img)\n",
    "canvas.create_image(10, 10, image=img, anchor=NW)\n",
    "# --------------- demo end   ---------------\n",
    "\n",
    "tk.bind_all(\"<KeyPress>\", keyEvent)\n",
    "tk.lift()\n",
    "tk.focus_force()\n",
    "tk.after(5000, tk.destroy)\n",
    "tk.mainloop()"
   ]
  },
  {
   "cell_type": "code",
   "execution_count": 12,
   "metadata": {},
   "outputs": [
    {
     "data": {
      "text/html": [
       "<img src=\"res/tk_canvas.png\">\n"
      ],
      "text/plain": [
       "<IPython.core.display.HTML object>"
      ]
     },
     "metadata": {},
     "output_type": "display_data"
    }
   ],
   "source": [
    "%%html\n",
    "<img src=\"res/tk_canvas.png\">"
   ]
  },
  {
   "cell_type": "markdown",
   "metadata": {},
   "source": [
    "### menu"
   ]
  },
  {
   "cell_type": "code",
   "execution_count": 11,
   "metadata": {},
   "outputs": [],
   "source": [
    "from tkinter import *\n",
    "\n",
    "def keyEvent(event):\n",
    "    if event.keysym == \"Escape\":\n",
    "        tk.destroy()\n",
    "\n",
    "tk = Tk()\n",
    "# --------------- demo start ---------------\n",
    "menubar = Menu(tk)\n",
    "tk.config(menu=menubar)\n",
    "\n",
    "menufile = Menu(menubar, tearoff=0)\n",
    "menubar.add_cascade(label=\"File\", menu=menufile)\n",
    "menufile.add_command(label=\"New\", command=None)\n",
    "menufile.add_command(label=\"Open\", command=None)\n",
    "menufile.add_command(label=\"Save\", command=None)\n",
    "menufile.add_command(label=\"Save as...\", command=None)\n",
    "menufile.add_separator()\n",
    "menufile.add_command(label=\"Close\", command=tk.destroy)\n",
    "\n",
    "menuedit = Menu(menubar, tearoff=0)\n",
    "menubar.add_cascade(label=\"Edit\", menu=menuedit)\n",
    "menuedit.add_command(label=\"test1\", command=None)\n",
    "menuedit.add_command(label=\"test2\", command=None)\n",
    "# --------------- demo end   ---------------\n",
    "tk.bind_all(\"<KeyPress>\", keyEvent)\n",
    "tk.lift()\n",
    "tk.focus_force()\n",
    "tk.after(5000, tk.destroy)\n",
    "tk.mainloop()"
   ]
  },
  {
   "cell_type": "code",
   "execution_count": 14,
   "metadata": {},
   "outputs": [
    {
     "data": {
      "text/html": [
       "<img src=\"res/tk_menu.png\">\n"
      ],
      "text/plain": [
       "<IPython.core.display.HTML object>"
      ]
     },
     "metadata": {},
     "output_type": "display_data"
    }
   ],
   "source": [
    "%%html\n",
    "<img src=\"res/tk_menu.png\">"
   ]
  },
  {
   "cell_type": "markdown",
   "metadata": {},
   "source": [
    "# Layout"
   ]
  },
  {
   "cell_type": "markdown",
   "metadata": {},
   "source": [
    "### pack"
   ]
  },
  {
   "cell_type": "code",
   "execution_count": 15,
   "metadata": {},
   "outputs": [],
   "source": [
    "from tkinter import *\n",
    "\n",
    "def keyEvent(event):\n",
    "    if event.keysym == \"Escape\":\n",
    "        tk.destroy()\n",
    "\n",
    "tk = Tk()\n",
    "# --------------- demo start ---------------\n",
    "Button(tk, text=\"test1\").pack()\n",
    "Button(tk, text=\"test2\").pack()\n",
    "Button(tk, text=\"test3\").pack()\n",
    "# --------------- demo end   ---------------\n",
    "tk.bind_all(\"<KeyPress>\", keyEvent)\n",
    "tk.lift()\n",
    "tk.focus_force()\n",
    "tk.after(5000, tk.destroy)\n",
    "tk.mainloop()"
   ]
  },
  {
   "cell_type": "code",
   "execution_count": 17,
   "metadata": {},
   "outputs": [
    {
     "data": {
      "text/html": [
       "<img src=\"res/tk_pack.png\">\n"
      ],
      "text/plain": [
       "<IPython.core.display.HTML object>"
      ]
     },
     "metadata": {},
     "output_type": "display_data"
    }
   ],
   "source": [
    "%%html\n",
    "<img src=\"res/tk_pack.png\">"
   ]
  },
  {
   "cell_type": "markdown",
   "metadata": {},
   "source": [
    "### grid"
   ]
  },
  {
   "cell_type": "code",
   "execution_count": 6,
   "metadata": {},
   "outputs": [],
   "source": [
    "from tkinter import *\n",
    "\n",
    "def keyEvent(event):\n",
    "    if event.keysym == \"Escape\":\n",
    "        tk.destroy()\n",
    "\n",
    "tk = Tk()\n",
    "# --------------- demo start ---------------\n",
    "Button(tk, text=\"test1\").grid(row=1, column=1)\n",
    "Button(tk, text=\"test2\").grid(row=1, column=2)\n",
    "Button(tk, text=\"test3\").grid(row=1, column=3)\n",
    "\n",
    "Button(tk, text=\"test4\").grid(row=2, column=1)\n",
    "Button(tk, text=\"test5\").grid(row=3, column=1)\n",
    "Button(tk, text=\"test6\").grid(row=4, column=1, columnspan=2)\n",
    "# --------------- demo end   ---------------\n",
    "tk.bind_all(\"<KeyPress>\", keyEvent)\n",
    "tk.lift()\n",
    "tk.focus_force()\n",
    "tk.after(5000, tk.destroy)\n",
    "tk.mainloop()"
   ]
  },
  {
   "cell_type": "code",
   "execution_count": 18,
   "metadata": {},
   "outputs": [
    {
     "data": {
      "text/html": [
       "<img src=\"res/tk_grid.png\">\n"
      ],
      "text/plain": [
       "<IPython.core.display.HTML object>"
      ]
     },
     "metadata": {},
     "output_type": "display_data"
    }
   ],
   "source": [
    "%%html\n",
    "<img src=\"res/tk_grid.png\">"
   ]
  },
  {
   "cell_type": "markdown",
   "metadata": {},
   "source": [
    "### place"
   ]
  },
  {
   "cell_type": "code",
   "execution_count": 5,
   "metadata": {},
   "outputs": [],
   "source": [
    "from tkinter import *\n",
    "\n",
    "def keyEvent(event):\n",
    "    if event.keysym == \"Escape\":\n",
    "        tk.destroy()\n",
    "\n",
    "tk = Tk()\n",
    "# --------------- demo start ---------------\n",
    "Button(tk, text=\"test1\").place(x=0, y=0)\n",
    "Button(tk, text=\"test2\").place(x=100, y=0)\n",
    "\n",
    "Button(tk, text=\"test3\").place(x=0, y=50)\n",
    "Button(tk, text=\"test4\").place(x=0, y=100)\n",
    "Button(tk, text=\"test5\").place(x=0, y=150)\n",
    "# --------------- demo end   ---------------\n",
    "tk.bind_all(\"<KeyPress>\", keyEvent)\n",
    "tk.lift()\n",
    "tk.focus_force()\n",
    "tk.after(5000, tk.destroy)\n",
    "tk.mainloop()"
   ]
  },
  {
   "cell_type": "code",
   "execution_count": 19,
   "metadata": {},
   "outputs": [
    {
     "data": {
      "text/html": [
       "<img src=\"res/tk_place.png\">\n"
      ],
      "text/plain": [
       "<IPython.core.display.HTML object>"
      ]
     },
     "metadata": {},
     "output_type": "display_data"
    }
   ],
   "source": [
    "%%html\n",
    "<img src=\"res/tk_place.png\">"
   ]
  },
  {
   "cell_type": "markdown",
   "metadata": {},
   "source": [
    "# Full example"
   ]
  },
  {
   "cell_type": "code",
   "execution_count": 2,
   "metadata": {},
   "outputs": [
    {
     "name": "stdout",
     "output_type": "stream",
     "text": [
      "clickScale  50\n"
     ]
    }
   ],
   "source": [
    "import tkinter as tk\n",
    "import tkinter.messagebox\n",
    "from PIL import ImageTk, Image\n",
    "\n",
    "class Application(tk.Frame):\n",
    "    \n",
    "    def __init__(self, root):\n",
    "        tk.Frame.__init__(self, root)\n",
    "        self.root = root\n",
    "        self.grid()\n",
    "        i = 0\n",
    "                \n",
    "        #Menu\n",
    "        menubar = tk.Menu(root)\n",
    "        root.config(menu=menubar)\n",
    "        \n",
    "        menufile = tk.Menu(menubar, tearoff=0)\n",
    "        menubar.add_cascade(label=\"File\", menu=menufile)\n",
    "        menufile.add_command(label=\"New\", command=None)\n",
    "        menufile.add_command(label=\"Open\", command=None)\n",
    "        menufile.add_command(label=\"Save\", command=None)\n",
    "        menufile.add_command(label=\"Save as...\", command=None)\n",
    "        menufile.add_separator()\n",
    "        menufile.add_command(label=\"Close\", command=root.destroy)\n",
    "        \n",
    "        menuedit = tk.Menu(menubar, tearoff=0)\n",
    "        menubar.add_cascade(label=\"Edit\", menu=menuedit)\n",
    "        menuedit.add_command(label=\"test1\", command=None)\n",
    "        menuedit.add_command(label=\"test2\", command=None)\n",
    "        \n",
    "        #Button\n",
    "        self.button = tk.Button(self, text=\"Button\", command=self.clickButton)\n",
    "        self.button.grid(row=i, column=0, sticky=tk.N+tk.W)\n",
    "        i+=1\n",
    "        \n",
    "        self.button1 = tk.Button(self, text=\"show message box\", command=self.showMessageBox)\n",
    "        self.button1.grid(row=i, column=0, sticky=tk.N+tk.W)\n",
    "        i+=1\n",
    "        \n",
    "        #Checkbutton\n",
    "        #use self.checkVar.get() to get the value (0 or 1)\n",
    "        self.checkVar = tk.IntVar()\n",
    "        self.checkbutton = tk.Checkbutton(self, text=\"Checkbutton\", command=self.clickCheckbutton, variable=self.checkVar)\n",
    "        self.checkbutton.select()\n",
    "        self.checkbutton.grid(row=i, column=0, sticky=tk.N+tk.W)\n",
    "        i+=1\n",
    "        \n",
    "        self.checkVar1 = tk.IntVar()\n",
    "        self.checkbutton1 = tk.Checkbutton(self, text=\"disable widgets\", command=self.clickCheckbutton1, variable=self.checkVar1)\n",
    "        self.checkbutton1.deselect()\n",
    "        self.checkbutton1.grid(row=i, column=0, sticky=tk.N+tk.W)\n",
    "        i+=1\n",
    "        \n",
    "        self.checkVar2 = tk.IntVar()\n",
    "        self.checkbutton2 = tk.Checkbutton(self, text=\"disable widgets\", command=self.clickCheckbutton2, variable=self.checkVar2)\n",
    "        self.checkbutton2.deselect()\n",
    "        self.checkbutton2.grid(row=i, column=0, sticky=tk.N+tk.W)\n",
    "        i+=1\n",
    "        \n",
    "        #Entry (single input string)\n",
    "        #use self.entry.get() to get input string\n",
    "        self.entry = tk.Entry(self)\n",
    "        self.entry.insert(0, \"Entry\")\n",
    "        self.entry.grid(row=i, column=0, sticky=tk.N+tk.W)\n",
    "        i+=1\n",
    "        \n",
    "        #Label\n",
    "        self.label = tk.Label(self, text=\"Label\")\n",
    "        self.label.grid(row=i, column=0, sticky=tk.N+tk.W)\n",
    "        i+=1\n",
    "        \n",
    "        #Listbox (can select multiple items, but need a button to trigger)\n",
    "        #selectmode can be tk.BROWSE, tk.SINGLE, tk.MULTPLE, or tk.EXTENDED\n",
    "        #use self.listbox.curselection() to get the selected items ex: (0, 1, 3)\n",
    "        self.listbox = tk.Listbox(self, height=3, selectmode=tk.EXTENDED)\n",
    "        self.listbox.insert(0, \"Listbox1\")\n",
    "        self.listbox.insert(0, \"Listbox2\")\n",
    "        self.listbox.insert(0, \"Listbox3\")\n",
    "        self.listbox.grid(row=i, column=0, sticky=tk.N+tk.W)\n",
    "        i+=1\n",
    "        \n",
    "        #OptionMenu (select one)\n",
    "        #use self.optionmenuVar.get() to get the string\n",
    "        self.optionmenuVar = tk.StringVar()\n",
    "        self.optionmenuVar.set(\"OptionMenu\")\n",
    "        self.optionmenu = tk.OptionMenu(self, self.optionmenuVar,\n",
    "                                        \"OptionMenu1\", \"OptionMenu2\", \"OptionMenu3\",\n",
    "                                        command=self.clickOptionMenu)\n",
    "        self.optionmenu.grid(row=i, column=0, sticky=tk.N+tk.W)\n",
    "        i+=1\n",
    "        \n",
    "        #Radiobutton (select one)\n",
    "        #use self.radioVar.get() to get selected value\n",
    "        self.radioVar = tk.IntVar()\n",
    "        self.radiobutton1 = tk.Radiobutton(self, text=\"radio1\", value=1, variable=self.radioVar, command=self.clickRadiobutton)\n",
    "        self.radiobutton1.select()\n",
    "        self.radiobutton1.grid(row=i, column=0, sticky=tk.N+tk.W)\n",
    "        i+=1\n",
    "        self.radiobutton2 = tk.Radiobutton(self, text=\"radio2\", value=2, variable=self.radioVar, command=self.clickRadiobutton)\n",
    "        self.radiobutton2.grid(row=i, column=0, sticky=tk.N+tk.W)\n",
    "        i+=1\n",
    "        self.radiobutton3 = tk.Radiobutton(self, text=\"radio3\", value=3, variable=self.radioVar, command=self.clickRadiobutton)\n",
    "        self.radiobutton3.grid(row=i, column=0, sticky=tk.N+tk.W)\n",
    "        i+=1\n",
    "        \n",
    "        #Scale (select one value in a specific range)\n",
    "        #use self.scale.get() to get the value\n",
    "        self.scale = tk.Scale(self, label=\"Scale\", from_=0, to=100, \n",
    "                              orient=tk.HORIZONTAL, tickinterval=20, length=200,\n",
    "                              resolution=5, command=self.clickScale)\n",
    "        self.scale.set(50) #inital value\n",
    "        self.scale.grid(row=i, column=0, sticky=tk.N+tk.W)\n",
    "        i+=1\n",
    "        \n",
    "        #Spinbox (select one value in a specific range)\n",
    "        #use self.spinbox.get() to get the value\n",
    "        self.spinbox = tk.Spinbox(self, from_=0, to=100, command=self.clickSpinbox)\n",
    "        self.spinbox.delete(0, tk.END) # clear default 0\n",
    "        self.spinbox.insert(0, \"30\") #set the default value\n",
    "        self.spinbox.grid(row=i, column=0, sticky=tk.N+tk.W)\n",
    "        i+=1\n",
    "        \n",
    "        #Text\n",
    "        #use self.text.get(\"1.0\", tk.END) to get the string\n",
    "        self.text = tk.Text(self, height=5, width=50)\n",
    "        self.text.insert(tk.INSERT, \"text\\n\")\n",
    "        self.text.grid(row=i, column=0, sticky=tk.N+tk.W)\n",
    "        i+=1\n",
    "        \n",
    "        #Frame\n",
    "        self.frm = tk.Frame(self)\n",
    "        self.frm.grid(row=i, column=0, sticky=tk.N+tk.W)\n",
    "        i+=1\n",
    "        \n",
    "        tk.Label(self.frm, text=\"top label\", width=100).pack()\n",
    "        \n",
    "        self.frm_l = tk.Frame(self.frm)\n",
    "        self.frm_l.pack(side=\"left\")\n",
    "        tk.Label(self.frm_l, text=\"left label\", width=50).pack()\n",
    "        \n",
    "        self.frm_r = tk.Frame(self.frm)\n",
    "        self.frm_r.pack(side=\"right\")\n",
    "        tk.Label(self.frm_r, text=\"right label\", width=50).pack()\n",
    "        \n",
    "        #Canvas\n",
    "        self.canvas = tk.Canvas(self, bg='green', height=300, width=400)\n",
    "        self.canvas.grid(row=i, column=0, sticky=tk.N+tk.W)\n",
    "        i+=1\n",
    "        \n",
    "        #Canvas: try to load image\n",
    "        try:\n",
    "            self.img = Image.open(\"res/mario.png\")\n",
    "            self.img = self.img.resize((200, 150), Image.ANTIALIAS)\n",
    "            self.img2 = ImageTk.PhotoImage(self.img)\n",
    "            self.img3 = self.canvas.create_image(150, 5, anchor='nw', image=self.img2)\n",
    "        except Exception as err:\n",
    "            print(err)\n",
    "\n",
    "        #Canvas: draw line\n",
    "        x0, y0, x1, y1 = 10, 50, 100, 50\n",
    "        self.line = self.canvas.create_line(x0, y0, x1, y1, fill=\"blue\")\n",
    "        \n",
    "    def clickButton(self):\n",
    "        print(\"clickButton\")\n",
    "        print(\"checkbutton={}\".format(self.checkVar.get()))\n",
    "        print(\"entry={}\".format(self.entry.get()))\n",
    "        print(\"listbox={}\".format(self.listbox.curselection()))\n",
    "        print(\"optionmenu={}\".format(self.optionmenuVar.get()))\n",
    "        print(\"radio={}\".format(self.radioVar.get()))\n",
    "        print(\"scale={}\".format(self.scale.get()))\n",
    "        print(\"spinbox={}\".format(self.spinbox.get()))\n",
    "        print(\"text={}\".format(self.text.get(\"1.0\", tk.END)))\n",
    "    \n",
    "    def showMessageBox(self):\n",
    "        tkinter.messagebox.showinfo(title=\"title\", message=\"message\")\n",
    "        tkinter.messagebox.showwarning(title=\"title\", message=\"message\")\n",
    "        tkinter.messagebox.showerror(title=\"title\", message=\"message\")\n",
    "        ret = tkinter.messagebox.askquestion(title=\"title\", message=\"message\")\n",
    "        if ret == \"yes\":\n",
    "            print(\"yes\")\n",
    "        elif ret == \"no\":\n",
    "            print(\"no\")\n",
    "    \n",
    "    def clickCheckbutton(self):\n",
    "        if self.checkVar.get() == 0:\n",
    "            print(\"checkbutton is disabled\")\n",
    "        elif self.checkVar.get() == 1:\n",
    "            print(\"checkbutton is enabled\")\n",
    "    \n",
    "    def clickCheckbutton1(self):\n",
    "        if self.checkVar1.get() == 0:\n",
    "            self.enableWidgets(True)\n",
    "        elif self.checkVar1.get() == 1:\n",
    "            self.enableWidgets(False)\n",
    "\n",
    "    def clickCheckbutton2(self):\n",
    "        if self.checkVar2.get() == 0:\n",
    "            self.gridWidgets()\n",
    "        elif self.checkVar2.get() == 1:\n",
    "            self.forgetWidgets()\n",
    "    \n",
    "    def clickOptionMenu(self, value):\n",
    "        if value == \"OptionMenu1\":\n",
    "            print(\"OptionMenu1\")\n",
    "        elif value == \"OptionMenu2\":\n",
    "            print(\"OptionMenu2\")\n",
    "        elif value == \"OptionMenu3\":\n",
    "            print(\"OptionMenu3\")\n",
    "        \n",
    "    def clickRadiobutton(self):\n",
    "        i = self.radioVar.get()\n",
    "        if i == 1:\n",
    "            print(\"radio1 selected\")\n",
    "        elif i == 2:\n",
    "            print(\"radio2 selected\")\n",
    "        elif i == 3:\n",
    "            print(\"radio3 selected\")\n",
    "\n",
    "    def clickScale(self, value):\n",
    "        print(\"clickScale \", self.scale.get())\n",
    "\n",
    "    def clickSpinbox(self):\n",
    "        print(\"clickSpinbox \", self.spinbox.get())\n",
    "        \n",
    "    def enableWidgets(self, enabled):\n",
    "        if enabled:\n",
    "            state = \"normal\"\n",
    "        else:\n",
    "            state = \"disabled\"\n",
    "        self.button[\"state\"] = state\n",
    "        self.entry[\"state\"] = state\n",
    "        self.label[\"state\"] = state\n",
    "        self.listbox[\"state\"] = state\n",
    "        self.optionmenu[\"state\"] = state\n",
    "        self.radiobutton1[\"state\"] = state\n",
    "        self.radiobutton2[\"state\"] = state\n",
    "        self.radiobutton3[\"state\"] = state\n",
    "        self.scale[\"state\"] = state\n",
    "        self.spinbox[\"state\"] = state\n",
    "        self.text[\"state\"] = state\n",
    "    \n",
    "    def forgetWidgets(self):\n",
    "        self.entry.grid_forget()\n",
    "        self.label.grid_forget()\n",
    "        self.listbox.grid_forget()\n",
    "        self.optionmenu.grid_forget()\n",
    "        self.radiobutton1.grid_forget()\n",
    "        self.radiobutton2.grid_forget()\n",
    "        self.radiobutton3.grid_forget()\n",
    "        self.scale.grid_forget()\n",
    "        self.spinbox.grid_forget()\n",
    "        self.text.grid_forget()\n",
    "        self.frm.grid_forget()\n",
    "        self.canvas.grid_forget()\n",
    "    \n",
    "    def gridWidgets(self):\n",
    "        self.entry.grid(sticky=tk.N+tk.W)\n",
    "        self.label.grid(sticky=tk.N+tk.W)\n",
    "        self.listbox.grid(sticky=tk.N+tk.W)\n",
    "        self.optionmenu.grid(sticky=tk.N+tk.W)\n",
    "        self.radiobutton1.grid(sticky=tk.N+tk.W)\n",
    "        self.radiobutton2.grid(sticky=tk.N+tk.W)\n",
    "        self.radiobutton3.grid(sticky=tk.N+tk.W)\n",
    "        self.scale.grid(sticky=tk.N+tk.W)\n",
    "        self.spinbox.grid(sticky=tk.N+tk.W)\n",
    "        self.text.grid(sticky=tk.N+tk.W)\n",
    "        self.frm.grid(sticky=tk.N+tk.W)\n",
    "        self.canvas.grid(sticky=tk.N+tk.W)\n",
    "        \n",
    "\n",
    "root = tk.Tk()\n",
    "root.title(\"my app\")\n",
    "#root.geometry(\"800x600\")\n",
    "app = Application(root)\n",
    "\n",
    "root.mainloop()"
   ]
  },
  {
   "cell_type": "code",
   "execution_count": 3,
   "metadata": {},
   "outputs": [
    {
     "data": {
      "text/html": [
       "<img src=\"res/tk7.png\">\n"
      ],
      "text/plain": [
       "<IPython.core.display.HTML object>"
      ]
     },
     "metadata": {},
     "output_type": "display_data"
    }
   ],
   "source": [
    "%%html\n",
    "<img src=\"res/tk7.png\">"
   ]
  },
  {
   "cell_type": "code",
   "execution_count": null,
   "metadata": {},
   "outputs": [],
   "source": []
  }
 ],
 "metadata": {
  "kernelspec": {
   "display_name": "Python 3",
   "language": "python",
   "name": "python3"
  },
  "language_info": {
   "codemirror_mode": {
    "name": "ipython",
    "version": 3
   },
   "file_extension": ".py",
   "mimetype": "text/x-python",
   "name": "python",
   "nbconvert_exporter": "python",
   "pygments_lexer": "ipython3",
   "version": "3.7.1"
  }
 },
 "nbformat": 4,
 "nbformat_minor": 2
}
