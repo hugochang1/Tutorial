{
 "cells": [
  {
   "cell_type": "markdown",
   "metadata": {},
   "source": [
    "### opencv"
   ]
  },
  {
   "cell_type": "markdown",
   "metadata": {},
   "source": [
    "pip install opencv-python <br>\n",
    "pip install opencv-python==3.4.0.12"
   ]
  },
  {
   "cell_type": "code",
   "execution_count": 12,
   "metadata": {},
   "outputs": [],
   "source": [
    "import cv2\n",
    "\n",
    "cv2.namedWindow(\"w1\")\n",
    "cv2.namedWindow(\"w2\", cv2.WINDOW_NORMAL) #can resize the image\n",
    "img1 = cv2.imread(\"res/image1.png\")\n",
    "img2 = cv2.imread(\"res/image1.png\", 0)\n",
    "cv2.imshow(\"w1\", img1)\n",
    "cv2.imshow(\"w2\", img2)\n",
    "cv2.imwrite(\"test/image4.jpg\", img1)\n",
    "cv2.imwrite(\"test/image5.jpg\", img2)\n",
    "cv2.waitKey(3000)\n",
    "cv2.destroyWindow(\"w1\")\n",
    "cv2.waitKey(1000)\n",
    "cv2.destroyWindow(\"w2\")\n",
    "cv2.destroyAllWindows()"
   ]
  },
  {
   "cell_type": "code",
   "execution_count": 19,
   "metadata": {},
   "outputs": [],
   "source": [
    "import cv2\n",
    "\n",
    "cv2.namedWindow(\"w1\")\n",
    "img = cv2.imread(\"res/image1.png\")\n",
    "\n",
    "#cv2.line(img, (x1, y1), (x2, y2), (b, g, r), width)\n",
    "cv2.line(img, (100, 50), (600, 50), (0, 0, 255), 5)\n",
    "\n",
    "#cv2.rectangle(img, (x1, y1), (x2, y2), (b, g, r), width)\n",
    "cv2.rectangle(img, (100, 100), (200, 150), (0, 255, 0), 4)\n",
    "cv2.rectangle(img, (300, 100), (400, 150), (255, 255, 0), -1) # -1 = fill in the color\n",
    "\n",
    "#cv2.circle(img, (x, y), radius, (b, g, r), width)\n",
    "cv2.circle(img, (100, 200), 50, (255, 255, 255), 3)\n",
    "cv2.circle(img, (300, 200), 50, (0, 255, 255), -1) # -1 = fill in the color\n",
    "\n",
    "#cv2.putText(img, text, (x, y), fontStyle, fontSize, (b, g, r), wdith)\n",
    "cv2.line(img, (0, 300), (600, 300), (255, 255, 255), 1) # base line\n",
    "cv2.putText(img, \"Hello world\", (100, 300), cv2.FONT_ITALIC, 2, (255, 0, 0), 8)\n",
    "cv2.line(img, (0, 350), (600, 350), (255, 255, 255), 1) # base line\n",
    "cv2.putText(img, \"cv2 does not support Chinese character\", (100, 350), cv2.FONT_ITALIC, 1, (0, 0, 255), 4)\n",
    "cv2.line(img, (0, 400), (600, 400), (255, 255, 255), 1) # base line\n",
    "cv2.putText(img, \"ABCabc!!!\", (100, 400), cv2.FONT_ITALIC, 0.5, (0, 255, 0), 2)\n",
    "\n",
    "cv2.imshow(\"w1\", img)\n",
    "cv2.waitKey(1500)\n",
    "cv2.destroyAllWindows()"
   ]
  },
  {
   "cell_type": "markdown",
   "metadata": {},
   "source": [
    "### face detection"
   ]
  },
  {
   "cell_type": "code",
   "execution_count": 15,
   "metadata": {},
   "outputs": [],
   "source": [
    "import cv2\n",
    "\n",
    "face = cv2.CascadeClassifier(r\"C:\\ProgramData\\Anaconda3\\Lib\\site-packages\\cv2\\data\\haarcascade_frontalface_default.xml\")\n",
    "img = cv2.imread(\"res/image1.png\")\n",
    "\n",
    "faces = face.detectMultiScale(img, scaleFactor=1.1, minNeighbors=3, minSize=(20, 20))\n",
    "\n",
    "# image height = img.shape[0]\n",
    "# image width = img.shape[1]\n",
    "cv2.rectangle(img, (0, img.shape[0]-50), (img.shape[1], img.shape[0]), (0, 255, 255), -1)\n",
    "cv2.putText(img, \"%d faces\" % (len(faces)), (0, img.shape[0] - 10),\n",
    "            cv2.FONT_HERSHEY_COMPLEX, 1, (255, 0, 0), 2)\n",
    "\n",
    "for (x, y, w, h) in faces:\n",
    "    cv2.rectangle(img, (x, y), (x+w, y+h), (255, 0, 0), 3)\n",
    "\n",
    "cv2.namedWindow(\"w1\", cv2.WINDOW_NORMAL)\n",
    "cv2.imshow(\"w1\", img)\n",
    "cv2.waitKey(2000)\n",
    "cv2.destroyAllWindows()"
   ]
  },
  {
   "cell_type": "code",
   "execution_count": 18,
   "metadata": {},
   "outputs": [],
   "source": [
    "# save the face detection image to the file\n",
    "import cv2\n",
    "from PIL import Image\n",
    "\n",
    "face = cv2.CascadeClassifier(r\"C:\\ProgramData\\Anaconda3\\Lib\\site-packages\\cv2\\data\\haarcascade_frontalface_default.xml\")\n",
    "img = cv2.imread(\"res/image1.png\")\n",
    "\n",
    "faces = face.detectMultiScale(img, scaleFactor=1.1, minNeighbors=3, minSize=(20, 20))\n",
    "\n",
    "cv2.rectangle(img, (0, img.shape[0]-50), (img.shape[1], img.shape[0]), (0, 255, 255), -1)\n",
    "cv2.putText(img, \"%d faces\" % (len(faces)), (0, img.shape[0] - 10),\n",
    "            cv2.FONT_HERSHEY_COMPLEX, 1, (255, 0, 0), 2)\n",
    "\n",
    "num = 1\n",
    "for (x, y, w, h) in faces:\n",
    "    cv2.rectangle(img, (x, y), (x+w, y+h), (255, 0, 0), 3)\n",
    "    # save the face detection image to the file\n",
    "    img2 = Image.open(\"res/image1.png\")\n",
    "    imgCrop = img2.crop((x, y, x+w, y+h))\n",
    "    imgResize = imgCrop.resize((150, 150), Image.ANTIALIAS)\n",
    "    imgResize.save(\"test/face%d.jpg\" % (num))\n",
    "    num +=1\n",
    "\n",
    "cv2.namedWindow(\"w1\", cv2.WINDOW_NORMAL)\n",
    "cv2.imshow(\"w1\", img)\n",
    "cv2.waitKey(2000)\n",
    "cv2.destroyAllWindows()"
   ]
  },
  {
   "cell_type": "code",
   "execution_count": null,
   "metadata": {},
   "outputs": [],
   "source": []
  }
 ],
 "metadata": {
  "kernelspec": {
   "display_name": "Python 3",
   "language": "python",
   "name": "python3"
  },
  "language_info": {
   "codemirror_mode": {
    "name": "ipython",
    "version": 3
   },
   "file_extension": ".py",
   "mimetype": "text/x-python",
   "name": "python",
   "nbconvert_exporter": "python",
   "pygments_lexer": "ipython3",
   "version": "3.6.5"
  }
 },
 "nbformat": 4,
 "nbformat_minor": 2
}
