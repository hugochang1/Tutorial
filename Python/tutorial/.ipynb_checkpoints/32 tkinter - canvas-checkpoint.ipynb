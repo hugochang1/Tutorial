{
 "cells": [
  {
   "cell_type": "markdown",
   "metadata": {},
   "source": [
    "### tkinter"
   ]
  },
  {
   "cell_type": "code",
   "execution_count": 3,
   "metadata": {},
   "outputs": [],
   "source": [
    "from tkinter import *\n",
    "\n",
    "def keyEvent(event):\n",
    "    if event.keysym == \"Escape\":\n",
    "        tk.destroy()\n",
    "\n",
    "tk = Tk()\n",
    "# -------------------------------------\n",
    "# -------------------------------------\n",
    "tk.bind_all(\"<KeyPress>\", keyEvent)\n",
    "tk.lift()\n",
    "tk.focus_force()\n",
    "tk.after(10000, tk.destroy)\n",
    "tk.mainloop()"
   ]
  },
  {
   "cell_type": "code",
   "execution_count": 4,
   "metadata": {},
   "outputs": [
    {
     "data": {
      "text/html": [
       "<img src=\"res/tk1.png\">\n"
      ],
      "text/plain": [
       "<IPython.core.display.HTML object>"
      ]
     },
     "metadata": {},
     "output_type": "display_data"
    }
   ],
   "source": [
    "%%html\n",
    "<img src=\"res/tk1.png\">"
   ]
  },
  {
   "cell_type": "code",
   "execution_count": 6,
   "metadata": {},
   "outputs": [
    {
     "name": "stdout",
     "output_type": "stream",
     "text": [
      "fun_call ()\n",
      "fun_call (1,)\n",
      "fun_call (2, 'hellow')\n"
     ]
    }
   ],
   "source": [
    "from tkinter import *\n",
    "\n",
    "def keyEvent(event):\n",
    "    if event.keysym == \"Escape\":\n",
    "        tk.destroy()\n",
    "\n",
    "tk = Tk()\n",
    "# -------------------------------------\n",
    "def fullscreen_enable():\n",
    "    tk.attributes(\"-fullscreen\", True)\n",
    "\n",
    "def fullscreen_disable():\n",
    "    tk.attributes(\"-fullscreen\", False)\n",
    "\n",
    "def fun_call(*args):\n",
    "    print(\"fun_call\", args)\n",
    "\n",
    "tk.geometry(\"600x100+0+0\") # (width x height + x + y)\n",
    "tk.title(\"title\")\n",
    "tk.iconbitmap(r'res\\mario.ico') # iconbitmap\n",
    "tk.config(bg=\"#00ff00\")\n",
    "\n",
    "Button(tk, text=\"hello TK\", font=(\"\", 20)).pack()\n",
    "\n",
    "tk.after(0, fun_call)\n",
    "tk.after(0, fun_call, 1)\n",
    "tk.after(0, fun_call, 2, \"hellow\")\n",
    "tk.after(1000, fullscreen_enable)\n",
    "tk.after(2000, fullscreen_disable)\n",
    "# -------------------------------------\n",
    "tk.bind_all(\"<KeyPress>\", keyEvent)\n",
    "tk.lift()\n",
    "tk.focus_force()\n",
    "tk.after(10000, tk.destroy)\n",
    "tk.mainloop()"
   ]
  },
  {
   "cell_type": "code",
   "execution_count": 7,
   "metadata": {},
   "outputs": [
    {
     "data": {
      "text/html": [
       "<img src=\"res/tk2.png\">\n"
      ],
      "text/plain": [
       "<IPython.core.display.HTML object>"
      ]
     },
     "metadata": {},
     "output_type": "display_data"
    }
   ],
   "source": [
    "%%html\n",
    "<img src=\"res/tk2.png\">"
   ]
  },
  {
   "cell_type": "code",
   "execution_count": 13,
   "metadata": {},
   "outputs": [],
   "source": [
    "from tkinter import *\n",
    "\n",
    "def keyEvent(event):\n",
    "    if event.keysym == \"Escape\":\n",
    "        tk.destroy()\n",
    "\n",
    "tk = Tk()\n",
    "# -------------------------------------\n",
    "canvas = Canvas(tk, width=400, height=100, bg=\"#00ffff\") # Canvas\n",
    "canvas.pack() # Canvas\n",
    "# -------------------------------------\n",
    "tk.bind_all(\"<KeyPress>\", keyEvent)\n",
    "tk.lift()\n",
    "tk.focus_force()\n",
    "tk.after(10000, tk.destroy)\n",
    "tk.mainloop()"
   ]
  },
  {
   "cell_type": "code",
   "execution_count": 9,
   "metadata": {},
   "outputs": [
    {
     "data": {
      "text/html": [
       "<img src=\"res/tk3.png\">\n"
      ],
      "text/plain": [
       "<IPython.core.display.HTML object>"
      ]
     },
     "metadata": {},
     "output_type": "display_data"
    }
   ],
   "source": [
    "%%html\n",
    "<img src=\"res/tk3.png\">"
   ]
  },
  {
   "cell_type": "code",
   "execution_count": 16,
   "metadata": {},
   "outputs": [],
   "source": [
    "from tkinter import *\n",
    "from PIL import ImageTk, Image\n",
    "\n",
    "def keyEvent(event):\n",
    "    if event.keysym == \"Escape\":\n",
    "        tk.destroy()\n",
    "\n",
    "tk = Tk()\n",
    "# -------------------------------------\n",
    "tk.geometry(\"+0+0\")\n",
    "canvas = Canvas(tk, width=1200, height=800, bg=\"#00ffff\")\n",
    "canvas.pack()\n",
    "\n",
    "# create_line (x1, y1, x2, y2, fill, width)\n",
    "canvas.create_line(50,  20, 100,  20) \n",
    "canvas.create_line(150, 20, 200, 20, fill=\"blue\")\n",
    "canvas.create_line(250, 20, 300, 20, fill=\"red\", width=5)\n",
    "\n",
    "# create_rectangle(x1, y1, x2, y2, fill, width, outline)\n",
    "canvas.create_rectangle(50, 50, 100, 100) \n",
    "canvas.create_rectangle(150, 50, 200, 100, fill=\"red\")\n",
    "canvas.create_rectangle(250, 50, 300, 100, fill=\"yellow\", outline=\"blue\")\n",
    "canvas.create_rectangle(350, 50, 400, 100, fill=\"green\", outline=\"black\", width=5)\n",
    "\n",
    "# create_arc(x1, y1, x2, y2, style, fill, width, outline)\n",
    "canvas.create_arc( 50, 150, 100, 200, extent=0)\n",
    "canvas.create_arc(150, 150, 200, 200, extent=45, fill=\"blue\")\n",
    "canvas.create_arc(250, 150, 300, 200, extent=90, width=5)\n",
    "canvas.create_arc(350, 150, 400, 200, extent=180, fill=\"red\", width=3)\n",
    "canvas.create_arc(450, 150, 500, 200, extent=270, outline=\"green\", width=5)\n",
    "canvas.create_arc(550, 150, 600, 200, extent=359, fill=\"gray\", width=5, outline=\"blue\")\n",
    "\n",
    "canvas.create_arc( 50, 250, 100, 300, extent=0, style=ARC)\n",
    "canvas.create_arc(150, 250, 200, 300, extent=45, style=ARC)\n",
    "canvas.create_arc(250, 250, 300, 300, extent=90, style=ARC, width=5)\n",
    "canvas.create_arc(350, 250, 400, 300, extent=180, style=ARC, width=3)\n",
    "canvas.create_arc(450, 250, 500, 300, extent=270, style=ARC, outline=\"green\", width=5)\n",
    "canvas.create_arc(550, 250, 600, 300, extent=359, style=ARC, width=5, outline=\"blue\")\n",
    "\n",
    "# create_oval(x1, y1, x2, y2, fill, outline, width)\n",
    "canvas.create_oval( 50, 320, 100, 400)\n",
    "canvas.create_oval(150, 320, 200, 400, fill=\"yellow\")\n",
    "canvas.create_oval(250, 320, 300, 400, fill=\"white\", outline=\"blue\")\n",
    "canvas.create_oval(250, 320, 300, 400, fill=\"blue\", outline=\"green\", width=5)\n",
    "\n",
    "# create_polygon(x1, y1, x2, y2, ..., xn, yn, fill, outline, width)\n",
    "canvas.create_polygon( 50, 450, 100, 450,  75, 500)\n",
    "canvas.create_polygon(150, 450, 200, 450, 175, 500, fill=\"aqua\")\n",
    "canvas.create_polygon(250, 450, 300, 450, 275, 500, fill=\"\", outline=\"blue\")\n",
    "canvas.create_polygon(350, 450, 400, 450, 375, 500, fill=\"green\", outline=\"red\", width=5)\n",
    "\n",
    "# create_text(x, y, text=\"msg\", fill, font=(\"fontStyle\", fontSize))\n",
    "canvas.create_line( 50, 550, 1000, 550, fill=\"green\") #base line\n",
    "canvas.create_text( 50, 550, text=\"ABCabc123\")\n",
    "canvas.create_text(150, 550, text=\"中文字\", fill=\"blue\")\n",
    "canvas.create_text(250, 550, text=\"ABCabc123\", fill=\"red\", font=(\"\", 20))\n",
    "canvas.create_text(450, 550, text=\"ABCabc123\", fill=\"gray\", font=(\"Comic Sans MS\", 14))\n",
    "\n",
    "# create_image(x, y, image, anchor)\n",
    "canvas.create_line( 50, 600, 1000, 600, fill=\"green\") #base line\n",
    "img = Image.open(\"res/image1.png\")\n",
    "img = img.resize((200, 50), Image.ANTIALIAS)\n",
    "img = ImageTk.PhotoImage(img)\n",
    "canvas.create_image(50, 600, image=img, anchor=NW)\n",
    "\n",
    "img2 = Image.open(\"res/image.jpg\")\n",
    "img2 = img2.resize((200, 50), Image.ANTIALIAS)\n",
    "img2 = ImageTk.PhotoImage(img2)\n",
    "canvas.create_image(300, 600, image=img2, anchor=NW)\n",
    "# -------------------------------------\n",
    "tk.bind_all(\"<KeyPress>\", keyEvent)\n",
    "tk.lift()\n",
    "tk.focus_force()\n",
    "tk.after(10000, tk.destroy)\n",
    "tk.mainloop()"
   ]
  },
  {
   "cell_type": "code",
   "execution_count": 17,
   "metadata": {},
   "outputs": [
    {
     "data": {
      "text/html": [
       "<img src=\"res/tk4.png\">\n"
      ],
      "text/plain": [
       "<IPython.core.display.HTML object>"
      ]
     },
     "metadata": {},
     "output_type": "display_data"
    }
   ],
   "source": [
    "%%html\n",
    "<img src=\"res/tk4.png\">"
   ]
  },
  {
   "cell_type": "code",
   "execution_count": 46,
   "metadata": {},
   "outputs": [
    {
     "name": "stdout",
     "output_type": "stream",
     "text": [
      "[35.0, 30.0, 65.0, 60.0]\n",
      "[40.0, 30.0, 70.0, 60.0]\n",
      "[45.0, 30.0, 75.0, 60.0]\n",
      "[50.0, 30.0, 80.0, 60.0]\n",
      "[55.0, 30.0, 85.0, 60.0]\n",
      "[60.0, 30.0, 90.0, 60.0]\n",
      "[65.0, 30.0, 95.0, 60.0]\n",
      "[70.0, 30.0, 100.0, 60.0]\n",
      "[75.0, 30.0, 105.0, 60.0]\n",
      "[80.0, 30.0, 110.0, 60.0]\n",
      "[85.0, 30.0, 115.0, 60.0]\n",
      "[90.0, 30.0, 120.0, 60.0]\n",
      "[95.0, 30.0, 125.0, 60.0]\n",
      "[100.0, 30.0, 130.0, 60.0]\n",
      "[105.0, 30.0, 135.0, 60.0]\n",
      "[110.0, 30.0, 140.0, 60.0]\n",
      "[110.0, 35.0, 140.0, 65.0]\n",
      "[110.0, 40.0, 140.0, 70.0]\n",
      "[110.0, 45.0, 140.0, 75.0]\n",
      "[110.0, 50.0, 140.0, 80.0]\n",
      "[110.0, 50.0, 140.0, 80.0]\n"
     ]
    }
   ],
   "source": [
    "from tkinter import *\n",
    "\n",
    "\n",
    "tk = Tk()\n",
    "# -------------------------------------\n",
    "def keyEvent(event):\n",
    "    if event.keysym == \"Left\":\n",
    "        canvas.move(o1, -5, 0)\n",
    "    if event.keysym == \"Right\":\n",
    "        canvas.move(o1, 5, 0)\n",
    "    if event.keysym == \"Up\":\n",
    "        canvas.move(o1, 0, -5)\n",
    "    if event.keysym == \"Down\":\n",
    "        canvas.move(o1, 0, 5)\n",
    "    print(canvas.coords(o1))\n",
    "    if event.keysym == \"Escape\":\n",
    "        tk.destroy()\n",
    "\n",
    "canvas = Canvas(tk, width=400, height=100, bg=\"#ffffff\")\n",
    "canvas.pack()\n",
    "\n",
    "o1 = canvas.create_oval(60, 60, 30, 30, fill='yellow', outline='lightgray')\n",
    "# -------------------------------------\n",
    "tk.bind_all(\"<KeyPress>\", keyEvent)\n",
    "tk.lift()\n",
    "tk.focus_force()\n",
    "tk.after(10000, tk.destroy)\n",
    "tk.mainloop()"
   ]
  },
  {
   "cell_type": "code",
   "execution_count": 40,
   "metadata": {},
   "outputs": [
    {
     "data": {
      "text/html": [
       "<img src=\"res/tk5.png\">\n"
      ],
      "text/plain": [
       "<IPython.core.display.HTML object>"
      ]
     },
     "metadata": {},
     "output_type": "display_data"
    }
   ],
   "source": [
    "%%html\n",
    "<img src=\"res/tk5.png\">"
   ]
  },
  {
   "cell_type": "markdown",
   "metadata": {},
   "source": [
    "### Keyboard, Mouse Event"
   ]
  },
  {
   "cell_type": "code",
   "execution_count": 2,
   "metadata": {},
   "outputs": [],
   "source": [
    "from tkinter import *\n",
    "from PIL import ImageTk, Image\n",
    "\n",
    "tk = Tk()\n",
    "# -------------------------------------\n",
    "\n",
    "window_width = 600\n",
    "window_height = 300\n",
    "x, y = None, None\n",
    "\n",
    "def keyEvent(event):\n",
    "    if event.keysym == \"Escape\":\n",
    "        tk.destroy()\n",
    "\n",
    "def mouseMoveEvent(event):\n",
    "    global x, y\n",
    "    canvas.create_rectangle(event.x-2, event.y-2, event.x + 2, event.y + 2, width=1, fill=\"green\")\n",
    "    if x is not None:\n",
    "        canvas.create_line(x, y, event.x, event.y, fill=\"yellow\", width=1)\n",
    "    x = event.x\n",
    "    y = event.y\n",
    "\n",
    "def mouseClickEvent(event):\n",
    "    canvas.create_rectangle(event.x-5, event.y-5, event.x + 5, event.y + 5, width=1, fill=\"red\")\n",
    "\n",
    "tk.geometry(\"%dx%d+0+0\" % (window_width, window_height))\n",
    "tk.bind_all(\"<KeyPress>\", keyEvent)\n",
    "tk.bind_all(\"<KeyRelease>\", keyEvent)\n",
    "tk.bind_all(\"<Motion>\", mouseMoveEvent)\n",
    "tk.bind_all(\"<Button>\", mouseClickEvent)\n",
    "canvas = Canvas(tk, width=window_width, height=window_height)\n",
    "canvas.pack()\n",
    "\n",
    "\n",
    "img = Image.open(\"res/mario.png\")\n",
    "img = img.resize((200, 150), Image.ANTIALIAS)\n",
    "img = ImageTk.PhotoImage(img)\n",
    "canvas.create_image(10, 10, image=img, anchor=NW)\n",
    "\n",
    "# -------------------------------------\n",
    "tk.bind_all(\"<KeyPress>\", keyEvent)\n",
    "tk.lift()\n",
    "tk.focus_force()\n",
    "tk.after(10000, tk.destroy)\n",
    "tk.mainloop()"
   ]
  },
  {
   "cell_type": "code",
   "execution_count": 3,
   "metadata": {},
   "outputs": [
    {
     "data": {
      "text/html": [
       "<img src=\"res/tk6.png\">\n"
      ],
      "text/plain": [
       "<IPython.core.display.HTML object>"
      ]
     },
     "metadata": {},
     "output_type": "display_data"
    }
   ],
   "source": [
    "%%html\n",
    "<img src=\"res/tk6.png\">"
   ]
  },
  {
   "cell_type": "markdown",
   "metadata": {},
   "source": [
    "### widget"
   ]
  },
  {
   "cell_type": "code",
   "execution_count": 30,
   "metadata": {},
   "outputs": [],
   "source": [
    "from tkinter import *\n",
    "\n",
    "def keyEvent(event):\n",
    "    if event.keysym == \"Escape\":\n",
    "        tk.destroy()\n",
    "\n",
    "tk = Tk()\n",
    "# -------------------------------------\n",
    "canvas = Canvas(tk, width=400, height=300, bg=\"#00ffff\")\n",
    "canvas.pack()\n",
    "\n",
    "o1 = Entry(canvas)\n",
    "o2 = Entry(canvas)\n",
    "canvas.create_text(0, 100, text=\"Your Name\", fill=\"red\", font=(\"\", 15), anchor=NW)\n",
    "canvas.create_window(100, 100, window=o1, width=200, anchor=NW)\n",
    "\n",
    "canvas.create_text(0, 200, text=\"Your PSW\", fill=\"red\", font=(\"\", 15), anchor=NW)\n",
    "canvas.create_window(100, 200, window=o2, width=200, anchor=NW)\n",
    "# -------------------------------------\n",
    "tk.bind_all(\"<KeyPress>\", keyEvent)\n",
    "tk.lift()\n",
    "tk.focus_force()\n",
    "tk.after(10000, tk.destroy)\n",
    "tk.mainloop()"
   ]
  },
  {
   "cell_type": "code",
   "execution_count": 31,
   "metadata": {},
   "outputs": [
    {
     "data": {
      "text/html": [
       "<img src=\"res/tk9.png\">\n"
      ],
      "text/plain": [
       "<IPython.core.display.HTML object>"
      ]
     },
     "metadata": {},
     "output_type": "display_data"
    }
   ],
   "source": [
    "%%html\n",
    "<img src=\"res/tk9.png\">"
   ]
  },
  {
   "cell_type": "markdown",
   "metadata": {},
   "source": [
    "### Save Screen"
   ]
  },
  {
   "cell_type": "code",
   "execution_count": 29,
   "metadata": {},
   "outputs": [],
   "source": [
    "from tkinter import *\n",
    "from PIL import ImageGrab\n",
    "\n",
    "def keyEvent(event):\n",
    "    if event.keysym == \"Escape\":\n",
    "        tk.destroy()\n",
    "\n",
    "tk = Tk()\n",
    "tk.geometry(\"500x200+0+0\")\n",
    "# -------------------------------------\n",
    "def updateGeometry():\n",
    "    tk.after(100, updateGeometry)\n",
    "    label.config(text=\"(w,h,x,y)=(%s,%s,%s,%s)\" % \n",
    "                 (tk.winfo_width(), tk.winfo_height(), tk.winfo_x(), tk.winfo_y()))\n",
    "\n",
    "def capture():\n",
    "    x = tk.winfo_x()\n",
    "    y = tk.winfo_y()\n",
    "    w = tk.winfo_width()\n",
    "    h = tk.winfo_height()\n",
    "    xoffset = 16\n",
    "    yoffset = 40\n",
    "    ImageGrab.grab().crop((x, y, x+w+xoffset, y+h+yoffset)).save(\"save.png\")\n",
    "    \n",
    "tk.after(100, updateGeometry)\n",
    "label = Label(tk, font=(\"\", 20))\n",
    "label.pack()\n",
    "\n",
    "Button(tk, text=\"capture screen\", font=(\"\", 20), command=capture).pack()\n",
    "# -------------------------------------\n",
    "tk.bind_all(\"<KeyPress>\", keyEvent)\n",
    "tk.lift()\n",
    "tk.focus_force()\n",
    "#tk.after(20000, tk.destroy)\n",
    "tk.mainloop()"
   ]
  },
  {
   "cell_type": "code",
   "execution_count": null,
   "metadata": {},
   "outputs": [],
   "source": [
    "%%html\n",
    "<img src=\"res/tk8.png\">"
   ]
  },
  {
   "cell_type": "markdown",
   "metadata": {},
   "source": [
    "### Painter"
   ]
  },
  {
   "cell_type": "code",
   "execution_count": null,
   "metadata": {},
   "outputs": [],
   "source": [
    "from tkinter import *\n",
    "from PIL import ImageTk, Image\n",
    "\n",
    "tk = Tk()\n",
    "# -------------------------------------\n",
    "\n",
    "window_width = 600\n",
    "window_height = 300\n",
    "x, y = None, None\n",
    "\n",
    "def keyEvent(event):\n",
    "    if event.keysym == \"Escape\":\n",
    "        tk.destroy()\n",
    "\n",
    "def mouseMoveEvent(event):\n",
    "    global x, y\n",
    "    canvas.create_rectangle(event.x-2, event.y-2, event.x + 2, event.y + 2, width=1, fill=\"green\")\n",
    "    if x is not None:\n",
    "        canvas.create_line(x, y, event.x, event.y, fill=\"yellow\", width=1)\n",
    "    x = event.x\n",
    "    y = event.y\n",
    "\n",
    "def mouseClickEvent(event):\n",
    "    canvas.create_rectangle(event.x-5, event.y-5, event.x + 5, event.y + 5, width=1, fill=\"red\")\n",
    "\n",
    "tk.geometry(\"%dx%d+0+0\" % (window_width, window_height))\n",
    "tk.bind_all(\"<KeyPress>\", keyEvent)\n",
    "tk.bind_all(\"<KeyRelease>\", keyEvent)\n",
    "tk.bind_all(\"<Motion>\", mouseMoveEvent)\n",
    "tk.bind_all(\"<Button>\", mouseClickEvent)\n",
    "canvas = Canvas(tk, width=window_width, height=window_height)\n",
    "canvas.pack()\n",
    "\n",
    "\n",
    "img = Image.open(\"res/mario.png\")\n",
    "img = img.resize((200, 150), Image.ANTIALIAS)\n",
    "img = ImageTk.PhotoImage(img)\n",
    "canvas.create_image(10, 10, image=img, anchor=NW)\n",
    "\n",
    "# -------------------------------------\n",
    "tk.bind_all(\"<KeyPress>\", keyEvent)\n",
    "tk.lift()\n",
    "tk.focus_force()\n",
    "tk.after(10000, tk.destroy)\n",
    "tk.mainloop()"
   ]
  }
 ],
 "metadata": {
  "kernelspec": {
   "display_name": "Python 3",
   "language": "python",
   "name": "python3"
  },
  "language_info": {
   "codemirror_mode": {
    "name": "ipython",
    "version": 3
   },
   "file_extension": ".py",
   "mimetype": "text/x-python",
   "name": "python",
   "nbconvert_exporter": "python",
   "pygments_lexer": "ipython3",
   "version": "3.7.1"
  }
 },
 "nbformat": 4,
 "nbformat_minor": 2
}
