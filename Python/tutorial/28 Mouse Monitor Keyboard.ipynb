{
 "cells": [
  {
   "cell_type": "markdown",
   "metadata": {},
   "source": [
    "### Pyautogui"
   ]
  },
  {
   "cell_type": "markdown",
   "metadata": {},
   "source": [
    "pip install pyautogui==0.9.39"
   ]
  },
  {
   "cell_type": "markdown",
   "metadata": {},
   "source": [
    "### Mouse"
   ]
  },
  {
   "cell_type": "code",
   "execution_count": 1,
   "metadata": {},
   "outputs": [
    {
     "name": "stdout",
     "output_type": "stream",
     "text": [
      "(1920, 1080)\n",
      "(750, 461)\n"
     ]
    }
   ],
   "source": [
    "import pyautogui\n",
    "\n",
    "print(pyautogui.size()) # screen size\n",
    "print(pyautogui.position()) # mouse position"
   ]
  },
  {
   "cell_type": "code",
   "execution_count": 2,
   "metadata": {},
   "outputs": [],
   "source": [
    "import pyautogui\n",
    "\n",
    "# move the mouse to the absolute position\n",
    "pyautogui.moveTo(100, 100, duration=0.5)\n",
    "pyautogui.moveTo(200, 100, duration=0.5)\n",
    "pyautogui.moveTo(200, 200) # move immediately"
   ]
  },
  {
   "cell_type": "code",
   "execution_count": 3,
   "metadata": {},
   "outputs": [],
   "source": [
    "import pyautogui\n",
    "\n",
    "# move the mouse to the related position\n",
    "pyautogui.moveRel(100, 0, duration=0.5)\n",
    "pyautogui.moveRel(0, 100, duration=0.5)\n",
    "pyautogui.moveRel(-100, -100)"
   ]
  },
  {
   "cell_type": "code",
   "execution_count": 6,
   "metadata": {},
   "outputs": [],
   "source": [
    "import pyautogui\n",
    "\n",
    "# click the mouse\n",
    "pyautogui.click()\n",
    "pyautogui.click(10,10)\n",
    "\n",
    "# click right button of mouse\n",
    "pyautogui.click(500, 500, button=\"right\")"
   ]
  },
  {
   "cell_type": "code",
   "execution_count": 7,
   "metadata": {},
   "outputs": [],
   "source": [
    "import pyautogui, time\n",
    "\n",
    "pyautogui.mouseDown()\n",
    "time.sleep(0.5)\n",
    "pyautogui.mouseUp(600,600)"
   ]
  },
  {
   "cell_type": "code",
   "execution_count": 6,
   "metadata": {},
   "outputs": [],
   "source": [
    "import pyautogui, time\n",
    "\n",
    "pyautogui.mouseDown(button=\"right\")\n",
    "time.sleep(0.5)\n",
    "pyautogui.mouseUp(500, 500, button=\"right\")"
   ]
  },
  {
   "cell_type": "code",
   "execution_count": 7,
   "metadata": {},
   "outputs": [],
   "source": [
    "import pyautogui, time\n",
    "\n",
    "pyautogui.dragRel(100, -100, duration=0.5)"
   ]
  },
  {
   "cell_type": "code",
   "execution_count": 8,
   "metadata": {},
   "outputs": [],
   "source": [
    "import pyautogui, time\n",
    "\n",
    "time.sleep(0.5)\n",
    "pyautogui.scroll(3000) # scroll up\n",
    "time.sleep(0.5)\n",
    "pyautogui.scroll(-3000) # scroll down"
   ]
  },
  {
   "cell_type": "markdown",
   "metadata": {},
   "source": [
    "### Monitor"
   ]
  },
  {
   "cell_type": "code",
   "execution_count": 8,
   "metadata": {},
   "outputs": [],
   "source": [
    "import pyautogui\n",
    "\n",
    "# save screen 1\n",
    "pyautogui.screenshot(\"test/image30.jpg\")\n",
    "\n",
    "# save screen 2\n",
    "a = pyautogui.screenshot()\n",
    "a.save(\"test/image31.jpg\")"
   ]
  },
  {
   "cell_type": "code",
   "execution_count": 10,
   "metadata": {},
   "outputs": [],
   "source": [
    "import pyautogui\n",
    "\n",
    "# save partial screen\n",
    "a = pyautogui.screenshot()\n",
    "b = a.crop((100, 100, 500, 500))\n",
    "b.save(\"test/image32.jpg\")"
   ]
  },
  {
   "cell_type": "code",
   "execution_count": 11,
   "metadata": {},
   "outputs": [
    {
     "name": "stdout",
     "output_type": "stream",
     "text": [
      "(121, 145, 179)\n"
     ]
    }
   ],
   "source": [
    "import pyautogui\n",
    "\n",
    "# get pixel color\n",
    "a = pyautogui.screenshot()\n",
    "print(a.getpixel((0, 0)))"
   ]
  },
  {
   "cell_type": "markdown",
   "metadata": {},
   "source": [
    "### Keyboard"
   ]
  },
  {
   "cell_type": "code",
   "execution_count": 12,
   "metadata": {},
   "outputs": [],
   "source": [
    "import pyautogui, time\n",
    "\n",
    "time.sleep(2)\n",
    "# type something\n",
    "pyautogui.typewrite(\"hello world\")"
   ]
  },
  {
   "cell_type": "code",
   "execution_count": 13,
   "metadata": {},
   "outputs": [],
   "source": [
    "import pyautogui, time\n",
    "\n",
    "time.sleep(2)\n",
    "# type something \n",
    "pyautogui.typewrite(\"hello world\", 0.1) # one character per 0.1 second"
   ]
  },
  {
   "cell_type": "code",
   "execution_count": null,
   "metadata": {},
   "outputs": [],
   "source": [
    "import pyautogui, time\n",
    "\n",
    "time.sleep(2)\n",
    "# type something \n",
    "pyautogui.typewrite([\"h\", \"e\", \"l\", \"l\", \"o\", \" \", \"w\", \"o\", \"r\", \"l\", \"d\"])"
   ]
  },
  {
   "cell_type": "code",
   "execution_count": 15,
   "metadata": {},
   "outputs": [],
   "source": [
    "import pyautogui, time\n",
    "\n",
    "time.sleep(2)\n",
    "# type something \n",
    "pyautogui.typewrite([\"h\", \"e\", \"l\", \"l\", \"o\", \"left\", \"backspace\"], 0.1)\n",
    "# \"enter\", \"backspace\", \"del\", \"sec\", \"f1\", \"f2\", ..., \"tab\", \"printscreen\", \"insert\"\n",
    "# \"altleft\", \"altright\", \"ctrlleft\", \"ctrlright\", \"home\", \"end\", \"pageup\", \"pagedown\", \"up\", \"down\", \"left\", \"right\"\n",
    "# \"winleft\", \"winright\""
   ]
  },
  {
   "cell_type": "code",
   "execution_count": 16,
   "metadata": {},
   "outputs": [],
   "source": [
    "import pyautogui, time\n",
    "\n",
    "# alt + f\n",
    "time.sleep(2)\n",
    "pyautogui.keyDown(\"alt\")\n",
    "pyautogui.press(\"f\")\n",
    "pyautogui.keyUp(\"alt\")"
   ]
  },
  {
   "cell_type": "code",
   "execution_count": 17,
   "metadata": {},
   "outputs": [],
   "source": [
    "import pyautogui\n",
    "\n",
    "# go home screen\n",
    "pyautogui.keyDown(\"winleft\")\n",
    "pyautogui.press(\"d\")\n",
    "pyautogui.keyUp(\"winleft\")"
   ]
  },
  {
   "cell_type": "code",
   "execution_count": 18,
   "metadata": {},
   "outputs": [],
   "source": [
    "import pyautogui, time\n",
    "\n",
    "time.sleep(2)\n",
    "pyautogui.hotkey(\"shift\", \"8\")\n",
    "pyautogui.hotkey(\"alt\", \"h\")"
   ]
  },
  {
   "cell_type": "code",
   "execution_count": null,
   "metadata": {},
   "outputs": [],
   "source": []
  }
 ],
 "metadata": {
  "kernelspec": {
   "display_name": "Python 3",
   "language": "python",
   "name": "python3"
  },
  "language_info": {
   "codemirror_mode": {
    "name": "ipython",
    "version": 3
   },
   "file_extension": ".py",
   "mimetype": "text/x-python",
   "name": "python",
   "nbconvert_exporter": "python",
   "pygments_lexer": "ipython3",
   "version": "3.7.1"
  }
 },
 "nbformat": 4,
 "nbformat_minor": 2
}
