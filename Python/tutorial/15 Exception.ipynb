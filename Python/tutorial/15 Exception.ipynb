{
 "cells": [
  {
   "cell_type": "markdown",
   "metadata": {},
   "source": [
    "### try except"
   ]
  },
  {
   "cell_type": "code",
   "execution_count": 1,
   "metadata": {},
   "outputs": [],
   "source": [
    "try:\n",
    "    1+1\n",
    "except:\n",
    "    print(\"not come here\")"
   ]
  },
  {
   "cell_type": "code",
   "execution_count": 2,
   "metadata": {},
   "outputs": [
    {
     "name": "stdout",
     "output_type": "stream",
     "text": [
      "except\n"
     ]
    }
   ],
   "source": [
    "try:\n",
    "    1/0\n",
    "except:\n",
    "    print(\"except\")"
   ]
  },
  {
   "cell_type": "code",
   "execution_count": 3,
   "metadata": {},
   "outputs": [
    {
     "name": "stdout",
     "output_type": "stream",
     "text": [
      "ZeroDivisionError\n"
     ]
    }
   ],
   "source": [
    "try:\n",
    "    1/0\n",
    "except ZeroDivisionError:\n",
    "    print(\"ZeroDivisionError\")"
   ]
  },
  {
   "cell_type": "code",
   "execution_count": 4,
   "metadata": {},
   "outputs": [
    {
     "name": "stdout",
     "output_type": "stream",
     "text": [
      "Exception\n"
     ]
    }
   ],
   "source": [
    "try:\n",
    "    1/0\n",
    "except Exception:\n",
    "    print(\"Exception\")"
   ]
  },
  {
   "cell_type": "code",
   "execution_count": 5,
   "metadata": {},
   "outputs": [
    {
     "name": "stdout",
     "output_type": "stream",
     "text": [
      "division by zero\n"
     ]
    }
   ],
   "source": [
    "try:\n",
    "    1/0\n",
    "except Exception as err:\n",
    "    print(err)"
   ]
  },
  {
   "cell_type": "code",
   "execution_count": 6,
   "metadata": {},
   "outputs": [
    {
     "name": "stdout",
     "output_type": "stream",
     "text": [
      "division by zero\n"
     ]
    }
   ],
   "source": [
    "try:\n",
    "    1/0\n",
    "except (ZeroDivisionError, Exception) as err:\n",
    "    print(err)"
   ]
  },
  {
   "cell_type": "code",
   "execution_count": 7,
   "metadata": {},
   "outputs": [
    {
     "name": "stdout",
     "output_type": "stream",
     "text": [
      "1 division by zero\n"
     ]
    }
   ],
   "source": [
    "try:\n",
    "    1/0\n",
    "except ZeroDivisionError as err:\n",
    "    print(1, err)\n",
    "except TypeError as err:\n",
    "    print(2, err)"
   ]
  },
  {
   "cell_type": "markdown",
   "metadata": {},
   "source": [
    "### try except else"
   ]
  },
  {
   "cell_type": "code",
   "execution_count": 8,
   "metadata": {},
   "outputs": [
    {
     "name": "stdout",
     "output_type": "stream",
     "text": [
      "no exception will come here\n"
     ]
    }
   ],
   "source": [
    "try:\n",
    "    pass\n",
    "except Exception:\n",
    "    print(\"Exception\")\n",
    "else:\n",
    "    print(\"no exception will come here\")"
   ]
  },
  {
   "cell_type": "markdown",
   "metadata": {},
   "source": [
    "### try except else finally"
   ]
  },
  {
   "cell_type": "code",
   "execution_count": 9,
   "metadata": {},
   "outputs": [
    {
     "name": "stdout",
     "output_type": "stream",
     "text": [
      "no exception will come here\n",
      "always doing no matter exception happens\n"
     ]
    }
   ],
   "source": [
    "try:\n",
    "    pass\n",
    "except Exception as err:\n",
    "    print(err)\n",
    "else:\n",
    "    print(\"no exception will come here\")\n",
    "finally:\n",
    "    print(\"always doing no matter exception happens\")"
   ]
  },
  {
   "cell_type": "markdown",
   "metadata": {},
   "source": [
    "### traceback"
   ]
  },
  {
   "cell_type": "code",
   "execution_count": 10,
   "metadata": {},
   "outputs": [
    {
     "name": "stdout",
     "output_type": "stream",
     "text": [
      "Traceback (most recent call last):\n",
      "  File \"<ipython-input-10-dbeb34a19c67>\", line 5, in <module>\n",
      "    1/0\n",
      "ZeroDivisionError: division by zero\n",
      "\n"
     ]
    }
   ],
   "source": [
    "import traceback\n",
    "\n",
    "#get traceback log\n",
    "try:\n",
    "    1/0\n",
    "except Exception as err:\n",
    "    with open(\"99_err.txt\", \"a\") as f:\n",
    "        tb = traceback.format_exc()\n",
    "        print(tb)\n",
    "        f.write(tb)\n"
   ]
  },
  {
   "cell_type": "markdown",
   "metadata": {},
   "source": [
    "### assert"
   ]
  },
  {
   "cell_type": "code",
   "execution_count": 11,
   "metadata": {},
   "outputs": [
    {
     "name": "stdout",
     "output_type": "stream",
     "text": [
      "failed\n"
     ]
    }
   ],
   "source": [
    "# assert is just for debugging purpose, do not use it for official SW release\n",
    "\n",
    "assert True, \"if False, it will raise the AssertionError\"\n",
    "\n",
    "try:\n",
    "    assert False, \"failed\"\n",
    "except Exception as err:\n",
    "    print(err)"
   ]
  },
  {
   "cell_type": "markdown",
   "metadata": {},
   "source": [
    "### logging"
   ]
  },
  {
   "cell_type": "code",
   "execution_count": 2,
   "metadata": {},
   "outputs": [],
   "source": [
    "def reset_logging_config():\n",
    "    for handler in logging.root.handlers[:]:\n",
    "        logging.root.removeHandler(handler)"
   ]
  },
  {
   "cell_type": "code",
   "execution_count": 3,
   "metadata": {},
   "outputs": [
    {
     "name": "stderr",
     "output_type": "stream",
     "text": [
      "2019-02-15 23:51:22.978 root         DEBUG   : this is DEBUG\n",
      "2019-02-15 23:51:22.991 root         INFO    : this is INFO\n",
      "2019-02-15 23:51:22.992 root         WARNING : this is WARNING\n",
      "2019-02-15 23:51:22.993 root         ERROR   : this is ERROR\n",
      "2019-02-15 23:51:22.996 root         CRITICAL: this is critical\n"
     ]
    }
   ],
   "source": [
    "# you can use logging to control log output level\n",
    "# CRITICAL > ERROR > WARNING > INFO > DEBUG\n",
    "\n",
    "import logging\n",
    "\n",
    "reset_logging_config()\n",
    "\n",
    "logging.basicConfig(level=logging.DEBUG, \n",
    "                    format=\"%(asctime)s.%(msecs)03d %(name)-12s %(levelname)-8s: %(message)s\",\n",
    "                    datefmt='%Y-%m-%d %H:%M:%S')\n",
    "logging.debug(\"this is DEBUG\")\n",
    "logging.info(\"this is INFO\")\n",
    "logging.warning(\"this is WARNING\")\n",
    "logging.error(\"this is ERROR\")\n",
    "logging.critical(\"this is critical\")"
   ]
  },
  {
   "cell_type": "code",
   "execution_count": 4,
   "metadata": {},
   "outputs": [
    {
     "name": "stderr",
     "output_type": "stream",
     "text": [
      "2019-02-15 23:51:24.072 root         ERROR   : this is ERROR\n",
      "2019-02-15 23:51:24.074 root         CRITICAL: this is critical\n"
     ]
    }
   ],
   "source": [
    "import logging\n",
    "\n",
    "reset_logging_config()\n",
    "\n",
    "logging.basicConfig(level=logging.ERROR, \n",
    "                    format=\"%(asctime)s.%(msecs)03d %(name)-12s %(levelname)-8s: %(message)s\",\n",
    "                    datefmt='%Y-%m-%d %H:%M:%S')\n",
    "logging.debug(\"this is DEBUG\")\n",
    "logging.info(\"this is INFO\")\n",
    "logging.warning(\"this is WARNING\")\n",
    "logging.error(\"this is ERROR\")\n",
    "logging.critical(\"this is critical\")"
   ]
  },
  {
   "cell_type": "markdown",
   "metadata": {},
   "source": [
    "### logging to a file"
   ]
  },
  {
   "cell_type": "code",
   "execution_count": 5,
   "metadata": {},
   "outputs": [],
   "source": [
    "import logging\n",
    "\n",
    "reset_logging_config()\n",
    "\n",
    "logging.basicConfig(filename=\"test/log.txt\",\n",
    "                    level=logging.DEBUG,\n",
    "                    format=\"%(asctime)s.%(msecs)03d %(name)-12s %(levelname)-8s: %(message)s\",\n",
    "                    datefmt='%Y-%m-%d %H:%M:%S')\n",
    "logging.debug(\"this is DEBUG\")\n",
    "logging.info(\"this is INFO\")\n",
    "logging.warning(\"this is WARNING\")\n",
    "logging.error(\"this is ERROR\")\n",
    "logging.critical(\"this is critical\")"
   ]
  },
  {
   "cell_type": "markdown",
   "metadata": {},
   "source": [
    "### disable logging"
   ]
  },
  {
   "cell_type": "code",
   "execution_count": 6,
   "metadata": {},
   "outputs": [
    {
     "name": "stderr",
     "output_type": "stream",
     "text": [
      "2019-02-15 23:51:43.464 root         WARNING : this is WARNING\n",
      "2019-02-15 23:51:43.465 root         ERROR   : this is ERROR\n",
      "2019-02-15 23:51:43.467 root         CRITICAL: this is critical\n"
     ]
    }
   ],
   "source": [
    "import logging\n",
    "\n",
    "reset_logging_config()\n",
    "\n",
    "#logging.disable(logging.CRITICAL) #disable all logging\n",
    "logging.disable(logging.INFO)\n",
    "\n",
    "logging.basicConfig(level=logging.DEBUG,\n",
    "                    format=\"%(asctime)s.%(msecs)03d %(name)-12s %(levelname)-8s: %(message)s\",\n",
    "                    datefmt='%Y-%m-%d %H:%M:%S')\n",
    "logging.debug(\"this is DEBUG\")\n",
    "logging.info(\"this is INFO\")\n",
    "logging.warning(\"this is WARNING\")\n",
    "logging.error(\"this is ERROR\")\n",
    "logging.critical(\"this is critical\")"
   ]
  },
  {
   "cell_type": "code",
   "execution_count": null,
   "metadata": {},
   "outputs": [],
   "source": []
  }
 ],
 "metadata": {
  "kernelspec": {
   "display_name": "Python 3",
   "language": "python",
   "name": "python3"
  },
  "language_info": {
   "codemirror_mode": {
    "name": "ipython",
    "version": 3
   },
   "file_extension": ".py",
   "mimetype": "text/x-python",
   "name": "python",
   "nbconvert_exporter": "python",
   "pygments_lexer": "ipython3",
   "version": "3.7.1"
  }
 },
 "nbformat": 4,
 "nbformat_minor": 2
}
