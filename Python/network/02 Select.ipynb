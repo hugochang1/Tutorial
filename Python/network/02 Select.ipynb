{
 "cells": [
  {
   "cell_type": "markdown",
   "metadata": {},
   "source": [
    "### Log"
   ]
  },
  {
   "cell_type": "code",
   "execution_count": 1,
   "metadata": {},
   "outputs": [
    {
     "name": "stdout",
     "output_type": "stream",
     "text": [
      "2020/05/17 21:12:32.256204 1480 [1.00][D] LOGD\n",
      "2020/05/17 21:12:32.257204 1480 [1.00][W] LOGW\n",
      "2020/05/17 21:12:32.259204 1480 [1.00][E] LOGE\n"
     ]
    }
   ],
   "source": [
    "import datetime, threading\n",
    "from threading import Lock\n",
    "\n",
    "module_version = \"[1.00]\"\n",
    "log_file_path = \"./log.txt\"\n",
    "_log_lock = Lock()\n",
    "\n",
    "def LOGD(*args, **args2):\n",
    "    with _log_lock:\n",
    "        prefix = datetime.datetime.now().strftime('%Y/%m/%d %H:%M:%S.%f') + \" \" + str(threading.get_ident()) + \" \" + module_version + '[D]'\n",
    "        print(prefix, *args, **args2)\n",
    "        with open(log_file_path, \"a\") as f:\n",
    "            print(prefix, *args, **args2, file=f)\n",
    "\n",
    "def LOGW(*args, **args2):\n",
    "    with _log_lock:\n",
    "        prefix = datetime.datetime.now().strftime('%Y/%m/%d %H:%M:%S.%f') + \" \" + str(threading.get_ident()) + \" \" + module_version + '[W]'\n",
    "        print(prefix, *args, **args2)\n",
    "        with open(log_file_path, \"a\") as f:\n",
    "            print(prefix, *args, **args2, file=f)\n",
    "\n",
    "def LOGE(*args, **args2):\n",
    "    with _log_lock:\n",
    "        prefix = datetime.datetime.now().strftime('%Y/%m/%d %H:%M:%S.%f') + \" \" + str(threading.get_ident()) + \" \" + module_version + '[E]'\n",
    "        print(prefix, *args, **args2)\n",
    "        with open(log_file_path, \"a\") as f:\n",
    "            print(prefix, *args, **args2, file=f)\n",
    "\n",
    "             # YEAR/MM/DD HH:MM:SS.UUUUUU PID   VER  TAG your_msg\n",
    "LOGD(\"LOGD\") # 2020/05/17 09:01:47.947437 2664 [1.00][D] LOGD\n",
    "LOGW(\"LOGW\") # 2020/05/17 09:01:47.949437 2664 [1.00][W] LOGW\n",
    "LOGE(\"LOGE\") # 2020/05/17 09:01:47.950437 2664 [1.00][E] LOGE"
   ]
  },
  {
   "cell_type": "markdown",
   "metadata": {},
   "source": [
    "### Server"
   ]
  },
  {
   "cell_type": "code",
   "execution_count": 2,
   "metadata": {},
   "outputs": [],
   "source": [
    "import socket, select, threading, time, traceback\n",
    "\n",
    "def server_thread():\n",
    "    port = 10020\n",
    "    server = socket.socket(socket.AF_INET, socket.SOCK_STREAM) \n",
    "    server.setsockopt(socket.SOL_SOCKET, socket.SO_REUSEADDR, 1)\n",
    "    server.bind(('localhost', port))\n",
    "    server.listen(5)\n",
    "    inputs = [server]\n",
    "    while True:\n",
    "        try:\n",
    "            readable, _, _ = select.select(inputs, [], [])\n",
    "            for sck in readable:\n",
    "                if sck is server:\n",
    "                    client, addr = sck.accept()\n",
    "                    client.setblocking(0)\n",
    "                    inputs.append(client)\n",
    "                    LOGD(\"remote connected, client num=\", len(inputs)-1)\n",
    "                else:\n",
    "                    try:\n",
    "                        data = sck.recv(1024)\n",
    "                        sck.send(b'server received: ' + data)\n",
    "                    except Exception as err: # if remote side close the connection\n",
    "                        sck.close()\n",
    "                        inputs.remove(sck)\n",
    "                        LOGD(\"remote disconnected, client num=\", len(inputs)-1)\n",
    "        except Exception as err:\n",
    "            LOGE(traceback.format_exc())\n",
    "\n",
    "threading.Thread(target=server_thread).start()"
   ]
  },
  {
   "cell_type": "markdown",
   "metadata": {},
   "source": [
    "### Client"
   ]
  },
  {
   "cell_type": "code",
   "execution_count": 3,
   "metadata": {},
   "outputs": [
    {
     "name": "stdout",
     "output_type": "stream",
     "text": [
      "2020/05/17 21:12:32.289206 3424 [1.00][D] remote connected, client num= 1\n",
      "2020/05/17 21:12:32.299206 1480 [1.00][D] b'server received: hello from client'\n",
      "2020/05/17 21:12:32.301206 3424 [1.00][D] remote disconnected, client num= 0\n"
     ]
    }
   ],
   "source": [
    "import socket\n",
    "\n",
    "try:\n",
    "    port = 10020\n",
    "    client = socket.socket(socket.AF_INET, socket.SOCK_STREAM)\n",
    "    \n",
    "    client.connect(('localhost', port))\n",
    "    \n",
    "    client.send(b'hello from client')\n",
    "    data = client.recv(1024)\n",
    "    LOGD(data)\n",
    "    \n",
    "    client.close()\n",
    "except Error as err:\n",
    "    LOGE(err)\n"
   ]
  },
  {
   "cell_type": "markdown",
   "metadata": {},
   "source": [
    "### Multi-Clients"
   ]
  },
  {
   "cell_type": "code",
   "execution_count": 4,
   "metadata": {},
   "outputs": [
    {
     "name": "stdout",
     "output_type": "stream",
     "text": [
      "2020/05/17 21:12:32.319207 3424 [1.00][D] remote connected, client num= 1\n",
      "2020/05/17 21:12:32.321207 3424 [1.00][D] remote connected, client num= 2\n",
      "2020/05/17 21:12:32.321207 1480 [1.00][D] b'server received: hello from client 1'\n",
      "2020/05/17 21:12:32.322207 1480 [1.00][D] b'server received: hello from client 2'\n",
      "2020/05/17 21:12:32.324208 3424 [1.00][D] remote disconnected, client num= 1\n",
      "2020/05/17 21:12:32.325208 3424 [1.00][D] remote disconnected, client num= 0\n"
     ]
    }
   ],
   "source": [
    "import socket\n",
    "\n",
    "try:\n",
    "    port = 10020\n",
    "    c1 = socket.socket(socket.AF_INET, socket.SOCK_STREAM)\n",
    "    c2 = socket.socket(socket.AF_INET, socket.SOCK_STREAM)\n",
    "    \n",
    "    c1.connect(('localhost', port))\n",
    "    c2.connect(('localhost', port))\n",
    "    \n",
    "    c1.send(b'hello from client 1')\n",
    "    data = c1.recv(1024)\n",
    "    LOGD(data)\n",
    "    \n",
    "    c2.send(b'hello from client 2')\n",
    "    data = c2.recv(1024)\n",
    "    LOGD(data)\n",
    "    \n",
    "    c1.close()\n",
    "    c2.close()\n",
    "except Error as err:\n",
    "    LOGE(err)\n"
   ]
  },
  {
   "cell_type": "markdown",
   "metadata": {},
   "source": [
    "### Server + Client in the same select"
   ]
  },
  {
   "cell_type": "code",
   "execution_count": null,
   "metadata": {},
   "outputs": [
    {
     "name": "stdout",
     "output_type": "stream",
     "text": [
      "2020/05/17 21:12:32.858238 4448 [1.00][D] 10035\n",
      "2020/05/17 21:12:32.869239 1480 [1.00][D] remote connected, inputs num= 3\n",
      "2020/05/17 21:12:33.369267 1480 [1.00][D] client received the data from server: b'server received: hello 1'\n",
      "2020/05/17 21:12:33.869296 1480 [1.00][D] client received the data from server: b'server received: hello 2'\n",
      "2020/05/17 21:12:34.369325 1480 [1.00][D] client is closed, inputs num= 2\n",
      "2020/05/17 21:12:34.372325 1480 [1.00][D] remote disconnected, inputs num= 1\n"
     ]
    }
   ],
   "source": [
    "import socket, select, threading, time, traceback\n",
    "\n",
    "port = 10021\n",
    "\n",
    "# server\n",
    "server = socket.socket(socket.AF_INET, socket.SOCK_STREAM) \n",
    "server.setsockopt(socket.SOL_SOCKET, socket.SO_REUSEADDR, 1)\n",
    "server.bind(('localhost', port))\n",
    "server.listen(5)\n",
    "\n",
    "# client\n",
    "client = socket.socket(socket.AF_INET, socket.SOCK_STREAM)\n",
    "client.setblocking(0)\n",
    "\n",
    "# create other thread for testing\n",
    "def client_thread():\n",
    "    time.sleep(0.5)\n",
    "    ret = client.connect_ex(('localhost', port))\n",
    "    LOGD(ret)\n",
    "    time.sleep(0.5)\n",
    "    client.send(b'hello 1')\n",
    "    time.sleep(0.5)\n",
    "    client.send(b'hello 2')\n",
    "    time.sleep(0.5)\n",
    "    client.close()    \n",
    "threading.Thread(target=client_thread).start()\n",
    "\n",
    "# select\n",
    "inputs = [server, client]\n",
    "\n",
    "while True:\n",
    "    try:\n",
    "        readable, _, _ = select.select(inputs, [], [])\n",
    "        for sck in readable:\n",
    "            if sck is server:\n",
    "                client, addr = sck.accept()\n",
    "                client.setblocking(0)\n",
    "                inputs.append(client)\n",
    "                LOGD(\"remote connected, inputs num=\", len(inputs))\n",
    "            elif sck is client:\n",
    "                try:\n",
    "                    data = sck.recv(1024)\n",
    "                    LOGD('client received the data from server:', data)\n",
    "                except Exception as err: # if remote side close the connection\n",
    "                    sck.close()\n",
    "                    inputs.remove(sck)\n",
    "                    LOGD(\"client is closed, inputs num=\", len(inputs))\n",
    "            else:\n",
    "                try:\n",
    "                    data = sck.recv(1024)\n",
    "                    sck.send(b'server received: ' + data)\n",
    "                except Exception as err: # if remote side close the connection\n",
    "                    sck.close()\n",
    "                    inputs.remove(sck)\n",
    "                    LOGD(\"remote disconnected, inputs num=\", len(inputs))\n",
    "    except Exception as err:\n",
    "        LOGE(traceback.format_exc())\n"
   ]
  },
  {
   "cell_type": "code",
   "execution_count": null,
   "metadata": {},
   "outputs": [],
   "source": []
  }
 ],
 "metadata": {
  "kernelspec": {
   "display_name": "Python 3",
   "language": "python",
   "name": "python3"
  },
  "language_info": {
   "codemirror_mode": {
    "name": "ipython",
    "version": 3
   },
   "file_extension": ".py",
   "mimetype": "text/x-python",
   "name": "python",
   "nbconvert_exporter": "python",
   "pygments_lexer": "ipython3",
   "version": "3.7.0"
  }
 },
 "nbformat": 4,
 "nbformat_minor": 2
}
