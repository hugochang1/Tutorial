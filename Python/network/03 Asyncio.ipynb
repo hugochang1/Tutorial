{
 "cells": [
  {
   "cell_type": "markdown",
   "metadata": {},
   "source": [
    "### async"
   ]
  },
  {
   "cell_type": "code",
   "execution_count": 1,
   "metadata": {},
   "outputs": [
    {
     "data": {
      "text/plain": [
       "<Task pending coro=<main() running at <ipython-input-1-8f626a37c2e5>:6>>"
      ]
     },
     "execution_count": 1,
     "metadata": {},
     "output_type": "execute_result"
    },
    {
     "name": "stdout",
     "output_type": "stream",
     "text": [
      "<coroutine object f1 at 0x0000000004EDB4C8>\n",
      "10\n",
      "10\n"
     ]
    },
    {
     "name": "stderr",
     "output_type": "stream",
     "text": [
      "C:\\Users\\Hugo\\Anaconda3\\lib\\site-packages\\ipykernel_launcher.py:8: RuntimeWarning: coroutine 'f1' was never awaited\n",
      "  \n"
     ]
    }
   ],
   "source": [
    "import asyncio\n",
    "\n",
    "async def f1():\n",
    "    return 10\n",
    "\n",
    "async def main():\n",
    "    # f1 it's a coroutine object, and will not really run f1() function\n",
    "    print(f1()) # <coroutine object f1 at 0x0000000004EC1548>\n",
    "    \n",
    "    # wait until f1() is returned\n",
    "    print(await f1()) # 10\n",
    "    \n",
    "    # f1() will be scheduled and run immediately\n",
    "    task1 = asyncio.create_task(f1())\n",
    "    # wait until f1() is returned\n",
    "    print(await task1) # 10\n",
    "\n",
    "loop = asyncio.get_event_loop()\n",
    "loop.create_task(main())"
   ]
  },
  {
   "cell_type": "markdown",
   "metadata": {},
   "source": [
    "### create_task()"
   ]
  },
  {
   "cell_type": "code",
   "execution_count": 2,
   "metadata": {},
   "outputs": [
    {
     "data": {
      "text/plain": [
       "<Task pending coro=<f2() running at <ipython-input-2-517908005102>:9>>"
      ]
     },
     "execution_count": 2,
     "metadata": {},
     "output_type": "execute_result"
    },
    {
     "name": "stdout",
     "output_type": "stream",
     "text": [
      "f1\n",
      "f2\n",
      "f1 done\n",
      "f2 done\n"
     ]
    }
   ],
   "source": [
    "import asyncio\n",
    "\n",
    "\n",
    "async def f1():\n",
    "    print(\"f1\")\n",
    "    await asyncio.sleep(1)\n",
    "    print('f1 done')\n",
    "    \n",
    "async def f2():\n",
    "    print(\"f2\")\n",
    "    await asyncio.sleep(1)\n",
    "    print('f2 done')\n",
    "\n",
    "loop = asyncio.get_event_loop()\n",
    "loop.create_task(f1())\n",
    "loop.create_task(f2())\n",
    "# when create_task() is called, f1 & f2 function will be scheduled and run immediately"
   ]
  },
  {
   "cell_type": "markdown",
   "metadata": {},
   "source": [
    "### await"
   ]
  },
  {
   "cell_type": "code",
   "execution_count": 3,
   "metadata": {},
   "outputs": [
    {
     "data": {
      "text/plain": [
       "<Task pending coro=<main() running at <ipython-input-3-e950c2ea41b5>:13>>"
      ]
     },
     "execution_count": 3,
     "metadata": {},
     "output_type": "execute_result"
    },
    {
     "name": "stdout",
     "output_type": "stream",
     "text": [
      "f1\n",
      "f2\n",
      "f1 done\n",
      "f2 done\n"
     ]
    }
   ],
   "source": [
    "import asyncio\n",
    "\n",
    "async def f1():\n",
    "    print(\"f1\")\n",
    "    await asyncio.sleep(1) # if you want to f1() & f2() run simultaneously, you need to use asyncio.sleep()\n",
    "    print('f1 done')\n",
    "    \n",
    "async def f2():\n",
    "    print(\"f2\")\n",
    "    await asyncio.sleep(1) # if you want to f1() & f2() run simultaneously, you need to use asyncio.sleep()\n",
    "    print('f2 done')\n",
    "\n",
    "async def main():\n",
    "    task1 = asyncio.create_task(f1())\n",
    "    task2 = asyncio.create_task(f2())\n",
    "    \n",
    "    # await must be used inside the async function\n",
    "    # await will wait task1 completed\n",
    "    await task1\n",
    "    await task2\n",
    "\n",
    "loop = asyncio.get_event_loop()\n",
    "loop.create_task(main())"
   ]
  },
  {
   "cell_type": "markdown",
   "metadata": {},
   "source": [
    "### gather"
   ]
  },
  {
   "cell_type": "code",
   "execution_count": 4,
   "metadata": {},
   "outputs": [
    {
     "data": {
      "text/plain": [
       "<Task pending coro=<main() running at <ipython-input-4-8961fe24879a>:6>>"
      ]
     },
     "execution_count": 4,
     "metadata": {},
     "output_type": "execute_result"
    },
    {
     "name": "stdout",
     "output_type": "stream",
     "text": [
      "[4, 6, 8]\n"
     ]
    }
   ],
   "source": [
    "import asyncio\n",
    "\n",
    "async def f1(x):\n",
    "    return x * 2\n",
    "\n",
    "async def main():\n",
    "    ret = await asyncio.gather(f1(2), f1(3), f1(4))\n",
    "    print(ret) # [4, 6, 8]\n",
    "\n",
    "loop = asyncio.get_event_loop()\n",
    "loop.create_task(main())"
   ]
  },
  {
   "cell_type": "markdown",
   "metadata": {},
   "source": [
    "### wait_for"
   ]
  },
  {
   "cell_type": "code",
   "execution_count": 5,
   "metadata": {},
   "outputs": [
    {
     "data": {
      "text/plain": [
       "<Task pending coro=<main() running at <ipython-input-5-51339c87147f>:8>>"
      ]
     },
     "execution_count": 5,
     "metadata": {},
     "output_type": "execute_result"
    },
    {
     "name": "stdout",
     "output_type": "stream",
     "text": [
      "f1()\n",
      "timeout\n"
     ]
    }
   ],
   "source": [
    "import asyncio\n",
    "\n",
    "async def f1():\n",
    "    print(\"f1()\")\n",
    "    await asyncio.sleep(2)\n",
    "    print(\"f1() after\") # will not come here\n",
    "    \n",
    "async def main():\n",
    "    try:\n",
    "        await asyncio.wait_for(f1(), timeout=1.0)\n",
    "        print(\"wait_for() after\") # will not come here\n",
    "    except asyncio.TimeoutError:\n",
    "        print(\"timeout\")\n",
    "\n",
    "loop = asyncio.get_event_loop()\n",
    "loop.create_task(main())"
   ]
  },
  {
   "cell_type": "markdown",
   "metadata": {},
   "source": [
    "### TCP Server"
   ]
  },
  {
   "cell_type": "code",
   "execution_count": 6,
   "metadata": {},
   "outputs": [
    {
     "data": {
      "text/plain": [
       "<Task pending coro=<tcp_echo_server() running at <ipython-input-6-89195b827ebc>:18>>"
      ]
     },
     "execution_count": 6,
     "metadata": {},
     "output_type": "execute_result"
    }
   ],
   "source": [
    "import asyncio, traceback\n",
    "\n",
    "async def echo_handler(reader, writer):\n",
    "    addr = writer.get_extra_info('peername')\n",
    "    print(addr, 'connected')\n",
    "    while True:\n",
    "        data = await reader.read(100)\n",
    "        if len(data) == 0:\n",
    "            print(addr, 'client disconnected')\n",
    "            writer.close()\n",
    "            await writer.wait_closed()\n",
    "            break\n",
    "        else:\n",
    "            print(addr, 'read data=', data)\n",
    "            writer.write(data)\n",
    "            await writer.drain()\n",
    "    \n",
    "async def tcp_echo_server():\n",
    "    try:\n",
    "        server = await asyncio.start_server(echo_handler, '127.0.0.1', 12345)\n",
    "        await server.serve_forever() # block here\n",
    "    except Exception as err:\n",
    "        print(traceback.format_exc())\n",
    "\n",
    "loop = asyncio.get_event_loop()\n",
    "loop.create_task(tcp_echo_server())"
   ]
  },
  {
   "cell_type": "markdown",
   "metadata": {},
   "source": [
    "### TCP Client"
   ]
  },
  {
   "cell_type": "code",
   "execution_count": 7,
   "metadata": {},
   "outputs": [
    {
     "data": {
      "text/plain": [
       "<Task pending coro=<tcp_echo_client() running at <ipython-input-7-05f970d62051>:3>>"
      ]
     },
     "execution_count": 7,
     "metadata": {},
     "output_type": "execute_result"
    },
    {
     "name": "stdout",
     "output_type": "stream",
     "text": [
      "('127.0.0.1', 53846) connected\n",
      "('127.0.0.1', 53847) connected\n",
      "write\n",
      "write\n",
      "('127.0.0.1', 53846) read data= b'hugo test 1'\n",
      "('127.0.0.1', 53847) read data= b'hugo test 2'\n",
      "read= b'hugo test 1'\n",
      "read= b'hugo test 2'\n",
      "close\n",
      "close\n",
      "('127.0.0.1', 53846) client disconnected\n",
      "('127.0.0.1', 53847) client disconnected\n"
     ]
    }
   ],
   "source": [
    "import asyncio, traceback\n",
    "\n",
    "async def tcp_echo_client(message):\n",
    "    try:\n",
    "        reader, writer = await asyncio.open_connection('127.0.0.1', 12345)\n",
    "        await asyncio.sleep(1)\n",
    "        \n",
    "        print('write')\n",
    "        writer.write(message.encode())\n",
    "        \n",
    "        await asyncio.sleep(1)\n",
    "        data = await reader.read(100)\n",
    "        print('read=', data)\n",
    "\n",
    "        await asyncio.sleep(1)\n",
    "        print('close')\n",
    "        writer.close()\n",
    "        await writer.wait_closed()\n",
    "    except Exception as err:\n",
    "        print(traceback.format_exc())\n",
    "\n",
    "loop = asyncio.get_event_loop()\n",
    "loop.create_task(tcp_echo_client(\"hugo test 1\"))\n",
    "loop.create_task(tcp_echo_client(\"hugo test 2\"))"
   ]
  },
  {
   "cell_type": "markdown",
   "metadata": {},
   "source": [
    "### Queue"
   ]
  },
  {
   "cell_type": "code",
   "execution_count": 8,
   "metadata": {},
   "outputs": [
    {
     "name": "stdout",
     "output_type": "stream",
     "text": [
      "<Queue maxsize=2>\n"
     ]
    },
    {
     "data": {
      "text/plain": [
       "<Task pending coro=<consumer() running at <ipython-input-8-71ddff9a1e10>:1>>"
      ]
     },
     "execution_count": 8,
     "metadata": {},
     "output_type": "execute_result"
    },
    {
     "name": "stdout",
     "output_type": "stream",
     "text": [
      "put= 0\n",
      "put= 1\n",
      "put= 2\n",
      "get= 0\n",
      "get= 1\n",
      "get= 2\n"
     ]
    }
   ],
   "source": [
    "async def consumer():\n",
    "    for i in range(3):\n",
    "        ret = await queue.get() # will be blocked if queue is empty\n",
    "        print('get=', ret)\n",
    "    \n",
    "async def producer():\n",
    "    for i in range(3):\n",
    "        print('put=', i)\n",
    "        await queue.put(i) # will be blocked if queue is full\n",
    "\n",
    "queue = asyncio.Queue(2)\n",
    "print(queue)\n",
    "    \n",
    "loop = asyncio.get_event_loop()\n",
    "loop.create_task(producer())\n",
    "loop.create_task(consumer())"
   ]
  },
  {
   "cell_type": "markdown",
   "metadata": {},
   "source": [
    "### TCP Server + Client + Queue"
   ]
  },
  {
   "cell_type": "code",
   "execution_count": 9,
   "metadata": {},
   "outputs": [
    {
     "data": {
      "text/plain": [
       "<Task pending coro=<tcp_echo_client() running at <ipython-input-9-95223f15aaee>:29>>"
      ]
     },
     "execution_count": 9,
     "metadata": {},
     "output_type": "execute_result"
    },
    {
     "name": "stdout",
     "output_type": "stream",
     "text": [
      "('127.0.0.1', 53869) connected\n",
      "('127.0.0.1', 53870) connected\n",
      "client write\n",
      "client write\n",
      "('127.0.0.1', 53869) read data= b'hugo test 1'\n",
      "('127.0.0.1', 53870) read data= b'hugo test 2'\n",
      "client read= b'hugo test 2'\n",
      "client close\n",
      "client read= b'hugo test 1'\n",
      "client close\n",
      "queue get= client close success\n",
      "queue get= client close success\n",
      "('127.0.0.1', 53869) client disconnected\n",
      "('127.0.0.1', 53870) client disconnected\n",
      "queue get= ('127.0.0.1', 53869) disconnected\n",
      "queue get= ('127.0.0.1', 53870) disconnected\n"
     ]
    }
   ],
   "source": [
    "import asyncio, traceback\n",
    "\n",
    "# -------------- server -------------- \n",
    "async def echo_handler(reader, writer):\n",
    "    addr = writer.get_extra_info('peername')\n",
    "    print(addr, 'connected')\n",
    "    while True:\n",
    "        data = await reader.read(100)\n",
    "        if len(data) == 0:\n",
    "            print(addr, 'client disconnected')\n",
    "            writer.close()\n",
    "            await writer.wait_closed()\n",
    "            \n",
    "            await queue.put('%s disconnected' % (str(addr)))\n",
    "            break\n",
    "        else:\n",
    "            print(addr, 'read data=', data)\n",
    "            writer.write(data)\n",
    "            await writer.drain()\n",
    "    \n",
    "async def tcp_echo_server():\n",
    "    try:\n",
    "        server = await asyncio.start_server(echo_handler, '127.0.0.1', 23456)\n",
    "        await server.serve_forever() # block here\n",
    "    except Exception as err:\n",
    "        print(traceback.format_exc())\n",
    "\n",
    "# -------------- client -------------- \n",
    "async def tcp_echo_client(message):\n",
    "    try:\n",
    "        reader, writer = await asyncio.open_connection('127.0.0.1', 23456)\n",
    "        #await asyncio.sleep(0.5)\n",
    "        \n",
    "        print('client write')\n",
    "        writer.write(message.encode())\n",
    "        \n",
    "        #await asyncio.sleep(0.5)\n",
    "        data = await reader.read(100)\n",
    "        print('client read=', data)\n",
    "\n",
    "        #await asyncio.sleep(0.5)\n",
    "        print('client close')\n",
    "        writer.close()\n",
    "        await writer.wait_closed()\n",
    "        \n",
    "        await queue.put('client close success')\n",
    "    except Exception as err:\n",
    "        print(traceback.format_exc())\n",
    "\n",
    "# -------------- queue event -------------- \n",
    "\n",
    "async def queue_event():\n",
    "    while True:\n",
    "        ret = await queue.get()\n",
    "        print('queue get=', ret)\n",
    "        \n",
    "\n",
    "# -------------- main -------------- \n",
    "queue = asyncio.Queue(10)\n",
    "\n",
    "loop = asyncio.get_event_loop()\n",
    "loop.create_task(tcp_echo_server())\n",
    "loop.create_task(queue_event())\n",
    "loop.create_task(tcp_echo_client(\"hugo test 1\"))\n",
    "loop.create_task(tcp_echo_client(\"hugo test 2\"))"
   ]
  },
  {
   "cell_type": "code",
   "execution_count": null,
   "metadata": {},
   "outputs": [],
   "source": []
  }
 ],
 "metadata": {
  "kernelspec": {
   "display_name": "Python 3",
   "language": "python",
   "name": "python3"
  },
  "language_info": {
   "codemirror_mode": {
    "name": "ipython",
    "version": 3
   },
   "file_extension": ".py",
   "mimetype": "text/x-python",
   "name": "python",
   "nbconvert_exporter": "python",
   "pygments_lexer": "ipython3",
   "version": "3.7.0"
  }
 },
 "nbformat": 4,
 "nbformat_minor": 2
}
