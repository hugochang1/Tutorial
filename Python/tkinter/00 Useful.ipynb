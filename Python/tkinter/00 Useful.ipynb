{
 "cells": [
  {
   "cell_type": "markdown",
   "metadata": {},
   "source": [
    "# Template"
   ]
  },
  {
   "cell_type": "code",
   "execution_count": 17,
   "metadata": {},
   "outputs": [],
   "source": [
    "from tkinter import *\n",
    "\n",
    "def key_press(event):\n",
    "    label_1.config(text=str(event))\n",
    "\n",
    "def mouse_motion(event):\n",
    "    label_2.config(text=str(event))\n",
    "\n",
    "def mouse_button(event):\n",
    "    label_3.config(text=str(event))\n",
    "    \n",
    "tk = Tk()\n",
    "# -------------------------------------\n",
    "label_1 = Label(tk, text=\"label_1\")\n",
    "label_1.pack()\n",
    "label_2 = Label(tk, text=\"label_2\")\n",
    "label_2.pack()\n",
    "label_3 = Label(tk, text=\"label_3\")\n",
    "label_3.pack()\n",
    "# -------------------------------------\n",
    "tk.title(\"title\")\n",
    "tk.geometry(\"600x200+0+0\")\n",
    "tk.config(bg=\"#ffff00\")  # RGB\n",
    "#tk.iconify()  # adjust to min window size\n",
    "#tk.state(\"zoomed\")  # adjust to max window size\n",
    "tk.bind_all(\"<KeyPress-Escape>\", lambda event:tk.destroy())\n",
    "tk.bind_all(\"<KeyPress>\", key_press)\n",
    "tk.bind_all(\"<Motion>\", mouse_motion)\n",
    "tk.bind_all(\"<Button>\", mouse_button)\n",
    "tk.resizable(True, True)\n",
    "tk.lift()\n",
    "tk.focus_force()\n",
    "try:\n",
    "    tk.iconbitmap(\"res/mario.ico\")\n",
    "except Exception as err:\n",
    "    print(err)\n",
    "tk.after(50000, tk.destroy)\n",
    "tk.mainloop()"
   ]
  },
  {
   "cell_type": "code",
   "execution_count": null,
   "metadata": {},
   "outputs": [],
   "source": []
  }
 ],
 "metadata": {
  "kernelspec": {
   "display_name": "Python 3",
   "language": "python",
   "name": "python3"
  },
  "language_info": {
   "codemirror_mode": {
    "name": "ipython",
    "version": 3
   },
   "file_extension": ".py",
   "mimetype": "text/x-python",
   "name": "python",
   "nbconvert_exporter": "python",
   "pygments_lexer": "ipython3",
   "version": "3.7.1"
  }
 },
 "nbformat": 4,
 "nbformat_minor": 2
}
