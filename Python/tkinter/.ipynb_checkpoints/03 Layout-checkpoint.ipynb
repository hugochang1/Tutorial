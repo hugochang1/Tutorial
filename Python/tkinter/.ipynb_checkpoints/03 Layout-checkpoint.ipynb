{
 "cells": [
  {
   "cell_type": "markdown",
   "metadata": {},
   "source": [
    "### Template"
   ]
  },
  {
   "cell_type": "code",
   "execution_count": 1,
   "metadata": {},
   "outputs": [],
   "source": [
    "from tkinter import *\n",
    "\n",
    "def keyEvent(event):\n",
    "    if event.keysym == \"Escape\":\n",
    "        tk.destroy()\n",
    "\n",
    "tk = Tk()\n",
    "# -------------------------------------\n",
    "# -------------------------------------\n",
    "tk.bind_all(\"<KeyPress>\", keyEvent)\n",
    "tk.lift()\n",
    "tk.focus_force()\n",
    "tk.after(20000, tk.destroy)\n",
    "tk.mainloop()"
   ]
  },
  {
   "cell_type": "markdown",
   "metadata": {},
   "source": [
    "### pack"
   ]
  },
  {
   "cell_type": "code",
   "execution_count": 14,
   "metadata": {},
   "outputs": [],
   "source": [
    "from tkinter import *\n",
    "\n",
    "def keyEvent(event):\n",
    "    if event.keysym == \"Escape\":\n",
    "        tk.destroy()\n",
    "\n",
    "tk = Tk()\n",
    "# -------------------------------------\n",
    "Label(tk, text=\"1\", relief=\"raised\").pack()\n",
    "Label(tk, text=\"2\", relief=\"raised\").pack()\n",
    "Label(tk, text=\"a\", relief=\"raised\").pack(side=BOTTOM)\n",
    "Label(tk, text=\"b\", relief=\"raised\").pack(side=BOTTOM)\n",
    "Label(tk, text=\"A\", relief=\"raised\").pack(side=LEFT)\n",
    "Label(tk, text=\"B\", relief=\"raised\").pack(side=LEFT)\n",
    "Label(tk, text=\"!\", relief=\"raised\").pack(side=RIGHT)\n",
    "Label(tk, text=\"@\", relief=\"raised\").pack(side=RIGHT)\n",
    "# -------------------------------------\n",
    "tk.bind_all(\"<KeyPress>\", keyEvent)\n",
    "tk.lift()\n",
    "tk.focus_force()\n",
    "tk.after(5000, tk.destroy)\n",
    "tk.mainloop()"
   ]
  },
  {
   "cell_type": "code",
   "execution_count": 15,
   "metadata": {},
   "outputs": [
    {
     "data": {
      "text/html": [
       "<img src=\"res/tk_layout1.png\">\n"
      ],
      "text/plain": [
       "<IPython.core.display.HTML object>"
      ]
     },
     "metadata": {},
     "output_type": "display_data"
    }
   ],
   "source": [
    "%%html\n",
    "<img src=\"res/tk_layout1.png\">"
   ]
  },
  {
   "cell_type": "code",
   "execution_count": 18,
   "metadata": {},
   "outputs": [],
   "source": [
    "from tkinter import *\n",
    "\n",
    "def keyEvent(event):\n",
    "    if event.keysym == \"Escape\":\n",
    "        tk.destroy()\n",
    "\n",
    "tk = Tk()\n",
    "# -------------------------------------\n",
    "rs = [\"flat\", \"groove\", \"raised\", \"ridge\", \"solid\", \"sunken\"]\n",
    "\n",
    "for r in rs:\n",
    "    Label(tk, text=r, relief=r).pack(side=LEFT, padx=5, pady=5)\n",
    "# -------------------------------------\n",
    "tk.bind_all(\"<KeyPress>\", keyEvent)\n",
    "tk.lift()\n",
    "tk.focus_force()\n",
    "tk.after(5000, tk.destroy)\n",
    "tk.mainloop()"
   ]
  },
  {
   "cell_type": "code",
   "execution_count": 19,
   "metadata": {},
   "outputs": [
    {
     "data": {
      "text/html": [
       "<img src=\"res/tk_layout2.png\">\n"
      ],
      "text/plain": [
       "<IPython.core.display.HTML object>"
      ]
     },
     "metadata": {},
     "output_type": "display_data"
    }
   ],
   "source": [
    "%%html\n",
    "<img src=\"res/tk_layout2.png\">"
   ]
  },
  {
   "cell_type": "code",
   "execution_count": 42,
   "metadata": {},
   "outputs": [],
   "source": [
    "from tkinter import *\n",
    "from tkinter.ttk import Separator\n",
    "\n",
    "def keyEvent(event):\n",
    "    if event.keysym == \"Escape\":\n",
    "        tk.destroy()\n",
    "\n",
    "tk = Tk()\n",
    "# -------------------------------------\n",
    "Label(tk, text=\"1\", relief=\"raised\").pack(fill=X)\n",
    "Label(tk, text=\"2\", relief=\"raised\").pack(fill=X, padx=20)\n",
    "Separator(tk, orient=HORIZONTAL).pack(fill=X)\n",
    "Label(tk, text=\"3\", relief=\"raised\").pack(pady=10)\n",
    "Separator(tk, orient=HORIZONTAL).pack(fill=X)\n",
    "Label(tk, text=\"4\", relief=\"raised\").pack()\n",
    "Label(tk, text=\"5\", relief=\"raised\").pack(ipadx=10)\n",
    "Label(tk, text=\"6\", relief=\"raised\").pack(ipadx=20)\n",
    "Separator(tk, orient=HORIZONTAL).pack(fill=X)\n",
    "Label(tk, text=\"7\", relief=\"raised\").pack(ipady=10)\n",
    "# -------------------------------------\n",
    "tk.bind_all(\"<KeyPress>\", keyEvent)\n",
    "tk.lift()\n",
    "tk.focus_force()\n",
    "tk.after(10000, tk.destroy)\n",
    "tk.mainloop()"
   ]
  },
  {
   "cell_type": "code",
   "execution_count": 43,
   "metadata": {},
   "outputs": [
    {
     "data": {
      "text/html": [
       "<img src=\"res/tk_layout3.png\">\n"
      ],
      "text/plain": [
       "<IPython.core.display.HTML object>"
      ]
     },
     "metadata": {},
     "output_type": "display_data"
    }
   ],
   "source": [
    "%%html\n",
    "<img src=\"res/tk_layout3.png\">"
   ]
  },
  {
   "cell_type": "code",
   "execution_count": 48,
   "metadata": {},
   "outputs": [],
   "source": [
    "from tkinter import *\n",
    "\n",
    "def keyEvent(event):\n",
    "    if event.keysym == \"Escape\":\n",
    "        tk.destroy()\n",
    "\n",
    "tk = Tk()\n",
    "# -------------------------------------\n",
    "Label(tk, text=\"NW\", relief=\"raised\").pack(anchor=NW)\n",
    "Label(tk, text=\"N\", relief=\"raised\").pack(anchor=N)\n",
    "Label(tk, text=\"NE\", relief=\"raised\").pack(anchor=NE)\n",
    "Label(tk, text=\"E\", relief=\"raised\").pack(anchor=E)\n",
    "Label(tk, text=\"SE\", relief=\"raised\").pack(anchor=SE)\n",
    "Label(tk, text=\"S\", relief=\"raised\").pack(anchor=S)\n",
    "Label(tk, text=\"SW\", relief=\"raised\").pack(anchor=SW)\n",
    "Label(tk, text=\"W\", relief=\"raised\").pack(anchor=W)\n",
    "Label(tk, text=\"CENTER\", relief=\"raised\").pack(anchor=CENTER)\n",
    "# -------------------------------------\n",
    "tk.bind_all(\"<KeyPress>\", keyEvent)\n",
    "tk.lift()\n",
    "tk.focus_force()\n",
    "tk.after(5000, tk.destroy)\n",
    "tk.mainloop()"
   ]
  },
  {
   "cell_type": "code",
   "execution_count": 49,
   "metadata": {},
   "outputs": [
    {
     "data": {
      "text/html": [
       "<img src=\"res/tk_layout4.png\">\n"
      ],
      "text/plain": [
       "<IPython.core.display.HTML object>"
      ]
     },
     "metadata": {},
     "output_type": "display_data"
    }
   ],
   "source": [
    "%%html\n",
    "<img src=\"res/tk_layout4.png\">"
   ]
  },
  {
   "cell_type": "code",
   "execution_count": 53,
   "metadata": {},
   "outputs": [],
   "source": [
    "from tkinter import *\n",
    "\n",
    "def keyEvent(event):\n",
    "    if event.keysym == \"Escape\":\n",
    "        tk.destroy()\n",
    "\n",
    "tk = Tk()\n",
    "# -------------------------------------\n",
    "tk.geometry(\"200x150\")\n",
    "Label(tk, text=\"A\", relief=\"raised\").pack(anchor=S, side=RIGHT)\n",
    "Label(tk, text=\"B\", relief=\"raised\").pack(anchor=S, side=RIGHT)\n",
    "# -------------------------------------\n",
    "tk.bind_all(\"<KeyPress>\", keyEvent)\n",
    "tk.lift()\n",
    "tk.focus_force()\n",
    "tk.after(5000, tk.destroy)\n",
    "tk.mainloop()"
   ]
  },
  {
   "cell_type": "code",
   "execution_count": 54,
   "metadata": {},
   "outputs": [
    {
     "data": {
      "text/html": [
       "<img src=\"res/tk_layout5.png\">\n"
      ],
      "text/plain": [
       "<IPython.core.display.HTML object>"
      ]
     },
     "metadata": {},
     "output_type": "display_data"
    }
   ],
   "source": [
    "%%html\n",
    "<img src=\"res/tk_layout5.png\">"
   ]
  },
  {
   "cell_type": "code",
   "execution_count": 59,
   "metadata": {},
   "outputs": [],
   "source": [
    "from tkinter import *\n",
    "\n",
    "def keyEvent(event):\n",
    "    if event.keysym == \"Escape\":\n",
    "        tk.destroy()\n",
    "\n",
    "tk = Tk()\n",
    "# -------------------------------------\n",
    "tk.geometry(\"200x150\")\n",
    "Label(tk, text=\"1\", relief=\"raised\").pack(fill=BOTH, expand=True)\n",
    "# -------------------------------------\n",
    "tk.bind_all(\"<KeyPress>\", keyEvent)\n",
    "tk.lift()\n",
    "tk.focus_force()\n",
    "tk.after(5000, tk.destroy)\n",
    "tk.mainloop()"
   ]
  },
  {
   "cell_type": "code",
   "execution_count": 60,
   "metadata": {},
   "outputs": [
    {
     "data": {
      "text/html": [
       "<img src=\"res/tk_layout6.png\">\n"
      ],
      "text/plain": [
       "<IPython.core.display.HTML object>"
      ]
     },
     "metadata": {},
     "output_type": "display_data"
    }
   ],
   "source": [
    "%%html\n",
    "<img src=\"res/tk_layout6.png\">"
   ]
  },
  {
   "cell_type": "code",
   "execution_count": 16,
   "metadata": {},
   "outputs": [
    {
     "name": "stdout",
     "output_type": "stream",
     "text": [
      "-------- tk pack_slaves() ----------\n",
      "[<tkinter.Label object .!label>, <tkinter.Label object .!label2>, <tkinter.Label object .!label3>]\n",
      "\n",
      "-------- label info() ----------\n",
      "{'in': <tkinter.Tk object .>, 'anchor': 'center', 'expand': 0, 'fill': 'none', 'ipadx': 0, 'ipady': 0, 'padx': 0, 'pady': 0, 'side': 'top'}\n",
      "\n",
      "-------- label size() ----------\n",
      "(0, 0)\n"
     ]
    }
   ],
   "source": [
    "from tkinter import *\n",
    "\n",
    "def keyEvent(event):\n",
    "    if event.keysym == \"Escape\":\n",
    "        tk.destroy()\n",
    "\n",
    "tk = Tk()\n",
    "# -------------------------------------\n",
    "def f1():\n",
    "    label1.forget()  # remove the widget from GUI\n",
    "    \n",
    "def f2():\n",
    "    label1.pack()\n",
    "\n",
    "Label(tk, text=\"1\").pack()\n",
    "Label(tk, text=\"2\").pack()\n",
    "Label(tk, text=\"a\").pack()\n",
    "Label(tk, text=\"b\")\n",
    "\n",
    "print(\"-------- tk pack_slaves() ----------\")\n",
    "print(tk.pack_slaves())  # get all widgets\n",
    "label1 = tk.pack_slaves()[0]\n",
    "label2 = tk.pack_slaves()[1]\n",
    "label3 = tk.pack_slaves()[2]\n",
    "label1.config(bg=\"red\")\n",
    "label1.config(width=10, height=3)\n",
    "\n",
    "\n",
    "print()\n",
    "print(\"-------- label info() ----------\")\n",
    "print(label1.info())  # show its state\n",
    "\n",
    "print()\n",
    "print(\"-------- label size() ----------\")\n",
    "print(label1.size())\n",
    "\n",
    "tk.after(1000, f1)\n",
    "tk.after(2000, f2)\n",
    "# -------------------------------------\n",
    "tk.bind_all(\"<KeyPress>\", keyEvent)\n",
    "tk.lift()\n",
    "tk.focus_force()\n",
    "tk.after(5000, tk.destroy)\n",
    "tk.mainloop()"
   ]
  },
  {
   "cell_type": "markdown",
   "metadata": {},
   "source": [
    "### grid"
   ]
  },
  {
   "cell_type": "code",
   "execution_count": 19,
   "metadata": {},
   "outputs": [],
   "source": [
    "from tkinter import *\n",
    "\n",
    "def keyEvent(event):\n",
    "    if event.keysym == \"Escape\":\n",
    "        tk.destroy()\n",
    "\n",
    "tk = Tk()\n",
    "# -------------------------------------\n",
    "for i in range(5):\n",
    "    for j in range(3):\n",
    "        Label(tk, text=\"%d,%d\" % (i, j), width=10, relief=\"raised\").grid(row=i, column=j) # row, column\n",
    "# -------------------------------------\n",
    "tk.bind_all(\"<KeyPress>\", keyEvent)\n",
    "tk.lift()\n",
    "tk.focus_force()\n",
    "tk.after(5000, tk.destroy)\n",
    "tk.mainloop()"
   ]
  },
  {
   "cell_type": "code",
   "execution_count": 20,
   "metadata": {},
   "outputs": [
    {
     "data": {
      "text/html": [
       "<img src=\"res/tk_layout7.png\">\n"
      ],
      "text/plain": [
       "<IPython.core.display.HTML object>"
      ]
     },
     "metadata": {},
     "output_type": "display_data"
    }
   ],
   "source": [
    "%%html\n",
    "<img src=\"res/tk_layout7.png\">"
   ]
  },
  {
   "cell_type": "code",
   "execution_count": 2,
   "metadata": {},
   "outputs": [],
   "source": [
    "from tkinter import *\n",
    "\n",
    "def keyEvent(event):\n",
    "    if event.keysym == \"Escape\":\n",
    "        tk.destroy()\n",
    "\n",
    "tk = Tk()\n",
    "# -------------------------------------\n",
    "for i in range(5):\n",
    "    for j in range(3):\n",
    "        Label(tk, text=\"%d,%d\" % (i, j), width=10, relief=\"raised\").grid(row=i, column=j, padx=5, pady=5) # padx, pady\n",
    "# -------------------------------------\n",
    "tk.bind_all(\"<KeyPress>\", keyEvent)\n",
    "tk.lift()\n",
    "tk.focus_force()\n",
    "tk.after(5000, tk.destroy)\n",
    "tk.mainloop()"
   ]
  },
  {
   "cell_type": "code",
   "execution_count": 31,
   "metadata": {},
   "outputs": [
    {
     "data": {
      "text/html": [
       "<img src=\"res/tk_layout10.png\">\n"
      ],
      "text/plain": [
       "<IPython.core.display.HTML object>"
      ]
     },
     "metadata": {},
     "output_type": "display_data"
    }
   ],
   "source": [
    "%%html\n",
    "<img src=\"res/tk_layout10.png\">"
   ]
  },
  {
   "cell_type": "code",
   "execution_count": 3,
   "metadata": {},
   "outputs": [],
   "source": [
    "from tkinter import *\n",
    "\n",
    "def keyEvent(event):\n",
    "    if event.keysym == \"Escape\":\n",
    "        tk.destroy()\n",
    "\n",
    "tk = Tk()\n",
    "# -------------------------------------\n",
    "Label(tk, text=\"1\", relief=\"raised\", width=20).grid(row=0, column=0)\n",
    "Label(tk, text=\"2\", relief=\"raised\", width=20).grid(row=0, column=1)\n",
    "Label(tk, text=\"3\", relief=\"raised\", width=20).grid(row=1, column=0, columnspan=2)  # columnspan\n",
    "# -------------------------------------\n",
    "tk.bind_all(\"<KeyPress>\", keyEvent)\n",
    "tk.lift()\n",
    "tk.focus_force()\n",
    "tk.after(5000, tk.destroy)\n",
    "tk.mainloop()"
   ]
  },
  {
   "cell_type": "code",
   "execution_count": 24,
   "metadata": {},
   "outputs": [
    {
     "data": {
      "text/html": [
       "<img src=\"res/tk_layout8.png\">\n"
      ],
      "text/plain": [
       "<IPython.core.display.HTML object>"
      ]
     },
     "metadata": {},
     "output_type": "display_data"
    }
   ],
   "source": [
    "%%html\n",
    "<img src=\"res/tk_layout8.png\">"
   ]
  },
  {
   "cell_type": "code",
   "execution_count": 35,
   "metadata": {},
   "outputs": [],
   "source": [
    "from tkinter import *\n",
    "\n",
    "def keyEvent(event):\n",
    "    if event.keysym == \"Escape\":\n",
    "        tk.destroy()\n",
    "\n",
    "tk = Tk()\n",
    "# -------------------------------------\n",
    "Label(tk, text=\"1\", relief=\"raised\", width=20).grid(row=0, column=0)\n",
    "Label(tk, text=\"2\", relief=\"raised\", width=20).grid(row=0, column=1, rowspan=2)\n",
    "Label(tk, text=\"3\", relief=\"raised\", width=20).grid(row=1, column=0)\n",
    "# -------------------------------------\n",
    "tk.bind_all(\"<KeyPress>\", keyEvent)\n",
    "tk.lift()\n",
    "tk.focus_force()\n",
    "tk.after(5000, tk.destroy)\n",
    "tk.mainloop()"
   ]
  },
  {
   "cell_type": "code",
   "execution_count": 28,
   "metadata": {},
   "outputs": [
    {
     "data": {
      "text/html": [
       "<img src=\"res/tk_layout9.png\">\n"
      ],
      "text/plain": [
       "<IPython.core.display.HTML object>"
      ]
     },
     "metadata": {},
     "output_type": "display_data"
    }
   ],
   "source": [
    "%%html\n",
    "<img src=\"res/tk_layout9.png\">"
   ]
  },
  {
   "cell_type": "code",
   "execution_count": 1,
   "metadata": {},
   "outputs": [],
   "source": [
    "from tkinter import *\n",
    "\n",
    "def keyEvent(event):\n",
    "    if event.keysym == \"Escape\":\n",
    "        tk.destroy()\n",
    "\n",
    "tk = Tk()\n",
    "# -------------------------------------\n",
    "Label(tk, text=\"1\", relief=\"raised\").grid(row=0, column=0)\n",
    "Label(tk, text=\"hello world\", relief=\"raised\").grid(row=1, column=0)\n",
    "Label(tk, text=\"E\", relief=\"raised\").grid(row=2, column=0, sticky=E)  # sticky=E\n",
    "Label(tk, text=\"W\", relief=\"raised\").grid(row=3, column=0, sticky=W)  # sticky=W\n",
    "Label(tk, text=\"E+W\", relief=\"raised\").grid(row=4, column=0, sticky=E+W)  # sticky=E+W\n",
    "\n",
    "Label(tk, text=\"2\", relief=\"raised\").grid(row=0, column=1)\n",
    "Label(tk, text=\"hi man, I'm here!!!\", relief=\"raised\").grid(row=1, column=1)\n",
    "Label(tk, text=\"S+N+W+E\", relief=\"raised\").grid(row=2, column=1, rowspan=2, stick=S+N+W+E)\n",
    "# -------------------------------------\n",
    "\n",
    "tk.bind_all(\"<KeyPress>\", keyEvent)\n",
    "tk.lift()\n",
    "tk.focus_force()\n",
    "tk.after(5000, tk.destroy)\n",
    "tk.mainloop()"
   ]
  },
  {
   "cell_type": "code",
   "execution_count": 57,
   "metadata": {},
   "outputs": [
    {
     "data": {
      "text/html": [
       "<img src=\"res/tk_layout11.png\">\n"
      ],
      "text/plain": [
       "<IPython.core.display.HTML object>"
      ]
     },
     "metadata": {},
     "output_type": "display_data"
    }
   ],
   "source": [
    "%%html\n",
    "<img src=\"res/tk_layout11.png\">"
   ]
  },
  {
   "cell_type": "code",
   "execution_count": 4,
   "metadata": {},
   "outputs": [],
   "source": [
    "from tkinter import *\n",
    "\n",
    "def keyEvent(event):\n",
    "    if event.keysym == \"Escape\":\n",
    "        tk.destroy()\n",
    "\n",
    "tk = Tk()\n",
    "# -------------------------------------\n",
    "tk.columnconfigure(0, weight=1)  # tk.columnconfigure\n",
    "tk.rowconfigure(0, weight=1)  # tk.rowconfigure\n",
    "Label(tk, text=\"1\", relief=\"raised\").grid(row=0, column=0)\n",
    "Label(tk, text=\"2\", relief=\"raised\").grid(row=0, column=1)\n",
    "# -------------------------------------\n",
    "tk.bind_all(\"<KeyPress>\", keyEvent)\n",
    "tk.lift()\n",
    "tk.focus_force()\n",
    "tk.after(10000, tk.destroy)\n",
    "tk.mainloop()"
   ]
  },
  {
   "cell_type": "code",
   "execution_count": 6,
   "metadata": {},
   "outputs": [
    {
     "data": {
      "text/html": [
       "<img src=\"res/tk_layout12.png\">\n"
      ],
      "text/plain": [
       "<IPython.core.display.HTML object>"
      ]
     },
     "metadata": {},
     "output_type": "display_data"
    }
   ],
   "source": [
    "%%html\n",
    "<img src=\"res/tk_layout12.png\">"
   ]
  },
  {
   "cell_type": "markdown",
   "metadata": {},
   "source": [
    "### place"
   ]
  },
  {
   "cell_type": "code",
   "execution_count": 19,
   "metadata": {},
   "outputs": [],
   "source": [
    "from tkinter import *\n",
    "\n",
    "def keyEvent(event):\n",
    "    if event.keysym == \"Escape\":\n",
    "        tk.destroy()\n",
    "\n",
    "tk = Tk()\n",
    "# -------------------------------------\n",
    "Label(tk, text=\"1\", relief=\"raised\").place(x=0, y=0)\n",
    "Label(tk, text=\"2\", relief=\"raised\").place(x=0, y=50, width=30, height=30)\n",
    "Label(tk, text=\"3\", relief=\"raised\").place(x=50, y=100, width=50, height=50)\n",
    "# -------------------------------------\n",
    "tk.bind_all(\"<KeyPress>\", keyEvent)\n",
    "tk.lift()\n",
    "tk.focus_force()\n",
    "tk.after(10000, tk.destroy)\n",
    "tk.mainloop()"
   ]
  },
  {
   "cell_type": "code",
   "execution_count": 18,
   "metadata": {},
   "outputs": [
    {
     "data": {
      "text/html": [
       "<img src=\"res/tk_layout13.png\">\n"
      ],
      "text/plain": [
       "<IPython.core.display.HTML object>"
      ]
     },
     "metadata": {},
     "output_type": "display_data"
    }
   ],
   "source": [
    "%%html\n",
    "<img src=\"res/tk_layout13.png\">"
   ]
  },
  {
   "cell_type": "code",
   "execution_count": 1,
   "metadata": {},
   "outputs": [],
   "source": [
    "from tkinter import *\n",
    "from PIL import Image, ImageTk\n",
    "\n",
    "def keyEvent(event):\n",
    "    if event.keysym == \"Escape\":\n",
    "        tk.destroy()\n",
    "\n",
    "tk = Tk()\n",
    "tk.geometry(\"800x600+0+0\")\n",
    "# -------------------------------------\n",
    "img = Image.open(\"res/mario.png\")\n",
    "img = img.resize((150, 200), Image.ANTIALIAS)\n",
    "img = ImageTk.PhotoImage(img)\n",
    "\n",
    "Label(tk, image=img).place(x=0, y=0)\n",
    "Label(tk, image=img).place(x=0, y=200, width=50, heigh=50)\n",
    "Label(tk, image=img).place(relx=0.1, rely=0.1, relwidth=0.8, relheight=0.8)\n",
    "# -------------------------------------\n",
    "tk.bind_all(\"<KeyPress>\", keyEvent)\n",
    "tk.lift()\n",
    "tk.focus_force()\n",
    "tk.after(10000, tk.destroy)\n",
    "tk.mainloop()"
   ]
  },
  {
   "cell_type": "code",
   "execution_count": 15,
   "metadata": {},
   "outputs": [
    {
     "data": {
      "text/html": [
       "<img src=\"res/tk_layout14.png\">\n"
      ],
      "text/plain": [
       "<IPython.core.display.HTML object>"
      ]
     },
     "metadata": {},
     "output_type": "display_data"
    }
   ],
   "source": [
    "%%html\n",
    "<img src=\"res/tk_layout14.png\">"
   ]
  },
  {
   "cell_type": "code",
   "execution_count": null,
   "metadata": {},
   "outputs": [],
   "source": []
  }
 ],
 "metadata": {
  "kernelspec": {
   "display_name": "Python 3",
   "language": "python",
   "name": "python3"
  },
  "language_info": {
   "codemirror_mode": {
    "name": "ipython",
    "version": 3
   },
   "file_extension": ".py",
   "mimetype": "text/x-python",
   "name": "python",
   "nbconvert_exporter": "python",
   "pygments_lexer": "ipython3",
   "version": "3.7.1"
  }
 },
 "nbformat": 4,
 "nbformat_minor": 2
}
