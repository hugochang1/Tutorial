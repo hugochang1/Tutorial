{
 "cells": [
  {
   "cell_type": "markdown",
   "metadata": {},
   "source": [
    "### Treeview"
   ]
  },
  {
   "cell_type": "code",
   "execution_count": 103,
   "metadata": {},
   "outputs": [],
   "source": [
    "from tkinter import *\n",
    "from tkinter.ttk import *\n",
    "\n",
    "def keyEvent(event):\n",
    "    if event.keysym == \"Escape\":\n",
    "        tk.destroy()\n",
    "\n",
    "tk = Tk()\n",
    "# -------------------------------------\n",
    "tree = Treeview(tk, columns=(\"a\", \"b\"), height=5)  # a, b are id\n",
    "tree.heading(\"#0\", text=\"A\")\n",
    "tree.heading(\"#1\", text=\"B\")\n",
    "tree.heading(\"#2\", text=\"C\")\n",
    "tree.insert(\"\", index=END, text=\"A1\", values=(\"1\", \"2\"))\n",
    "tree.insert(\"\", index=END, text=\"B1\", values=(\"11\", \"22\"))\n",
    "tree.insert(\"\", index=END, text=\"C1\", values=(\"GG\", \"MM中文字\"))\n",
    "tree.pack()\n",
    "# -------------------------------------\n",
    "tk.bind_all(\"<KeyPress>\", keyEvent)\n",
    "tk.lift()\n",
    "tk.focus_force()\n",
    "tk.after(20000, tk.destroy)\n",
    "tk.mainloop()"
   ]
  },
  {
   "cell_type": "code",
   "execution_count": 21,
   "metadata": {},
   "outputs": [
    {
     "data": {
      "text/html": [
       "<img src=\"res/tk_tree1.png\">\n"
      ],
      "text/plain": [
       "<IPython.core.display.HTML object>"
      ]
     },
     "metadata": {},
     "output_type": "display_data"
    }
   ],
   "source": [
    "%%html\n",
    "<img src=\"res/tk_tree1.png\">"
   ]
  },
  {
   "cell_type": "code",
   "execution_count": 52,
   "metadata": {},
   "outputs": [
    {
     "name": "stdout",
     "output_type": "stream",
     "text": [
      "{'width': 100, 'minwidth': 20, 'stretch': 1, 'anchor': 'center', 'id': 'a'}\n",
      "{'width': 100, 'minwidth': 20, 'stretch': 1, 'anchor': 'center', 'id': 'a'}\n"
     ]
    }
   ],
   "source": [
    "from tkinter import *\n",
    "from tkinter.ttk import *\n",
    "\n",
    "def keyEvent(event):\n",
    "    if event.keysym == \"Escape\":\n",
    "        tk.destroy()\n",
    "\n",
    "tk = Tk()\n",
    "# -------------------------------------\n",
    "tree = Treeview(tk, columns=(\"a\", \"b\"), height=5)\n",
    "tree.heading(\"#0\", text=\"A\")\n",
    "tree.heading(\"#1\", text=\"B\")\n",
    "tree.heading(\"#2\", text=\"C\")\n",
    "tree.insert(\"\", index=END, text=\"A1\", values=(\"1\", \"2\"))\n",
    "tree.insert(\"\", index=END, text=\"B1\", values=(\"11\", \"22\"))\n",
    "tree.insert(\"\", index=END, text=\"C1\", values=(\"GG\", \"MM中文字\"))\n",
    "tree.pack()\n",
    "\n",
    "tree.column(\"#1\", anchor=CENTER, width=100)  # column\n",
    "tree.column(\"#2\", anchor=E, width=100)  # column\n",
    "\n",
    "# get\n",
    "a = tree.column(\"a\")\n",
    "print(a)\n",
    "a = tree.column(\"#1\")\n",
    "print(a)\n",
    "# -------------------------------------\n",
    "tk.bind_all(\"<KeyPress>\", keyEvent)\n",
    "tk.lift()\n",
    "tk.focus_force()\n",
    "tk.after(20000, tk.destroy)\n",
    "tk.mainloop()"
   ]
  },
  {
   "cell_type": "code",
   "execution_count": 29,
   "metadata": {},
   "outputs": [
    {
     "data": {
      "text/html": [
       "<img src=\"res/tk_tree2.png\">\n"
      ],
      "text/plain": [
       "<IPython.core.display.HTML object>"
      ]
     },
     "metadata": {},
     "output_type": "display_data"
    }
   ],
   "source": [
    "%%html\n",
    "<img src=\"res/tk_tree2.png\">"
   ]
  },
  {
   "cell_type": "code",
   "execution_count": 50,
   "metadata": {},
   "outputs": [],
   "source": [
    "from tkinter import *\n",
    "from tkinter.ttk import *\n",
    "\n",
    "def keyEvent(event):\n",
    "    if event.keysym == \"Escape\":\n",
    "        tk.destroy()\n",
    "\n",
    "tk = Tk()\n",
    "# -------------------------------------\n",
    "tree = Treeview(tk, columns=(\"a\", \"b\"), height=5)\n",
    "tree.heading(\"#0\", text=\"A\")\n",
    "tree.heading(\"#1\", text=\"B\")\n",
    "tree.heading(\"#2\", text=\"C\")\n",
    "\n",
    "tree.tag_configure(\"tag1\", background=\"#ffff00\", font=(\"\", 15))  # tag_configure\n",
    "tree.tag_configure(\"tag2\", background=\"#ff00ff\", font=(\"\", 8))   # tag_configure\n",
    "\n",
    "tree.insert(\"\", index=END, text=\"A1\", values=(\"1\", \"2\"))\n",
    "tree.insert(\"\", index=END, text=\"B1\", values=(\"11\", \"22\"), tag=(\"tag1\"))      # tag\n",
    "tree.insert(\"\", index=END, text=\"C1\", values=(\"GG\", \"MM中文字\"), tag=(\"tag2\")) # tag\n",
    "tree.insert(\"\", index=END, text=\"D1\", values=(\"AAAA\", \"BBBBB\"))\n",
    "tree.pack()\n",
    "# -------------------------------------\n",
    "tk.bind_all(\"<KeyPress>\", keyEvent)\n",
    "tk.lift()\n",
    "tk.focus_force()\n",
    "tk.after(20000, tk.destroy)\n",
    "tk.mainloop()"
   ]
  },
  {
   "cell_type": "code",
   "execution_count": 51,
   "metadata": {},
   "outputs": [
    {
     "data": {
      "text/html": [
       "<img src=\"res/tk_tree3.png\">\n"
      ],
      "text/plain": [
       "<IPython.core.display.HTML object>"
      ]
     },
     "metadata": {},
     "output_type": "display_data"
    }
   ],
   "source": [
    "%%html\n",
    "<img src=\"res/tk_tree3.png\">"
   ]
  },
  {
   "cell_type": "code",
   "execution_count": 88,
   "metadata": {},
   "outputs": [],
   "source": [
    "from tkinter import *\n",
    "from tkinter.ttk import *\n",
    "\n",
    "def keyEvent(event):\n",
    "    if event.keysym == \"Escape\":\n",
    "        tk.destroy()\n",
    "\n",
    "tk = Tk()\n",
    "# -------------------------------------\n",
    "tree = Treeview(tk, columns=(\"a\", \"b\"), height=7)\n",
    "tree.heading(\"#0\", text=\"A\")\n",
    "tree.heading(\"#1\", text=\"B\")\n",
    "tree.heading(\"#2\", text=\"C\")\n",
    "\n",
    "id1 = tree.insert(\"\", index=END, text=\"id1\", values=(\"yes\", \"no\"))\n",
    "tree.insert(id1, index=END, text=\"a1\", values=(\"1\", \"2\"))\n",
    "tree.insert(id1, index=END, text=\"a2\", values=(\"11\", \"22\"))\n",
    "\n",
    "id2 = tree.insert(\"\", index=END, text=\"id2\")\n",
    "tree.insert(id2, index=END, text=\"b1\", values=(\"a\", \"b\"))\n",
    "id3 = tree.insert(id2, index=END, text=\"b2\", values=(\"c\", \"dd\"))\n",
    "tree.insert(id3, index=END, text=\"g1\")\n",
    "tree.insert(id3, index=END, text=\"g2\")\n",
    "\n",
    "tree.pack()\n",
    "# -------------------------------------\n",
    "tk.bind_all(\"<KeyPress>\", keyEvent)\n",
    "tk.lift()\n",
    "tk.focus_force()\n",
    "tk.after(20000, tk.destroy)\n",
    "tk.mainloop()"
   ]
  },
  {
   "cell_type": "code",
   "execution_count": 64,
   "metadata": {},
   "outputs": [
    {
     "data": {
      "text/html": [
       "<img src=\"res/tk_tree4.png\">\n"
      ],
      "text/plain": [
       "<IPython.core.display.HTML object>"
      ]
     },
     "metadata": {},
     "output_type": "display_data"
    }
   ],
   "source": [
    "%%html\n",
    "<img src=\"res/tk_tree4.png\">"
   ]
  },
  {
   "cell_type": "code",
   "execution_count": 65,
   "metadata": {},
   "outputs": [],
   "source": [
    "from tkinter import *\n",
    "from tkinter.ttk import *\n",
    "\n",
    "def keyEvent(event):\n",
    "    if event.keysym == \"Escape\":\n",
    "        tk.destroy()\n",
    "\n",
    "tk = Tk()\n",
    "# -------------------------------------\n",
    "Style().configure(\"Treeview\", rowheight=35)  # rowheight\n",
    "\n",
    "tree = Treeview(tk, columns=(\"a\", \"b\"), height=7)\n",
    "tree.heading(\"#0\", text=\"A\")\n",
    "tree.heading(\"#1\", text=\"B\")\n",
    "tree.heading(\"#2\", text=\"C\")\n",
    "\n",
    "id1 = tree.insert(\"\", index=END, text=\"id1\", values=(\"yes\", \"no\"))\n",
    "tree.insert(id1, index=END, text=\"a1\", values=(\"1\", \"2\"))\n",
    "tree.insert(id1, index=END, text=\"a2\", values=(\"11\", \"22\"))\n",
    "\n",
    "id2 = tree.insert(\"\", index=END, text=\"id2\")\n",
    "tree.insert(id2, index=END, text=\"b1\", values=(\"a\", \"b\"))\n",
    "tree.insert(id2, index=END, text=\"b2\", values=(\"c\", \"dd\"))\n",
    "\n",
    "tree.pack()\n",
    "# -------------------------------------\n",
    "tk.bind_all(\"<KeyPress>\", keyEvent)\n",
    "tk.lift()\n",
    "tk.focus_force()\n",
    "tk.after(20000, tk.destroy)\n",
    "tk.mainloop()"
   ]
  },
  {
   "cell_type": "code",
   "execution_count": 66,
   "metadata": {},
   "outputs": [
    {
     "data": {
      "text/html": [
       "<img src=\"res/tk_tree5.png\">\n"
      ],
      "text/plain": [
       "<IPython.core.display.HTML object>"
      ]
     },
     "metadata": {},
     "output_type": "display_data"
    }
   ],
   "source": [
    "%%html\n",
    "<img src=\"res/tk_tree5.png\">"
   ]
  },
  {
   "cell_type": "code",
   "execution_count": 72,
   "metadata": {},
   "outputs": [],
   "source": [
    "from tkinter import *\n",
    "from tkinter.ttk import *\n",
    "from PIL import Image, ImageTk\n",
    "\n",
    "def keyEvent(event):\n",
    "    if event.keysym == \"Escape\":\n",
    "        tk.destroy()\n",
    "\n",
    "tk = Tk()\n",
    "# -------------------------------------\n",
    "Style().configure(\"Treeview\", rowheight=35)  # rowheight\n",
    "\n",
    "tree = Treeview(tk, columns=(\"a\", \"b\"), height=7)\n",
    "tree.heading(\"#0\", text=\"A\")\n",
    "tree.heading(\"#1\", text=\"B\")\n",
    "tree.heading(\"#2\", text=\"C\")\n",
    "\n",
    "img = Image.open(\"res/mario.png\")\n",
    "img = img.resize((30, 35), Image.ANTIALIAS)\n",
    "img = ImageTk.PhotoImage(img)\n",
    "\n",
    "tree.insert(\"\", index=END, text=\"A1\", values=(\"1\", \"2\"), image=img)\n",
    "tree.insert(\"\", index=END, text=\"B1\", values=(\"11\", \"22\"), tag=(\"tag1\"))      # tag\n",
    "tree.insert(\"\", index=END, text=\"C1\", values=(\"GG\", \"MM中文字\"), tag=(\"tag2\")) # tag\n",
    "tree.insert(\"\", index=END, text=\"D1\", values=(\"AAAA\", \"BBBBB\"))\n",
    "\n",
    "tree.pack()\n",
    "# -------------------------------------\n",
    "tk.bind_all(\"<KeyPress>\", keyEvent)\n",
    "tk.lift()\n",
    "tk.focus_force()\n",
    "tk.after(20000, tk.destroy)\n",
    "tk.mainloop()"
   ]
  },
  {
   "cell_type": "code",
   "execution_count": 73,
   "metadata": {},
   "outputs": [
    {
     "data": {
      "text/html": [
       "<img src=\"res/tk_tree6.png\">\n"
      ],
      "text/plain": [
       "<IPython.core.display.HTML object>"
      ]
     },
     "metadata": {},
     "output_type": "display_data"
    }
   ],
   "source": [
    "%%html\n",
    "<img src=\"res/tk_tree6.png\">"
   ]
  },
  {
   "cell_type": "markdown",
   "metadata": {},
   "source": [
    "### bind event"
   ]
  },
  {
   "cell_type": "code",
   "execution_count": 47,
   "metadata": {},
   "outputs": [
    {
     "name": "stdout",
     "output_type": "stream",
     "text": [
      "('I002',)\n",
      "{'text': 'B1', 'image': '', 'values': [11, 22], 'open': 0, 'tags': ''}\n",
      "B1\n",
      "('11', '22')\n",
      "\n",
      "('I002',)\n",
      "{'text': 'B1', 'image': '', 'values': [11, 22], 'open': 0, 'tags': ''}\n",
      "B1\n",
      "('11', '22')\n",
      "\n",
      "('I002',)\n",
      "{'text': 'B1', 'image': '', 'values': [11, 22], 'open': 0, 'tags': ''}\n",
      "B1\n",
      "('11', '22')\n",
      "\n",
      "selectDouble <ButtonPress event state=Mod1 num=1 x=412 y=58>\n"
     ]
    }
   ],
   "source": [
    "from tkinter import *\n",
    "from tkinter.ttk import *\n",
    "\n",
    "def keyEvent(event):\n",
    "    if event.keysym == \"Escape\":\n",
    "        tk.destroy()\n",
    "\n",
    "tk = Tk()\n",
    "# -------------------------------------\n",
    "def select(event):\n",
    "    selection = tree.selection()\n",
    "    print(selection)\n",
    "    for s in selection:\n",
    "        print(tree.item(s))\n",
    "        print(tree.item(s, \"text\"))\n",
    "        print(tree.item(s, \"values\"))\n",
    "    print()\n",
    "\n",
    "def selectDouble(event):\n",
    "    print(\"selectDouble\", event)\n",
    "    \n",
    "tree = Treeview(tk, columns=(\"a\", \"b\"), height=5)  # a, b are id\n",
    "tree.heading(\"#0\", text=\"A\")\n",
    "tree.heading(\"#1\", text=\"B\")\n",
    "tree.heading(\"#2\", text=\"C\")\n",
    "tree.insert(\"\", index=END, text=\"A1\", values=(\"1\", \"2\"))\n",
    "tree.insert(\"\", index=END, text=\"B1\", values=(\"11\", \"22\"))\n",
    "tree.insert(\"\", index=END, text=\"C1\", values=(\"GG\", \"MM中文字\"))\n",
    "tree.pack()\n",
    "\n",
    "tree.bind(\"<<TreeviewSelect>>\", select) # listen selected event\n",
    "tree.bind(\"<Double-1>\", selectDouble)  # listen double click event\n",
    "# -------------------------------------\n",
    "tk.bind_all(\"<KeyPress>\", keyEvent)\n",
    "tk.lift()\n",
    "tk.focus_force()\n",
    "tk.after(20000, tk.destroy)\n",
    "tk.mainloop()"
   ]
  },
  {
   "cell_type": "markdown",
   "metadata": {},
   "source": [
    "### selectmode"
   ]
  },
  {
   "cell_type": "code",
   "execution_count": 16,
   "metadata": {},
   "outputs": [],
   "source": [
    "from tkinter import *\n",
    "from tkinter.ttk import *\n",
    "\n",
    "def keyEvent(event):\n",
    "    if event.keysym == \"Escape\":\n",
    "        tk.destroy()\n",
    "\n",
    "tk = Tk()\n",
    "# -------------------------------------\n",
    "Label(tk, text=\"EXTENDED, use ctrl or alt can select multiple items\",).pack()\n",
    "tree = Treeview(tk, columns=(\"a\"), height=5, selectmode=EXTENDED)  # selectmode=EXTENDED\n",
    "tree.heading(\"#0\", text=\"A\")\n",
    "tree.heading(\"#1\", text=\"B\")\n",
    "tree.insert(\"\", index=END, text=\"A1\", values=(\"1\"))\n",
    "tree.insert(\"\", index=END, text=\"A1\", values=(\"1\"))\n",
    "tree.insert(\"\", index=END, text=\"A1\", values=(\"1\"))\n",
    "tree.pack()\n",
    "\n",
    "Label(tk, text=\"BROWSE, can only select one item\").pack()\n",
    "tree2 = Treeview(tk, columns=(\"a\"), height=5, selectmode=BROWSE)  # selectmode=BROWSE\n",
    "tree2.heading(\"#0\", text=\"A\")\n",
    "tree2.heading(\"#1\", text=\"B\")\n",
    "tree2.insert(\"\", index=END, text=\"A1\", values=(\"1\"))\n",
    "tree2.insert(\"\", index=END, text=\"A1\", values=(\"1\"))\n",
    "tree2.insert(\"\", index=END, text=\"A1\", values=(\"1\"))\n",
    "tree2.pack()\n",
    "\n",
    "\n",
    "Label(tk, text=\"None, cannot select anything\").pack()\n",
    "tree3 = Treeview(tk, columns=(\"a\"), height=5, selectmode=NONE)  # selectmode=NONE\n",
    "tree3.heading(\"#0\", text=\"A\")\n",
    "tree3.heading(\"#1\", text=\"B\")\n",
    "tree3.insert(\"\", index=END, text=\"A1\", values=(\"1\"))\n",
    "tree3.insert(\"\", index=END, text=\"A1\", values=(\"1\"))\n",
    "tree3.insert(\"\", index=END, text=\"A1\", values=(\"1\"))\n",
    "tree3.pack()\n",
    "# -------------------------------------\n",
    "tk.bind_all(\"<KeyPress>\", keyEvent)\n",
    "tk.lift()\n",
    "tk.focus_force()\n",
    "tk.after(20000, tk.destroy)\n",
    "tk.mainloop()"
   ]
  },
  {
   "cell_type": "code",
   "execution_count": 9,
   "metadata": {},
   "outputs": [
    {
     "data": {
      "text/html": [
       "<img src=\"res/tk_tree7.png\">\n"
      ],
      "text/plain": [
       "<IPython.core.display.HTML object>"
      ]
     },
     "metadata": {},
     "output_type": "display_data"
    }
   ],
   "source": [
    "%%html\n",
    "<img src=\"res/tk_tree7.png\">"
   ]
  },
  {
   "cell_type": "markdown",
   "metadata": {},
   "source": [
    "### delete"
   ]
  },
  {
   "cell_type": "code",
   "execution_count": 85,
   "metadata": {},
   "outputs": [
    {
     "name": "stdout",
     "output_type": "stream",
     "text": [
      "{'text': 'A1', 'image': '', 'values': [1], 'open': 0, 'tags': ''}\n",
      "{'text': 'A2', 'image': '', 'values': [1], 'open': 0, 'tags': ''}\n",
      "{'text': 'A3', 'image': '', 'values': [1], 'open': 0, 'tags': ''}\n",
      "I001\n",
      "{'a': '1'}\n",
      "1\n",
      "1\n",
      "\n",
      "I002\n",
      "{'a': '1'}\n",
      "1\n",
      "1\n",
      "\n",
      "I003\n",
      "{'a': '1'}\n",
      "1\n",
      "1\n",
      "\n",
      "Item I001 not found\n",
      "I004\n",
      "I002\n",
      "I005\n"
     ]
    }
   ],
   "source": [
    "from tkinter import *\n",
    "from tkinter.ttk import *\n",
    "\n",
    "def keyEvent(event):\n",
    "    if event.keysym == \"Escape\":\n",
    "        tk.destroy()\n",
    "\n",
    "tk = Tk()\n",
    "# -------------------------------------\n",
    "tree = Treeview(tk, columns=(\"a\"), height=5, selectmode=EXTENDED)\n",
    "tree.heading(\"#0\", text=\"A\")\n",
    "tree.heading(\"#1\", text=\"B\")\n",
    "tree.insert(\"\", index=END, text=\"A1\", values=(\"1\"))\n",
    "tree.insert(\"\", index=END, text=\"A2\", values=(\"1\"))\n",
    "tree.insert(\"\", index=END, text=\"A3\", values=(\"1\"))\n",
    "tree.pack()\n",
    "\n",
    "# get\n",
    "print(tree.item(\"I001\"))\n",
    "print(tree.item(\"I002\"))\n",
    "print(tree.item(\"I003\"))\n",
    "\n",
    "# traversal all\n",
    "for index in tree.get_children():\n",
    "    print(index)\n",
    "    print(tree.set(index))\n",
    "    print(tree.set(index, \"#1\"))\n",
    "    print(tree.set(index, \"a\"))\n",
    "    print()\n",
    "\n",
    "# remove\n",
    "tree.delete(\"I001\")  # delete A1\n",
    "tree.delete(\"I003\")  # delete A2\n",
    "\n",
    "try:\n",
    "    print(tree.item(\"I001\"))\n",
    "except Exception as e:\n",
    "    print(e)\n",
    "\n",
    "# insert again\n",
    "tree.insert(\"\", index=0, text=\"B1\", values=(\"1\"))   # insert to I004\n",
    "tree.insert(\"\", index=END, text=\"B2\", values=(\"1\")) # insert to I005\n",
    "\n",
    "# traversal all\n",
    "for index in tree.get_children():\n",
    "    print(index)\n",
    "# -------------------------------------\n",
    "tk.bind_all(\"<KeyPress>\", keyEvent)\n",
    "tk.lift()\n",
    "tk.focus_force()\n",
    "tk.after(20000, tk.destroy)\n",
    "tk.mainloop()"
   ]
  },
  {
   "cell_type": "code",
   "execution_count": 27,
   "metadata": {},
   "outputs": [
    {
     "data": {
      "text/html": [
       "<img src=\"res/tk_tree8.png\">\n"
      ],
      "text/plain": [
       "<IPython.core.display.HTML object>"
      ]
     },
     "metadata": {},
     "output_type": "display_data"
    }
   ],
   "source": [
    "%%html\n",
    "<img src=\"res/tk_tree8.png\">"
   ]
  },
  {
   "cell_type": "markdown",
   "metadata": {},
   "source": [
    "### scroll"
   ]
  },
  {
   "cell_type": "code",
   "execution_count": 128,
   "metadata": {},
   "outputs": [],
   "source": [
    "from tkinter import *\n",
    "from tkinter.ttk import *\n",
    "\n",
    "def keyEvent(event):\n",
    "    if event.keysym == \"Escape\":\n",
    "        tk.destroy()\n",
    "\n",
    "tk = Tk()\n",
    "# -------------------------------------\n",
    "frame = Frame(tk)\n",
    "frame.pack(fill=BOTH, expand=True)\n",
    "frame.grid_rowconfigure(0, weight=1)\n",
    "frame.grid_columnconfigure(0, weight=1)\n",
    "\n",
    "tree = Treeview(frame, columns=(\"a\"), height=5, selectmode=EXTENDED)\n",
    "tree.grid(row=0, column=0, sticky=\"nsew\")\n",
    "yscroll = Scrollbar(frame, orient=VERTICAL, command=tree.yview)\n",
    "yscroll.grid(row=0, column=1, sticky=\"ns\")\n",
    "tree.config(yscrollcommand=yscroll.set)\n",
    "\n",
    "tree.heading(\"#0\", text=\"A\")\n",
    "tree.heading(\"#1\", text=\"B\")\n",
    "\n",
    "for i in range(100):\n",
    "    tree.insert(\"\", index=END, text=\"A%s\" % (i), value=(i))\n",
    "# -------------------------------------\n",
    "tk.bind_all(\"<KeyPress>\", keyEvent)\n",
    "tk.lift()\n",
    "tk.focus_force()\n",
    "tk.after(20000, tk.destroy)\n",
    "tk.mainloop()"
   ]
  },
  {
   "cell_type": "code",
   "execution_count": 125,
   "metadata": {},
   "outputs": [],
   "source": [
    "from tkinter import *\n",
    "from tkinter.ttk import *\n",
    "\n",
    "def keyEvent(event):\n",
    "    if event.keysym == \"Escape\":\n",
    "        tk.destroy()\n",
    "\n",
    "tk = Tk()\n",
    "# -------------------------------------\n",
    "yscroll = Scrollbar(tk)  \n",
    "yscroll.pack(side=RIGHT, fill=Y)\n",
    "\n",
    "tree = Treeview(tk, columns=(\"a\"), height=5, selectmode=EXTENDED)\n",
    "\n",
    "tree.config(yscrollcommand=yscroll.set)\n",
    "yscroll.config(command=tree.yview)\n",
    "\n",
    "tree.heading(\"#0\", text=\"A\")\n",
    "tree.heading(\"#1\", text=\"B\")\n",
    "\n",
    "for i in range(100):\n",
    "    tree.insert(\"\", index=END, text=\"A%s\" % (i), value=(i))\n",
    "\n",
    "tree.pack()\n",
    "# -------------------------------------\n",
    "tk.bind_all(\"<KeyPress>\", keyEvent)\n",
    "tk.lift()\n",
    "tk.focus_force()\n",
    "tk.after(20000, tk.destroy)\n",
    "tk.mainloop()"
   ]
  },
  {
   "cell_type": "code",
   "execution_count": 60,
   "metadata": {},
   "outputs": [
    {
     "data": {
      "text/html": [
       "<img src=\"res/tk_tree9.png\">\n"
      ],
      "text/plain": [
       "<IPython.core.display.HTML object>"
      ]
     },
     "metadata": {},
     "output_type": "display_data"
    }
   ],
   "source": [
    "%%html\n",
    "<img src=\"res/tk_tree9.png\">"
   ]
  },
  {
   "cell_type": "markdown",
   "metadata": {},
   "source": [
    "### sort"
   ]
  },
  {
   "cell_type": "code",
   "execution_count": 101,
   "metadata": {},
   "outputs": [
    {
     "name": "stdout",
     "output_type": "stream",
     "text": [
      "head1click\n",
      "[('3', 'I001'), ('1', 'I002'), ('2', 'I003'), ('99', 'I004'), ('-1', 'I005')]\n",
      "head1click\n",
      "[('-1', 'I005'), ('1', 'I002'), ('2', 'I003'), ('3', 'I001'), ('99', 'I004')]\n"
     ]
    }
   ],
   "source": [
    "from tkinter import *\n",
    "from tkinter.ttk import *\n",
    "\n",
    "def keyEvent(event):\n",
    "    if event.keysym == \"Escape\":\n",
    "        tk.destroy()\n",
    "\n",
    "tk = Tk()\n",
    "# -------------------------------------\n",
    "reverseFlag = False\n",
    "\n",
    "def head0click():\n",
    "    print(\"head0click\")\n",
    "\n",
    "def head1click():\n",
    "    global reverseFlag\n",
    "    print(\"head1click\")\n",
    "    l = [(tree.set(index, \"#1\"), index)\n",
    "        for index in tree.get_children()]\n",
    "    print(l)\n",
    "    l.sort(reverse=reverseFlag)\n",
    "    tree.heading(\"#1\", text=\"B (sorted reverse=%s)\" % (reverseFlag))\n",
    "    for index, item in enumerate(l):\n",
    "        tree.move(item[1], \"\", index)\n",
    "    reverseFlag = not reverseFlag\n",
    "\n",
    "tree = Treeview(tk, columns=(\"a\"), height=5, selectmode=EXTENDED)\n",
    "tree.heading(\"#0\", text=\"A\", command=head0click)  # command=head0click\n",
    "tree.heading(\"#1\", text=\"B\", command=head1click)  # command=head1click\n",
    "tree.insert(\"\", index=END, text=\"A3\", values=(\"3\"))\n",
    "tree.insert(\"\", index=END, text=\"A1\", values=(\"1\"))\n",
    "tree.insert(\"\", index=END, text=\"A2\", values=(\"2\"))\n",
    "tree.insert(\"\", index=END, text=\"A99\", values=(\"99\"))\n",
    "tree.insert(\"\", index=END, text=\"A-1\", values=(\"-1\"))\n",
    "tree.pack()\n",
    "# -------------------------------------\n",
    "tk.bind_all(\"<KeyPress>\", keyEvent)\n",
    "tk.lift()\n",
    "tk.focus_force()\n",
    "tk.after(20000, tk.destroy)\n",
    "tk.mainloop()"
   ]
  },
  {
   "cell_type": "code",
   "execution_count": 102,
   "metadata": {},
   "outputs": [
    {
     "data": {
      "text/html": [
       "<img src=\"res/tk_tree10.png\">\n"
      ],
      "text/plain": [
       "<IPython.core.display.HTML object>"
      ]
     },
     "metadata": {},
     "output_type": "display_data"
    }
   ],
   "source": [
    "%%html\n",
    "<img src=\"res/tk_tree10.png\">"
   ]
  },
  {
   "cell_type": "markdown",
   "metadata": {},
   "source": [
    "### a simple project"
   ]
  },
  {
   "cell_type": "code",
   "execution_count": 191,
   "metadata": {},
   "outputs": [],
   "source": [
    "from tkinter import *\n",
    "from tkinter.ttk import *\n",
    "\n",
    "\n",
    "def key_event(event):\n",
    "    if event.keysym == \"Escape\":\n",
    "        tk.destroy()\n",
    "\n",
    "\n",
    "tk = Tk()\n",
    "# -------------------------------------\n",
    "tk.geometry(\"800x600+0+0\")\n",
    "tk.rowconfigure(1, weight=1)\n",
    "tk.columnconfigure(1, weight=1)\n",
    "\n",
    "\n",
    "# toolbar\n",
    "def collapse():\n",
    "    value = collapseBtn.cget(\"text\")\n",
    "    if value == \"Expand\":\n",
    "        collapseBtn.config(text=\"Collpse\")\n",
    "        for iid in tree.get_children():\n",
    "            tree.item(iid, open=True)\n",
    "    else:\n",
    "        collapseBtn.config(text=\"Expand\")\n",
    "        for iid in tree.get_children():\n",
    "            tree.item(iid, open=False)\n",
    "\n",
    "\n",
    "frameToolbar = Frame(tk)\n",
    "frameToolbar.grid(row=0, column=0, columnspan=2, sticky=\"ew\")\n",
    "collapseBtn = Button(frameToolbar, text=\"Expand\", width=10, command=collapse)\n",
    "collapseBtn.pack(side=LEFT)\n",
    "\n",
    "# scrolled Treeview\n",
    "frameTree = Frame(tk)\n",
    "frameTree.grid(row=1, column=0, sticky=\"ns\")\n",
    "frameTree.grid_rowconfigure(0, weight=1)\n",
    "frameTree.grid_columnconfigure(0, weight=1)\n",
    "\n",
    "tree = Treeview(frameTree, height=5, selectmode=BROWSE)\n",
    "tree.grid(row=0, column=0, sticky=\"nsew\")\n",
    "yscrollTree = Scrollbar(frameTree, orient=VERTICAL, command=tree.yview)\n",
    "yscrollTree.grid(row=0, column=1, sticky=\"ns\")\n",
    "tree.config(yscrollcommand=yscrollTree.set)\n",
    "\n",
    "tree.column(\"#0\", width=200)\n",
    "\n",
    "\n",
    "# add the content to the Treeview\n",
    "tree.heading(\"#0\", text=\"Index\")\n",
    "\n",
    "topic = tree.insert(\"\", index=END, text=\"Topic\")\n",
    "tree.insert(topic, index=END, text=\"Preface\")\n",
    "tree.insert(topic, index=END, text=\"Before starting\")\n",
    "\n",
    "chp1 = tree.insert(\"\", index=END, text=\"Chapter 1\")\n",
    "tree.insert(chp1, index=END, text=\"Hello World\")\n",
    "tree.insert(chp1, index=END, text=\"Hello World advanced\")\n",
    "\n",
    "chp2 = tree.insert(\"\", index=END, text=\"Chapter 2\")\n",
    "tree.insert(chp2, index=END, text=\"Variable\")\n",
    "tree.insert(chp2, index=END, text=\"If Else\")\n",
    "tree.insert(chp2, index=END, text=\"Loop\")\n",
    "\n",
    "chp3 = tree.insert(\"\", index=END, text=\"Chapter 3\")\n",
    "tree.insert(chp3, index=END, text=\"Class\")\n",
    "tree.insert(chp3, index=END, text=\"Import\")\n",
    "tree.insert(chp3, index=END, text=\"Tkinter\")\n",
    "\n",
    "\n",
    "# scrolled Text\n",
    "frameText = Frame(tk)\n",
    "frameText.grid(row=1, column=1, sticky=\"nsew\")\n",
    "frameText.grid_rowconfigure(0, weight=1)\n",
    "frameText.grid_columnconfigure(0, weight=1)\n",
    "\n",
    "text = Text(frameText, width=40, height=1, wrap=\"none\", borderwidth=0)\n",
    "\n",
    "xscrollText = Scrollbar(frameText, orient=HORIZONTAL, command=text.xview)\n",
    "yscrollText = Scrollbar(frameText, orient=VERTICAL, command=text.yview)\n",
    "text[\"xscrollcommand\"] = xscrollText.set\n",
    "text[\"yscrollcommand\"] = yscrollText.set\n",
    "\n",
    "text.grid(row=0, column=0, sticky=\"nsew\")\n",
    "xscrollText.grid(row=1, column=0, sticky=\"nsew\")\n",
    "yscrollText.grid(row=0, column=1, sticky=\"nsew\")\n",
    "\n",
    "text[\"state\"] = \"disabled\"\n",
    "\n",
    "\n",
    "# Tree event\n",
    "def tree_select(event):\n",
    "    text[\"state\"] = \"normal\"\n",
    "    text.delete(\"1.0\", END)\n",
    "    s = tree.selection()\n",
    "    selected_text = tree.item(s[0], \"text\")\n",
    "    if selected_text == \"Topic\":\n",
    "        text.insert(END, \"Topic\")\n",
    "    elif selected_text == \"Preface\":\n",
    "        text.insert(END, \"Preface\")\n",
    "    elif selected_text == \"Before starting\":\n",
    "        text.insert(END, \"Before starting\")\n",
    "    elif selected_text == \"Chapter 1\":\n",
    "        text.insert(END, \"Chapter 1\")\n",
    "    elif selected_text == \"Hello World\":\n",
    "        text.insert(END, \"Hello World\")\n",
    "    elif selected_text == \"Hello World advanced\":\n",
    "        text.insert(END, \"Hello World advanced\")\n",
    "    elif selected_text == \"Chapter 2\":\n",
    "        text.insert(END, \"Chapter 2\")\n",
    "    elif selected_text == \"Variable\":\n",
    "        text.insert(END, \"Variable\")\n",
    "    elif selected_text == \"If Else\":\n",
    "        text.insert(END, \"If Else\")\n",
    "    elif selected_text == \"Loop\":\n",
    "        text.insert(END, \"Loop\")\n",
    "    elif selected_text == \"Chapter 3\":\n",
    "        text.insert(END, \"Chapter 3\")\n",
    "    elif selected_text == \"Class\":\n",
    "        text.insert(END, \"Class\")\n",
    "    elif selected_text == \"Import\":\n",
    "        text.insert(END, \"Import\")\n",
    "    elif selected_text == \"Tkinter\":\n",
    "        text.insert(END, \"Tkinter\")\n",
    "    text[\"state\"] = \"disabled\"\n",
    "\n",
    "\n",
    "tree.bind(\"<<TreeviewSelect>>\", tree_select)\n",
    "# -------------------------------------\n",
    "tk.bind_all(\"<KeyPress>\", key_event)\n",
    "tk.lift()\n",
    "tk.focus_force()\n",
    "# tk.after(20000, tk.destroy)\n",
    "tk.mainloop()\n"
   ]
  },
  {
   "cell_type": "code",
   "execution_count": 190,
   "metadata": {},
   "outputs": [
    {
     "data": {
      "text/html": [
       "<img src=\"res/tk_tree11.png\">\n"
      ],
      "text/plain": [
       "<IPython.core.display.HTML object>"
      ]
     },
     "metadata": {},
     "output_type": "display_data"
    }
   ],
   "source": [
    "%%html\n",
    "<img src=\"res/tk_tree11.png\">"
   ]
  },
  {
   "cell_type": "code",
   "execution_count": null,
   "metadata": {},
   "outputs": [],
   "source": []
  }
 ],
 "metadata": {
  "kernelspec": {
   "display_name": "Python 3",
   "language": "python",
   "name": "python3"
  },
  "language_info": {
   "codemirror_mode": {
    "name": "ipython",
    "version": 3
   },
   "file_extension": ".py",
   "mimetype": "text/x-python",
   "name": "python",
   "nbconvert_exporter": "python",
   "pygments_lexer": "ipython3",
   "version": "3.7.1"
  }
 },
 "nbformat": 4,
 "nbformat_minor": 2
}
