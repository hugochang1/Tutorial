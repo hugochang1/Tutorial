{
 "cells": [
  {
   "cell_type": "code",
   "execution_count": 100,
   "metadata": {},
   "outputs": [],
   "source": [
    "from tkinter import *\n",
    "\n",
    "def keyEvent(event):\n",
    "    if event.keysym == \"Escape\":\n",
    "        tk.destroy()\n",
    "\n",
    "tk = Tk()\n",
    "# -------------------------------------\n",
    "t = Text(tk, width=30, height=5)\n",
    "t.pack()\n",
    "\n",
    "t.insert(END, \"Hello World\")\n",
    "# -------------------------------------\n",
    "tk.bind_all(\"<KeyPress>\", keyEvent)\n",
    "tk.lift()\n",
    "tk.focus_force()\n",
    "tk.after(20000, tk.destroy)\n",
    "tk.mainloop()"
   ]
  },
  {
   "cell_type": "code",
   "execution_count": 99,
   "metadata": {},
   "outputs": [
    {
     "data": {
      "text/html": [
       "<img src=\"res/tk_text1.png\">\n"
      ],
      "text/plain": [
       "<IPython.core.display.HTML object>"
      ]
     },
     "metadata": {},
     "output_type": "display_data"
    }
   ],
   "source": [
    "%%html\n",
    "<img src=\"res/tk_text1.png\">"
   ]
  },
  {
   "cell_type": "markdown",
   "metadata": {},
   "source": [
    "### Scroll"
   ]
  },
  {
   "cell_type": "code",
   "execution_count": 11,
   "metadata": {},
   "outputs": [
    {
     "name": "stdout",
     "output_type": "stream",
     "text": [
      "['command', 'orient', 'takefocus', 'cursor', 'style', 'class']\n"
     ]
    }
   ],
   "source": [
    "from tkinter import *\n",
    "from tkinter.ttk import *\n",
    "\n",
    "def keyEvent(event):\n",
    "    if event.keysym == \"Escape\":\n",
    "        tk.destroy()\n",
    "\n",
    "tk = Tk()\n",
    "# -------------------------------------\n",
    "frameText = Frame(tk)\n",
    "frameText.pack(fill=BOTH, expand=True)\n",
    "frameText.grid_rowconfigure(0, weight=1)\n",
    "frameText.grid_columnconfigure(0, weight=1)\n",
    "\n",
    "text = Text(frameText, width=40, height=5, wrap=\"none\", borderwidth=0, undo=True)\n",
    "xscrollText = Scrollbar(frameText, orient=HORIZONTAL, command=text.xview)\n",
    "yscrollText = Scrollbar(frameText, orient=VERTICAL, command=text.yview)\n",
    "text[\"xscrollcommand\"] = xscrollText.set\n",
    "text[\"yscrollcommand\"] = yscrollText.set\n",
    "text.focus()\n",
    "\n",
    "text.grid(row=0, column=0, sticky=\"nsew\")\n",
    "xscrollText.grid(row=1, column=0, sticky=\"ew\")\n",
    "yscrollText.grid(row=0, column=1, sticky=\"ns\")\n",
    "# -------------------------------------\n",
    "tk.bind_all(\"<KeyPress>\", keyEvent)\n",
    "tk.lift()\n",
    "tk.focus_force()\n",
    "tk.after(20000, tk.destroy)\n",
    "tk.mainloop()"
   ]
  },
  {
   "cell_type": "code",
   "execution_count": 14,
   "metadata": {},
   "outputs": [
    {
     "data": {
      "text/html": [
       "<img src=\"res/tk_text2.png\">\n"
      ],
      "text/plain": [
       "<IPython.core.display.HTML object>"
      ]
     },
     "metadata": {},
     "output_type": "display_data"
    }
   ],
   "source": [
    "%%html\n",
    "<img src=\"res/tk_text2.png\">"
   ]
  },
  {
   "cell_type": "code",
   "execution_count": 6,
   "metadata": {},
   "outputs": [],
   "source": [
    "from tkinter import *\n",
    "from tkinter.scrolledtext import ScrolledText\n",
    "\n",
    "def keyEvent(event):\n",
    "    if event.keysym == \"Escape\":\n",
    "        tk.destroy()\n",
    "\n",
    "tk = Tk()\n",
    "# -------------------------------------\n",
    "text = ScrolledText(tk, width=40, height=5, wrap=\"none\", undo=True)\n",
    "text.pack()\n",
    "# -------------------------------------\n",
    "tk.bind_all(\"<KeyPress>\", keyEvent)\n",
    "tk.lift()\n",
    "tk.focus_force()\n",
    "tk.after(20000, tk.destroy)\n",
    "tk.mainloop()"
   ]
  },
  {
   "cell_type": "code",
   "execution_count": 7,
   "metadata": {},
   "outputs": [
    {
     "data": {
      "text/html": [
       "<img src=\"res/tk_text14.png\">\n"
      ],
      "text/plain": [
       "<IPython.core.display.HTML object>"
      ]
     },
     "metadata": {},
     "output_type": "display_data"
    }
   ],
   "source": [
    "%%html\n",
    "<img src=\"res/tk_text14.png\">"
   ]
  },
  {
   "cell_type": "markdown",
   "metadata": {},
   "source": [
    "### font"
   ]
  },
  {
   "cell_type": "code",
   "execution_count": 56,
   "metadata": {},
   "outputs": [],
   "source": [
    "from tkinter import *\n",
    "from tkinter import font\n",
    "from tkinter.font import Font\n",
    "from tkinter.ttk import *\n",
    "\n",
    "def keyEvent(event):\n",
    "    if event.keysym == \"Escape\":\n",
    "        tk.destroy()\n",
    "\n",
    "tk = Tk()\n",
    "# -------------------------------------\n",
    "def updateFont(event):\n",
    "    f = Font(family=familyVar.get(), weight=weightVar.get(), size=sizeVar.get())\n",
    "    t.config(font=f)\n",
    "\n",
    "toolbar = Frame(tk, relief=RAISED, borderwidth=1)\n",
    "toolbar.pack(side=TOP, fill=X)\n",
    "\n",
    "fonts = list(font.families())\n",
    "fonts = fonts[60:90]\n",
    "fonts.insert(0, fonts[0])\n",
    "familyVar = StringVar()\n",
    "OptionMenu(toolbar, familyVar, *fonts, command=updateFont).pack(side=LEFT)\n",
    "\n",
    "weights = (\"normal\", \"normal\", \"bold\")\n",
    "weightVar = StringVar()\n",
    "OptionMenu(toolbar, weightVar, *weights, command=updateFont).pack(side=LEFT)\n",
    "\n",
    "sizes = [x for x in range(8,31)]\n",
    "sizes.insert(0, 15)\n",
    "sizeVar = IntVar()\n",
    "OptionMenu(toolbar, sizeVar, *sizes, command=updateFont).pack(side=LEFT)\n",
    "\n",
    "t = Text(tk, width=60, height=10)\n",
    "t.pack()\n",
    "t.insert(END, \"Hello World 中文字\")\n",
    "\n",
    "updateFont(None)\n",
    "# -------------------------------------\n",
    "tk.bind_all(\"<KeyPress>\", keyEvent)\n",
    "tk.lift()\n",
    "tk.focus_force()\n",
    "tk.after(20000, tk.destroy)\n",
    "tk.mainloop()"
   ]
  },
  {
   "cell_type": "code",
   "execution_count": 57,
   "metadata": {},
   "outputs": [
    {
     "data": {
      "text/html": [
       "<img src=\"res/tk_text3.png\">\n"
      ],
      "text/plain": [
       "<IPython.core.display.HTML object>"
      ]
     },
     "metadata": {},
     "output_type": "display_data"
    }
   ],
   "source": [
    "%%html\n",
    "<img src=\"res/tk_text3.png\">"
   ]
  },
  {
   "cell_type": "markdown",
   "metadata": {},
   "source": [
    "### get selected text"
   ]
  },
  {
   "cell_type": "code",
   "execution_count": 55,
   "metadata": {},
   "outputs": [
    {
     "name": "stdout",
     "output_type": "stream",
     "text": [
      "H\n",
      "Hello World\n",
      "1234567890\n",
      "abcdefgh\n",
      "\n"
     ]
    }
   ],
   "source": [
    "from tkinter import *\n",
    "from tkinter.ttk import *\n",
    "\n",
    "def keyEvent(event):\n",
    "    if event.keysym == \"Escape\":\n",
    "        tk.destroy()\n",
    "\n",
    "tk = Tk()\n",
    "# -------------------------------------\n",
    "def f1():\n",
    "    try:\n",
    "        selectedText = t.get(SEL_FIRST, SEL_LAST)  # get selected text\n",
    "        label.config(text=selectedText)\n",
    "    except:\n",
    "        label.config(text=\"\")\n",
    "    tk.after(100, f1)\n",
    "\n",
    "t = Text(tk, width=30, height=5)\n",
    "t.pack()\n",
    "t.insert(END, \"Hello World\\n1234567890\\nabcdefgh\")\n",
    "\n",
    "print(t.get(\"1.0\"))       # get a word\n",
    "print(t.get(\"1.0\", END))  # get all text\n",
    "\n",
    "label = Label(tk, text=\"\")\n",
    "label.pack()\n",
    "\n",
    "tk.after(100, f1)\n",
    "# -------------------------------------\n",
    "tk.bind_all(\"<KeyPress>\", keyEvent)\n",
    "tk.lift()\n",
    "tk.focus_force()\n",
    "tk.after(20000, tk.destroy)\n",
    "tk.mainloop()"
   ]
  },
  {
   "cell_type": "code",
   "execution_count": 63,
   "metadata": {},
   "outputs": [
    {
     "data": {
      "text/html": [
       "<img src=\"res/tk_text4.png\">\n"
      ],
      "text/plain": [
       "<IPython.core.display.HTML object>"
      ]
     },
     "metadata": {},
     "output_type": "display_data"
    }
   ],
   "source": [
    "%%html\n",
    "<img src=\"res/tk_text4.png\">"
   ]
  },
  {
   "cell_type": "markdown",
   "metadata": {},
   "source": [
    "### index for INSERT, CURRENT, END"
   ]
  },
  {
   "cell_type": "code",
   "execution_count": 93,
   "metadata": {},
   "outputs": [],
   "source": [
    "from tkinter import *\n",
    "from tkinter.ttk import *\n",
    "\n",
    "def keyEvent(event):\n",
    "    if event.keysym == \"Escape\":\n",
    "        tk.destroy()\n",
    "\n",
    "tk = Tk()\n",
    "# -------------------------------------\n",
    "def f1():\n",
    "    label.config(text=\"insert=%s current=%s end=%s\" % (\n",
    "        t.index(INSERT),\n",
    "        t.index(CURRENT), # mouse position\n",
    "        t.index(END),\n",
    "    ))\n",
    "    tk.after(100, f1)\n",
    "\n",
    "t = Text(tk, width=30, height=5)\n",
    "t.pack()\n",
    "t.insert(END, \"Hello World\\n1234567890\\nabcdefgh\")\n",
    "\n",
    "label = Label(tk, text=\"\")\n",
    "label.pack()\n",
    "\n",
    "tk.after(100, f1)\n",
    "# -------------------------------------\n",
    "tk.bind_all(\"<KeyPress>\", keyEvent)\n",
    "tk.lift()\n",
    "tk.focus_force()\n",
    "tk.after(20000, tk.destroy)\n",
    "tk.mainloop()"
   ]
  },
  {
   "cell_type": "code",
   "execution_count": 67,
   "metadata": {},
   "outputs": [
    {
     "data": {
      "text/html": [
       "<img src=\"res/tk_text5.png\">\n"
      ],
      "text/plain": [
       "<IPython.core.display.HTML object>"
      ]
     },
     "metadata": {},
     "output_type": "display_data"
    }
   ],
   "source": [
    "%%html\n",
    "<img src=\"res/tk_text5.png\">"
   ]
  },
  {
   "cell_type": "markdown",
   "metadata": {},
   "source": [
    "### Marks"
   ]
  },
  {
   "cell_type": "code",
   "execution_count": 77,
   "metadata": {},
   "outputs": [
    {
     "name": "stdout",
     "output_type": "stream",
     "text": [
      "3 hello\n",
      "4 hello\n",
      "5 hello\n",
      "\n"
     ]
    }
   ],
   "source": [
    "from tkinter import *\n",
    "from tkinter.ttk import *\n",
    "\n",
    "def keyEvent(event):\n",
    "    if event.keysym == \"Escape\":\n",
    "        tk.destroy()\n",
    "\n",
    "tk = Tk()\n",
    "# -------------------------------------\n",
    "t = Text(tk, width=30, height=10)\n",
    "t.pack()\n",
    "for i in range(1, 10):\n",
    "    t.insert(END, \"%s hello\\n\" % (i))\n",
    "    \n",
    "t.mark_set(\"m1\", \"3.0\")\n",
    "t.mark_set(\"m2\", \"6.0\")\n",
    "\n",
    "print(t.get(\"m1\", \"m2\"))\n",
    "\n",
    "# -------------------------------------\n",
    "tk.bind_all(\"<KeyPress>\", keyEvent)\n",
    "tk.lift()\n",
    "tk.focus_force()\n",
    "tk.after(20000, tk.destroy)\n",
    "tk.mainloop()"
   ]
  },
  {
   "cell_type": "code",
   "execution_count": 76,
   "metadata": {},
   "outputs": [
    {
     "data": {
      "text/html": [
       "<img src=\"res/tk_text6.png\">\n"
      ],
      "text/plain": [
       "<IPython.core.display.HTML object>"
      ]
     },
     "metadata": {},
     "output_type": "display_data"
    }
   ],
   "source": [
    "%%html\n",
    "<img src=\"res/tk_text6.png\">"
   ]
  },
  {
   "cell_type": "markdown",
   "metadata": {},
   "source": [
    "### Tags"
   ]
  },
  {
   "cell_type": "code",
   "execution_count": 43,
   "metadata": {},
   "outputs": [],
   "source": [
    "from tkinter import *\n",
    "from tkinter.ttk import *\n",
    "\n",
    "def keyEvent(event):\n",
    "    if event.keysym == \"Escape\":\n",
    "        tk.destroy()\n",
    "\n",
    "tk = Tk()\n",
    "# -------------------------------------\n",
    "t = Text(tk, width=30, height=10)\n",
    "t.pack()\n",
    "for i in range(1, 10):\n",
    "    t.insert(END, \"%s hello\\n\" % (i))\n",
    "    \n",
    "t.mark_set(\"m1\", \"3.0\")\n",
    "t.mark_set(\"m2\", \"6.0\")\n",
    "\n",
    "t.tag_add(\"t1\", \"m1\", \"m2\")\n",
    "t.tag_config(\"t1\", foreground=\"#00ff00\", background=\"#ffff00\", font=(\"\", 15))\n",
    "# -------------------------------------\n",
    "tk.bind_all(\"<KeyPress>\", keyEvent)\n",
    "tk.lift()\n",
    "tk.focus_force()\n",
    "tk.after(20000, tk.destroy)\n",
    "tk.mainloop()"
   ]
  },
  {
   "cell_type": "code",
   "execution_count": 89,
   "metadata": {},
   "outputs": [
    {
     "data": {
      "text/html": [
       "<img src=\"res/tk_text7.png\">\n"
      ],
      "text/plain": [
       "<IPython.core.display.HTML object>"
      ]
     },
     "metadata": {},
     "output_type": "display_data"
    }
   ],
   "source": [
    "%%html\n",
    "<img src=\"res/tk_text7.png\">"
   ]
  },
  {
   "cell_type": "markdown",
   "metadata": {},
   "source": [
    "### delete"
   ]
  },
  {
   "cell_type": "code",
   "execution_count": 13,
   "metadata": {},
   "outputs": [],
   "source": [
    "from tkinter import *\n",
    "from tkinter.ttk import *\n",
    "\n",
    "def keyEvent(event):\n",
    "    if event.keysym == \"Escape\":\n",
    "        tk.destroy()\n",
    "\n",
    "tk = Tk()\n",
    "# -------------------------------------\n",
    "def delete_first_line():\n",
    "    t.delete(\"1.0\", \"2.0\")  # delete first line\n",
    "\n",
    "def delete_all():\n",
    "    t.delete(\"1.0\", END)  # delete all\n",
    "\n",
    "t = Text(tk, width=30, height=10)\n",
    "t.pack()\n",
    "for i in range(1, 10):\n",
    "    t.insert(END, \"%s hello\\n\" % (i))\n",
    "    \n",
    "tk.after(1000, delete_first_line)\n",
    "tk.after(2000, delete_all)\n",
    "# -------------------------------------\n",
    "tk.bind_all(\"<KeyPress>\", keyEvent)\n",
    "tk.lift()\n",
    "tk.focus_force()\n",
    "tk.after(20000, tk.destroy)\n",
    "tk.mainloop()"
   ]
  },
  {
   "cell_type": "code",
   "execution_count": 14,
   "metadata": {},
   "outputs": [
    {
     "data": {
      "text/html": [
       "<img src=\"res/tk_text8.png\">\n"
      ],
      "text/plain": [
       "<IPython.core.display.HTML object>"
      ]
     },
     "metadata": {},
     "output_type": "display_data"
    }
   ],
   "source": [
    "%%html\n",
    "<img src=\"res/tk_text8.png\">"
   ]
  },
  {
   "cell_type": "markdown",
   "metadata": {},
   "source": [
    "### clipboard_clear() clipboard_append() clipboard_get()"
   ]
  },
  {
   "cell_type": "code",
   "execution_count": 15,
   "metadata": {},
   "outputs": [
    {
     "name": "stdout",
     "output_type": "stream",
     "text": [
      "hello world 中文字\n",
      "hello world 中文字9876543210\n"
     ]
    }
   ],
   "source": [
    "from tkinter import *\n",
    "from tkinter.ttk import *\n",
    "\n",
    "def keyEvent(event):\n",
    "    if event.keysym == \"Escape\":\n",
    "        tk.destroy()\n",
    "\n",
    "tk = Tk()\n",
    "# -------------------------------------\n",
    "t = Text(tk, width=30, height=10)\n",
    "t.pack()\n",
    "for i in range(1, 10):\n",
    "    t.insert(END, \"%s hello\\n\" % (i))\n",
    "\n",
    "t.clipboard_clear()\n",
    "t.clipboard_append(\"hello world 中文字\")\n",
    "print(t.clipboard_get())\n",
    "t.clipboard_append(9876543210)\n",
    "print(t.clipboard_get())\n",
    "t.insert(END, t.clipboard_get())\n",
    "# -------------------------------------\n",
    "tk.bind_all(\"<KeyPress>\", keyEvent)\n",
    "tk.lift()\n",
    "tk.focus_force()\n",
    "tk.after(20000, tk.destroy)\n",
    "tk.mainloop()"
   ]
  },
  {
   "cell_type": "code",
   "execution_count": 16,
   "metadata": {},
   "outputs": [
    {
     "data": {
      "text/html": [
       "<img src=\"res/tk_text9.png\">\n"
      ],
      "text/plain": [
       "<IPython.core.display.HTML object>"
      ]
     },
     "metadata": {},
     "output_type": "display_data"
    }
   ],
   "source": [
    "%%html\n",
    "<img src=\"res/tk_text9.png\">"
   ]
  },
  {
   "cell_type": "markdown",
   "metadata": {},
   "source": [
    "### event_generate for cut, copy, paste"
   ]
  },
  {
   "cell_type": "code",
   "execution_count": 23,
   "metadata": {},
   "outputs": [],
   "source": [
    "from tkinter import *\n",
    "from tkinter.ttk import *\n",
    "\n",
    "def keyEvent(event):\n",
    "    if event.keysym == \"Escape\":\n",
    "        tk.destroy()\n",
    "\n",
    "tk = Tk()\n",
    "# -------------------------------------\n",
    "t = Text(tk, width=30, height=10)\n",
    "t.pack()\n",
    "for i in range(1, 10):\n",
    "    t.insert(END, \"%s hello\\n\" % (i))\n",
    "\n",
    "pop = Menu(tk, tearoff=False)\n",
    "pop.add_command(label=\"Cut\", command=lambda:t.event_generate(\"<<Cut>>\"))      # t.event_generate\n",
    "pop.add_command(label=\"Copy\", command=lambda:t.event_generate(\"<<Copy>>\"))    # t.event_generate\n",
    "pop.add_command(label=\"Paste\", command=lambda:t.event_generate(\"<<Paste>>\"))  # t.event_generate\n",
    "tk.bind(\"<Button-3>\", lambda event:pop.post(event.x_root, event.y_root))\n",
    "# -------------------------------------\n",
    "tk.bind_all(\"<KeyPress>\", keyEvent)\n",
    "tk.lift()\n",
    "tk.focus_force()\n",
    "tk.after(20000, tk.destroy)\n",
    "tk.mainloop()"
   ]
  },
  {
   "cell_type": "code",
   "execution_count": 22,
   "metadata": {},
   "outputs": [
    {
     "data": {
      "text/html": [
       "<img src=\"res/tk_text10.png\">\n"
      ],
      "text/plain": [
       "<IPython.core.display.HTML object>"
      ]
     },
     "metadata": {},
     "output_type": "display_data"
    }
   ],
   "source": [
    "%%html\n",
    "<img src=\"res/tk_text10.png\">"
   ]
  },
  {
   "cell_type": "markdown",
   "metadata": {},
   "source": [
    "### Undo"
   ]
  },
  {
   "cell_type": "code",
   "execution_count": 34,
   "metadata": {},
   "outputs": [
    {
     "name": "stdout",
     "output_type": "stream",
     "text": [
      "nothing to undo\n",
      "nothing to redo\n"
     ]
    }
   ],
   "source": [
    "from tkinter import *\n",
    "\n",
    "def keyEvent(event):\n",
    "    if event.keysym == \"Escape\":\n",
    "        tk.destroy()\n",
    "\n",
    "tk = Tk()\n",
    "# -------------------------------------\n",
    "def undo():\n",
    "    try:\n",
    "        t.edit_undo()  # undo\n",
    "    except:\n",
    "        print(\"nothing to undo\")\n",
    "\n",
    "def redo():\n",
    "    try:\n",
    "        t.edit_redo()  # redo\n",
    "    except:\n",
    "        print(\"nothing to redo\")\n",
    "\n",
    "def reset():\n",
    "    t.edit_reset()  # reset edit\n",
    "\n",
    "t = Text(tk, width=30, height=10, undo=True)  # undo=True\n",
    "t.pack()\n",
    "for i in range(1, 10):\n",
    "    t.insert(END, \"%s hello\\n\" % (i))\n",
    "\n",
    "tk.after(1000, undo)\n",
    "tk.after(2000, redo)\n",
    "tk.after(3000, reset)\n",
    "tk.after(3500, undo)\n",
    "tk.after(4000, redo)\n",
    "# -------------------------------------\n",
    "tk.bind_all(\"<KeyPress>\", keyEvent)\n",
    "tk.lift()\n",
    "tk.focus_force()\n",
    "tk.after(20000, tk.destroy)\n",
    "tk.mainloop()"
   ]
  },
  {
   "cell_type": "markdown",
   "metadata": {},
   "source": [
    "### search"
   ]
  },
  {
   "cell_type": "code",
   "execution_count": 84,
   "metadata": {},
   "outputs": [
    {
     "name": "stdout",
     "output_type": "stream",
     "text": [
      "1.2\n",
      "\n",
      "1.2+5c\n",
      "2.2+5c\n",
      "3.2+5c\n",
      "4.2+5c\n",
      "5.2+5c\n",
      "6.2+5c\n",
      "7.2+5c\n",
      "8.2+5c\n",
      "9.2+5c\n"
     ]
    }
   ],
   "source": [
    "from tkinter import *\n",
    "from tkinter.ttk import *\n",
    "\n",
    "def keyEvent(event):\n",
    "    if event.keysym == \"Escape\":\n",
    "        tk.destroy()\n",
    "\n",
    "tk = Tk()\n",
    "# -------------------------------------\n",
    "t = Text(tk, width=30, height=10)\n",
    "t.pack()\n",
    "for i in range(1, 10):\n",
    "    t.insert(END, \"%s hello\\n\" % (i))\n",
    "\n",
    "# search(key, startIndex, endIndex)\n",
    "pos = t.search(\"hello\", \"1.0\", END)\n",
    "print(pos)\n",
    "print()\n",
    "\n",
    "# search all\n",
    "t.tag_remove(\"search\", \"1.0\", END)\n",
    "t.tag_config(\"search\", background=\"yellow\")\n",
    "\n",
    "start = \"1.0\"\n",
    "key = \"hello\"\n",
    "while True:\n",
    "    pos = t.search(key, start, END)\n",
    "    if pos == \"\":\n",
    "        break\n",
    "    t.tag_add(\"search\", pos, \"%s+%dc\" % (pos, len(key)))\n",
    "    start = \"%s+%dc\" % (pos, len(key))\n",
    "    print(start)\n",
    "# -------------------------------------\n",
    "tk.bind_all(\"<KeyPress>\", keyEvent)\n",
    "tk.lift()\n",
    "tk.focus_force()\n",
    "tk.after(20000, tk.destroy)\n",
    "tk.mainloop()"
   ]
  },
  {
   "cell_type": "code",
   "execution_count": 45,
   "metadata": {},
   "outputs": [
    {
     "data": {
      "text/html": [
       "<img src=\"res/tk_text11.png\">\n"
      ],
      "text/plain": [
       "<IPython.core.display.HTML object>"
      ]
     },
     "metadata": {},
     "output_type": "display_data"
    }
   ],
   "source": [
    "%%html\n",
    "<img src=\"res/tk_text11.png\">"
   ]
  },
  {
   "cell_type": "markdown",
   "metadata": {},
   "source": [
    "### picture"
   ]
  },
  {
   "cell_type": "code",
   "execution_count": 3,
   "metadata": {},
   "outputs": [],
   "source": [
    "from tkinter import *\n",
    "from tkinter.ttk import *\n",
    "from PIL import Image, ImageTk\n",
    "\n",
    "def keyEvent(event):\n",
    "    if event.keysym == \"Escape\":\n",
    "        tk.destroy()\n",
    "\n",
    "tk = Tk()\n",
    "# -------------------------------------\n",
    "t = Text(tk, width=30, height=10)\n",
    "t.pack()\n",
    "\n",
    "t.insert(END, \"hello\")\n",
    "\n",
    "img = Image.open(\"res/mario.png\")\n",
    "img = img.resize((50, 70), Image.ANTIALIAS)\n",
    "img = ImageTk.PhotoImage(img)\n",
    "t.image_create(END, image=img)  # image_create\n",
    "\n",
    "t.insert(END, \"world\\n\")\n",
    "t.insert(END, \"second line\")\n",
    "\n",
    "# -------------------------------------\n",
    "tk.bind_all(\"<KeyPress>\", keyEvent)\n",
    "tk.lift()\n",
    "tk.focus_force()\n",
    "tk.after(20000, tk.destroy)\n",
    "tk.mainloop()"
   ]
  },
  {
   "cell_type": "code",
   "execution_count": 4,
   "metadata": {},
   "outputs": [
    {
     "data": {
      "text/html": [
       "<img src=\"res/tk_text13.png\">\n"
      ],
      "text/plain": [
       "<IPython.core.display.HTML object>"
      ]
     },
     "metadata": {},
     "output_type": "display_data"
    }
   ],
   "source": [
    "%%html\n",
    "<img src=\"res/tk_text13.png\">"
   ]
  },
  {
   "cell_type": "markdown",
   "metadata": {},
   "source": [
    "### Notepad"
   ]
  },
  {
   "cell_type": "code",
   "execution_count": 3,
   "metadata": {},
   "outputs": [],
   "source": [
    "from tkinter import *\n",
    "from tkinter import font\n",
    "from tkinter.font import Font\n",
    "from tkinter.ttk import *\n",
    "from tkinter import messagebox\n",
    "from tkinter.filedialog import asksaveasfilename\n",
    "from tkinter.filedialog import askopenfilename\n",
    "\n",
    "def keyEvent(event):\n",
    "    if event.keysym == \"Escape\":\n",
    "        tk.destroy()\n",
    "\n",
    "tk = Tk()\n",
    "tk.title(\"Notepad\")\n",
    "tk.geometry(\"800x600+0+0\")\n",
    "tk.iconbitmap(\"res/mario.ico\")\n",
    "# -------------------------------------\n",
    "# add menu\n",
    "aboutMsg = \"\"\"This program is developed to demo tkinter's text capability\n",
    "\"\"\"\n",
    "\n",
    "filename = \"\"\n",
    "\n",
    "def saveAs():\n",
    "    global filename\n",
    "    filename = asksaveasfilename()\n",
    "    if filename != \"\":\n",
    "        with open(filename, \"w\") as f:\n",
    "            f.write(text.get(\"1.0\", END))\n",
    "            tk.title(filename)\n",
    "\n",
    "def saveFile():\n",
    "    global filename\n",
    "    if filename != \"\":\n",
    "        with open(filename, \"w\") as f:\n",
    "            f.write(text.get(\"1.0\", END))\n",
    "    else:\n",
    "        saveAs()\n",
    "    \n",
    "\n",
    "def openFile():\n",
    "    global filename\n",
    "    filename = askopenfilename()\n",
    "    if filename != \"\":\n",
    "        with open(filename, \"r\") as f:\n",
    "            text.delete(\"1.0\", END)\n",
    "            text.insert(END, f.read())\n",
    "            tk.title(filename)\n",
    "\n",
    "menubar = Menu(tk)\n",
    "tk.config(menu=menubar)\n",
    "filemenu = Menu(menubar, tearoff=False)\n",
    "menubar.add_cascade(label=\"File\", menu=filemenu, underline=0)\n",
    "filemenu.add_command(label=\"Open\", command=openFile, underline=0)\n",
    "filemenu.add_command(label=\"Save\", command=saveFile, underline=0)\n",
    "filemenu.add_command(label=\"Save As\", command=saveAs, underline=5)\n",
    "filemenu.add_separator()\n",
    "filemenu.add_command(label=\"Exit\", command=tk.destroy, underline=0)\n",
    "menubar.add_command(label=\"About\", underline=0, command=lambda:messagebox.showinfo(\"About\", aboutMsg))\n",
    "# -------------------------------------\n",
    "# add scroll text\n",
    "frame = Frame(tk)\n",
    "frame.pack(side=BOTTOM, fill=BOTH, expand=True)\n",
    "frame.grid_rowconfigure(0, weight=1)\n",
    "frame.grid_columnconfigure(0, weight=1)\n",
    "\n",
    "text = Text(frame, width=40, height=1, wrap=\"none\", borderwidth=0)\n",
    "xscroll = Scrollbar(frame, orient=HORIZONTAL, command=text.xview)\n",
    "yscroll = Scrollbar(frame, orient=VERTICAL, command=text.yview)\n",
    "text[\"xscrollcommand\"] = xscroll.set\n",
    "text[\"yscrollcommand\"] = yscroll.set\n",
    "text.focus()\n",
    "\n",
    "text.grid(row=0, column=0, sticky=\"nsew\")\n",
    "xscroll.grid(row=1, column=0, sticky=\"nsew\")\n",
    "yscroll.grid(row=0, column=1, sticky=\"nsew\")\n",
    "\n",
    "# -------------------------------------\n",
    "# add message to the text\n",
    "for i in range(1, 100):\n",
    "    text.insert(END, \"%s hello\\n\" % (i))\n",
    "# -------------------------------------\n",
    "# add toolbar\n",
    "def updateFontNull():\n",
    "    f = Font(family=familyVar.get(), slant=slantVar.get(), weight=weightVar.get(), size=sizeVar.get(),\n",
    "            underline=underlineVar.get(), overstrike=overstrikeVar.get())\n",
    "    text.config(font=f)\n",
    "\n",
    "def updateFont(event):\n",
    "    updateFontNull()\n",
    "\n",
    "toolbar = Frame(tk, relief=RAISED, borderwidth=1)\n",
    "toolbar.pack(side=TOP, fill=X)\n",
    "\n",
    "fonts = list(font.families())\n",
    "fonts = fonts[60:90]\n",
    "fonts.insert(0, fonts[0])\n",
    "familyVar = StringVar()\n",
    "OptionMenu(toolbar, familyVar, *fonts, command=updateFont).pack(side=LEFT)\n",
    "\n",
    "slants = (\"roman\", \"roman\", \"italic\")\n",
    "slantVar = StringVar()\n",
    "OptionMenu(toolbar, slantVar, *slants, command=updateFont).pack(side=LEFT)\n",
    "\n",
    "weights = (\"normal\", \"normal\", \"bold\")\n",
    "weightVar = StringVar()\n",
    "OptionMenu(toolbar, weightVar, *weights, command=updateFont).pack(side=LEFT)\n",
    "\n",
    "sizes = [x for x in range(1,61)]\n",
    "sizes.insert(0, 12)\n",
    "sizeVar = IntVar()\n",
    "OptionMenu(toolbar, sizeVar, *sizes, command=updateFont).pack(side=LEFT)\n",
    "\n",
    "underlineVar = IntVar()\n",
    "Checkbutton(toolbar, text=\"Underline\", variable=underlineVar, command=updateFontNull).pack(side=LEFT)\n",
    "\n",
    "overstrikeVar = IntVar()\n",
    "Checkbutton(toolbar, text=\"Overstrike\", variable=overstrikeVar, command=updateFontNull).pack(side=LEFT)\n",
    "\n",
    "updateFont(None)\n",
    "# -------------------------------------\n",
    "# bind events\n",
    "def MouseWheel(event):\n",
    "    value = int(event.delta/120)\n",
    "    sizeValue = sizeVar.get()\n",
    "    if value > 0:\n",
    "        if sizeValue < 60:\n",
    "            sizeVar.set(sizeValue + value)\n",
    "    else:\n",
    "        if sizeValue > 1:\n",
    "            sizeVar.set(sizeValue + value)\n",
    "    updateFont(None)\n",
    "\n",
    "tk.bind(\"<Control-MouseWheel>\", MouseWheel)  # up 120, down -120\n",
    "# -------------------------------------\n",
    "tk.bind_all(\"<KeyPress>\", keyEvent)\n",
    "tk.lift()\n",
    "tk.focus_force()\n",
    "# tk.after(20000, tk.destroy)\n",
    "tk.mainloop()"
   ]
  },
  {
   "cell_type": "code",
   "execution_count": 18,
   "metadata": {},
   "outputs": [
    {
     "data": {
      "text/html": [
       "<img src=\"res/tk_text12.png\">\n"
      ],
      "text/plain": [
       "<IPython.core.display.HTML object>"
      ]
     },
     "metadata": {},
     "output_type": "display_data"
    }
   ],
   "source": [
    "%%html\n",
    "<img src=\"res/tk_text12.png\">"
   ]
  },
  {
   "cell_type": "code",
   "execution_count": null,
   "metadata": {},
   "outputs": [],
   "source": []
  }
 ],
 "metadata": {
  "kernelspec": {
   "display_name": "Python 3",
   "language": "python",
   "name": "python3"
  },
  "language_info": {
   "codemirror_mode": {
    "name": "ipython",
    "version": 3
   },
   "file_extension": ".py",
   "mimetype": "text/x-python",
   "name": "python",
   "nbconvert_exporter": "python",
   "pygments_lexer": "ipython3",
   "version": "3.7.1"
  }
 },
 "nbformat": 4,
 "nbformat_minor": 2
}
