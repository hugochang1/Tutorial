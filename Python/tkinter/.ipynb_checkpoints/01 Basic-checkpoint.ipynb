{
 "cells": [
  {
   "cell_type": "code",
   "execution_count": null,
   "metadata": {},
   "outputs": [],
   "source": []
  },
  {
   "cell_type": "code",
   "execution_count": 4,
   "metadata": {},
   "outputs": [
    {
     "name": "stdout",
     "output_type": "stream",
     "text": [
      "1920\n",
      "1080\n",
      "#ffff00\n",
      "['bd', 'borderwidth', 'class', 'menu', 'relief', 'screen', 'use', 'background', 'bg', 'colormap', 'container', 'cursor', 'height', 'highlightbackground', 'highlightcolor', 'highlightthickness', 'padx', 'pady', 'takefocus', 'visual', 'width']\n"
     ]
    }
   ],
   "source": [
    "from tkinter import *\n",
    "\n",
    "def keyEvent(event):\n",
    "    if event.keysym == \"Escape\":\n",
    "        tk.destroy()\n",
    "        \n",
    "tk = Tk()\n",
    "tk.title(\"title\")\n",
    "tk.geometry(\"300x150+0+0\")  # width x height + x + y\n",
    "tk.maxsize(1000, 300)\n",
    "tk.minsize(150,75)\n",
    "tk.config(bg=\"#ffff00\")  # RGB\n",
    "tk.iconify()  # adjust to min window size\n",
    "# tk.state(\"zoomed\")  # adjust to max window size\n",
    "tk.iconbitmap(\"res/mario.ico\")\n",
    "\n",
    "print(tk.winfo_screenwidth())\n",
    "print(tk.winfo_screenheight())\n",
    "print(tk.cget(\"bg\"))\n",
    "print(tk.keys())\n",
    "\n",
    "tk.bind_all(\"<KeyPress>\", keyEvent)\n",
    "tk.lift()\n",
    "tk.focus_force()\n",
    "tk.after(1, lambda:tk.state(\"zoomed\"))\n",
    "tk.after(2000, tk.destroy)\n",
    "tk.mainloop()"
   ]
  },
  {
   "cell_type": "code",
   "execution_count": null,
   "metadata": {},
   "outputs": [],
   "source": []
  }
 ],
 "metadata": {
  "kernelspec": {
   "display_name": "Python 3",
   "language": "python",
   "name": "python3"
  },
  "language_info": {
   "codemirror_mode": {
    "name": "ipython",
    "version": 3
   },
   "file_extension": ".py",
   "mimetype": "text/x-python",
   "name": "python",
   "nbconvert_exporter": "python",
   "pygments_lexer": "ipython3",
   "version": "3.7.1"
  }
 },
 "nbformat": 4,
 "nbformat_minor": 2
}
