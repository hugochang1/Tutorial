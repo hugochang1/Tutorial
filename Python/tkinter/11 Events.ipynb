{
 "cells": [
  {
   "cell_type": "code",
   "execution_count": null,
   "metadata": {},
   "outputs": [],
   "source": []
  },
  {
   "cell_type": "code",
   "execution_count": 6,
   "metadata": {},
   "outputs": [],
   "source": [
    "from tkinter import *\n",
    "\n",
    "tk = Tk()\n",
    "# -------------------------------------\n",
    "def keyEvent(event):\n",
    "    label1.config(text=\"keyEvent %s\" % (event))\n",
    "    if event.keysym == \"Escape\":\n",
    "        tk.destroy()\n",
    "\n",
    "def mouseMoveEvent(event):\n",
    "    label2.config(text=\"mouseMoveEvent %s\" % (event))\n",
    "\n",
    "def mouseClickEvent(event):\n",
    "    label3.config(text=\"mouseClickEvent %s\" % (event))\n",
    "\n",
    "tk.bind_all(\"<KeyPress>\", keyEvent)\n",
    "tk.bind_all(\"<KeyRelease>\", keyEvent)\n",
    "tk.bind_all(\"<Motion>\", mouseMoveEvent)\n",
    "tk.bind_all(\"<Button>\", mouseClickEvent)\n",
    "label1 = Label(tk, text=\"keyEvent\")\n",
    "label1.pack()\n",
    "label2 = Label(tk, text=\"mouseMoveEvent\")\n",
    "label2.pack()\n",
    "label3 = Label(tk, text=\"mouseClickEvent\")\n",
    "label3.pack()\n",
    "\n",
    "# tk.unbind_all(\"<KeyPress>\")\n",
    "# tk.unbind_all(\"<KeyRelease>\")\n",
    "# tk.unbind_all(\"<Motion>\")\n",
    "# tk.unbind_all(\"<Button>\")\n",
    "# -------------------------------------\n",
    "tk.lift()\n",
    "tk.focus_force()\n",
    "tk.after(20000, tk.destroy)\n",
    "tk.mainloop()"
   ]
  },
  {
   "cell_type": "code",
   "execution_count": 3,
   "metadata": {},
   "outputs": [
    {
     "data": {
      "text/html": [
       "<img src=\"res/tk_bind1.png\">\n"
      ],
      "text/plain": [
       "<IPython.core.display.HTML object>"
      ]
     },
     "metadata": {},
     "output_type": "display_data"
    }
   ],
   "source": [
    "%%html\n",
    "<img src=\"res/tk_bind1.png\">"
   ]
  },
  {
   "cell_type": "code",
   "execution_count": 15,
   "metadata": {},
   "outputs": [
    {
     "name": "stdout",
     "output_type": "stream",
     "text": [
      "wheel -120\n",
      "wheel -120\n",
      "wheel -120\n",
      "wheel 120\n",
      "wheel 120\n",
      "wheel 120\n",
      "wheel 120\n",
      "wheel 120\n",
      "wheel 120\n",
      "wheel -120\n",
      "wheel -120\n",
      "wheel -120\n",
      "wheel -120\n",
      "wheel -120\n",
      "wheel -120\n",
      "wheel -120\n",
      "wheel -120\n",
      "wheel 120\n",
      "wheel 120\n",
      "press Escape\n",
      "release Escape\n",
      "press Escape\n",
      "release Escape\n"
     ]
    }
   ],
   "source": [
    "from tkinter import *\n",
    "\n",
    "tk = Tk()\n",
    "# -------------------------------------\n",
    "def f1(event, value):\n",
    "    label.config(text=value)\n",
    "    print(value)\n",
    "\n",
    "tk.geometry(\"300x200\")\n",
    "tk.bind(\"<KeyPress>\", lambda event:f1(event, \"press \" + event.keysym))\n",
    "tk.bind(\"<KeyRelease>\", lambda event:f1(event, \"release \" + event.keysym))\n",
    "tk.bind(\"<Button-1>\", lambda event:f1(event, \"滑鼠左鍵\"))\n",
    "tk.bind(\"<Button-2>\", lambda event:f1(event, \"滑鼠滾輪\"))\n",
    "tk.bind(\"<Button-3>\", lambda event:f1(event, \"滑鼠右鍵\"))\n",
    "tk.bind(\"<MouseWheel>\", lambda event:f1(event, \"wheel \" + str(event.delta)))  # up 120, down -120\n",
    "tk.bind(\"<B1-Motion>\", lambda event:f1(event, \"滑鼠左鍵拖曳\"))\n",
    "tk.bind(\"<B2-Motion>\", lambda event:f1(event, \"滑鼠滾輪拖曳\"))\n",
    "tk.bind(\"<B3-Motion>\", lambda event:f1(event, \"滑鼠右鍵拖曳\"))\n",
    "tk.bind(\"<ButtonRelease-1>\", lambda event:f1(event, \"滑鼠左鍵放開\"))\n",
    "tk.bind(\"<ButtonRelease-2>\", lambda event:f1(event, \"滑鼠滾輪放開\"))\n",
    "tk.bind(\"<ButtonRelease-3>\", lambda event:f1(event, \"滑鼠右鍵放開\"))\n",
    "tk.bind(\"<Double-Button-1>\", lambda event:f1(event, \"滑鼠左鍵兩下\"))\n",
    "tk.bind(\"<Double-Button-2>\", lambda event:f1(event, \"滑鼠滾輪兩下\"))\n",
    "tk.bind(\"<Double-Button-3>\", lambda event:f1(event, \"滑鼠右鍵兩下\"))\n",
    "label = Label(tk, text=\"None\", font=(\"\", 30))\n",
    "label.pack()\n",
    "# -------------------------------------\n",
    "tk.lift()\n",
    "tk.focus_force()\n",
    "tk.after(20000, tk.destroy)\n",
    "tk.mainloop()"
   ]
  },
  {
   "cell_type": "markdown",
   "metadata": {},
   "source": [
    "### Capturing destroy events"
   ]
  },
  {
   "cell_type": "code",
   "execution_count": 26,
   "metadata": {},
   "outputs": [],
   "source": [
    "from tkinter import *\n",
    "from tkinter import messagebox\n",
    "\n",
    "tk = Tk()\n",
    "# -------------------------------------\n",
    "def callback():\n",
    "    if messagebox.askokcancel(\"Quit\", \"Do you really wish to quit?\"):\n",
    "        tk.destroy()\n",
    "\n",
    "tk.protocol(\"WM_DELETE_WINDOW\", callback)\n",
    "# -------------------------------------\n",
    "tk.lift()\n",
    "tk.focus_force()\n",
    "tk.mainloop()"
   ]
  },
  {
   "cell_type": "code",
   "execution_count": 25,
   "metadata": {},
   "outputs": [
    {
     "data": {
      "text/html": [
       "<img src=\"res/tk_bind2.png\">\n"
      ],
      "text/plain": [
       "<IPython.core.display.HTML object>"
      ]
     },
     "metadata": {},
     "output_type": "display_data"
    }
   ],
   "source": [
    "%%html\n",
    "<img src=\"res/tk_bind2.png\">"
   ]
  },
  {
   "cell_type": "code",
   "execution_count": null,
   "metadata": {},
   "outputs": [],
   "source": []
  }
 ],
 "metadata": {
  "kernelspec": {
   "display_name": "Python 3",
   "language": "python",
   "name": "python3"
  },
  "language_info": {
   "codemirror_mode": {
    "name": "ipython",
    "version": 3
   },
   "file_extension": ".py",
   "mimetype": "text/x-python",
   "name": "python",
   "nbconvert_exporter": "python",
   "pygments_lexer": "ipython3",
   "version": "3.7.1"
  }
 },
 "nbformat": 4,
 "nbformat_minor": 2
}
