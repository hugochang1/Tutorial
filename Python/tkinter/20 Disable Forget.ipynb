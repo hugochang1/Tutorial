{
 "cells": [
  {
   "cell_type": "markdown",
   "metadata": {},
   "source": [
    "### enable and disable widget, forget and pack widget"
   ]
  },
  {
   "cell_type": "code",
   "execution_count": 13,
   "metadata": {},
   "outputs": [],
   "source": [
    "from tkinter import *\n",
    "from PIL import Image, ImageTk\n",
    "\n",
    "def keyEvent(event):\n",
    "    if event.keysym == \"Escape\":\n",
    "        tk.destroy()\n",
    "\n",
    "tk = Tk()\n",
    "# -------------------------------------\n",
    "def checkClick():\n",
    "    if var1.get() == 0:\n",
    "        btn[\"state\"] = \"disabled\" # disable widget\n",
    "    elif var1.get() == 1:\n",
    "        btn[\"state\"] = \"normal\" # enable widget\n",
    "    \n",
    "    if var2.get() == 0:\n",
    "        btn.forget()  # remove widget\n",
    "    elif var2.get() == 1:\n",
    "        btn.pack()  # add widget again\n",
    "\n",
    "var1 = IntVar()\n",
    "var2 = IntVar()\n",
    "var1.set(1)\n",
    "var2.set(1)\n",
    "\n",
    "Checkbutton(tk, text=\"enable widget\", variable=var1, command=checkClick).pack()\n",
    "Checkbutton(tk, text=\"hide widget\", variable=var2, command=checkClick).pack()\n",
    "\n",
    "btn = Button(tk, text=\"demo\")\n",
    "btn.pack()\n",
    "# -------------------------------------\n",
    "tk.bind_all(\"<KeyPress>\", keyEvent)\n",
    "tk.lift()\n",
    "tk.focus_force()\n",
    "# tk.after(10000, tk.destroy)\n",
    "tk.mainloop()"
   ]
  },
  {
   "cell_type": "code",
   "execution_count": 14,
   "metadata": {},
   "outputs": [
    {
     "data": {
      "text/html": [
       "<img src=\"res/tk_forget1.png\">"
      ],
      "text/plain": [
       "<IPython.core.display.HTML object>"
      ]
     },
     "metadata": {},
     "output_type": "display_data"
    }
   ],
   "source": [
    "%%html\n",
    "<img src=\"res/tk_forget1.png\">"
   ]
  },
  {
   "cell_type": "code",
   "execution_count": null,
   "metadata": {},
   "outputs": [],
   "source": []
  }
 ],
 "metadata": {
  "kernelspec": {
   "display_name": "Python 3",
   "language": "python",
   "name": "python3"
  },
  "language_info": {
   "codemirror_mode": {
    "name": "ipython",
    "version": 3
   },
   "file_extension": ".py",
   "mimetype": "text/x-python",
   "name": "python",
   "nbconvert_exporter": "python",
   "pygments_lexer": "ipython3",
   "version": "3.7.0"
  }
 },
 "nbformat": 4,
 "nbformat_minor": 2
}
