{
 "cells": [
  {
   "cell_type": "code",
   "execution_count": null,
   "metadata": {},
   "outputs": [],
   "source": []
  },
  {
   "cell_type": "code",
   "execution_count": 5,
   "metadata": {},
   "outputs": [],
   "source": [
    "from tkinter import *\n",
    "from tkinter.ttk import *\n",
    "\n",
    "def keyEvent(event):\n",
    "    if event.keysym == \"Escape\":\n",
    "        tk.destroy()\n",
    "\n",
    "tk = Tk()\n",
    "# -------------------------------------\n",
    "# -------------------------------------\n",
    "tk.bind_all(\"<KeyPress>\", keyEvent)\n",
    "tk.lift()\n",
    "tk.focus_force()\n",
    "tk.after(20000, tk.destroy)\n",
    "tk.mainloop()"
   ]
  },
  {
   "cell_type": "markdown",
   "metadata": {},
   "source": [
    "### Treeview"
   ]
  },
  {
   "cell_type": "code",
   "execution_count": 23,
   "metadata": {},
   "outputs": [],
   "source": [
    "from tkinter import *\n",
    "from tkinter.ttk import *\n",
    "\n",
    "def keyEvent(event):\n",
    "    if event.keysym == \"Escape\":\n",
    "        tk.destroy()\n",
    "\n",
    "tk = Tk()\n",
    "# -------------------------------------\n",
    "tree = Treeview(tk, columns=(\"a\", \"b\"), height=5)  # a, b are id\n",
    "tree.heading(\"#0\", text=\"A\")\n",
    "tree.heading(\"#1\", text=\"B\")\n",
    "tree.heading(\"#2\", text=\"C\")\n",
    "tree.insert(\"\", index=END, text=\"A1\", values=(\"1\", \"2\"))\n",
    "tree.insert(\"\", index=END, text=\"B1\", values=(\"11\", \"22\"))\n",
    "tree.insert(\"\", index=END, text=\"C1\", values=(\"GG\", \"MM中文字\"))\n",
    "tree.pack()\n",
    "# -------------------------------------\n",
    "tk.bind_all(\"<KeyPress>\", keyEvent)\n",
    "tk.lift()\n",
    "tk.focus_force()\n",
    "tk.after(20000, tk.destroy)\n",
    "tk.mainloop()"
   ]
  },
  {
   "cell_type": "code",
   "execution_count": 21,
   "metadata": {},
   "outputs": [
    {
     "data": {
      "text/html": [
       "<img src=\"res/tk_tree1.png\">\n"
      ],
      "text/plain": [
       "<IPython.core.display.HTML object>"
      ]
     },
     "metadata": {},
     "output_type": "display_data"
    }
   ],
   "source": [
    "%%html\n",
    "<img src=\"res/tk_tree1.png\">"
   ]
  },
  {
   "cell_type": "code",
   "execution_count": 52,
   "metadata": {},
   "outputs": [
    {
     "name": "stdout",
     "output_type": "stream",
     "text": [
      "{'width': 100, 'minwidth': 20, 'stretch': 1, 'anchor': 'center', 'id': 'a'}\n",
      "{'width': 100, 'minwidth': 20, 'stretch': 1, 'anchor': 'center', 'id': 'a'}\n"
     ]
    }
   ],
   "source": [
    "from tkinter import *\n",
    "from tkinter.ttk import *\n",
    "\n",
    "def keyEvent(event):\n",
    "    if event.keysym == \"Escape\":\n",
    "        tk.destroy()\n",
    "\n",
    "tk = Tk()\n",
    "# -------------------------------------\n",
    "tree = Treeview(tk, columns=(\"a\", \"b\"), height=5)\n",
    "tree.heading(\"#0\", text=\"A\")\n",
    "tree.heading(\"#1\", text=\"B\")\n",
    "tree.heading(\"#2\", text=\"C\")\n",
    "tree.insert(\"\", index=END, text=\"A1\", values=(\"1\", \"2\"))\n",
    "tree.insert(\"\", index=END, text=\"B1\", values=(\"11\", \"22\"))\n",
    "tree.insert(\"\", index=END, text=\"C1\", values=(\"GG\", \"MM中文字\"))\n",
    "tree.pack()\n",
    "\n",
    "tree.column(\"#1\", anchor=CENTER, width=100)  # column\n",
    "tree.column(\"#2\", anchor=E, width=100)  # column\n",
    "\n",
    "# get\n",
    "a = tree.column(\"a\")\n",
    "print(a)\n",
    "a = tree.column(\"#1\")\n",
    "print(a)\n",
    "# -------------------------------------\n",
    "tk.bind_all(\"<KeyPress>\", keyEvent)\n",
    "tk.lift()\n",
    "tk.focus_force()\n",
    "tk.after(20000, tk.destroy)\n",
    "tk.mainloop()"
   ]
  },
  {
   "cell_type": "code",
   "execution_count": 29,
   "metadata": {},
   "outputs": [
    {
     "data": {
      "text/html": [
       "<img src=\"res/tk_tree2.png\">\n"
      ],
      "text/plain": [
       "<IPython.core.display.HTML object>"
      ]
     },
     "metadata": {},
     "output_type": "display_data"
    }
   ],
   "source": [
    "%%html\n",
    "<img src=\"res/tk_tree2.png\">"
   ]
  },
  {
   "cell_type": "code",
   "execution_count": 50,
   "metadata": {},
   "outputs": [],
   "source": [
    "from tkinter import *\n",
    "from tkinter.ttk import *\n",
    "\n",
    "def keyEvent(event):\n",
    "    if event.keysym == \"Escape\":\n",
    "        tk.destroy()\n",
    "\n",
    "tk = Tk()\n",
    "# -------------------------------------\n",
    "tree = Treeview(tk, columns=(\"a\", \"b\"), height=5)\n",
    "tree.heading(\"#0\", text=\"A\")\n",
    "tree.heading(\"#1\", text=\"B\")\n",
    "tree.heading(\"#2\", text=\"C\")\n",
    "\n",
    "tree.tag_configure(\"tag1\", background=\"#ffff00\", font=(\"\", 15))  # tag_configure\n",
    "tree.tag_configure(\"tag2\", background=\"#ff00ff\", font=(\"\", 8))   # tag_configure\n",
    "\n",
    "tree.insert(\"\", index=END, text=\"A1\", values=(\"1\", \"2\"))\n",
    "tree.insert(\"\", index=END, text=\"B1\", values=(\"11\", \"22\"), tag=(\"tag1\"))      # tag\n",
    "tree.insert(\"\", index=END, text=\"C1\", values=(\"GG\", \"MM中文字\"), tag=(\"tag2\")) # tag\n",
    "tree.insert(\"\", index=END, text=\"D1\", values=(\"AAAA\", \"BBBBB\"))\n",
    "tree.pack()\n",
    "# -------------------------------------\n",
    "tk.bind_all(\"<KeyPress>\", keyEvent)\n",
    "tk.lift()\n",
    "tk.focus_force()\n",
    "tk.after(20000, tk.destroy)\n",
    "tk.mainloop()"
   ]
  },
  {
   "cell_type": "code",
   "execution_count": 51,
   "metadata": {},
   "outputs": [
    {
     "data": {
      "text/html": [
       "<img src=\"res/tk_tree3.png\">\n"
      ],
      "text/plain": [
       "<IPython.core.display.HTML object>"
      ]
     },
     "metadata": {},
     "output_type": "display_data"
    }
   ],
   "source": [
    "%%html\n",
    "<img src=\"res/tk_tree3.png\">"
   ]
  },
  {
   "cell_type": "code",
   "execution_count": 88,
   "metadata": {},
   "outputs": [],
   "source": [
    "from tkinter import *\n",
    "from tkinter.ttk import *\n",
    "\n",
    "def keyEvent(event):\n",
    "    if event.keysym == \"Escape\":\n",
    "        tk.destroy()\n",
    "\n",
    "tk = Tk()\n",
    "# -------------------------------------\n",
    "tree = Treeview(tk, columns=(\"a\", \"b\"), height=7)\n",
    "tree.heading(\"#0\", text=\"A\")\n",
    "tree.heading(\"#1\", text=\"B\")\n",
    "tree.heading(\"#2\", text=\"C\")\n",
    "\n",
    "id1 = tree.insert(\"\", index=END, text=\"id1\", values=(\"yes\", \"no\"))\n",
    "tree.insert(id1, index=END, text=\"a1\", values=(\"1\", \"2\"))\n",
    "tree.insert(id1, index=END, text=\"a2\", values=(\"11\", \"22\"))\n",
    "\n",
    "id2 = tree.insert(\"\", index=END, text=\"id2\")\n",
    "tree.insert(id2, index=END, text=\"b1\", values=(\"a\", \"b\"))\n",
    "id3 = tree.insert(id2, index=END, text=\"b2\", values=(\"c\", \"dd\"))\n",
    "tree.insert(id3, index=END, text=\"g1\")\n",
    "tree.insert(id3, index=END, text=\"g2\")\n",
    "\n",
    "tree.pack()\n",
    "# -------------------------------------\n",
    "tk.bind_all(\"<KeyPress>\", keyEvent)\n",
    "tk.lift()\n",
    "tk.focus_force()\n",
    "tk.after(20000, tk.destroy)\n",
    "tk.mainloop()"
   ]
  },
  {
   "cell_type": "code",
   "execution_count": 64,
   "metadata": {},
   "outputs": [
    {
     "data": {
      "text/html": [
       "<img src=\"res/tk_tree4.png\">\n"
      ],
      "text/plain": [
       "<IPython.core.display.HTML object>"
      ]
     },
     "metadata": {},
     "output_type": "display_data"
    }
   ],
   "source": [
    "%%html\n",
    "<img src=\"res/tk_tree4.png\">"
   ]
  },
  {
   "cell_type": "code",
   "execution_count": 65,
   "metadata": {},
   "outputs": [],
   "source": [
    "from tkinter import *\n",
    "from tkinter.ttk import *\n",
    "\n",
    "def keyEvent(event):\n",
    "    if event.keysym == \"Escape\":\n",
    "        tk.destroy()\n",
    "\n",
    "tk = Tk()\n",
    "# -------------------------------------\n",
    "Style().configure(\"Treeview\", rowheight=35)  # rowheight\n",
    "\n",
    "tree = Treeview(tk, columns=(\"a\", \"b\"), height=7)\n",
    "tree.heading(\"#0\", text=\"A\")\n",
    "tree.heading(\"#1\", text=\"B\")\n",
    "tree.heading(\"#2\", text=\"C\")\n",
    "\n",
    "id1 = tree.insert(\"\", index=END, text=\"id1\", values=(\"yes\", \"no\"))\n",
    "tree.insert(id1, index=END, text=\"a1\", values=(\"1\", \"2\"))\n",
    "tree.insert(id1, index=END, text=\"a2\", values=(\"11\", \"22\"))\n",
    "\n",
    "id2 = tree.insert(\"\", index=END, text=\"id2\")\n",
    "tree.insert(id2, index=END, text=\"b1\", values=(\"a\", \"b\"))\n",
    "tree.insert(id2, index=END, text=\"b2\", values=(\"c\", \"dd\"))\n",
    "\n",
    "tree.pack()\n",
    "# -------------------------------------\n",
    "tk.bind_all(\"<KeyPress>\", keyEvent)\n",
    "tk.lift()\n",
    "tk.focus_force()\n",
    "tk.after(20000, tk.destroy)\n",
    "tk.mainloop()"
   ]
  },
  {
   "cell_type": "code",
   "execution_count": 66,
   "metadata": {},
   "outputs": [
    {
     "data": {
      "text/html": [
       "<img src=\"res/tk_tree5.png\">\n"
      ],
      "text/plain": [
       "<IPython.core.display.HTML object>"
      ]
     },
     "metadata": {},
     "output_type": "display_data"
    }
   ],
   "source": [
    "%%html\n",
    "<img src=\"res/tk_tree5.png\">"
   ]
  },
  {
   "cell_type": "code",
   "execution_count": 72,
   "metadata": {},
   "outputs": [],
   "source": [
    "from tkinter import *\n",
    "from tkinter.ttk import *\n",
    "from PIL import Image, ImageTk\n",
    "\n",
    "def keyEvent(event):\n",
    "    if event.keysym == \"Escape\":\n",
    "        tk.destroy()\n",
    "\n",
    "tk = Tk()\n",
    "# -------------------------------------\n",
    "Style().configure(\"Treeview\", rowheight=35)  # rowheight\n",
    "\n",
    "tree = Treeview(tk, columns=(\"a\", \"b\"), height=7)\n",
    "tree.heading(\"#0\", text=\"A\")\n",
    "tree.heading(\"#1\", text=\"B\")\n",
    "tree.heading(\"#2\", text=\"C\")\n",
    "\n",
    "img = Image.open(\"res/mario.png\")\n",
    "img = img.resize((30, 35), Image.ANTIALIAS)\n",
    "img = ImageTk.PhotoImage(img)\n",
    "\n",
    "tree.insert(\"\", index=END, text=\"A1\", values=(\"1\", \"2\"), image=img)\n",
    "tree.insert(\"\", index=END, text=\"B1\", values=(\"11\", \"22\"), tag=(\"tag1\"))      # tag\n",
    "tree.insert(\"\", index=END, text=\"C1\", values=(\"GG\", \"MM中文字\"), tag=(\"tag2\")) # tag\n",
    "tree.insert(\"\", index=END, text=\"D1\", values=(\"AAAA\", \"BBBBB\"))\n",
    "\n",
    "tree.pack()\n",
    "# -------------------------------------\n",
    "tk.bind_all(\"<KeyPress>\", keyEvent)\n",
    "tk.lift()\n",
    "tk.focus_force()\n",
    "tk.after(20000, tk.destroy)\n",
    "tk.mainloop()"
   ]
  },
  {
   "cell_type": "code",
   "execution_count": 73,
   "metadata": {},
   "outputs": [
    {
     "data": {
      "text/html": [
       "<img src=\"res/tk_tree6.png\">\n"
      ],
      "text/plain": [
       "<IPython.core.display.HTML object>"
      ]
     },
     "metadata": {},
     "output_type": "display_data"
    }
   ],
   "source": [
    "%%html\n",
    "<img src=\"res/tk_tree6.png\">"
   ]
  },
  {
   "cell_type": "code",
   "execution_count": 87,
   "metadata": {},
   "outputs": [
    {
     "name": "stdout",
     "output_type": "stream",
     "text": [
      "('I002',)\n",
      "B1\n",
      "('11', '22')\n",
      "\n",
      "('I001', 'I002')\n",
      "A1\n",
      "('1', '2')\n",
      "B1\n",
      "('11', '22')\n",
      "\n",
      "('I003',)\n",
      "C1\n",
      "('GG', 'MM中文字')\n",
      "\n",
      "('I002',)\n",
      "B1\n",
      "('11', '22')\n",
      "\n",
      "('I001',)\n",
      "A1\n",
      "('1', '2')\n",
      "\n",
      "('I002',)\n",
      "B1\n",
      "('11', '22')\n",
      "\n",
      "('I002',)\n",
      "B1\n",
      "('11', '22')\n",
      "\n",
      "('I001', 'I002')\n",
      "A1\n",
      "('1', '2')\n",
      "B1\n",
      "('11', '22')\n",
      "\n",
      "('I001', 'I002', 'I003')\n",
      "A1\n",
      "('1', '2')\n",
      "B1\n",
      "('11', '22')\n",
      "C1\n",
      "('GG', 'MM中文字')\n",
      "\n",
      "('I001', 'I002')\n",
      "A1\n",
      "('1', '2')\n",
      "B1\n",
      "('11', '22')\n",
      "\n"
     ]
    }
   ],
   "source": [
    "from tkinter import *\n",
    "from tkinter.ttk import *\n",
    "\n",
    "def keyEvent(event):\n",
    "    if event.keysym == \"Escape\":\n",
    "        tk.destroy()\n",
    "\n",
    "tk = Tk()\n",
    "# -------------------------------------\n",
    "def select(event):\n",
    "    selection = tree.selection()\n",
    "    print(selection)\n",
    "    for s in selection:\n",
    "        print(tree.item(s, \"text\"))\n",
    "        print(tree.item(s, \"values\"))\n",
    "    print()\n",
    "\n",
    "tree = Treeview(tk, columns=(\"a\", \"b\"), height=5)  # a, b are id\n",
    "tree.heading(\"#0\", text=\"A\")\n",
    "tree.heading(\"#1\", text=\"B\")\n",
    "tree.heading(\"#2\", text=\"C\")\n",
    "tree.insert(\"\", index=END, text=\"A1\", values=(\"1\", \"2\"))\n",
    "tree.insert(\"\", index=END, text=\"B1\", values=(\"11\", \"22\"))\n",
    "tree.insert(\"\", index=END, text=\"C1\", values=(\"GG\", \"MM中文字\"))\n",
    "tree.pack()\n",
    "\n",
    "tree.bind(\"<<TreeviewSelect>>\", select)\n",
    "# -------------------------------------\n",
    "tk.bind_all(\"<KeyPress>\", keyEvent)\n",
    "tk.lift()\n",
    "tk.focus_force()\n",
    "tk.after(20000, tk.destroy)\n",
    "tk.mainloop()"
   ]
  },
  {
   "cell_type": "code",
   "execution_count": null,
   "metadata": {},
   "outputs": [],
   "source": []
  }
 ],
 "metadata": {
  "kernelspec": {
   "display_name": "Python 3",
   "language": "python",
   "name": "python3"
  },
  "language_info": {
   "codemirror_mode": {
    "name": "ipython",
    "version": 3
   },
   "file_extension": ".py",
   "mimetype": "text/x-python",
   "name": "python",
   "nbconvert_exporter": "python",
   "pygments_lexer": "ipython3",
   "version": "3.7.1"
  }
 },
 "nbformat": 4,
 "nbformat_minor": 2
}
