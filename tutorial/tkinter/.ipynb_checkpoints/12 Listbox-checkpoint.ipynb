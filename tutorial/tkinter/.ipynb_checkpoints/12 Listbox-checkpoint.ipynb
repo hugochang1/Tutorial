{
 "cells": [
  {
   "cell_type": "code",
   "execution_count": null,
   "metadata": {},
   "outputs": [],
   "source": []
  },
  {
   "cell_type": "code",
   "execution_count": 11,
   "metadata": {},
   "outputs": [],
   "source": [
    "from tkinter import *\n",
    "\n",
    "def keyEvent(event):\n",
    "    if event.keysym == \"Escape\":\n",
    "        tk.destroy()\n",
    "\n",
    "tk = Tk()\n",
    "# -------------------------------------\n",
    "o1 = Listbox(tk)\n",
    "o1.pack()\n",
    "for a in [1,2,3]:\n",
    "    o1.insert(END, a)\n",
    "\n",
    "o2 = Listbox(tk, width=40, height=5, bg=\"#ffff00\", fg=\"#ff0000\", font=(\"\", 20))\n",
    "o2.pack()\n",
    "for a in [1,2,3,4,5,\"a\",\"b\",\"c\"]:\n",
    "    o2.insert(END, a)\n",
    "# -------------------------------------\n",
    "tk.bind_all(\"<KeyPress>\", keyEvent)\n",
    "tk.lift()\n",
    "tk.focus_force()\n",
    "tk.after(20000, tk.destroy)\n",
    "tk.mainloop()"
   ]
  },
  {
   "cell_type": "code",
   "execution_count": 12,
   "metadata": {},
   "outputs": [
    {
     "data": {
      "text/html": [
       "<img src=\"res/tk_listbox1.png\">\n"
      ],
      "text/plain": [
       "<IPython.core.display.HTML object>"
      ]
     },
     "metadata": {},
     "output_type": "display_data"
    }
   ],
   "source": [
    "%%html\n",
    "<img src=\"res/tk_listbox1.png\">"
   ]
  },
  {
   "cell_type": "markdown",
   "metadata": {},
   "source": [
    "### selectmode=MULTIPLE"
   ]
  },
  {
   "cell_type": "code",
   "execution_count": 16,
   "metadata": {},
   "outputs": [],
   "source": [
    "from tkinter import *\n",
    "\n",
    "def keyEvent(event):\n",
    "    if event.keysym == \"Escape\":\n",
    "        tk.destroy()\n",
    "\n",
    "tk = Tk()\n",
    "# -------------------------------------\n",
    "o1 = Listbox(tk, selectmode=MULTIPLE)  # selectmode=MULTIPLE\n",
    "o1.pack()\n",
    "for a in [1,2,3,4,5]:\n",
    "    o1.insert(END, a)\n",
    "# -------------------------------------\n",
    "tk.bind_all(\"<KeyPress>\", keyEvent)\n",
    "tk.lift()\n",
    "tk.focus_force()\n",
    "tk.after(20000, tk.destroy)\n",
    "tk.mainloop()"
   ]
  },
  {
   "cell_type": "code",
   "execution_count": 17,
   "metadata": {},
   "outputs": [
    {
     "data": {
      "text/html": [
       "<img src=\"res/tk_listbox2.png\">\n"
      ],
      "text/plain": [
       "<IPython.core.display.HTML object>"
      ]
     },
     "metadata": {},
     "output_type": "display_data"
    }
   ],
   "source": [
    "%%html\n",
    "<img src=\"res/tk_listbox2.png\">"
   ]
  },
  {
   "cell_type": "markdown",
   "metadata": {},
   "source": [
    "### selectmode=EXTENDED"
   ]
  },
  {
   "cell_type": "code",
   "execution_count": 18,
   "metadata": {},
   "outputs": [],
   "source": [
    "from tkinter import *\n",
    "\n",
    "def keyEvent(event):\n",
    "    if event.keysym == \"Escape\":\n",
    "        tk.destroy()\n",
    "\n",
    "tk = Tk()\n",
    "# -------------------------------------\n",
    "o1 = Listbox(tk, selectmode=EXTENDED)  # selectmode=EXTENDED\n",
    "o1.pack()\n",
    "for a in [1,2,3,4,5]:\n",
    "    o1.insert(END, a)\n",
    "# -------------------------------------\n",
    "tk.bind_all(\"<KeyPress>\", keyEvent)\n",
    "tk.lift()\n",
    "tk.focus_force()\n",
    "tk.after(20000, tk.destroy)\n",
    "tk.mainloop()"
   ]
  },
  {
   "cell_type": "code",
   "execution_count": 19,
   "metadata": {},
   "outputs": [
    {
     "data": {
      "text/html": [
       "<img src=\"res/tk_listbox3.png\">\n"
      ],
      "text/plain": [
       "<IPython.core.display.HTML object>"
      ]
     },
     "metadata": {},
     "output_type": "display_data"
    }
   ],
   "source": [
    "%%html\n",
    "<img src=\"res/tk_listbox3.png\">"
   ]
  },
  {
   "cell_type": "markdown",
   "metadata": {},
   "source": [
    "### size() get() selection_set() curselection() selection_includes() delete()"
   ]
  },
  {
   "cell_type": "code",
   "execution_count": 38,
   "metadata": {},
   "outputs": [
    {
     "name": "stdout",
     "output_type": "stream",
     "text": [
      "size 10\n",
      "get 0\n",
      "get (2, 3)\n",
      "curselection (0, 2, 3)\n",
      "selection_includes(0) True\n",
      "selection_includes(1) False\n"
     ]
    }
   ],
   "source": [
    "from tkinter import *\n",
    "\n",
    "def keyEvent(event):\n",
    "    if event.keysym == \"Escape\":\n",
    "        tk.destroy()\n",
    "\n",
    "tk = Tk()\n",
    "# -------------------------------------\n",
    "o1 = Listbox(tk, selectmode=EXTENDED)\n",
    "o1.pack()\n",
    "for a in [0,1,2,3,4,5,6,7,8,9]:\n",
    "    o1.insert(END, a)\n",
    "    \n",
    "# size()\n",
    "print(\"size\", o1.size())\n",
    "\n",
    "# get()\n",
    "print(\"get\", o1.get(0))\n",
    "print(\"get\", o1.get(2, 3))\n",
    "\n",
    "# selection_set()\n",
    "o1.selection_set(0)  \n",
    "o1.selection_set(2, 3)\n",
    "\n",
    "# curselection()\n",
    "print(\"curselection\", o1.curselection())\n",
    "\n",
    "# selection_includes()\n",
    "print(\"selection_includes(0)\", o1.selection_includes(0))\n",
    "print(\"selection_includes(1)\", o1.selection_includes(1))\n",
    "\n",
    "# delete()\n",
    "o1.delete(0)\n",
    "o1.delete(3,5)\n",
    "o1.delete(0, END) # delete all\n",
    "# -------------------------------------\n",
    "tk.bind_all(\"<KeyPress>\", keyEvent)\n",
    "tk.lift()\n",
    "tk.focus_force()\n",
    "tk.after(20000, tk.destroy)\n",
    "tk.mainloop()"
   ]
  },
  {
   "cell_type": "markdown",
   "metadata": {},
   "source": [
    "### bind select event"
   ]
  },
  {
   "cell_type": "code",
   "execution_count": 41,
   "metadata": {},
   "outputs": [
    {
     "name": "stdout",
     "output_type": "stream",
     "text": [
      "f1 <class 'tuple'> (1,)\n",
      "f1 <class 'tuple'> (2,)\n",
      "f1 <class 'tuple'> (2, 3)\n"
     ]
    }
   ],
   "source": [
    "from tkinter import *\n",
    "\n",
    "def keyEvent(event):\n",
    "    if event.keysym == \"Escape\":\n",
    "        tk.destroy()\n",
    "\n",
    "tk = Tk()\n",
    "# -------------------------------------\n",
    "def f1(event):\n",
    "    print(\"f1\", type(event.widget.curselection()), event.widget.curselection())\n",
    "\n",
    "o1 = Listbox(tk, selectmode=EXTENDED)\n",
    "o1.pack()\n",
    "for a in [1,2,3,4,5]:\n",
    "    o1.insert(END, a)\n",
    "o1.bind(\"<<ListboxSelect>>\", f1)  # bind\n",
    "# -------------------------------------\n",
    "tk.bind_all(\"<KeyPress>\", keyEvent)\n",
    "tk.lift()\n",
    "tk.focus_force()\n",
    "tk.after(20000, tk.destroy)\n",
    "tk.mainloop()"
   ]
  },
  {
   "cell_type": "code",
   "execution_count": 42,
   "metadata": {},
   "outputs": [
    {
     "data": {
      "text/html": [
       "<img src=\"res/tk_listbox4.png\">\n"
      ],
      "text/plain": [
       "<IPython.core.display.HTML object>"
      ]
     },
     "metadata": {},
     "output_type": "display_data"
    }
   ],
   "source": [
    "%%html\n",
    "<img src=\"res/tk_listbox4.png\">"
   ]
  },
  {
   "cell_type": "markdown",
   "metadata": {},
   "source": [
    "### drag"
   ]
  },
  {
   "cell_type": "code",
   "execution_count": 45,
   "metadata": {},
   "outputs": [],
   "source": [
    "from tkinter import *\n",
    "\n",
    "def keyEvent(event):\n",
    "    if event.keysym == \"Escape\":\n",
    "        tk.destroy()\n",
    "\n",
    "tk = Tk()\n",
    "# -------------------------------------\n",
    "def click(event):\n",
    "    o1.index = o1.nearest(event.y)\n",
    "\n",
    "def drag(event):\n",
    "    newIndex = o1.nearest(event.y)\n",
    "    if newIndex < o1.index:\n",
    "        x = o1.get(newIndex)\n",
    "        o1.delete(newIndex)\n",
    "        o1.insert(newIndex + 1, x)\n",
    "        o1.index = newIndex\n",
    "    elif newIndex > o1.index:\n",
    "        x = o1.get(newIndex)\n",
    "        o1.delete(newIndex)\n",
    "        o1.insert(newIndex-1, x)\n",
    "        o1.index = newIndex\n",
    "\n",
    "o1 = Listbox(tk, selectmode=EXTENDED)\n",
    "o1.pack()\n",
    "for a in [1,2,3,4,5]:\n",
    "    o1.insert(END, a)\n",
    "o1.bind(\"<Button-1>\", click)\n",
    "o1.bind(\"<B1-Motion>\", drag)\n",
    "# -------------------------------------\n",
    "tk.bind_all(\"<KeyPress>\", keyEvent)\n",
    "tk.lift()\n",
    "tk.focus_force()\n",
    "tk.after(20000, tk.destroy)\n",
    "tk.mainloop()"
   ]
  },
  {
   "cell_type": "code",
   "execution_count": 46,
   "metadata": {},
   "outputs": [
    {
     "data": {
      "text/html": [
       "<img src=\"res/tk_listbox5.png\">\n"
      ],
      "text/plain": [
       "<IPython.core.display.HTML object>"
      ]
     },
     "metadata": {},
     "output_type": "display_data"
    }
   ],
   "source": [
    "%%html\n",
    "<img src=\"res/tk_listbox5.png\">"
   ]
  },
  {
   "cell_type": "markdown",
   "metadata": {},
   "source": [
    "### Scrollbar"
   ]
  },
  {
   "cell_type": "code",
   "execution_count": 51,
   "metadata": {},
   "outputs": [],
   "source": [
    "from tkinter import *\n",
    "\n",
    "def keyEvent(event):\n",
    "    if event.keysym == \"Escape\":\n",
    "        tk.destroy()\n",
    "\n",
    "tk = Tk()\n",
    "# -------------------------------------\n",
    "scroll = Scrollbar(tk)\n",
    "scroll.pack(side=RIGHT, fill=Y)\n",
    "\n",
    "o1 = Listbox(tk, yscrollcommand=scroll.set)\n",
    "o1.pack()\n",
    "for a in range(100):\n",
    "    o1.insert(END, a)\n",
    "    \n",
    "scroll.config(command=o1.yview)\n",
    "# -------------------------------------\n",
    "tk.bind_all(\"<KeyPress>\", keyEvent)\n",
    "tk.lift()\n",
    "tk.focus_force()\n",
    "tk.after(20000, tk.destroy)\n",
    "tk.mainloop()"
   ]
  },
  {
   "cell_type": "code",
   "execution_count": 52,
   "metadata": {},
   "outputs": [
    {
     "data": {
      "text/html": [
       "<img src=\"res/tk_listbox6.png\">\n"
      ],
      "text/plain": [
       "<IPython.core.display.HTML object>"
      ]
     },
     "metadata": {},
     "output_type": "display_data"
    }
   ],
   "source": [
    "%%html\n",
    "<img src=\"res/tk_listbox6.png\">"
   ]
  },
  {
   "cell_type": "code",
   "execution_count": null,
   "metadata": {},
   "outputs": [],
   "source": []
  }
 ],
 "metadata": {
  "kernelspec": {
   "display_name": "Python 3",
   "language": "python",
   "name": "python3"
  },
  "language_info": {
   "codemirror_mode": {
    "name": "ipython",
    "version": 3
   },
   "file_extension": ".py",
   "mimetype": "text/x-python",
   "name": "python",
   "nbconvert_exporter": "python",
   "pygments_lexer": "ipython3",
   "version": "3.7.1"
  }
 },
 "nbformat": 4,
 "nbformat_minor": 2
}
