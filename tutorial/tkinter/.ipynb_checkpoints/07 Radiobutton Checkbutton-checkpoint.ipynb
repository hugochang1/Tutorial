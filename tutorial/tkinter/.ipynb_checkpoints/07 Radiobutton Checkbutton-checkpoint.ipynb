{
 "cells": [
  {
   "cell_type": "markdown",
   "metadata": {},
   "source": [
    "### Radiobutton"
   ]
  },
  {
   "cell_type": "code",
   "execution_count": 15,
   "metadata": {},
   "outputs": [],
   "source": [
    "from tkinter import *\n",
    "\n",
    "def keyEvent(event):\n",
    "    if event.keysym == \"Escape\":\n",
    "        tk.destroy()\n",
    "\n",
    "tk = Tk()\n",
    "# -------------------------------------\n",
    "def radioClick():\n",
    "    print(\"radioClick\", type(var.get()), var.get())\n",
    "\n",
    "var = IntVar(value=1)\n",
    "\n",
    "r1 = Radiobutton(tk, text=\"a\", variable=var, value=1, command=radioClick)\n",
    "r1.pack()\n",
    "r2 = Radiobutton(tk, text=\"b\", variable=var, value=2, command=radioClick)\n",
    "r2.pack()\n",
    "r3 = Radiobutton(tk, text=\"c\", variable=var, value=3, command=radioClick)\n",
    "r3.pack()\n",
    "# -------------------------------------\n",
    "tk.bind_all(\"<KeyPress>\", keyEvent)\n",
    "tk.lift()\n",
    "tk.focus_force()\n",
    "tk.after(10000, tk.destroy)\n",
    "tk.mainloop()"
   ]
  },
  {
   "cell_type": "code",
   "execution_count": 12,
   "metadata": {},
   "outputs": [
    {
     "data": {
      "text/html": [
       "<img src=\"res/tk_radio1.png\">\n"
      ],
      "text/plain": [
       "<IPython.core.display.HTML object>"
      ]
     },
     "metadata": {},
     "output_type": "display_data"
    }
   ],
   "source": [
    "%%html\n",
    "<img src=\"res/tk_radio1.png\">"
   ]
  },
  {
   "cell_type": "code",
   "execution_count": 17,
   "metadata": {},
   "outputs": [
    {
     "name": "stdout",
     "output_type": "stream",
     "text": [
      "radioClick <class 'int'> 1\n",
      "radioClick <class 'int'> 2\n",
      "radioClick <class 'int'> 3\n",
      "radioClick <class 'int'> 4\n"
     ]
    }
   ],
   "source": [
    "from tkinter import *\n",
    "\n",
    "def keyEvent(event):\n",
    "    if event.keysym == \"Escape\":\n",
    "        tk.destroy()\n",
    "\n",
    "tk = Tk()\n",
    "# -------------------------------------\n",
    "def radioClick():\n",
    "    print(\"radioClick\", type(var.get()), var.get())\n",
    "\n",
    "var = IntVar(value=0)\n",
    "types = [\"a\", \"b\", \"c\", \"d\", \"e\"]\n",
    "\n",
    "for i, t in enumerate(types):\n",
    "    Radiobutton(tk, text=t, variable=var, value=i, command=radioClick).pack()\n",
    "# -------------------------------------\n",
    "tk.bind_all(\"<KeyPress>\", keyEvent)\n",
    "tk.lift()\n",
    "tk.focus_force()\n",
    "tk.after(10000, tk.destroy)\n",
    "tk.mainloop()"
   ]
  },
  {
   "cell_type": "code",
   "execution_count": 18,
   "metadata": {},
   "outputs": [
    {
     "data": {
      "text/html": [
       "<img src=\"res/tk_radio2.png\">\n"
      ],
      "text/plain": [
       "<IPython.core.display.HTML object>"
      ]
     },
     "metadata": {},
     "output_type": "display_data"
    }
   ],
   "source": [
    "%%html\n",
    "<img src=\"res/tk_radio2.png\">"
   ]
  },
  {
   "cell_type": "code",
   "execution_count": 22,
   "metadata": {},
   "outputs": [],
   "source": [
    "from tkinter import *\n",
    "\n",
    "def keyEvent(event):\n",
    "    if event.keysym == \"Escape\":\n",
    "        tk.destroy()\n",
    "\n",
    "tk = Tk()\n",
    "# -------------------------------------\n",
    "def radioClick():\n",
    "    print(\"radioClick\", type(var.get()), var.get())\n",
    "\n",
    "var = IntVar(value=0)\n",
    "types = [\"a\", \"b\", \"c\", \"d\", \"e\"]\n",
    "\n",
    "for i, t in enumerate(types):\n",
    "    Radiobutton(tk, text=t, variable=var, value=i, width=20, indicatoron=0, command=radioClick).pack()  # indicatoron=0\n",
    "# -------------------------------------\n",
    "tk.bind_all(\"<KeyPress>\", keyEvent)\n",
    "tk.lift()\n",
    "tk.focus_force()\n",
    "tk.after(10000, tk.destroy)\n",
    "tk.mainloop()"
   ]
  },
  {
   "cell_type": "code",
   "execution_count": 23,
   "metadata": {},
   "outputs": [
    {
     "data": {
      "text/html": [
       "<img src=\"res/tk_radio3.png\">\n"
      ],
      "text/plain": [
       "<IPython.core.display.HTML object>"
      ]
     },
     "metadata": {},
     "output_type": "display_data"
    }
   ],
   "source": [
    "%%html\n",
    "<img src=\"res/tk_radio3.png\">"
   ]
  },
  {
   "cell_type": "code",
   "execution_count": 27,
   "metadata": {},
   "outputs": [],
   "source": [
    "from tkinter import *\n",
    "from PIL import Image, ImageTk\n",
    "\n",
    "def keyEvent(event):\n",
    "    if event.keysym == \"Escape\":\n",
    "        tk.destroy()\n",
    "\n",
    "tk = Tk()\n",
    "# -------------------------------------\n",
    "def radioClick():\n",
    "    print(\"radioClick\", type(var.get()), var.get())\n",
    "\n",
    "var = IntVar(value=0)\n",
    "\n",
    "img = Image.open(\"res/mario.png\")\n",
    "img = img.resize((50, 70), Image.ANTIALIAS)\n",
    "img = ImageTk.PhotoImage(img)\n",
    "\n",
    "Radiobutton(tk, variable=var, value=0, image=img, bg=\"#00ff00\", command=radioClick).pack()\n",
    "Radiobutton(tk, variable=var, value=1, image=img, bg=\"#ffff00\", command=radioClick).pack()\n",
    "Radiobutton(tk, variable=var, value=2, image=img, bg=\"#00ffff\", command=radioClick).pack()\n",
    "# -------------------------------------\n",
    "tk.bind_all(\"<KeyPress>\", keyEvent)\n",
    "tk.lift()\n",
    "tk.focus_force()\n",
    "tk.after(10000, tk.destroy)\n",
    "tk.mainloop()"
   ]
  },
  {
   "cell_type": "code",
   "execution_count": 28,
   "metadata": {},
   "outputs": [
    {
     "data": {
      "text/html": [
       "<img src=\"res/tk_radio4.png\">\n"
      ],
      "text/plain": [
       "<IPython.core.display.HTML object>"
      ]
     },
     "metadata": {},
     "output_type": "display_data"
    }
   ],
   "source": [
    "%%html\n",
    "<img src=\"res/tk_radio4.png\">"
   ]
  },
  {
   "cell_type": "code",
   "execution_count": 30,
   "metadata": {},
   "outputs": [
    {
     "name": "stdout",
     "output_type": "stream",
     "text": [
      "radioClick <class 'int'> 1\n",
      "radioClick <class 'int'> 2\n",
      "radioClick <class 'int'> 3\n",
      "radioClick <class 'int'> 4\n"
     ]
    }
   ],
   "source": [
    "from tkinter import *\n",
    "from PIL import Image, ImageTk\n",
    "\n",
    "def keyEvent(event):\n",
    "    if event.keysym == \"Escape\":\n",
    "        tk.destroy()\n",
    "\n",
    "tk = Tk()\n",
    "# -------------------------------------\n",
    "def radioClick():\n",
    "    print(\"radioClick\", type(var.get()), var.get())\n",
    "\n",
    "var = IntVar(value=0)\n",
    "\n",
    "img = Image.open(\"res/mario.png\")\n",
    "img = img.resize((50, 70), Image.ANTIALIAS)\n",
    "img = ImageTk.PhotoImage(img)\n",
    "\n",
    "Radiobutton(tk, variable=var, value=0, image=img, text=\"LEFT\", compound=LEFT, command=radioClick).pack()\n",
    "Radiobutton(tk, variable=var, value=1, image=img, text=\"RIGHT\", compound=RIGHT, command=radioClick).pack()\n",
    "Radiobutton(tk, variable=var, value=2, image=img, text=\"TOP\", compound=TOP, command=radioClick).pack()\n",
    "Radiobutton(tk, variable=var, value=3, image=img, text=\"BOTTOM\", compound=BOTTOM, command=radioClick).pack()\n",
    "Radiobutton(tk, variable=var, value=4, image=img, text=\"CENTER\", compound=CENTER, command=radioClick).pack()\n",
    "# -------------------------------------\n",
    "tk.bind_all(\"<KeyPress>\", keyEvent)\n",
    "tk.lift()\n",
    "tk.focus_force()\n",
    "tk.after(10000, tk.destroy)\n",
    "tk.mainloop()"
   ]
  },
  {
   "cell_type": "code",
   "execution_count": 31,
   "metadata": {},
   "outputs": [
    {
     "data": {
      "text/html": [
       "<img src=\"res/tk_radio5.png\">\n"
      ],
      "text/plain": [
       "<IPython.core.display.HTML object>"
      ]
     },
     "metadata": {},
     "output_type": "display_data"
    }
   ],
   "source": [
    "%%html\n",
    "<img src=\"res/tk_radio5.png\">"
   ]
  },
  {
   "cell_type": "markdown",
   "metadata": {},
   "source": [
    "### Checkbox"
   ]
  },
  {
   "cell_type": "code",
   "execution_count": 35,
   "metadata": {},
   "outputs": [
    {
     "name": "stdout",
     "output_type": "stream",
     "text": [
      "1 0 0\n",
      "1 1 0\n",
      "1 1 1\n",
      "1 0 1\n",
      "0 0 1\n"
     ]
    }
   ],
   "source": [
    "from tkinter import *\n",
    "from PIL import Image, ImageTk\n",
    "\n",
    "def keyEvent(event):\n",
    "    if event.keysym == \"Escape\":\n",
    "        tk.destroy()\n",
    "\n",
    "tk = Tk()\n",
    "# -------------------------------------\n",
    "def checkClick():\n",
    "    print(var1.get(), var2.get(), var3.get())\n",
    "\n",
    "var1 = IntVar()\n",
    "var2 = IntVar()\n",
    "var3 = IntVar()\n",
    "\n",
    "Checkbutton(tk, text=\"a\", variable=var1, command=checkClick).pack()\n",
    "Checkbutton(tk, text=\"b\", variable=var2, command=checkClick).pack()\n",
    "Checkbutton(tk, text=\"c\", variable=var3, command=checkClick).pack()\n",
    "# -------------------------------------\n",
    "tk.bind_all(\"<KeyPress>\", keyEvent)\n",
    "tk.lift()\n",
    "tk.focus_force()\n",
    "tk.after(10000, tk.destroy)\n",
    "tk.mainloop()"
   ]
  },
  {
   "cell_type": "code",
   "execution_count": 36,
   "metadata": {},
   "outputs": [
    {
     "data": {
      "text/html": [
       "<img src=\"res/tk_radio6.png\">\n"
      ],
      "text/plain": [
       "<IPython.core.display.HTML object>"
      ]
     },
     "metadata": {},
     "output_type": "display_data"
    }
   ],
   "source": [
    "%%html\n",
    "<img src=\"res/tk_radio6.png\">"
   ]
  },
  {
   "cell_type": "code",
   "execution_count": 38,
   "metadata": {},
   "outputs": [],
   "source": [
    "from tkinter import *\n",
    "from PIL import Image, ImageTk\n",
    "\n",
    "def keyEvent(event):\n",
    "    if event.keysym == \"Escape\":\n",
    "        tk.destroy()\n",
    "\n",
    "tk = Tk()\n",
    "# -------------------------------------\n",
    "def checkClick():\n",
    "    print(var1.get(), var2.get(), var3.get())\n",
    "\n",
    "img = Image.open(\"res/mario.png\")\n",
    "img = img.resize((50, 70), Image.ANTIALIAS)\n",
    "img = ImageTk.PhotoImage(img)\n",
    "\n",
    "var1 = IntVar()\n",
    "var2 = IntVar()\n",
    "var3 = IntVar()\n",
    "\n",
    "Checkbutton(tk, image=img, bg=\"#ffff00\", variable=var1, command=checkClick).pack()\n",
    "Checkbutton(tk, image=img, bg=\"#ff00ff\", variable=var2, command=checkClick).pack()\n",
    "Checkbutton(tk, image=img, bg=\"#00ff00\", variable=var3, command=checkClick).pack()\n",
    "# -------------------------------------\n",
    "tk.bind_all(\"<KeyPress>\", keyEvent)\n",
    "tk.lift()\n",
    "tk.focus_force()\n",
    "tk.after(10000, tk.destroy)\n",
    "tk.mainloop()"
   ]
  },
  {
   "cell_type": "code",
   "execution_count": 40,
   "metadata": {},
   "outputs": [
    {
     "data": {
      "text/html": [
       "<img src=\"res/tk_radio7.png\">\n"
      ],
      "text/plain": [
       "<IPython.core.display.HTML object>"
      ]
     },
     "metadata": {},
     "output_type": "display_data"
    }
   ],
   "source": [
    "%%html\n",
    "<img src=\"res/tk_radio7.png\">"
   ]
  },
  {
   "cell_type": "code",
   "execution_count": null,
   "metadata": {},
   "outputs": [],
   "source": []
  }
 ],
 "metadata": {
  "kernelspec": {
   "display_name": "Python 3",
   "language": "python",
   "name": "python3"
  },
  "language_info": {
   "codemirror_mode": {
    "name": "ipython",
    "version": 3
   },
   "file_extension": ".py",
   "mimetype": "text/x-python",
   "name": "python",
   "nbconvert_exporter": "python",
   "pygments_lexer": "ipython3",
   "version": "3.7.1"
  }
 },
 "nbformat": 4,
 "nbformat_minor": 2
}
