{
 "cells": [
  {
   "cell_type": "code",
   "execution_count": null,
   "metadata": {},
   "outputs": [],
   "source": []
  },
  {
   "cell_type": "code",
   "execution_count": 5,
   "metadata": {},
   "outputs": [],
   "source": [
    "from tkinter import *\n",
    "\n",
    "def keyEvent(event):\n",
    "    if event.keysym == \"Escape\":\n",
    "        tk.destroy()\n",
    "\n",
    "tk = Tk()\n",
    "# -------------------------------------\n",
    "Label(tk, text=\"Account\").grid(row=0)\n",
    "Label(tk, text=\"Password\").grid(row=1)\n",
    "\n",
    "e1 = Entry(tk)\n",
    "e1.grid(row=0, column=1)\n",
    "e1.focus_force()\n",
    "\n",
    "e2 = Entry(tk, show=\"*\")\n",
    "e2.grid(row=1, column=1)\n",
    "# -------------------------------------\n",
    "tk.bind_all(\"<KeyPress>\", keyEvent)\n",
    "tk.lift()\n",
    "tk.focus_force()\n",
    "tk.after(10000, tk.destroy)\n",
    "tk.mainloop()"
   ]
  },
  {
   "cell_type": "code",
   "execution_count": 18,
   "metadata": {},
   "outputs": [
    {
     "data": {
      "text/html": [
       "<img src=\"res/tk_entry1.png\">\n"
      ],
      "text/plain": [
       "<IPython.core.display.HTML object>"
      ]
     },
     "metadata": {},
     "output_type": "display_data"
    }
   ],
   "source": [
    "%%html\n",
    "<img src=\"res/tk_entry1.png\">"
   ]
  },
  {
   "cell_type": "code",
   "execution_count": 1,
   "metadata": {},
   "outputs": [],
   "source": [
    "from tkinter import *\n",
    "\n",
    "def keyEvent(event):\n",
    "    if event.keysym == \"Escape\":\n",
    "        tk.destroy()\n",
    "\n",
    "tk = Tk()\n",
    "# -------------------------------------\n",
    "def f1():\n",
    "    print(e1.get())  # get account\n",
    "    print(e2.get())  # get password\n",
    "\n",
    "Label(tk, text=\"Account\").grid(row=0)\n",
    "Label(tk, text=\"Password\").grid(row=1)\n",
    "\n",
    "e1 = Entry(tk)\n",
    "e1.grid(row=0, column=1)\n",
    "e1.focus_force()\n",
    "e1.insert(0, \"Hugo\")  # insert the string to account\n",
    "\n",
    "e2 = Entry(tk, show=\"*\")\n",
    "e2.grid(row=1, column=1)\n",
    "e2.insert(0, \"123\")  # insert the string to password\n",
    "\n",
    "tk.after(3000, f1)\n",
    "# -------------------------------------\n",
    "tk.bind_all(\"<KeyPress>\", keyEvent)\n",
    "tk.lift()\n",
    "tk.focus_force()\n",
    "tk.after(10000, tk.destroy)\n",
    "tk.mainloop()"
   ]
  },
  {
   "cell_type": "code",
   "execution_count": 6,
   "metadata": {},
   "outputs": [
    {
     "data": {
      "text/html": [
       "<img src=\"res/tk_entry2.png\">\n"
      ],
      "text/plain": [
       "<IPython.core.display.HTML object>"
      ]
     },
     "metadata": {},
     "output_type": "display_data"
    }
   ],
   "source": [
    "%%html\n",
    "<img src=\"res/tk_entry2.png\">"
   ]
  },
  {
   "cell_type": "code",
   "execution_count": 3,
   "metadata": {},
   "outputs": [],
   "source": [
    "from tkinter import *\n",
    "\n",
    "def keyEvent(event):\n",
    "    if event.keysym == \"Escape\":\n",
    "        tk.destroy()\n",
    "\n",
    "tk = Tk()\n",
    "# -------------------------------------\n",
    "def f1():\n",
    "    # clear the string after 1 second\n",
    "    e1.delete(0, END)\n",
    "    e2.delete(0, END)\n",
    "\n",
    "Label(tk, text=\"Account\").grid(row=0)\n",
    "Label(tk, text=\"Password\").grid(row=1)\n",
    "\n",
    "e1 = Entry(tk)\n",
    "e1.grid(row=0, column=1)\n",
    "e1.focus_force()\n",
    "e1.insert(0, \"Hugo\")\n",
    "\n",
    "e2 = Entry(tk, show=\"*\")\n",
    "e2.grid(row=1, column=1)\n",
    "e2.insert(0, \"123\")\n",
    "\n",
    "tk.after(1000, f1)\n",
    "# -------------------------------------\n",
    "tk.bind_all(\"<KeyPress>\", keyEvent)\n",
    "tk.lift()\n",
    "tk.focus_force()\n",
    "tk.after(10000, tk.destroy)\n",
    "tk.mainloop()"
   ]
  },
  {
   "cell_type": "code",
   "execution_count": null,
   "metadata": {},
   "outputs": [],
   "source": []
  }
 ],
 "metadata": {
  "kernelspec": {
   "display_name": "Python 3",
   "language": "python",
   "name": "python3"
  },
  "language_info": {
   "codemirror_mode": {
    "name": "ipython",
    "version": 3
   },
   "file_extension": ".py",
   "mimetype": "text/x-python",
   "name": "python",
   "nbconvert_exporter": "python",
   "pygments_lexer": "ipython3",
   "version": "3.7.1"
  }
 },
 "nbformat": 4,
 "nbformat_minor": 2
}
