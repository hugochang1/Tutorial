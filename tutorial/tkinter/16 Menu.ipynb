{
 "cells": [
  {
   "cell_type": "code",
   "execution_count": null,
   "metadata": {},
   "outputs": [],
   "source": []
  },
  {
   "cell_type": "code",
   "execution_count": 3,
   "metadata": {},
   "outputs": [
    {
     "name": "stdout",
     "output_type": "stream",
     "text": [
      "A\n",
      "B\n"
     ]
    }
   ],
   "source": [
    "from tkinter import *\n",
    "from tkinter.ttk import *\n",
    "\n",
    "def keyEvent(event):\n",
    "    if event.keysym == \"Escape\":\n",
    "        tk.destroy()\n",
    "\n",
    "tk = Tk()\n",
    "# -------------------------------------\n",
    "def f1(value):\n",
    "    print(value)\n",
    "\n",
    "menubar = Menu(tk)\n",
    "menubar.add_command(label=\"A\", command=lambda:f1(\"A\"))\n",
    "menubar.add_command(label=\"B\", command=lambda:f1(\"B\"))\n",
    "tk.config(menu=menubar)\n",
    "# -------------------------------------\n",
    "tk.bind_all(\"<KeyPress>\", keyEvent)\n",
    "tk.lift()\n",
    "tk.focus_force()\n",
    "tk.after(20000, tk.destroy)\n",
    "tk.mainloop()"
   ]
  },
  {
   "cell_type": "code",
   "execution_count": 4,
   "metadata": {},
   "outputs": [
    {
     "data": {
      "text/html": [
       "<img src=\"res/tk_menu1.png\">\n"
      ],
      "text/plain": [
       "<IPython.core.display.HTML object>"
      ]
     },
     "metadata": {},
     "output_type": "display_data"
    }
   ],
   "source": [
    "%%html\n",
    "<img src=\"res/tk_menu1.png\">"
   ]
  },
  {
   "cell_type": "code",
   "execution_count": 24,
   "metadata": {},
   "outputs": [],
   "source": [
    "from tkinter import *\n",
    "from tkinter.ttk import *\n",
    "\n",
    "def keyEvent(event):\n",
    "    if event.keysym == \"Escape\":\n",
    "        tk.destroy()\n",
    "\n",
    "tk = Tk()\n",
    "# -------------------------------------\n",
    "def f1(value):\n",
    "    print(value)\n",
    "\n",
    "menubar = Menu(tk)\n",
    "menubar.add_command(label=\"A\", command=lambda:f1(\"A\"), underline=0)\n",
    "menubar.add_command(label=\"B\", command=lambda:f1(\"B\"), underline=0)\n",
    "\n",
    "menuC = Menu(menubar, tearoff=False)\n",
    "menubar.add_cascade(label=\"C\", menu=menuC, underline=0)\n",
    "menuC.add_command(label=\"D\", command=lambda:f1(\"D\"), underline=0)\n",
    "menuC.add_command(label=\"E\", command=lambda:f1(\"E\"), underline=0)\n",
    "menuC.add_separator()\n",
    "menuC.add_command(label=\"F123\", command=lambda:f1(\"F\"), underline=1)\n",
    "menuC.add_checkbutton(label=\"G\")\n",
    "\n",
    "tk.config(menu=menubar)\n",
    "# -------------------------------------\n",
    "tk.bind_all(\"<KeyPress>\", keyEvent)\n",
    "tk.lift()\n",
    "tk.focus_force()\n",
    "tk.after(20000, tk.destroy)\n",
    "tk.mainloop()"
   ]
  },
  {
   "cell_type": "code",
   "execution_count": 7,
   "metadata": {},
   "outputs": [
    {
     "data": {
      "text/html": [
       "<img src=\"res/tk_menu2.png\">\n"
      ],
      "text/plain": [
       "<IPython.core.display.HTML object>"
      ]
     },
     "metadata": {},
     "output_type": "display_data"
    }
   ],
   "source": [
    "%%html\n",
    "<img src=\"res/tk_menu2.png\">"
   ]
  },
  {
   "cell_type": "code",
   "execution_count": 27,
   "metadata": {},
   "outputs": [],
   "source": [
    "from tkinter import *\n",
    "from tkinter.ttk import *\n",
    "\n",
    "def keyEvent(event):\n",
    "    if event.keysym == \"Escape\":\n",
    "        tk.destroy()\n",
    "\n",
    "tk = Tk()\n",
    "# -------------------------------------\n",
    "def f1(value):\n",
    "    print(value)\n",
    "\n",
    "menubar = Menu(tk)\n",
    "menubar.add_command(label=\"A\", command=lambda:f1(\"A\"))\n",
    "menubar.add_command(label=\"B\", command=lambda:f1(\"B\"))\n",
    "\n",
    "menuC = Menu(menubar, tearoff=False)\n",
    "menubar.add_cascade(label=\"C\", menu=menuC)\n",
    "menuC.add_command(label=\"D\", command=lambda:f1(\"D\"))\n",
    "\n",
    "menuE = Menu(menuC, tearoff=False)\n",
    "menuC.add_cascade(label=\"E\", menu=menuE)\n",
    "menuE.add_command(label=\"F\", command=lambda:f1(\"F\"))\n",
    "\n",
    "tk.config(menu=menubar)\n",
    "# -------------------------------------\n",
    "tk.bind_all(\"<KeyPress>\", keyEvent)\n",
    "tk.lift()\n",
    "tk.focus_force()\n",
    "tk.after(20000, tk.destroy)\n",
    "tk.mainloop()"
   ]
  },
  {
   "cell_type": "code",
   "execution_count": 28,
   "metadata": {},
   "outputs": [
    {
     "data": {
      "text/html": [
       "<img src=\"res/tk_menu4.png\">\n"
      ],
      "text/plain": [
       "<IPython.core.display.HTML object>"
      ]
     },
     "metadata": {},
     "output_type": "display_data"
    }
   ],
   "source": [
    "%%html\n",
    "<img src=\"res/tk_menu4.png\">"
   ]
  },
  {
   "cell_type": "markdown",
   "metadata": {},
   "source": [
    "### Ctrl + Shortcuts"
   ]
  },
  {
   "cell_type": "code",
   "execution_count": 22,
   "metadata": {},
   "outputs": [],
   "source": [
    "from tkinter import *\n",
    "from tkinter.ttk import *\n",
    "\n",
    "def keyEvent(event):\n",
    "    if event.keysym == \"Escape\":\n",
    "        tk.destroy()\n",
    "\n",
    "tk = Tk()\n",
    "# -------------------------------------\n",
    "def f1(value):\n",
    "    print(value)\n",
    "\n",
    "menubar = Menu(tk)\n",
    "menubar.add_command(label=\"A\", command=lambda:f1(\"A\"), underline=0)\n",
    "menubar.add_command(label=\"B\", command=lambda:f1(\"B\"), underline=0)\n",
    "\n",
    "menuC = Menu(menubar, tearoff=False)\n",
    "menubar.add_cascade(label=\"C\", menu=menuC, underline=0)\n",
    "menuC.add_command(label=\"D\", command=lambda:f1(\"D\"), underline=0)\n",
    "menuC.add_command(label=\"E\", command=lambda:f1(\"E\"), underline=0)\n",
    "menuC.add_separator()\n",
    "menuC.add_command(label=\"F123\", command=lambda:f1(\"F\"), underline=1, accelerator=\"Ctrl+N\")\n",
    "\n",
    "tk.bind(\"<Control-N>\", lambda event:f1(\"F2\"))\n",
    "tk.bind(\"<Control-n>\", lambda event:f1(\"F3\"))\n",
    "\n",
    "tk.config(menu=menubar)\n",
    "# -------------------------------------\n",
    "tk.bind_all(\"<KeyPress>\", keyEvent)\n",
    "tk.lift()\n",
    "tk.focus_force()\n",
    "tk.after(20000, tk.destroy)\n",
    "tk.mainloop()"
   ]
  },
  {
   "cell_type": "code",
   "execution_count": 23,
   "metadata": {},
   "outputs": [
    {
     "data": {
      "text/html": [
       "<img src=\"res/tk_menu3.png\">\n"
      ],
      "text/plain": [
       "<IPython.core.display.HTML object>"
      ]
     },
     "metadata": {},
     "output_type": "display_data"
    }
   ],
   "source": [
    "%%html\n",
    "<img src=\"res/tk_menu3.png\">"
   ]
  },
  {
   "cell_type": "markdown",
   "metadata": {},
   "source": [
    "### Toolbar"
   ]
  },
  {
   "cell_type": "code",
   "execution_count": 36,
   "metadata": {},
   "outputs": [
    {
     "name": "stdout",
     "output_type": "stream",
     "text": [
      "hello\n",
      "hello\n"
     ]
    }
   ],
   "source": [
    "from tkinter import *\n",
    "from tkinter.ttk import *\n",
    "\n",
    "def keyEvent(event):\n",
    "    if event.keysym == \"Escape\":\n",
    "        tk.destroy()\n",
    "\n",
    "tk = Tk()\n",
    "# -------------------------------------\n",
    "tk.geometry(\"300x200\")\n",
    "\n",
    "toolbar = Frame(tk, relief=RAISED, borderwidth=3)\n",
    "Button(toolbar, text=\"Hello\", width=10, command=lambda:print(\"hello\")).pack(side=LEFT)\n",
    "Button(toolbar, text=\"EXIT\", width=10, command=tk.destroy).pack(side=LEFT)\n",
    "toolbar.pack(side=TOP, fill=X)\n",
    "# -------------------------------------\n",
    "tk.bind_all(\"<KeyPress>\", keyEvent)\n",
    "tk.lift()\n",
    "tk.focus_force()\n",
    "tk.after(20000, tk.destroy)\n",
    "tk.mainloop()"
   ]
  },
  {
   "cell_type": "code",
   "execution_count": 37,
   "metadata": {},
   "outputs": [
    {
     "data": {
      "text/html": [
       "<img src=\"res/tk_menu5.png\">\n"
      ],
      "text/plain": [
       "<IPython.core.display.HTML object>"
      ]
     },
     "metadata": {},
     "output_type": "display_data"
    }
   ],
   "source": [
    "%%html\n",
    "<img src=\"res/tk_menu5.png\">"
   ]
  },
  {
   "cell_type": "markdown",
   "metadata": {},
   "source": [
    "### Popup"
   ]
  },
  {
   "cell_type": "code",
   "execution_count": 47,
   "metadata": {},
   "outputs": [
    {
     "name": "stdout",
     "output_type": "stream",
     "text": [
      "A\n"
     ]
    }
   ],
   "source": [
    "from tkinter import *\n",
    "from tkinter.ttk import *\n",
    "\n",
    "def keyEvent(event):\n",
    "    if event.keysym == \"Escape\":\n",
    "        tk.destroy()\n",
    "\n",
    "tk = Tk()\n",
    "# -------------------------------------\n",
    "def f1(value):\n",
    "    print(value)\n",
    "\n",
    "pop = Menu(tk, tearoff=False)\n",
    "pop.add_command(label=\"A\", command=lambda:f1(\"A\"))\n",
    "pop.add_command(label=\"B\", command=lambda:f1(\"B\"))\n",
    "\n",
    "# listen the right click of mouse <Button-3>\n",
    "tk.bind(\"<Button-3>\", lambda event:pop.post(event.x_root, event.y_root))\n",
    "# -------------------------------------\n",
    "tk.bind_all(\"<KeyPress>\", keyEvent)\n",
    "tk.lift()\n",
    "tk.focus_force()\n",
    "tk.after(20000, tk.destroy)\n",
    "tk.mainloop()"
   ]
  },
  {
   "cell_type": "code",
   "execution_count": 40,
   "metadata": {},
   "outputs": [
    {
     "data": {
      "text/html": [
       "<img src=\"res/tk_menu6.png\">\n"
      ],
      "text/plain": [
       "<IPython.core.display.HTML object>"
      ]
     },
     "metadata": {},
     "output_type": "display_data"
    }
   ],
   "source": [
    "%%html\n",
    "<img src=\"res/tk_menu6.png\">"
   ]
  },
  {
   "cell_type": "code",
   "execution_count": null,
   "metadata": {},
   "outputs": [],
   "source": []
  }
 ],
 "metadata": {
  "kernelspec": {
   "display_name": "Python 3",
   "language": "python",
   "name": "python3"
  },
  "language_info": {
   "codemirror_mode": {
    "name": "ipython",
    "version": 3
   },
   "file_extension": ".py",
   "mimetype": "text/x-python",
   "name": "python",
   "nbconvert_exporter": "python",
   "pygments_lexer": "ipython3",
   "version": "3.7.1"
  }
 },
 "nbformat": 4,
 "nbformat_minor": 2
}
