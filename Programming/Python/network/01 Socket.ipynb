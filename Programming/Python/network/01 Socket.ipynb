{
 "cells": [
  {
   "cell_type": "markdown",
   "metadata": {},
   "source": [
    "### Log"
   ]
  },
  {
   "cell_type": "code",
   "execution_count": 1,
   "metadata": {},
   "outputs": [
    {
     "name": "stdout",
     "output_type": "stream",
     "text": [
      "2020/05/17 20:59:17.566880 2408 [1.00][D] LOGD\n",
      "2020/05/17 20:59:17.568880 2408 [1.00][W] LOGW\n",
      "2020/05/17 20:59:17.569880 2408 [1.00][E] LOGE\n"
     ]
    }
   ],
   "source": [
    "import datetime, threading\n",
    "from threading import Lock\n",
    "\n",
    "module_version = \"[1.00]\"\n",
    "log_file_path = \"./log.txt\"\n",
    "_log_lock = Lock()\n",
    "\n",
    "def LOGD(*args, **args2):\n",
    "    with _log_lock:\n",
    "        prefix = datetime.datetime.now().strftime('%Y/%m/%d %H:%M:%S.%f') + \" \" + str(threading.get_ident()) + \" \" + module_version + '[D]'\n",
    "        print(prefix, *args, **args2)\n",
    "        with open(log_file_path, \"a\") as f:\n",
    "            print(prefix, *args, **args2, file=f)\n",
    "\n",
    "def LOGW(*args, **args2):\n",
    "    with _log_lock:\n",
    "        prefix = datetime.datetime.now().strftime('%Y/%m/%d %H:%M:%S.%f') + \" \" + str(threading.get_ident()) + \" \" + module_version + '[W]'\n",
    "        print(prefix, *args, **args2)\n",
    "        with open(log_file_path, \"a\") as f:\n",
    "            print(prefix, *args, **args2, file=f)\n",
    "\n",
    "def LOGE(*args, **args2):\n",
    "    with _log_lock:\n",
    "        prefix = datetime.datetime.now().strftime('%Y/%m/%d %H:%M:%S.%f') + \" \" + str(threading.get_ident()) + \" \" + module_version + '[E]'\n",
    "        print(prefix, *args, **args2)\n",
    "        with open(log_file_path, \"a\") as f:\n",
    "            print(prefix, *args, **args2, file=f)\n",
    "\n",
    "             # YEAR/MM/DD HH:MM:SS.UUUUUU PID   VER  TAG your_msg\n",
    "LOGD(\"LOGD\") # 2020/05/17 09:01:47.947437 2664 [1.00][D] LOGD\n",
    "LOGW(\"LOGW\") # 2020/05/17 09:01:47.949437 2664 [1.00][W] LOGW\n",
    "LOGE(\"LOGE\") # 2020/05/17 09:01:47.950437 2664 [1.00][E] LOGE"
   ]
  },
  {
   "cell_type": "markdown",
   "metadata": {},
   "source": [
    "### Server"
   ]
  },
  {
   "cell_type": "code",
   "execution_count": 2,
   "metadata": {},
   "outputs": [],
   "source": [
    "import socket, threading\n",
    "\n",
    "def server_thread():\n",
    "    port = 10010\n",
    "    server = socket.socket(socket.AF_INET, socket.SOCK_STREAM)\n",
    "    server.bind(('localhost', port))\n",
    "    server.listen(5)\n",
    "    while True:\n",
    "        try:\n",
    "            conn, addr = server.accept()\n",
    "            LOGD('new client connected ', addr)\n",
    "            # conn is a socket.socket type, socket.socket fd=776, family=AddressFamily.AF_INET, type=SocketKind.SOCK_STREAM, proto=0, laddr=('127.0.0.1', 12345), raddr=('127.0.0.1', 49451)\n",
    "            # addr is a tuple, ('127.0.0.1', 49451)\n",
    "            while True:\n",
    "                try:\n",
    "                    data = conn.recv(1024)\n",
    "                    conn.send(b'Server received ' + data)\n",
    "                except Exception as err:\n",
    "                    LOGD(\"remote client closed\")\n",
    "                    conn.close()\n",
    "                    break\n",
    "        except Exception as err:\n",
    "            LOGE(traceback.format_exc())\n",
    "\n",
    "threading.Thread(target=server_thread).start()"
   ]
  },
  {
   "cell_type": "markdown",
   "metadata": {},
   "source": [
    "### Client"
   ]
  },
  {
   "cell_type": "code",
   "execution_count": 4,
   "metadata": {},
   "outputs": [
    {
     "name": "stdout",
     "output_type": "stream",
     "text": [
      "2020/05/17 20:59:22.559165 5164 [1.00][D] new client connected  ('127.0.0.1', 51769)\n",
      "2020/05/17 20:59:22.564166 2408 [1.00][D] b'Server received hello from client 123'\n",
      "2020/05/17 20:59:22.567166 5164 [1.00][D] remote client closed\n"
     ]
    }
   ],
   "source": [
    "import socket\n",
    "\n",
    "try:\n",
    "    port = 10010\n",
    "    client = socket.socket(socket.AF_INET, socket.SOCK_STREAM)\n",
    "    client.connect(('localhost', port))\n",
    "    \n",
    "    client.send(b'hello from client 123')\n",
    "    data = client.recv(1024)\n",
    "    LOGD(data)\n",
    "        \n",
    "    client.close()\n",
    "except Error as err:\n",
    "    LOGE(err)\n"
   ]
  },
  {
   "cell_type": "code",
   "execution_count": null,
   "metadata": {},
   "outputs": [],
   "source": []
  }
 ],
 "metadata": {
  "kernelspec": {
   "display_name": "Python 3",
   "language": "python",
   "name": "python3"
  },
  "language_info": {
   "codemirror_mode": {
    "name": "ipython",
    "version": 3
   },
   "file_extension": ".py",
   "mimetype": "text/x-python",
   "name": "python",
   "nbconvert_exporter": "python",
   "pygments_lexer": "ipython3",
   "version": "3.7.0"
  }
 },
 "nbformat": 4,
 "nbformat_minor": 4
}
