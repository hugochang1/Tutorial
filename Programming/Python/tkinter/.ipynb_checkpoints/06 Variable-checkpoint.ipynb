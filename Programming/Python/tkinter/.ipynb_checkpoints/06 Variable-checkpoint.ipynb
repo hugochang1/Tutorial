{
 "cells": [
  {
   "cell_type": "code",
   "execution_count": null,
   "metadata": {},
   "outputs": [],
   "source": []
  },
  {
   "cell_type": "code",
   "execution_count": 1,
   "metadata": {},
   "outputs": [
    {
     "name": "stdout",
     "output_type": "stream",
     "text": [
      "changed!!!\n",
      "10\n",
      "123.456\n",
      "True\n"
     ]
    }
   ],
   "source": [
    "from tkinter import *\n",
    "\n",
    "def keyEvent(event):\n",
    "    if event.keysym == \"Escape\":\n",
    "        tk.destroy()\n",
    "\n",
    "tk = Tk()\n",
    "# -------------------------------------\n",
    "def buttonClick():\n",
    "    # set\n",
    "    s.set(\"changed!!!\")\n",
    "    i.set(10)\n",
    "    d.set(123.456)\n",
    "    b.set(True)\n",
    "    # get\n",
    "    print(s.get())\n",
    "    print(i.get())\n",
    "    print(d.get())\n",
    "    print(b.get())\n",
    "\n",
    "s = StringVar(value=\"default\")\n",
    "i = IntVar(value=1)\n",
    "d = DoubleVar(value=1.1)\n",
    "b = BooleanVar(value=False)\n",
    "\n",
    "Label(tk, textvariable=s).pack()\n",
    "Label(tk, textvariable=i).pack()\n",
    "Label(tk, textvariable=d).pack()\n",
    "Label(tk, textvariable=b).pack()\n",
    "Button(tk, text=\"Change\", command=buttonClick).pack()\n",
    "# -------------------------------------\n",
    "tk.bind_all(\"<KeyPress>\", keyEvent)\n",
    "tk.lift()\n",
    "tk.focus_force()\n",
    "tk.after(10000, tk.destroy)\n",
    "tk.mainloop()"
   ]
  },
  {
   "cell_type": "code",
   "execution_count": 18,
   "metadata": {},
   "outputs": [
    {
     "data": {
      "text/html": [
       "<img src=\"res/tk_variable1.png\">\n"
      ],
      "text/plain": [
       "<IPython.core.display.HTML object>"
      ]
     },
     "metadata": {},
     "output_type": "display_data"
    }
   ],
   "source": [
    "%%html\n",
    "<img src=\"res/tk_variable1.png\">"
   ]
  },
  {
   "cell_type": "code",
   "execution_count": 2,
   "metadata": {},
   "outputs": [],
   "source": [
    "from tkinter import *\n",
    "\n",
    "def keyEvent(event):\n",
    "    if event.keysym == \"Escape\":\n",
    "        tk.destroy()\n",
    "\n",
    "tk = Tk()\n",
    "# -------------------------------------\n",
    "def f1(*args):\n",
    "    print(s.get())\n",
    "\n",
    "s = StringVar()\n",
    "s.trace(\"w\", f1)  # add \"write\" operation to trace\n",
    "\n",
    "entry1 = Entry(tk, textvariable=s)\n",
    "entry1.pack()\n",
    "entry1.focus()\n",
    "# -------------------------------------\n",
    "tk.bind_all(\"<KeyPress>\", keyEvent)\n",
    "tk.lift()\n",
    "tk.focus_force()\n",
    "tk.after(10000, tk.destroy)\n",
    "tk.mainloop()"
   ]
  },
  {
   "cell_type": "code",
   "execution_count": 8,
   "metadata": {},
   "outputs": [
    {
     "data": {
      "text/html": [
       "<img src=\"res/tk_variable2.png\">\n"
      ],
      "text/plain": [
       "<IPython.core.display.HTML object>"
      ]
     },
     "metadata": {},
     "output_type": "display_data"
    }
   ],
   "source": [
    "%%html\n",
    "<img src=\"res/tk_variable2.png\">"
   ]
  },
  {
   "cell_type": "code",
   "execution_count": 12,
   "metadata": {},
   "outputs": [],
   "source": [
    "from tkinter import *\n",
    "\n",
    "def keyEvent(event):\n",
    "    if event.keysym == \"Escape\":\n",
    "        tk.destroy()\n",
    "\n",
    "tk = Tk()\n",
    "# -------------------------------------\n",
    "s = StringVar()\n",
    "\n",
    "entry1 = Entry(tk, textvariable=s)\n",
    "entry1.pack()\n",
    "entry1.focus()\n",
    "\n",
    "Label(tk, textvariable=s).pack()  # share the same StringVar\n",
    "# -------------------------------------\n",
    "tk.bind_all(\"<KeyPress>\", keyEvent)\n",
    "tk.lift()\n",
    "tk.focus_force()\n",
    "tk.after(10000, tk.destroy)\n",
    "tk.mainloop()"
   ]
  },
  {
   "cell_type": "code",
   "execution_count": 13,
   "metadata": {},
   "outputs": [
    {
     "data": {
      "text/html": [
       "<img src=\"res/tk_variable3.png\">\n"
      ],
      "text/plain": [
       "<IPython.core.display.HTML object>"
      ]
     },
     "metadata": {},
     "output_type": "display_data"
    }
   ],
   "source": [
    "%%html\n",
    "<img src=\"res/tk_variable3.png\">"
   ]
  },
  {
   "cell_type": "code",
   "execution_count": 3,
   "metadata": {},
   "outputs": [],
   "source": [
    "from tkinter import *\n",
    "\n",
    "def keyEvent(event):\n",
    "    if event.keysym == \"Escape\":\n",
    "        tk.destroy()\n",
    "\n",
    "tk = Tk()\n",
    "# -------------------------------------\n",
    "def clear():\n",
    "    s.set(\"\")\n",
    "\n",
    "def calculate():\n",
    "    try:\n",
    "        c = s.get()\n",
    "        ret = eval(c)\n",
    "        c += \"=\\n\" + str(ret)\n",
    "        s.set(c)\n",
    "    except:\n",
    "        s.set(\"invalid expression\\n\")\n",
    "\n",
    "def show(var):\n",
    "    c = s.get()\n",
    "    if c.find(\"\\n\") != -1:\n",
    "        c = \"\"\n",
    "    c += var\n",
    "    s.set(c)\n",
    "\n",
    "def delete():\n",
    "    c = s.get()\n",
    "    s.set(c[:-1])\n",
    "\n",
    "s = StringVar(value=\"\")\n",
    "\n",
    "Label(tk, height=2, textvariable=s, anchor=SE, font=(\"\", 15)).grid(row=0, columnspan=4, padx=5, pady=5, sticky=E+W)\n",
    "\n",
    "Button(tk, text=\"C\", command=lambda:clear(), width=5).grid(row=1, column=0, padx=5, pady=5)\n",
    "Button(tk, text=\"DEL\", command=lambda:delete(), width=5).grid(row=1, column=1, padx=5, pady=5)\n",
    "Button(tk, text=\"%\", command=lambda:show(\"%\"), width=5).grid(row=1, column=2, padx=5, pady=5)\n",
    "Button(tk, text=\"/\", command=lambda:show(\"/\"), width=5).grid(row=1, column=3, padx=5, pady=5)\n",
    "\n",
    "Button(tk, text=\"7\", command=lambda:show(\"7\"), width=5).grid(row=2, column=0, padx=5, pady=5)\n",
    "Button(tk, text=\"8\", command=lambda:show(\"8\"), width=5).grid(row=2, column=1, padx=5, pady=5)\n",
    "Button(tk, text=\"9\", command=lambda:show(\"9\"), width=5).grid(row=2, column=2, padx=5, pady=5)\n",
    "Button(tk, text=\"*\", command=lambda:show(\"*\"), width=5).grid(row=2, column=3, padx=5, pady=5)\n",
    "\n",
    "Button(tk, text=\"4\", command=lambda:show(\"4\"), width=5).grid(row=3, column=0, padx=5, pady=5)\n",
    "Button(tk, text=\"5\", command=lambda:show(\"5\"), width=5).grid(row=3, column=1, padx=5, pady=5)\n",
    "Button(tk, text=\"6\", command=lambda:show(\"6\"), width=5).grid(row=3, column=2, padx=5, pady=5)\n",
    "Button(tk, text=\"-\", command=lambda:show(\"-\"), width=5).grid(row=3, column=3, padx=5, pady=5)\n",
    "\n",
    "Button(tk, text=\"1\", command=lambda:show(\"1\"), width=5).grid(row=4, column=0, padx=5, pady=5)\n",
    "Button(tk, text=\"2\", command=lambda:show(\"2\"), width=5).grid(row=4, column=1, padx=5, pady=5)\n",
    "Button(tk, text=\"3\", command=lambda:show(\"3\"), width=5).grid(row=4, column=2, padx=5, pady=5)\n",
    "Button(tk, text=\"+\", command=lambda:show(\"+\"), width=5).grid(row=4, column=3, padx=5, pady=5)\n",
    "\n",
    "Button(tk, text=\"0\", command=lambda:show(\"0\"), width=5).grid(row=5, column=0, padx=5, pady=5, columnspan=2, sticky=E+W)\n",
    "Button(tk, text=\".\", command=lambda:show(\".\"), width=5).grid(row=5, column=2, padx=5, pady=5)\n",
    "Button(tk, text=\"=\", command=lambda:calculate(), width=5).grid(row=5, column=3, padx=5, pady=5)\n",
    "# -------------------------------------\n",
    "tk.bind_all(\"<KeyPress>\", keyEvent)\n",
    "tk.lift()\n",
    "tk.focus_force()\n",
    "tk.mainloop()"
   ]
  },
  {
   "cell_type": "code",
   "execution_count": 65,
   "metadata": {},
   "outputs": [
    {
     "data": {
      "text/html": [
       "<img src=\"res/tk_variable4.png\">\n"
      ],
      "text/plain": [
       "<IPython.core.display.HTML object>"
      ]
     },
     "metadata": {},
     "output_type": "display_data"
    }
   ],
   "source": [
    "%%html\n",
    "<img src=\"res/tk_variable4.png\">"
   ]
  },
  {
   "cell_type": "code",
   "execution_count": null,
   "metadata": {},
   "outputs": [],
   "source": []
  }
 ],
 "metadata": {
  "kernelspec": {
   "display_name": "Python 3",
   "language": "python",
   "name": "python3"
  },
  "language_info": {
   "codemirror_mode": {
    "name": "ipython",
    "version": 3
   },
   "file_extension": ".py",
   "mimetype": "text/x-python",
   "name": "python",
   "nbconvert_exporter": "python",
   "pygments_lexer": "ipython3",
   "version": "3.7.1"
  }
 },
 "nbformat": 4,
 "nbformat_minor": 2
}
