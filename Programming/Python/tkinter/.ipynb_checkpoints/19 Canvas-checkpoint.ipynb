{
 "cells": [
  {
   "cell_type": "markdown",
   "metadata": {},
   "source": [
    "# Canvas"
   ]
  },
  {
   "cell_type": "code",
   "execution_count": 4,
   "metadata": {},
   "outputs": [],
   "source": [
    "from tkinter import *\n",
    "from tkinter.ttk import *\n",
    "\n",
    "def keyEvent(event):\n",
    "    if event.keysym == \"Escape\":\n",
    "        tk.destroy()\n",
    "\n",
    "tk = Tk()\n",
    "# -------------------------------------\n",
    "canvas = Canvas(tk, width=400, height=100, bg=\"#00ff00\")\n",
    "canvas.pack()\n",
    "# -------------------------------------\n",
    "tk.bind_all(\"<KeyPress>\", keyEvent)\n",
    "tk.lift()\n",
    "tk.focus_force()\n",
    "tk.after(20000, tk.destroy)\n",
    "tk.mainloop()"
   ]
  },
  {
   "cell_type": "code",
   "execution_count": 5,
   "metadata": {},
   "outputs": [
    {
     "data": {
      "text/html": [
       "<img src=\"res/tk_canvas1.png\">\n"
      ],
      "text/plain": [
       "<IPython.core.display.HTML object>"
      ]
     },
     "metadata": {},
     "output_type": "display_data"
    }
   ],
   "source": [
    "%%html\n",
    "<img src=\"res/tk_canvas1.png\">"
   ]
  },
  {
   "cell_type": "markdown",
   "metadata": {},
   "source": [
    "# Scrolled Canvas"
   ]
  },
  {
   "cell_type": "code",
   "execution_count": 21,
   "metadata": {},
   "outputs": [],
   "source": [
    "from tkinter import *\n",
    "from tkinter.ttk import *\n",
    "\n",
    "def keyEvent(event):\n",
    "    if event.keysym == \"Escape\":\n",
    "        tk.destroy()\n",
    "\n",
    "tk = Tk()\n",
    "# -------------------------------------\n",
    "tk.geometry(\"600x400+0+0\")\n",
    "\n",
    "def mouse_wheel(event):\n",
    "    value = int(event.delta / 120)/100\n",
    "    current = list(yscrollCanvas.get())\n",
    "    current[0] -= value\n",
    "    canvas.yview(*('moveto', str(current[0])))\n",
    "\n",
    "frameCanvas = Frame(tk)\n",
    "frameCanvas.pack(fill=BOTH, expand=True)\n",
    "frameCanvas.grid_rowconfigure(0, weight=1)\n",
    "frameCanvas.grid_columnconfigure(0, weight=1)\n",
    "\n",
    "canvas = Canvas(frameCanvas, width=3000, height=3000, bg=\"#ffffff\", scrollregion=(0, 0, 3000, 3000))\n",
    "xscrollCanvas = Scrollbar(frameCanvas, orient=HORIZONTAL, command=canvas.xview)\n",
    "yscrollCanvas = Scrollbar(frameCanvas, orient=VERTICAL, command=canvas.yview)\n",
    "canvas[\"xscrollcommand\"] = xscrollCanvas.set\n",
    "canvas[\"yscrollcommand\"] = yscrollCanvas.set\n",
    "canvas.grid(row=0, column=0, sticky=\"nswe\")\n",
    "xscrollCanvas.grid(row=1, column=0, sticky=\"ew\")\n",
    "yscrollCanvas.grid(row=0, column=1, sticky=\"ns\")\n",
    "canvas.config(width=2000, height=2000)\n",
    "canvas.focus()\n",
    "canvas.bind_all(\"<MouseWheel>\", mouse_wheel)\n",
    "\n",
    "# create some baselines\n",
    "for i in range(30):\n",
    "    # create horizontal lines\n",
    "    y = i * 100\n",
    "    canvas.create_text(2, y, text=str(y), fill=\"red\", font=(\"\", 20), anchor=\"nw\")\n",
    "    canvas.create_line(0, y, 3000, y)\n",
    "    \n",
    "    # create vertical lines\n",
    "    x = i * 100\n",
    "    canvas.create_text(x, 0, text=str(x), fill=\"red\", font=(\"\", 20), anchor=\"nw\")\n",
    "    canvas.create_line(x, 0, x, 3000)\n",
    "# -------------------------------------\n",
    "tk.bind_all(\"<KeyPress>\", keyEvent)\n",
    "tk.lift()\n",
    "tk.focus_force()\n",
    "tk.after(20000, tk.destroy)\n",
    "tk.mainloop()"
   ]
  },
  {
   "cell_type": "code",
   "execution_count": 22,
   "metadata": {},
   "outputs": [
    {
     "data": {
      "text/html": [
       "<img src=\"res/tk_canvas2.png\">\n"
      ],
      "text/plain": [
       "<IPython.core.display.HTML object>"
      ]
     },
     "metadata": {},
     "output_type": "display_data"
    }
   ],
   "source": [
    "%%html\n",
    "<img src=\"res/tk_canvas2.png\">"
   ]
  },
  {
   "cell_type": "markdown",
   "metadata": {},
   "source": [
    "# Test"
   ]
  },
  {
   "cell_type": "code",
   "execution_count": 1,
   "metadata": {},
   "outputs": [],
   "source": [
    "from tkinter import *\n",
    "from tkinter.ttk import *\n",
    "\n",
    "def keyEvent(event):\n",
    "    if event.keysym == \"Escape\":\n",
    "        tk.destroy()\n",
    "\n",
    "tk = Tk()\n",
    "# -------------------------------------\n",
    "def motion(event):\n",
    "    msg = \"motion (x,y)=(%s,%s)\" % (event.x, event.y)\n",
    "    canvas.itemconfig(o1, text=msg)\n",
    "    #print(\"motion\")\n",
    "\n",
    "toolbar = Frame(tk, relief=RAISED, borderwidth=3)\n",
    "Button(toolbar, text=\"Hello\", width=10, command=lambda:print(\"hello\")).pack(side=LEFT)\n",
    "Button(toolbar, text=\"EXIT\", width=10, command=tk.destroy).pack(side=LEFT)\n",
    "toolbar.pack(side=TOP, fill=X)\n",
    "\n",
    "canvas = Canvas(tk, width=400, height=100, bg=\"#00ff00\")\n",
    "canvas.pack()\n",
    "\n",
    "o1 = canvas.create_text(10, 0, text=\"ABCabc123\", anchor=NW)\n",
    "\n",
    "canvas.bind(\"<Motion>\", motion)\n",
    "# -------------------------------------\n",
    "tk.bind_all(\"<KeyPress>\", keyEvent)\n",
    "tk.lift()\n",
    "tk.focus_force()\n",
    "#tk.after(40000, tk.destroy)\n",
    "tk.mainloop()"
   ]
  },
  {
   "cell_type": "code",
   "execution_count": null,
   "metadata": {},
   "outputs": [],
   "source": []
  }
 ],
 "metadata": {
  "kernelspec": {
   "display_name": "Python 3",
   "language": "python",
   "name": "python3"
  },
  "language_info": {
   "codemirror_mode": {
    "name": "ipython",
    "version": 3
   },
   "file_extension": ".py",
   "mimetype": "text/x-python",
   "name": "python",
   "nbconvert_exporter": "python",
   "pygments_lexer": "ipython3",
   "version": "3.7.1"
  }
 },
 "nbformat": 4,
 "nbformat_minor": 2
}
