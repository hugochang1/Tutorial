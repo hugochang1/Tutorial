{
 "cells": [
  {
   "cell_type": "code",
   "execution_count": null,
   "metadata": {},
   "outputs": [],
   "source": []
  },
  {
   "cell_type": "markdown",
   "metadata": {},
   "source": [
    "### datetime"
   ]
  },
  {
   "cell_type": "code",
   "execution_count": 1,
   "metadata": {},
   "outputs": [
    {
     "name": "stdout",
     "output_type": "stream",
     "text": [
      "<class 'datetime.datetime'>\n",
      "2019-01-16 08:47:18.146065\n",
      "2019\n",
      "1\n",
      "16\n",
      "8\n",
      "47\n",
      "18\n",
      "146065\n"
     ]
    }
   ],
   "source": [
    "import datetime\n",
    "\n",
    "t = datetime.datetime.now()\n",
    "print(type(t))\n",
    "print(t)\n",
    "print(t.year)\n",
    "print(t.month)\n",
    "print(t.day)\n",
    "print(t.hour)\n",
    "print(t.minute)\n",
    "print(t.second)\n",
    "print(t.microsecond)"
   ]
  },
  {
   "cell_type": "code",
   "execution_count": 2,
   "metadata": {},
   "outputs": [
    {
     "name": "stdout",
     "output_type": "stream",
     "text": [
      "end\n"
     ]
    }
   ],
   "source": [
    "# set a specific time\n",
    "import datetime\n",
    "import time\n",
    "\n",
    "t = datetime.datetime(2019, 1, 15, 13, 57, 0) # set a specific time\n",
    "\n",
    "while datetime.datetime.now() < t:\n",
    "    print(datetime.datetime.now())\n",
    "    time.sleep(1)\n",
    "print(\"end\")"
   ]
  },
  {
   "cell_type": "code",
   "execution_count": 3,
   "metadata": {},
   "outputs": [
    {
     "name": "stdout",
     "output_type": "stream",
     "text": [
      "3 days, 5:08:10\n",
      "3\n",
      "18490\n",
      "0\n",
      "277690.0\n"
     ]
    }
   ],
   "source": [
    "# timedelta\n",
    "import datetime\n",
    "\n",
    "t = datetime.timedelta(days=3, hours=5, minutes=8, seconds=10) # timedelta\n",
    "print(t)\n",
    "print(t.days) # days\n",
    "print(t.seconds) # hr, min, sec\n",
    "print(t.microseconds) # milliseconds + microseconds\n",
    "print(t.total_seconds())"
   ]
  },
  {
   "cell_type": "code",
   "execution_count": 4,
   "metadata": {},
   "outputs": [
    {
     "name": "stdout",
     "output_type": "stream",
     "text": [
      "2019-01-16 08:47:18.266065\n",
      "2019-04-26 08:47:18.266065\n"
     ]
    }
   ],
   "source": [
    "# time add\n",
    "import datetime\n",
    "\n",
    "a = datetime.timedelta(days=100)\n",
    "b = datetime.datetime.now()\n",
    "print(b)\n",
    "print(b + a) # time add"
   ]
  },
  {
   "cell_type": "code",
   "execution_count": 5,
   "metadata": {},
   "outputs": [
    {
     "name": "stdout",
     "output_type": "stream",
     "text": [
      "2019/01/16 08:47:18\n",
      "19-Jan-16 08-47-18\n"
     ]
    }
   ],
   "source": [
    "# strftime\n",
    "import datetime\n",
    "\n",
    "t = datetime.datetime.now()\n",
    "print(t.strftime(\"%Y/%m/%d %H:%M:%S\"))\n",
    "print(t.strftime(\"%y-%b-%d %H-%M-%S\"))"
   ]
  },
  {
   "cell_type": "markdown",
   "metadata": {},
   "source": [
    "### thread"
   ]
  },
  {
   "cell_type": "code",
   "execution_count": 40,
   "metadata": {},
   "outputs": [
    {
     "name": "stdout",
     "output_type": "stream",
     "text": [
      "main start\n",
      "f1 start\n",
      "f1 end\n",
      "main end\n"
     ]
    }
   ],
   "source": [
    "import threading, time\n",
    "\n",
    "def f1():\n",
    "    print(\"f1 start\")\n",
    "    time.sleep(0.5)\n",
    "    print(\"f1 end\")\n",
    "    \n",
    "print(\"main start\")\n",
    "t = threading.Thread(target=f1)\n",
    "t.start()\n",
    "time.sleep(1)\n",
    "print(\"main end\")"
   ]
  },
  {
   "cell_type": "code",
   "execution_count": 5,
   "metadata": {},
   "outputs": [
    {
     "name": "stdout",
     "output_type": "stream",
     "text": [
      "main start\n",
      "f1 start  123 hello\n",
      "f1 end\n",
      "main end\n"
     ]
    }
   ],
   "source": [
    "import threading, time\n",
    "# send parameters\n",
    "\n",
    "def f1(a, b):\n",
    "    print(\"f1 start \", a, b)\n",
    "    time.sleep(0.5)\n",
    "    print(\"f1 end\")\n",
    "\n",
    "print(\"main start\")\n",
    "t = threading.Thread(target=f1, args=[123, \"hello\"]) # send parameters\n",
    "t.start()\n",
    "time.sleep(1)\n",
    "print(\"main end\")"
   ]
  },
  {
   "cell_type": "code",
   "execution_count": 8,
   "metadata": {},
   "outputs": [],
   "source": [
    "# syn log\n",
    "from threading import Lock\n",
    "_log_lock = Lock()\n",
    "def log(*a, **b):\n",
    "    with _log_lock:\n",
    "        print(*a, **b)"
   ]
  },
  {
   "cell_type": "code",
   "execution_count": 9,
   "metadata": {},
   "outputs": [
    {
     "name": "stdout",
     "output_type": "stream",
     "text": [
      "MainThread\n",
      "Thread-8 start\n",
      "Thread-9 start\n",
      "Hugo start\n"
     ]
    }
   ],
   "source": [
    "# thread name\n",
    "import threading\n",
    "import time\n",
    "\n",
    "def f1():\n",
    "    log(threading.currentThread().getName(), \"start\") # thread name\n",
    "    time.sleep(1)\n",
    "    log(threading.currentThread().getName(), \"end\") # thread name\n",
    "\n",
    "print(threading.currentThread().getName())\n",
    "threading.Thread(target=f1).start()\n",
    "threading.Thread(target=f1).start()\n",
    "threading.Thread(target=f1, name=\"Hugo\").start() # thread name"
   ]
  },
  {
   "cell_type": "markdown",
   "metadata": {},
   "source": [
    "### Daemon (TBC)"
   ]
  },
  {
   "cell_type": "code",
   "execution_count": 41,
   "metadata": {},
   "outputs": [
    {
     "name": "stdout",
     "output_type": "stream",
     "text": [
      "daemon start\n",
      "non-daemon start\n",
      "non-daemon end\n",
      "daemon end\n"
     ]
    }
   ],
   "source": [
    "import threading\n",
    "import time\n",
    "\n",
    "def f1():\n",
    "    log(threading.currentThread().getName(), \"start\")\n",
    "    time.sleep(1)\n",
    "    log(threading.currentThread().getName(), \"end\")\n",
    "    \n",
    "def f2():\n",
    "    log(threading.currentThread().getName(), \"start\")\n",
    "    log(threading.currentThread().getName(), \"end\")\n",
    "    \n",
    "a = threading.Thread(name=\"daemon\", target=f1)\n",
    "b = threading.Thread(name=\"non-daemon\", target=f2)\n",
    "b.setDaemon(False)\n",
    "a.setDaemon(True)\n",
    "\n",
    "a.start()\n",
    "b.start()"
   ]
  },
  {
   "cell_type": "code",
   "execution_count": 39,
   "metadata": {},
   "outputs": [
    {
     "name": "stdout",
     "output_type": "stream",
     "text": [
      "Hugo start\n",
      "join start\n",
      "Hugo end\n",
      "join end\n"
     ]
    }
   ],
   "source": [
    "# join()\n",
    "import threading\n",
    "import time\n",
    "\n",
    "def f1():\n",
    "    log(threading.currentThread().getName(), \"start\")\n",
    "    time.sleep(1)\n",
    "    log(threading.currentThread().getName(), \"end\")\n",
    "    \n",
    "a = threading.Thread(name=\"Hugo\", target=f1)\n",
    "a.start()\n",
    "log(\"join start\")\n",
    "a.join() # join()\n",
    "log(\"join end\")"
   ]
  },
  {
   "cell_type": "code",
   "execution_count": 38,
   "metadata": {},
   "outputs": [
    {
     "name": "stdout",
     "output_type": "stream",
     "text": [
      "Hugo start\n",
      "join start\n",
      "join end\n",
      "Hugo end\n"
     ]
    }
   ],
   "source": [
    "# join() with a timeout\n",
    "import threading\n",
    "import time\n",
    "\n",
    "def f1():\n",
    "    log(threading.currentThread().getName(), \"start\")\n",
    "    time.sleep(1)\n",
    "    log(threading.currentThread().getName(), \"end\")\n",
    "    \n",
    "a = threading.Thread(name=\"Hugo\", target=f1)\n",
    "a.start()\n",
    "log(\"join start\")\n",
    "a.join(0.5) # join() with a timeout\n",
    "log(\"join end\")"
   ]
  },
  {
   "cell_type": "code",
   "execution_count": 37,
   "metadata": {},
   "outputs": [
    {
     "name": "stdout",
     "output_type": "stream",
     "text": [
      "phase 1 , isAlive= False\n",
      "Hugo start\n",
      "phase 2 , isAlive= True\n",
      "Hugo end\n",
      "phase 3 , isAlive= False\n"
     ]
    }
   ],
   "source": [
    "# isAlive()\n",
    "import threading\n",
    "import time\n",
    "\n",
    "def f1():\n",
    "    log(threading.currentThread().getName(), \"start\")\n",
    "    time.sleep(1)\n",
    "    log(threading.currentThread().getName(), \"end\")\n",
    "\n",
    "a = threading.Thread(name=\"Hugo\", target=f1)\n",
    "log(\"phase 1 , isAlive=\", a.isAlive()) # isAlive()\n",
    "a.start()\n",
    "log(\"phase 2 , isAlive=\", a.isAlive()) # isAlive()\n",
    "a.join()\n",
    "log(\"phase 3 , isAlive=\", a.isAlive()) # isAlive()"
   ]
  },
  {
   "cell_type": "code",
   "execution_count": 36,
   "metadata": {},
   "outputs": [
    {
     "name": "stdout",
     "output_type": "stream",
     "text": [
      "threading.active_count= 9\n",
      "\n",
      "MainThread\n",
      "Thread-4\n",
      "Thread-5\n",
      "IPythonHistorySavingThread\n",
      "Thread-3\n",
      "B\n",
      "A\n",
      "B\n",
      "C\n"
     ]
    }
   ],
   "source": [
    "# threading.active_count()\n",
    "# threading.enumerate()\n",
    "\n",
    "import threading, time\n",
    "\n",
    "def f1():\n",
    "    time.sleep(1)\n",
    "\n",
    "threading.Thread(name=\"A\", target=f1).start()\n",
    "threading.Thread(name=\"B\", target=f1).start()\n",
    "threading.Thread(name=\"C\", target=f1).start()\n",
    "\n",
    "log(\"threading.active_count=\", threading.active_count()) # threading.active_count()\n",
    "log()\n",
    "for t in threading.enumerate(): # threading.enumerate()\n",
    "    log(t.name)"
   ]
  },
  {
   "cell_type": "markdown",
   "metadata": {},
   "source": [
    "### thread class"
   ]
  },
  {
   "cell_type": "code",
   "execution_count": 35,
   "metadata": {},
   "outputs": [
    {
     "name": "stdout",
     "output_type": "stream",
     "text": [
      "Thread-16 start\n",
      "Thread-17 start\n",
      "Thread-16 end\n",
      "Thread-17 end\n"
     ]
    }
   ],
   "source": [
    "import threading, time\n",
    "\n",
    "class MyThread(threading.Thread):\n",
    "    def __init__(self):\n",
    "        threading.Thread.__init__(self)\n",
    "    def run(self):\n",
    "        log(threading.Thread.getName(self), \"start\")\n",
    "        time.sleep(1)\n",
    "        log(threading.Thread.getName(self), \"end\")\n",
    "\n",
    "a = MyThread()\n",
    "a.start()\n",
    "b = MyThread()\n",
    "b.start()"
   ]
  },
  {
   "cell_type": "markdown",
   "metadata": {},
   "source": [
    "### threading.Lock()"
   ]
  },
  {
   "cell_type": "code",
   "execution_count": 16,
   "metadata": {},
   "outputs": [
    {
     "name": "stdout",
     "output_type": "stream",
     "text": [
      "A start\n"
     ]
    }
   ],
   "source": [
    "import threading, time\n",
    "\n",
    "def f1():\n",
    "    lock.acquire() # acquire\n",
    "    log(threading.currentThread().getName(), \"start\")\n",
    "    time.sleep(1)\n",
    "    log(threading.currentThread().getName(), \"end\")\n",
    "    lock.release() # release\n",
    "\n",
    "lock = threading.Lock() # create instance\n",
    "threading.Thread(name=\"A\", target=f1).start()\n",
    "threading.Thread(name=\"B\", target=f1).start()"
   ]
  },
  {
   "cell_type": "code",
   "execution_count": 17,
   "metadata": {},
   "outputs": [
    {
     "name": "stdout",
     "output_type": "stream",
     "text": [
      "A start\n"
     ]
    }
   ],
   "source": [
    "import threading, time\n",
    "\n",
    "def f1():\n",
    "    with lock: # using with for lock\n",
    "        log(threading.currentThread().getName(), \"start\")\n",
    "        time.sleep(1)\n",
    "        log(threading.currentThread().getName(), \"end\")\n",
    "\n",
    "lock = threading.Lock() # create instance\n",
    "threading.Thread(name=\"A\", target=f1).start()\n",
    "threading.Thread(name=\"B\", target=f1).start()"
   ]
  },
  {
   "cell_type": "code",
   "execution_count": 18,
   "metadata": {},
   "outputs": [
    {
     "name": "stdout",
     "output_type": "stream",
     "text": [
      "True\n",
      "False\n"
     ]
    }
   ],
   "source": [
    "import threading\n",
    "\n",
    "lock = threading.Lock()\n",
    "print(lock.acquire())\n",
    "print(lock.acquire(timeout=0.5))\n",
    "lock.release()"
   ]
  },
  {
   "cell_type": "code",
   "execution_count": 19,
   "metadata": {},
   "outputs": [],
   "source": [
    "#threading.RLock -> support recursive lock\n",
    "import threading\n",
    "\n",
    "lock = threading.RLock()\n",
    "lock.acquire()\n",
    "lock.acquire()\n",
    "lock.release()\n",
    "lock.release()"
   ]
  },
  {
   "cell_type": "markdown",
   "metadata": {},
   "source": [
    "### queue"
   ]
  },
  {
   "cell_type": "code",
   "execution_count": 20,
   "metadata": {},
   "outputs": [
    {
     "name": "stdout",
     "output_type": "stream",
     "text": [
      "full= False\n",
      "empty= True\n",
      "empty= False\n",
      "full= True\n",
      "0\n",
      "1\n",
      "2\n",
      "3\n",
      "4\n",
      "empty= True\n"
     ]
    }
   ],
   "source": [
    "#queue is thread safe\n",
    "import queue\n",
    "\n",
    "q = queue.Queue(5) # 5 is queue size\n",
    "\n",
    "print(\"full=\", q.full())\n",
    "print(\"empty=\", q.empty())\n",
    "q.put(0)\n",
    "print(\"empty=\", q.empty())\n",
    "q.put(1)\n",
    "q.put(2)\n",
    "q.put(3)\n",
    "q.put(4)\n",
    "print(\"full=\", q.full()) # if full, the put will be blocking\n",
    "\n",
    "print(q.get())\n",
    "print(q.get())\n",
    "print(q.get())\n",
    "print(q.get())\n",
    "print(q.get())\n",
    "print(\"empty=\", q.empty()) # if empty, the get will be blocking"
   ]
  },
  {
   "cell_type": "markdown",
   "metadata": {},
   "source": [
    "### semaphore"
   ]
  },
  {
   "cell_type": "code",
   "execution_count": 34,
   "metadata": {},
   "outputs": [
    {
     "name": "stdout",
     "output_type": "stream",
     "text": [
      "<class 'threading.BoundedSemaphore'>\n",
      "3\n",
      "True\n",
      "True\n",
      "True\n",
      "0\n",
      "False\n",
      "3\n"
     ]
    }
   ],
   "source": [
    "import threading, time\n",
    "\n",
    "sem = threading.BoundedSemaphore(3)\n",
    "print(type(sem))\n",
    "print(sem._value)\n",
    "\n",
    "print(sem.acquire())\n",
    "print(sem.acquire())\n",
    "print(sem.acquire())\n",
    "print(sem._value)\n",
    "print(sem.acquire(timeout=0.5)) # when semaphore count reaches to zero then acquire will be blocked\n",
    "\n",
    "sem.release()\n",
    "sem.release()\n",
    "sem.release()\n",
    "print(sem._value)"
   ]
  },
  {
   "cell_type": "markdown",
   "metadata": {},
   "source": [
    "### Barrier"
   ]
  },
  {
   "cell_type": "code",
   "execution_count": 33,
   "metadata": {},
   "outputs": [
    {
     "name": "stdout",
     "output_type": "stream",
     "text": [
      "user1 start\n",
      "user2 start\n",
      "user3 start\n",
      "user3 done\n",
      "user2 done\n",
      "user1 done\n"
     ]
    }
   ],
   "source": [
    "# if reach the count, then you can go\n",
    "import threading, time\n",
    "\n",
    "def f1():\n",
    "    log(threading.current_thread().getName(), \"start\")\n",
    "    b.wait()\n",
    "    log(threading.current_thread().getName(), \"done\")\n",
    "\n",
    "b = threading.Barrier(3)\n",
    "\n",
    "for i in range(1, 4):\n",
    "    threading.Thread(target=f1, name=\"user%d\" % (i)).start()\n",
    "    time.sleep(0.5)"
   ]
  },
  {
   "cell_type": "markdown",
   "metadata": {},
   "source": [
    "### Event"
   ]
  },
  {
   "cell_type": "code",
   "execution_count": 32,
   "metadata": {},
   "outputs": [
    {
     "name": "stdout",
     "output_type": "stream",
     "text": [
      "waiter: wait 1\n",
      "setter: set\n",
      "waiter: clear 1\n",
      "waiter: wait 2\n",
      "setter: set\n",
      "waiter: clear 2\n"
     ]
    }
   ],
   "source": [
    "import threading, time\n",
    "\n",
    "def waiter(event):\n",
    "    log(\"waiter: wait 1\")\n",
    "    event.wait()\n",
    "    log(\"waiter: clear 1\")\n",
    "    event.clear()\n",
    "    \n",
    "    log(\"waiter: wait 2\")\n",
    "    event.wait()\n",
    "    log(\"waiter: clear 2\")\n",
    "    event.clear()\n",
    "\n",
    "def setter(event):\n",
    "    time.sleep(0.5)\n",
    "    log(\"setter: set\")\n",
    "    event.set()\n",
    "    time.sleep(0.5)\n",
    "    log(\"setter: set\")\n",
    "    event.set()\n",
    "    \n",
    "event = threading.Event()\n",
    "threading.Thread(target=waiter, args=(event,)).start()\n",
    "threading.Thread(target=setter, args=(event,)).start()"
   ]
  },
  {
   "cell_type": "markdown",
   "metadata": {},
   "source": [
    "### subprocess"
   ]
  },
  {
   "cell_type": "code",
   "execution_count": 24,
   "metadata": {},
   "outputs": [
    {
     "name": "stdout",
     "output_type": "stream",
     "text": [
      "<class 'subprocess.Popen'>\n",
      "<class 'subprocess.Popen'>\n",
      "<class 'subprocess.Popen'>\n"
     ]
    }
   ],
   "source": [
    "import subprocess\n",
    "\n",
    "a = subprocess.Popen(\"calc\")\n",
    "print(type(a))\n",
    "\n",
    "b = subprocess.Popen(\"notepad\")\n",
    "print(type(b))\n",
    "\n",
    "c = subprocess.Popen(\"write\")\n",
    "print(type(c))"
   ]
  },
  {
   "cell_type": "code",
   "execution_count": 25,
   "metadata": {},
   "outputs": [
    {
     "name": "stdout",
     "output_type": "stream",
     "text": [
      "None\n"
     ]
    }
   ],
   "source": [
    "# poll(), return the status of this process\n",
    "# if still running, then return None\n",
    "# if exit, then return 0\n",
    "print(a.poll())"
   ]
  },
  {
   "cell_type": "code",
   "execution_count": 26,
   "metadata": {},
   "outputs": [
    {
     "name": "stdout",
     "output_type": "stream",
     "text": [
      "setter: set\n",
      "waiter: clear 1\n",
      "waiter: wait 2\n",
      "setter: set\n",
      "waiter: clear 2\n",
      "0\n"
     ]
    }
   ],
   "source": [
    "# wait(), wait until the program exists\n",
    "print(a.wait())"
   ]
  },
  {
   "cell_type": "code",
   "execution_count": 27,
   "metadata": {},
   "outputs": [],
   "source": [
    "a.terminate()\n",
    "b.terminate()\n",
    "c.terminate()"
   ]
  },
  {
   "cell_type": "code",
   "execution_count": 28,
   "metadata": {},
   "outputs": [],
   "source": [
    "# pass the parameters in Popen()\n",
    "import subprocess\n",
    "import time\n",
    "\n",
    "a = subprocess.Popen([\"mspaint\", \"res\\\\image1.jpg\"])\n",
    "time.sleep(5)\n",
    "a.terminate()"
   ]
  },
  {
   "cell_type": "code",
   "execution_count": 29,
   "metadata": {},
   "outputs": [],
   "source": [
    "# use start to open the file\n",
    "import subprocess\n",
    "\n",
    "a = subprocess.Popen([\"start\", \"res\\\\image1.jpg\"], shell=True)"
   ]
  },
  {
   "cell_type": "code",
   "execution_count": 30,
   "metadata": {},
   "outputs": [
    {
     "name": "stdout",
     "output_type": "stream",
     "text": [
      "<class 'subprocess.CompletedProcess'>\n",
      "CompletedProcess(args='calc', returncode=0)\n"
     ]
    }
   ],
   "source": [
    "# run(), the caller will be blocked until the program exists\n",
    "import subprocess\n",
    "\n",
    "a = subprocess.run(\"calc\") \n",
    "print(type(a))\n",
    "print(a)"
   ]
  },
  {
   "cell_type": "code",
   "execution_count": 31,
   "metadata": {},
   "outputs": [
    {
     "name": "stdout",
     "output_type": "stream",
     "text": [
      "<class 'subprocess.CompletedProcess'>\n",
      "CompletedProcess(args='echo %time%', returncode=0, stdout=b' 8:48:07.93\\r\\n')\n",
      "b' 8:48:07.93\\r\\n'\n"
     ]
    }
   ],
   "source": [
    "#get the return data\n",
    "import subprocess\n",
    "\n",
    "a = subprocess.run(\"echo %time%\", shell=True, stdout=subprocess.PIPE) # stdout=subprocess.PIPE\n",
    "print(type(a))\n",
    "print(a)\n",
    "print(a.stdout) # stdout"
   ]
  },
  {
   "cell_type": "code",
   "execution_count": null,
   "metadata": {},
   "outputs": [],
   "source": []
  }
 ],
 "metadata": {
  "kernelspec": {
   "display_name": "Python 3",
   "language": "python",
   "name": "python3"
  },
  "language_info": {
   "codemirror_mode": {
    "name": "ipython",
    "version": 3
   },
   "file_extension": ".py",
   "mimetype": "text/x-python",
   "name": "python",
   "nbconvert_exporter": "python",
   "pygments_lexer": "ipython3",
   "version": "3.6.5"
  }
 },
 "nbformat": 4,
 "nbformat_minor": 2
}
