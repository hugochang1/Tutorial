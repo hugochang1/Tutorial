{
 "cells": [
  {
   "cell_type": "code",
   "execution_count": null,
   "metadata": {},
   "outputs": [],
   "source": []
  },
  {
   "cell_type": "code",
   "execution_count": 1,
   "metadata": {},
   "outputs": [
    {
     "name": "stdout",
     "output_type": "stream",
     "text": [
      "[1, 2, 3, 4, 5]\n",
      "<class 'str'>\n"
     ]
    }
   ],
   "source": [
    "import json\n",
    "\n",
    "a = [1,2,3,4,5]\n",
    "b = json.dumps(a) # change to string\n",
    "print(b)\n",
    "print(type(b))"
   ]
  },
  {
   "cell_type": "code",
   "execution_count": 2,
   "metadata": {},
   "outputs": [
    {
     "name": "stdout",
     "output_type": "stream",
     "text": [
      "{\"b\": 1, \"a\": 2, \"c\": 3}\n",
      "<class 'str'>\n"
     ]
    }
   ],
   "source": [
    "import json\n",
    "\n",
    "a = {\"b\":1, \"a\":2, \"c\":3}\n",
    "b = json.dumps(a)\n",
    "print(b)\n",
    "print(type(b))"
   ]
  },
  {
   "cell_type": "code",
   "execution_count": 3,
   "metadata": {},
   "outputs": [
    {
     "name": "stdout",
     "output_type": "stream",
     "text": [
      "{\"a\": 2, \"b\": 1, \"c\": 3}\n",
      "<class 'str'>\n"
     ]
    }
   ],
   "source": [
    "#sort_keys\n",
    "import json\n",
    "\n",
    "a = {\"b\":1, \"a\":2, \"c\":3}\n",
    "b = json.dumps(a, sort_keys=True)\n",
    "print(b)\n",
    "print(type(b))"
   ]
  },
  {
   "cell_type": "code",
   "execution_count": 4,
   "metadata": {},
   "outputs": [
    {
     "name": "stdout",
     "output_type": "stream",
     "text": [
      "{\n",
      "    \"a\": 2,\n",
      "    \"b\": 1,\n",
      "    \"c\": 3\n",
      "}\n"
     ]
    }
   ],
   "source": [
    "#indent\n",
    "import json\n",
    "\n",
    "a = {\"b\":1, \"a\":2, \"c\":3}\n",
    "b = json.dumps(a, sort_keys=True, indent=4)\n",
    "print(b)"
   ]
  },
  {
   "cell_type": "markdown",
   "metadata": {},
   "source": [
    "### load Json"
   ]
  },
  {
   "cell_type": "code",
   "execution_count": 5,
   "metadata": {},
   "outputs": [
    {
     "name": "stdout",
     "output_type": "stream",
     "text": [
      "{'b': 1, 'a': 2, 'c': 3}\n",
      "<class 'dict'>\n"
     ]
    }
   ],
   "source": [
    "import json\n",
    "\n",
    "a = '{\"b\":1, \"a\":2, \"c\":3}'\n",
    "b = json.loads(a)\n",
    "print(b)\n",
    "print(type(b))"
   ]
  },
  {
   "cell_type": "markdown",
   "metadata": {},
   "source": [
    "### dump Json to a file"
   ]
  },
  {
   "cell_type": "code",
   "execution_count": 6,
   "metadata": {},
   "outputs": [],
   "source": [
    "#create test folder first\n",
    "import os\n",
    "\n",
    "folder = \"test\"\n",
    "if not os.path.exists(folder):\n",
    "    os.mkdir(folder)"
   ]
  },
  {
   "cell_type": "code",
   "execution_count": 7,
   "metadata": {},
   "outputs": [],
   "source": [
    "import json\n",
    "\n",
    "a = {\"b\":1, \"a\":2, \"c\":3}\n",
    "with open(\"test/test.json\", \"w\") as f:\n",
    "    json.dump(a, f)"
   ]
  },
  {
   "cell_type": "markdown",
   "metadata": {},
   "source": [
    "### load Json from a file"
   ]
  },
  {
   "cell_type": "code",
   "execution_count": 8,
   "metadata": {},
   "outputs": [
    {
     "name": "stdout",
     "output_type": "stream",
     "text": [
      "{'b': 1, 'a': 2, 'c': 3}\n",
      "<class 'dict'>\n"
     ]
    }
   ],
   "source": [
    "import json\n",
    "\n",
    "with open(\"test/test.json\", \"r\") as f:\n",
    "    data = json.load(f)\n",
    "    print(data)\n",
    "    print(type(data))"
   ]
  },
  {
   "cell_type": "markdown",
   "metadata": {},
   "source": [
    "### pygal.maps.world"
   ]
  },
  {
   "cell_type": "markdown",
   "metadata": {},
   "source": [
    "pip install pygal_maps_world"
   ]
  },
  {
   "cell_type": "code",
   "execution_count": 9,
   "metadata": {},
   "outputs": [
    {
     "name": "stdout",
     "output_type": "stream",
     "text": [
      "CountryCode: ad   CountryName: Andorra\n",
      "CountryCode: ae   CountryName: United Arab Emirates\n",
      "CountryCode: af   CountryName: Afghanistan\n",
      "CountryCode: al   CountryName: Albania\n",
      "CountryCode: am   CountryName: Armenia\n",
      "CountryCode: ao   CountryName: Angola\n",
      "CountryCode: aq   CountryName: Antarctica\n",
      "CountryCode: ar   CountryName: Argentina\n",
      "CountryCode: at   CountryName: Austria\n",
      "CountryCode: au   CountryName: Australia\n",
      "CountryCode: az   CountryName: Azerbaijan\n",
      "CountryCode: ba   CountryName: Bosnia and Herzegovina\n",
      "CountryCode: bd   CountryName: Bangladesh\n",
      "CountryCode: be   CountryName: Belgium\n",
      "CountryCode: bf   CountryName: Burkina Faso\n",
      "CountryCode: bg   CountryName: Bulgaria\n",
      "CountryCode: bh   CountryName: Bahrain\n",
      "CountryCode: bi   CountryName: Burundi\n",
      "CountryCode: bj   CountryName: Benin\n",
      "CountryCode: bn   CountryName: Brunei Darussalam\n",
      "CountryCode: bo   CountryName: Bolivia, Plurinational State of\n",
      "CountryCode: br   CountryName: Brazil\n",
      "CountryCode: bt   CountryName: Bhutan\n",
      "CountryCode: bw   CountryName: Botswana\n",
      "CountryCode: by   CountryName: Belarus\n",
      "CountryCode: bz   CountryName: Belize\n",
      "CountryCode: ca   CountryName: Canada\n",
      "CountryCode: cd   CountryName: Congo, the Democratic Republic of the\n",
      "CountryCode: cf   CountryName: Central African Republic\n",
      "CountryCode: cg   CountryName: Congo\n",
      "CountryCode: ch   CountryName: Switzerland\n",
      "CountryCode: ci   CountryName: Cote d'Ivoire\n",
      "CountryCode: cl   CountryName: Chile\n",
      "CountryCode: cm   CountryName: Cameroon\n",
      "CountryCode: cn   CountryName: China\n",
      "CountryCode: co   CountryName: Colombia\n",
      "CountryCode: cr   CountryName: Costa Rica\n",
      "CountryCode: cu   CountryName: Cuba\n",
      "CountryCode: cv   CountryName: Cape Verde\n",
      "CountryCode: cy   CountryName: Cyprus\n",
      "CountryCode: cz   CountryName: Czech Republic\n",
      "CountryCode: de   CountryName: Germany\n",
      "CountryCode: dj   CountryName: Djibouti\n",
      "CountryCode: dk   CountryName: Denmark\n",
      "CountryCode: do   CountryName: Dominican Republic\n",
      "CountryCode: dz   CountryName: Algeria\n",
      "CountryCode: ec   CountryName: Ecuador\n",
      "CountryCode: ee   CountryName: Estonia\n",
      "CountryCode: eg   CountryName: Egypt\n",
      "CountryCode: eh   CountryName: Western Sahara\n",
      "CountryCode: er   CountryName: Eritrea\n",
      "CountryCode: es   CountryName: Spain\n",
      "CountryCode: et   CountryName: Ethiopia\n",
      "CountryCode: fi   CountryName: Finland\n",
      "CountryCode: fr   CountryName: France\n",
      "CountryCode: ga   CountryName: Gabon\n",
      "CountryCode: gb   CountryName: United Kingdom\n",
      "CountryCode: ge   CountryName: Georgia\n",
      "CountryCode: gf   CountryName: French Guiana\n",
      "CountryCode: gh   CountryName: Ghana\n",
      "CountryCode: gl   CountryName: Greenland\n",
      "CountryCode: gm   CountryName: Gambia\n",
      "CountryCode: gn   CountryName: Guinea\n",
      "CountryCode: gq   CountryName: Equatorial Guinea\n",
      "CountryCode: gr   CountryName: Greece\n",
      "CountryCode: gt   CountryName: Guatemala\n",
      "CountryCode: gu   CountryName: Guam\n",
      "CountryCode: gw   CountryName: Guinea-Bissau\n",
      "CountryCode: gy   CountryName: Guyana\n",
      "CountryCode: hk   CountryName: Hong Kong\n",
      "CountryCode: hn   CountryName: Honduras\n",
      "CountryCode: hr   CountryName: Croatia\n",
      "CountryCode: ht   CountryName: Haiti\n",
      "CountryCode: hu   CountryName: Hungary\n",
      "CountryCode: id   CountryName: Indonesia\n",
      "CountryCode: ie   CountryName: Ireland\n",
      "CountryCode: il   CountryName: Israel\n",
      "CountryCode: in   CountryName: India\n",
      "CountryCode: iq   CountryName: Iraq\n",
      "CountryCode: ir   CountryName: Iran, Islamic Republic of\n",
      "CountryCode: is   CountryName: Iceland\n",
      "CountryCode: it   CountryName: Italy\n",
      "CountryCode: jm   CountryName: Jamaica\n",
      "CountryCode: jo   CountryName: Jordan\n",
      "CountryCode: jp   CountryName: Japan\n",
      "CountryCode: ke   CountryName: Kenya\n",
      "CountryCode: kg   CountryName: Kyrgyzstan\n",
      "CountryCode: kh   CountryName: Cambodia\n",
      "CountryCode: kp   CountryName: Korea, Democratic People's Republic of\n",
      "CountryCode: kr   CountryName: Korea, Republic of\n",
      "CountryCode: kw   CountryName: Kuwait\n",
      "CountryCode: kz   CountryName: Kazakhstan\n",
      "CountryCode: la   CountryName: Lao People's Democratic Republic\n",
      "CountryCode: lb   CountryName: Lebanon\n",
      "CountryCode: li   CountryName: Liechtenstein\n",
      "CountryCode: lk   CountryName: Sri Lanka\n",
      "CountryCode: lr   CountryName: Liberia\n",
      "CountryCode: ls   CountryName: Lesotho\n",
      "CountryCode: lt   CountryName: Lithuania\n",
      "CountryCode: lu   CountryName: Luxembourg\n",
      "CountryCode: lv   CountryName: Latvia\n",
      "CountryCode: ly   CountryName: Libyan Arab Jamahiriya\n",
      "CountryCode: ma   CountryName: Morocco\n",
      "CountryCode: mc   CountryName: Monaco\n",
      "CountryCode: md   CountryName: Moldova, Republic of\n",
      "CountryCode: me   CountryName: Montenegro\n",
      "CountryCode: mg   CountryName: Madagascar\n",
      "CountryCode: mk   CountryName: Macedonia, the former Yugoslav Republic of\n",
      "CountryCode: ml   CountryName: Mali\n",
      "CountryCode: mm   CountryName: Myanmar\n",
      "CountryCode: mn   CountryName: Mongolia\n",
      "CountryCode: mo   CountryName: Macao\n",
      "CountryCode: mr   CountryName: Mauritania\n",
      "CountryCode: mt   CountryName: Malta\n",
      "CountryCode: mu   CountryName: Mauritius\n",
      "CountryCode: mv   CountryName: Maldives\n",
      "CountryCode: mw   CountryName: Malawi\n",
      "CountryCode: mx   CountryName: Mexico\n",
      "CountryCode: my   CountryName: Malaysia\n",
      "CountryCode: mz   CountryName: Mozambique\n",
      "CountryCode: na   CountryName: Namibia\n",
      "CountryCode: ne   CountryName: Niger\n",
      "CountryCode: ng   CountryName: Nigeria\n",
      "CountryCode: ni   CountryName: Nicaragua\n",
      "CountryCode: nl   CountryName: Netherlands\n",
      "CountryCode: no   CountryName: Norway\n",
      "CountryCode: np   CountryName: Nepal\n",
      "CountryCode: nz   CountryName: New Zealand\n",
      "CountryCode: om   CountryName: Oman\n",
      "CountryCode: pa   CountryName: Panama\n",
      "CountryCode: pe   CountryName: Peru\n",
      "CountryCode: pg   CountryName: Papua New Guinea\n",
      "CountryCode: ph   CountryName: Philippines\n",
      "CountryCode: pk   CountryName: Pakistan\n",
      "CountryCode: pl   CountryName: Poland\n",
      "CountryCode: pr   CountryName: Puerto Rico\n",
      "CountryCode: ps   CountryName: Palestine, State of\n",
      "CountryCode: pt   CountryName: Portugal\n",
      "CountryCode: py   CountryName: Paraguay\n",
      "CountryCode: re   CountryName: Reunion\n",
      "CountryCode: ro   CountryName: Romania\n",
      "CountryCode: rs   CountryName: Serbia\n",
      "CountryCode: ru   CountryName: Russian Federation\n",
      "CountryCode: rw   CountryName: Rwanda\n",
      "CountryCode: sa   CountryName: Saudi Arabia\n",
      "CountryCode: sc   CountryName: Seychelles\n",
      "CountryCode: sd   CountryName: Sudan\n",
      "CountryCode: se   CountryName: Sweden\n",
      "CountryCode: sg   CountryName: Singapore\n",
      "CountryCode: sh   CountryName: Saint Helena, Ascension and Tristan da Cunha\n",
      "CountryCode: si   CountryName: Slovenia\n",
      "CountryCode: sk   CountryName: Slovakia\n",
      "CountryCode: sl   CountryName: Sierra Leone\n",
      "CountryCode: sm   CountryName: San Marino\n",
      "CountryCode: sn   CountryName: Senegal\n",
      "CountryCode: so   CountryName: Somalia\n",
      "CountryCode: sr   CountryName: Suriname\n",
      "CountryCode: st   CountryName: Sao Tome and Principe\n",
      "CountryCode: sv   CountryName: El Salvador\n",
      "CountryCode: sy   CountryName: Syrian Arab Republic\n",
      "CountryCode: sz   CountryName: Swaziland\n",
      "CountryCode: td   CountryName: Chad\n",
      "CountryCode: tg   CountryName: Togo\n",
      "CountryCode: th   CountryName: Thailand\n",
      "CountryCode: tj   CountryName: Tajikistan\n",
      "CountryCode: tl   CountryName: Timor-Leste\n",
      "CountryCode: tm   CountryName: Turkmenistan\n",
      "CountryCode: tn   CountryName: Tunisia\n",
      "CountryCode: tr   CountryName: Turkey\n",
      "CountryCode: tw   CountryName: Taiwan, Province of China\n",
      "CountryCode: tz   CountryName: Tanzania, United Republic of\n",
      "CountryCode: ua   CountryName: Ukraine\n",
      "CountryCode: ug   CountryName: Uganda\n",
      "CountryCode: us   CountryName: United States\n",
      "CountryCode: uy   CountryName: Uruguay\n",
      "CountryCode: uz   CountryName: Uzbekistan\n",
      "CountryCode: va   CountryName: Holy See (Vatican City State)\n",
      "CountryCode: ve   CountryName: Venezuela, Bolivarian Republic of\n",
      "CountryCode: vn   CountryName: Viet Nam\n",
      "CountryCode: ye   CountryName: Yemen\n",
      "CountryCode: yt   CountryName: Mayotte\n",
      "CountryCode: za   CountryName: South Africa\n",
      "CountryCode: zm   CountryName: Zambia\n",
      "CountryCode: zw   CountryName: Zimbabwe\n",
      "<class 'dict'>\n"
     ]
    }
   ],
   "source": [
    "from pygal.maps.world import COUNTRIES\n",
    "\n",
    "for countryCode in sorted(COUNTRIES.keys()):\n",
    "    print(\"CountryCode:\", countryCode, \"  CountryName:\", COUNTRIES[countryCode])\n",
    "\n",
    "print(type(COUNTRIES))"
   ]
  },
  {
   "cell_type": "code",
   "execution_count": 10,
   "metadata": {},
   "outputs": [],
   "source": [
    "#China\n",
    "import pygal.maps.world\n",
    "\n",
    "m = pygal.maps.world.World()\n",
    "m.title = \"title\"\n",
    "m.add(\"China\", [\"cn\"])\n",
    "m.render_to_file(\"test/map.svg\")"
   ]
  },
  {
   "cell_type": "code",
   "execution_count": 11,
   "metadata": {},
   "outputs": [],
   "source": [
    "#Asia\n",
    "import pygal.maps.world\n",
    "\n",
    "m = pygal.maps.world.World()\n",
    "m.title = \"title\"\n",
    "m.add(\"Asia\", [\"cn\", \"jp\", \"th\"])\n",
    "m.render_to_file(\"test/map2.svg\")"
   ]
  },
  {
   "cell_type": "code",
   "execution_count": 12,
   "metadata": {},
   "outputs": [],
   "source": [
    "# major countries\n",
    "import pygal.maps.world\n",
    "\n",
    "m = pygal.maps.world.World()\n",
    "m.title = \"title\"\n",
    "m.add(\"Asia\", [\"cn\", \"jp\", \"th\"])\n",
    "m.add(\"Europe\", [\"fr\", \"de\", \"it\"])\n",
    "m.add(\"Africa\", [\"eg\", \"ug\", \"ng\"])\n",
    "m.add(\"North America\", [\"ca\", \"us\", \"mx\"])\n",
    "m.render_to_file(\"test/map3.svg\")"
   ]
  },
  {
   "cell_type": "code",
   "execution_count": 13,
   "metadata": {},
   "outputs": [],
   "source": [
    "#add number or float\n",
    "import pygal.maps.world\n",
    "\n",
    "m = pygal.maps.world.World()\n",
    "m.title = \"title\"\n",
    "m.add(\"Asia\", {\"cn\":123, \"jp\":500, \"th\":1.5})\n",
    "m.render_to_file(\"test/map4.svg\")"
   ]
  },
  {
   "cell_type": "code",
   "execution_count": null,
   "metadata": {},
   "outputs": [],
   "source": []
  }
 ],
 "metadata": {
  "kernelspec": {
   "display_name": "Python 3",
   "language": "python",
   "name": "python3"
  },
  "language_info": {
   "codemirror_mode": {
    "name": "ipython",
    "version": 3
   },
   "file_extension": ".py",
   "mimetype": "text/x-python",
   "name": "python",
   "nbconvert_exporter": "python",
   "pygments_lexer": "ipython3",
   "version": "3.7.1"
  }
 },
 "nbformat": 4,
 "nbformat_minor": 2
}
