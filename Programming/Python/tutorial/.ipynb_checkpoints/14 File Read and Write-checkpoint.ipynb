{
 "cells": [
  {
   "cell_type": "markdown",
   "metadata": {},
   "source": [
    "### Path"
   ]
  },
  {
   "cell_type": "code",
   "execution_count": 1,
   "metadata": {},
   "outputs": [
    {
     "name": "stdout",
     "output_type": "stream",
     "text": [
      "C:\\Users\\Hugo\\JupyterWorkspace\\tutorials\n"
     ]
    }
   ],
   "source": [
    "import os\n",
    "\n",
    "# get current working directory\n",
    "print(os.getcwd())"
   ]
  },
  {
   "cell_type": "code",
   "execution_count": 2,
   "metadata": {},
   "outputs": [
    {
     "name": "stdout",
     "output_type": "stream",
     "text": [
      "C:\\Users\\Hugo\\JupyterWorkspace\\tutorials\n",
      "C:\\Users\\Hugo\\JupyterWorkspace\\tutorials\n",
      "C:\\Users\\Hugo\\JupyterWorkspace\n",
      "C:\\Users\\Hugo\\JupyterWorkspace\\tutorials\\123\n"
     ]
    }
   ],
   "source": [
    "import os\n",
    "\n",
    "#get absolute path\n",
    "print(os.path.abspath(\"\"))\n",
    "print(os.path.abspath(\".\"))\n",
    "print(os.path.abspath(\"..\"))\n",
    "print(os.path.abspath(\"123\"))"
   ]
  },
  {
   "cell_type": "code",
   "execution_count": 3,
   "metadata": {},
   "outputs": [
    {
     "name": "stdout",
     "output_type": "stream",
     "text": [
      "..\\..\\..\\..\n",
      "..\\..\\..\\..\\Program Files\n",
      "..\\..\\Python Work Space\n"
     ]
    }
   ],
   "source": [
    "import os\n",
    "\n",
    "#get relative path\n",
    "print(os.path.relpath(\"c:\\\\\"))\n",
    "print(os.path.relpath(\"c:\\\\Program Files\"))\n",
    "print(os.path.relpath(\"c:\\\\Users\\\\Hugo\\\\Python Work Space\\\\\"))"
   ]
  },
  {
   "cell_type": "code",
   "execution_count": 4,
   "metadata": {},
   "outputs": [
    {
     "name": "stdout",
     "output_type": "stream",
     "text": [
      "True\n",
      "True\n",
      "False\n"
     ]
    }
   ],
   "source": [
    "import os\n",
    "\n",
    "#check whteher a filer or a folder exists\n",
    "print(os.path.exists(\"src\")) #folder\n",
    "print(os.path.exists(\"14 File Read and Write.ipynb\")) #file\n",
    "print(os.path.exists(\"123\"))"
   ]
  },
  {
   "cell_type": "code",
   "execution_count": 5,
   "metadata": {},
   "outputs": [
    {
     "name": "stdout",
     "output_type": "stream",
     "text": [
      "False\n",
      "True\n",
      "True\n"
     ]
    }
   ],
   "source": [
    "import os\n",
    "\n",
    "#is absolute path\n",
    "print(os.path.isabs(\"123\"))\n",
    "print(os.path.isabs(\"c:\\\\\"))\n",
    "print(os.path.isabs(\"c:\\\\Program Files\"))"
   ]
  },
  {
   "cell_type": "code",
   "execution_count": 6,
   "metadata": {},
   "outputs": [
    {
     "name": "stdout",
     "output_type": "stream",
     "text": [
      "False\n",
      "False\n",
      "True\n",
      "True\n",
      "False\n"
     ]
    }
   ],
   "source": [
    "import os\n",
    "\n",
    "print(os.path.isdir(\"123\"))\n",
    "print(os.path.isdir(\"c\"))\n",
    "print(os.path.isdir(\"c:\"))\n",
    "print(os.path.isdir(\"c:/Program Files/Android\"))\n",
    "print(os.path.isdir(\"C:/Users/Hugo/Python Work Space/Python Tutorials/src\"))"
   ]
  },
  {
   "cell_type": "code",
   "execution_count": 7,
   "metadata": {},
   "outputs": [
    {
     "name": "stdout",
     "output_type": "stream",
     "text": [
      "False\n",
      "False\n",
      "True\n",
      "True\n"
     ]
    }
   ],
   "source": [
    "import os\n",
    "\n",
    "print(os.path.isfile(\"C\"))\n",
    "print(os.path.isfile(\"C:/\"))\n",
    "print(os.path.isfile(\"C:/Install.log\"))\n",
    "print(os.path.isfile(\"./14 File Read and Write.ipynb\"))"
   ]
  },
  {
   "cell_type": "code",
   "execution_count": 8,
   "metadata": {},
   "outputs": [],
   "source": [
    "import os\n",
    "\n",
    "# os.mkdir(path)\n",
    "# make a folder\n",
    "folder = \"test/test1\"\n",
    "if not os.path.exists(folder):\n",
    "    os.mkdir(folder)\n",
    "else:\n",
    "    print(\"folder=\", folder, \"exists\")"
   ]
  },
  {
   "cell_type": "code",
   "execution_count": 9,
   "metadata": {},
   "outputs": [],
   "source": [
    "import os\n",
    "\n",
    "# os.rmdir(path)\n",
    "# remove a empty folder\n",
    "folder = \"test/test1\"\n",
    "if os.path.exists(folder):\n",
    "    os.rmdir(folder)\n",
    "else:\n",
    "    print(\"folder=\", folder, \" does not exist\")"
   ]
  },
  {
   "cell_type": "code",
   "execution_count": 10,
   "metadata": {},
   "outputs": [
    {
     "name": "stdout",
     "output_type": "stream",
     "text": [
      "the file is already deleted\n"
     ]
    }
   ],
   "source": [
    "import os\n",
    "\n",
    "# os.remove(path)\n",
    "# remove a file\n",
    "file = \"test/testfile\"\n",
    "with open(file, \"w\") as f:\n",
    "    pass\n",
    "\n",
    "os.remove(file)\n",
    "\n",
    "if not os.path.exists(file):\n",
    "    print(\"the file is already deleted\")"
   ]
  },
  {
   "cell_type": "code",
   "execution_count": 11,
   "metadata": {},
   "outputs": [
    {
     "name": "stdout",
     "output_type": "stream",
     "text": [
      "C:\\Users\\Hugo\\JupyterWorkspace\\tutorials\n",
      "C:\\Users\\Hugo\\JupyterWorkspace\\tutorials\\src\n",
      "C:\\Users\\Hugo\\JupyterWorkspace\\tutorials\n"
     ]
    }
   ],
   "source": [
    "import os\n",
    "\n",
    "# os.chdir(path)\n",
    "# change directory\n",
    "print(os.getcwd())\n",
    "os.chdir(\"src\")\n",
    "print(os.getcwd())\n",
    "os.chdir(\"..\")\n",
    "print(os.getcwd())"
   ]
  },
  {
   "cell_type": "code",
   "execution_count": 12,
   "metadata": {},
   "outputs": [
    {
     "name": "stdout",
     "output_type": "stream",
     "text": [
      "aaa\\bbb\\ccc\n",
      "aaa/ccc\\bbb\n"
     ]
    }
   ],
   "source": [
    "import os\n",
    "\n",
    "# join\n",
    "print(os.path.join(\"aaa\",\"bbb\",\"ccc\"))\n",
    "print(os.path.join(\"aaa/ccc\",\"bbb\"))"
   ]
  },
  {
   "cell_type": "code",
   "execution_count": 13,
   "metadata": {},
   "outputs": [
    {
     "name": "stdout",
     "output_type": "stream",
     "text": [
      "25977\n",
      "0\n",
      "[WinError 2] 系統找不到指定的檔案。: 'zzzz'\n"
     ]
    }
   ],
   "source": [
    "import os\n",
    "\n",
    "# os.path.getsize\n",
    "print(os.path.getsize(\"14 File Read and Write.ipynb\")) # file\n",
    "print(os.path.getsize(\"src\")) # folder\n",
    "\n",
    "try:\n",
    "    print(os.path.getsize(\"zzzz\")) # not exist\n",
    "except Exception as err:\n",
    "    print(err)"
   ]
  },
  {
   "cell_type": "code",
   "execution_count": 14,
   "metadata": {},
   "outputs": [
    {
     "name": "stdout",
     "output_type": "stream",
     "text": [
      ".ipynb_checkpoints 12288\n",
      "03 Data Type.ipynb 4297\n",
      "04 Input Output.ipynb 8228\n",
      "05 If Else.ipynb 2637\n",
      "06 List.ipynb 15652\n",
      "07 Loop.ipynb 6782\n",
      "08 Tuple.ipynb 5223\n",
      "09 Dict.ipynb 10654\n",
      "10 Set.ipynb 14144\n",
      "11 Function.ipynb 8009\n",
      "12 Class.ipynb 8174\n",
      "13 Sys.ipynb 10252\n",
      "14 File Read and Write.ipynb 25977\n",
      "15 Exception.ipynb 9721\n",
      "16 Regular Expression.ipynb 22632\n",
      "20 CSV.ipynb 5409\n",
      "21 Web Crawler.ipynb 129144\n",
      "22 Selenium.ipynb 5940\n",
      "23 Data Chart.ipynb 657238\n",
      "24 Json.ipynb 16064\n",
      "25 Send SMS.ipynb 1841\n",
      "26 Send Email.ipynb 12559\n",
      "27 Image.ipynb 15625\n",
      "28 Mouse Monitor Keyboard.ipynb 6777\n",
      "29 Optical Character Recognition.ipynb 5737\n",
      "30 Thread.ipynb 20772\n",
      "32 tkinter - canvas.ipynb 15267\n",
      "32 tkinter - widgets.ipynb 42797\n",
      "33 Audio.ipynb 7208\n",
      "34 CV.ipynb 5507\n",
      "images 0\n",
      "res 4096\n",
      "src 0\n",
      "test 0\n",
      "tk 4096\n",
      "__pycache__ 4096\n"
     ]
    }
   ],
   "source": [
    "import os\n",
    "\n",
    "# os.listdir\n",
    "for a in os.listdir(\".\"):\n",
    "    print(a, os.path.getsize(a))"
   ]
  },
  {
   "cell_type": "markdown",
   "metadata": {},
   "source": [
    "### glob"
   ]
  },
  {
   "cell_type": "code",
   "execution_count": 15,
   "metadata": {},
   "outputs": [
    {
     "name": "stdout",
     "output_type": "stream",
     "text": [
      "03 Data Type.ipynb\n",
      "04 Input Output.ipynb\n",
      "05 If Else.ipynb\n",
      "06 List.ipynb\n",
      "07 Loop.ipynb\n",
      "08 Tuple.ipynb\n",
      "09 Dict.ipynb\n",
      "10 Set.ipynb\n",
      "11 Function.ipynb\n",
      "12 Class.ipynb\n",
      "13 Sys.ipynb\n",
      "14 File Read and Write.ipynb\n",
      "15 Exception.ipynb\n",
      "16 Regular Expression.ipynb\n",
      "20 CSV.ipynb\n",
      "21 Web Crawler.ipynb\n",
      "22 Selenium.ipynb\n",
      "23 Data Chart.ipynb\n",
      "24 Json.ipynb\n",
      "25 Send SMS.ipynb\n",
      "26 Send Email.ipynb\n",
      "27 Image.ipynb\n",
      "28 Mouse Monitor Keyboard.ipynb\n",
      "29 Optical Character Recognition.ipynb\n",
      "30 Thread.ipynb\n",
      "32 tkinter - canvas.ipynb\n",
      "32 tkinter - widgets.ipynb\n",
      "33 Audio.ipynb\n",
      "34 CV.ipynb\n",
      "images\n",
      "res\n",
      "src\n",
      "test\n",
      "tk\n",
      "__pycache__\n"
     ]
    }
   ],
   "source": [
    "import glob\n",
    "\n",
    "# list all\n",
    "for s in glob.glob(\"*\"):\n",
    "    print(s)"
   ]
  },
  {
   "cell_type": "code",
   "execution_count": 16,
   "metadata": {},
   "outputs": [
    {
     "name": "stdout",
     "output_type": "stream",
     "text": [
      "03 Data Type.ipynb\n",
      "04 Input Output.ipynb\n",
      "05 If Else.ipynb\n",
      "06 List.ipynb\n",
      "07 Loop.ipynb\n",
      "08 Tuple.ipynb\n",
      "09 Dict.ipynb\n",
      "10 Set.ipynb\n",
      "11 Function.ipynb\n",
      "12 Class.ipynb\n",
      "13 Sys.ipynb\n",
      "14 File Read and Write.ipynb\n",
      "15 Exception.ipynb\n",
      "16 Regular Expression.ipynb\n",
      "20 CSV.ipynb\n",
      "21 Web Crawler.ipynb\n",
      "22 Selenium.ipynb\n",
      "23 Data Chart.ipynb\n",
      "24 Json.ipynb\n",
      "25 Send SMS.ipynb\n",
      "26 Send Email.ipynb\n",
      "27 Image.ipynb\n",
      "28 Mouse Monitor Keyboard.ipynb\n",
      "29 Optical Character Recognition.ipynb\n",
      "30 Thread.ipynb\n",
      "32 tkinter - canvas.ipynb\n",
      "32 tkinter - widgets.ipynb\n",
      "33 Audio.ipynb\n",
      "34 CV.ipynb\n"
     ]
    }
   ],
   "source": [
    "import glob\n",
    "\n",
    "for f in glob.glob(\"*.ipynb\"):\n",
    "    print(f)"
   ]
  },
  {
   "cell_type": "code",
   "execution_count": 17,
   "metadata": {},
   "outputs": [
    {
     "name": "stdout",
     "output_type": "stream",
     "text": [
      "dirName= .\n",
      "subDirNames= ['.ipynb_checkpoints', 'images', 'res', 'src', 'test', 'tk', '__pycache__']\n",
      "fileNames= ['03 Data Type.ipynb', '04 Input Output.ipynb', '05 If Else.ipynb', '06 List.ipynb', '07 Loop.ipynb', '08 Tuple.ipynb', '09 Dict.ipynb', '10 Set.ipynb', '11 Function.ipynb', '12 Class.ipynb', '13 Sys.ipynb', '14 File Read and Write.ipynb', '15 Exception.ipynb', '16 Regular Expression.ipynb', '20 CSV.ipynb', '21 Web Crawler.ipynb', '22 Selenium.ipynb', '23 Data Chart.ipynb', '24 Json.ipynb', '25 Send SMS.ipynb', '26 Send Email.ipynb', '27 Image.ipynb', '28 Mouse Monitor Keyboard.ipynb', '29 Optical Character Recognition.ipynb', '30 Thread.ipynb', '32 tkinter - canvas.ipynb', '32 tkinter - widgets.ipynb', '33 Audio.ipynb', '34 CV.ipynb']\n",
      "\n",
      "dirName= .\\.ipynb_checkpoints\n",
      "subDirNames= []\n",
      "fileNames= ['00 Useful Template-checkpoint.ipynb', '03 Data Type-checkpoint.ipynb', '04 Input Output-checkpoint.ipynb', '05 If Else-checkpoint.ipynb', '06 List-checkpoint.ipynb', '07 Loop-checkpoint.ipynb', '08 Tuple-checkpoint.ipynb', '09 Dict-checkpoint.ipynb', '10 Set-checkpoint.ipynb', '11 Function-checkpoint.ipynb', '12 Class-checkpoint.ipynb', '13 Sys-checkpoint.ipynb', '14 File Read and Write-checkpoint.ipynb', '15 Exception-checkpoint.ipynb', '16 Regular Expression-checkpoint.ipynb', '21 Web Crawler-checkpoint.ipynb', '22 Selenium-checkpoint.ipynb', '23 Data Chart-checkpoint.ipynb', '24 Json-checkpoint.ipynb', '25 Send SMS-checkpoint.ipynb', '26 Send Email-checkpoint.ipynb', '27 Image-checkpoint.ipynb', '28 Mouse Monitor Keyboard-checkpoint.ipynb', '29 Optical Character Recognition-checkpoint.ipynb', '30 Thread-checkpoint.ipynb', '32 tkinter - canvas-checkpoint.ipynb', '32 tkinter - widgets-checkpoint.ipynb', '33 Audio-checkpoint.ipynb', '34 CV-checkpoint.ipynb']\n",
      "\n",
      "dirName= .\\images\n",
      "subDirNames= []\n",
      "fileNames= ['html5.jpg', 'hung.jpg', 'travel.jpg']\n",
      "\n",
      "dirName= .\\res\n",
      "subDirNames= ['html']\n",
      "fileNames= ['AlbumArtSmall.jpg', 'AlbumArt_{661821D1-1952-41CE-90F7-8FC22C0AC55A}_Large.jpg', 'AlbumArt_{661821D1-1952-41CE-90F7-8FC22C0AC55A}_Small.jpg', 'desktop.ini', 'Folder.jpg', 'image.jpg', 'image1.png', 'mario.ico', 'mario.png', 'music.mp3', 'TaipeiWeatherJan.csv', 'text1.png', 'text2.png', 'text3.png', 'warn.ico']\n",
      "\n",
      "dirName= .\\res\\html\n",
      "subDirNames= []\n",
      "fileNames= ['html5.jpg', 'hung.jpg', 'index.html', 'myhtml.html', 'myhtmleng.html', 'out21_11.txt', 'travel.JPG']\n",
      "\n",
      "dirName= .\\src\n",
      "subDirNames= ['__pycache__']\n",
      "fileNames= ['my.py', 'my2.py']\n",
      "\n",
      "dirName= .\\src\\__pycache__\n",
      "subDirNames= []\n",
      "fileNames= ['my.cpython-36.pyc', 'my.cpython-37.pyc', 'my2.cpython-36.pyc', 'my2.cpython-37.pyc', '__init__.cpython-36.pyc']\n",
      "\n",
      "dirName= .\\test\n",
      "subDirNames= []\n",
      "fileNames= []\n",
      "\n",
      "dirName= .\\tk\n",
      "subDirNames= []\n",
      "fileNames= ['tk_button.png', 'tk_canvas.png', 'tk_checkButton.png', 'tk_entry.png', 'tk_grid.png', 'tk_label.png', 'tk_menu.png', 'tk_message.png', 'tk_optionMenu.png', 'tk_pack.png', 'tk_place.png', 'tk_radio.png', 'tk_scale.png', 'tk_scrollbar.png', 'tk_spinbox.png', 'tk_text.png']\n",
      "\n",
      "dirName= .\\__pycache__\n",
      "subDirNames= []\n",
      "fileNames= ['my.cpython-36.pyc', 'my3.cpython-36.pyc', 'my3.cpython-37.pyc']\n",
      "\n"
     ]
    }
   ],
   "source": [
    "import os\n",
    "\n",
    "# os.walk\n",
    "for dirName, subDirNames, fileNames in os.walk(\".\"):\n",
    "    print(\"dirName=\", dirName)\n",
    "    print(\"subDirNames=\", subDirNames)\n",
    "    print(\"fileNames=\", fileNames)\n",
    "    print(\"\")"
   ]
  },
  {
   "cell_type": "markdown",
   "metadata": {},
   "source": [
    "### Write a File"
   ]
  },
  {
   "cell_type": "code",
   "execution_count": 18,
   "metadata": {},
   "outputs": [],
   "source": [
    "with open(\"test/test.txt\", \"w\") as f:\n",
    "    f.write(\"hello world\\n\")\n",
    "    f.write(\"中文測試！＠＃＄％\\n\")"
   ]
  },
  {
   "cell_type": "code",
   "execution_count": 19,
   "metadata": {},
   "outputs": [],
   "source": [
    "with open(\"test/test.txt\", \"a\") as f:\n",
    "    f.write(\"add more msg...\")"
   ]
  },
  {
   "cell_type": "markdown",
   "metadata": {},
   "source": [
    "### Read a File"
   ]
  },
  {
   "cell_type": "code",
   "execution_count": 20,
   "metadata": {},
   "outputs": [
    {
     "name": "stdout",
     "output_type": "stream",
     "text": [
      "hello world\n",
      "中文測試！＠＃＄％\n",
      "add more msg...\n"
     ]
    }
   ],
   "source": [
    "#read all data\n",
    "with open(\"test/test.txt\", \"r\") as f:\n",
    "    data = f.read()\n",
    "    \n",
    "print(data)"
   ]
  },
  {
   "cell_type": "code",
   "execution_count": 21,
   "metadata": {},
   "outputs": [
    {
     "name": "stdout",
     "output_type": "stream",
     "text": [
      "hello world\n",
      "中文測試！＠＃＄％\n",
      "add more msg...\n"
     ]
    }
   ],
   "source": [
    "with open(\"test/test.txt\", \"r\") as f:\n",
    "    for line in f:\n",
    "        print(line.rstrip())"
   ]
  },
  {
   "cell_type": "code",
   "execution_count": 22,
   "metadata": {},
   "outputs": [
    {
     "name": "stdout",
     "output_type": "stream",
     "text": [
      "['hello world\\n', '中文測試！＠＃＄％\\n', 'add more msg...']\n"
     ]
    }
   ],
   "source": [
    "with open(\"test/test.txt\", \"r\") as f:\n",
    "    lines = f.readlines()\n",
    "\n",
    "print(lines)"
   ]
  },
  {
   "cell_type": "markdown",
   "metadata": {},
   "source": [
    "### shutil"
   ]
  },
  {
   "cell_type": "code",
   "execution_count": 23,
   "metadata": {},
   "outputs": [
    {
     "name": "stdout",
     "output_type": "stream",
     "text": [
      "test/test2.txt\n",
      "[Errno 2] No such file or directory: 'test/aaa'\n"
     ]
    }
   ],
   "source": [
    "# shutil.copy(src, dest)\n",
    "# copy a file\n",
    "import shutil\n",
    "\n",
    "print(shutil.copy(\"test/test.txt\", \"test/test2.txt\"))\n",
    "\n",
    "try:\n",
    "    shutil.copy(\"test/aaa\", \"test/bbb\")\n",
    "except Exception as err:\n",
    "    print(err)"
   ]
  },
  {
   "cell_type": "code",
   "execution_count": 24,
   "metadata": {},
   "outputs": [
    {
     "name": "stdout",
     "output_type": "stream",
     "text": [
      "src2\n",
      "[WinError 3] 系統找不到指定的路徑。: 'src1111'\n"
     ]
    }
   ],
   "source": [
    "# shutil.copytree(src, dest)\n",
    "# copy a folder\n",
    "import shutil\n",
    "\n",
    "try:\n",
    "    print(shutil.copytree(\"src\", \"src2\"))\n",
    "except Exception as err:\n",
    "    print(err)\n",
    "\n",
    "try:\n",
    "    print(shutil.copytree(\"src1111\", \"src2\"))\n",
    "except Exception as err:\n",
    "    print(err)"
   ]
  },
  {
   "cell_type": "code",
   "execution_count": 25,
   "metadata": {},
   "outputs": [
    {
     "name": "stdout",
     "output_type": "stream",
     "text": [
      "test/test3.txt\n",
      "src3\n"
     ]
    }
   ],
   "source": [
    "# shutil.move(src, dest)\n",
    "# rename\n",
    "import shutil\n",
    "\n",
    "try:\n",
    "    print(shutil.move(\"test/test2.txt\", \"test/test3.txt\")) #rename file\n",
    "except Exception as err:\n",
    "    print(err)\n",
    "    \n",
    "try:\n",
    "    print(shutil.move(\"src2\", \"src3\")) #rename folder\n",
    "except Exception as err:\n",
    "    print(err)"
   ]
  },
  {
   "cell_type": "code",
   "execution_count": 1,
   "metadata": {},
   "outputs": [],
   "source": [
    "# shiutil.rmtree(path)\n",
    "import shutil\n",
    "\n",
    "shutil.rmtree(\"src3\")"
   ]
  },
  {
   "cell_type": "markdown",
   "metadata": {},
   "source": [
    "### zipFile"
   ]
  },
  {
   "cell_type": "code",
   "execution_count": 26,
   "metadata": {},
   "outputs": [],
   "source": [
    "# zip files\n",
    "import zipfile\n",
    "import glob, os\n",
    "\n",
    "z = zipfile.ZipFile(\"test/my.zip\", \"w\")\n",
    "for s in glob.glob(\"*\"):\n",
    "    z.write(s, os.path.basename(s), zipfile.ZIP_DEFLATED)\n",
    "\n",
    "z.close()"
   ]
  },
  {
   "cell_type": "code",
   "execution_count": 27,
   "metadata": {},
   "outputs": [
    {
     "name": "stdout",
     "output_type": "stream",
     "text": [
      "03 Data Type.ipynb | 4297 | 808\n",
      "04 Input Output.ipynb | 8228 | 1613\n",
      "05 If Else.ipynb | 2637 | 499\n",
      "06 List.ipynb | 15652 | 1841\n",
      "07 Loop.ipynb | 6782 | 828\n",
      "08 Tuple.ipynb | 5223 | 824\n",
      "09 Dict.ipynb | 10654 | 1363\n",
      "10 Set.ipynb | 14144 | 1742\n",
      "11 Function.ipynb | 8009 | 1225\n",
      "12 Class.ipynb | 8174 | 1289\n",
      "13 Sys.ipynb | 10252 | 1627\n",
      "14 File Read and Write.ipynb | 25977 | 4320\n",
      "15 Exception.ipynb | 9721 | 1484\n",
      "16 Regular Expression.ipynb | 22632 | 2874\n",
      "20 CSV.ipynb | 5409 | 909\n",
      "21 Web Crawler.ipynb | 129144 | 25462\n",
      "22 Selenium.ipynb | 5940 | 1294\n",
      "23 Data Chart.ipynb | 657238 | 460440\n",
      "24 Json.ipynb | 16064 | 3044\n",
      "25 Send SMS.ipynb | 1841 | 735\n",
      "26 Send Email.ipynb | 12559 | 2013\n",
      "27 Image.ipynb | 15625 | 2042\n",
      "28 Mouse Monitor Keyboard.ipynb | 6777 | 1179\n",
      "29 Optical Character Recognition.ipynb | 5737 | 2429\n",
      "30 Thread.ipynb | 20772 | 2957\n",
      "32 tkinter - canvas.ipynb | 15267 | 2870\n",
      "32 tkinter - widgets.ipynb | 42797 | 5072\n",
      "33 Audio.ipynb | 7208 | 1149\n",
      "34 CV.ipynb | 5507 | 1333\n",
      "images/ | 0 | 0\n",
      "res/ | 0 | 0\n",
      "src/ | 0 | 0\n",
      "src3/ | 0 | 0\n",
      "test/ | 0 | 0\n",
      "tk/ | 0 | 0\n",
      "__pycache__/ | 0 | 0\n"
     ]
    }
   ],
   "source": [
    "# read zip file\n",
    "import zipfile\n",
    "\n",
    "z = zipfile.ZipFile(\"test/my.zip\", \"r\")\n",
    "for info in z.infolist():\n",
    "    print(info.filename, \"|\", info.file_size, \"|\", info.compress_size)\n",
    "z.close()"
   ]
  },
  {
   "cell_type": "code",
   "execution_count": 28,
   "metadata": {},
   "outputs": [],
   "source": [
    "# unzip a zip file\n",
    "import zipfile\n",
    "\n",
    "z = zipfile.ZipFile(\"test/my.zip\", \"r\")\n",
    "z.extractall(\"test/unzip\")\n",
    "z.close()"
   ]
  },
  {
   "cell_type": "markdown",
   "metadata": {},
   "source": [
    "### encode"
   ]
  },
  {
   "cell_type": "code",
   "execution_count": 29,
   "metadata": {},
   "outputs": [],
   "source": [
    "with open(\"test/encode_utf8.txt\", \"w\", encoding=\"utf8\") as f:\n",
    "    f.write(\"hello world\")\n",
    "    f.write(\"中文測試！＠＃＄\")\n",
    "    \n",
    "with open(\"test/encode_950.txt\", \"w\", encoding=\"950\") as f:\n",
    "    f.write(\"hello world\")\n",
    "    f.write(\"中文測試！＠＃＄\")"
   ]
  },
  {
   "cell_type": "code",
   "execution_count": 30,
   "metadata": {},
   "outputs": [
    {
     "name": "stdout",
     "output_type": "stream",
     "text": [
      "hello world中文測試！＠＃＄\n"
     ]
    }
   ],
   "source": [
    "# no encoding = 950\n",
    "with open(\"test/encode_950.txt\", \"r\") as f:\n",
    "    print(f.read())"
   ]
  },
  {
   "cell_type": "code",
   "execution_count": 31,
   "metadata": {},
   "outputs": [
    {
     "name": "stdout",
     "output_type": "stream",
     "text": [
      "hello world中文測試！＠＃＄\n"
     ]
    }
   ],
   "source": [
    "with open(\"test/encode_950.txt\", \"r\", encoding=\"950\") as f:\n",
    "    print(f.read())"
   ]
  },
  {
   "cell_type": "code",
   "execution_count": 32,
   "metadata": {},
   "outputs": [
    {
     "name": "stdout",
     "output_type": "stream",
     "text": [
      "'cp950' codec can't decode byte 0x96 in position 15: illegal multibyte sequence\n"
     ]
    }
   ],
   "source": [
    "try:\n",
    "    with open(\"test/encode_utf8.txt\", \"r\") as f:\n",
    "        print(f.read())\n",
    "except Exception as err:\n",
    "    print(err)"
   ]
  },
  {
   "cell_type": "code",
   "execution_count": 33,
   "metadata": {},
   "outputs": [
    {
     "name": "stdout",
     "output_type": "stream",
     "text": [
      "hello world中文測試！＠＃＄\n"
     ]
    }
   ],
   "source": [
    "with open(\"test/encode_utf8.txt\", \"r\", encoding=\"utf8\") as f:\n",
    "    print(f.read())"
   ]
  },
  {
   "cell_type": "code",
   "execution_count": 34,
   "metadata": {},
   "outputs": [
    {
     "name": "stdout",
     "output_type": "stream",
     "text": [
      "'utf-8' codec can't decode byte 0xa4 in position 11: invalid start byte\n"
     ]
    }
   ],
   "source": [
    "try:\n",
    "    with open(\"test/encode_950.txt\", \"r\", encoding=\"utf8\") as f:\n",
    "        print(f.read())\n",
    "except Exception as err:\n",
    "    print(err)"
   ]
  },
  {
   "cell_type": "markdown",
   "metadata": {},
   "source": [
    "### copy to clipboard"
   ]
  },
  {
   "cell_type": "code",
   "execution_count": 35,
   "metadata": {},
   "outputs": [
    {
     "name": "stdout",
     "output_type": "stream",
     "text": [
      "hello world\n"
     ]
    }
   ],
   "source": [
    "#pip install pyperclip\n",
    "import pyperclip\n",
    "pyperclip.copy(\"hello world\")\n",
    "string = pyperclip.paste()\n",
    "print(string)"
   ]
  },
  {
   "cell_type": "code",
   "execution_count": null,
   "metadata": {},
   "outputs": [],
   "source": []
  }
 ],
 "metadata": {
  "kernelspec": {
   "display_name": "Python 3",
   "language": "python",
   "name": "python3"
  },
  "language_info": {
   "codemirror_mode": {
    "name": "ipython",
    "version": 3
   },
   "file_extension": ".py",
   "mimetype": "text/x-python",
   "name": "python",
   "nbconvert_exporter": "python",
   "pygments_lexer": "ipython3",
   "version": "3.7.1"
  }
 },
 "nbformat": 4,
 "nbformat_minor": 2
}
