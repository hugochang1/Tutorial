{
 "cells": [
  {
   "cell_type": "markdown",
   "metadata": {},
   "source": [
    "### Pillow"
   ]
  },
  {
   "cell_type": "markdown",
   "metadata": {},
   "source": [
    "pip install pillow"
   ]
  },
  {
   "cell_type": "code",
   "execution_count": 1,
   "metadata": {},
   "outputs": [
    {
     "name": "stdout",
     "output_type": "stream",
     "text": [
      "(0, 0, 255)\n",
      "(0, 0, 255)\n",
      "(0, 0, 255)\n",
      "(0, 0, 255)\n",
      "(0, 0, 255)\n"
     ]
    }
   ],
   "source": [
    "from PIL import ImageColor\n",
    "\n",
    "print(ImageColor.getrgb(\"#0000ff\"))\n",
    "print(ImageColor.getrgb(\"rgb(0, 0, 255)\"))\n",
    "print(ImageColor.getrgb(\"rgb(0%, 0%, 100%)\"))\n",
    "print(ImageColor.getrgb(\"Blue\"))\n",
    "print(ImageColor.getrgb(\"blue\"))"
   ]
  },
  {
   "cell_type": "code",
   "execution_count": 3,
   "metadata": {},
   "outputs": [
    {
     "name": "stdout",
     "output_type": "stream",
     "text": [
      "(0, 0, 255)\n",
      "(0, 0, 255)\n",
      "(0, 0, 255)\n",
      "(0, 0, 255, 255)\n",
      "(0, 0, 255, 255)\n",
      "(0, 0, 255, 255)\n"
     ]
    }
   ],
   "source": [
    "print(ImageColor.getcolor(\"#0000ff\", \"RGB\"))\n",
    "print(ImageColor.getcolor(\"rgb(0, 0, 255)\", \"RGB\"))\n",
    "print(ImageColor.getcolor(\"Blue\", \"RGB\"))\n",
    "print(ImageColor.getcolor(\"#0000ff\", \"RGBA\"))\n",
    "print(ImageColor.getcolor(\"rgb(0, 0, 255)\", \"RGBA\"))\n",
    "print(ImageColor.getcolor(\"Blue\", \"RGBA\"))"
   ]
  },
  {
   "cell_type": "markdown",
   "metadata": {},
   "source": [
    "### Image operation"
   ]
  },
  {
   "cell_type": "code",
   "execution_count": 3,
   "metadata": {},
   "outputs": [
    {
     "name": "stdout",
     "output_type": "stream",
     "text": [
      "<class 'PIL.JpegImagePlugin.JpegImageFile'>\n",
      "(837, 837)\n",
      "res/image.jpg\n",
      "JPEG\n",
      "JPEG (ISO 10918)\n"
     ]
    }
   ],
   "source": [
    "from PIL import Image\n",
    "\n",
    "img = Image.open(\"res/image.jpg\")\n",
    "print(type(img))\n",
    "print(img.size)\n",
    "print(img.filename)\n",
    "print(img.format)\n",
    "print(img.format_description)\n",
    "img.close()"
   ]
  },
  {
   "cell_type": "markdown",
   "metadata": {},
   "source": [
    "### save"
   ]
  },
  {
   "cell_type": "code",
   "execution_count": 4,
   "metadata": {},
   "outputs": [],
   "source": [
    "from PIL import Image\n",
    "\n",
    "img = Image.open(\"res/image.jpg\")\n",
    "img.save(\"test/image.jpg\")\n",
    "img.close()"
   ]
  },
  {
   "cell_type": "markdown",
   "metadata": {},
   "source": [
    "### create a new image"
   ]
  },
  {
   "cell_type": "code",
   "execution_count": 5,
   "metadata": {},
   "outputs": [],
   "source": [
    "from PIL import Image\n",
    "\n",
    "img = Image.new(\"RGB\", (300, 100), \"aqua\")\n",
    "img.save(\"test/image2.jpg\")\n",
    "img.close()"
   ]
  },
  {
   "cell_type": "code",
   "execution_count": 6,
   "metadata": {},
   "outputs": [
    {
     "data": {
      "text/html": [
       "<img src=\"test/image2.jpg\", width=60, height=100>\n"
      ],
      "text/plain": [
       "<IPython.core.display.HTML object>"
      ]
     },
     "metadata": {},
     "output_type": "display_data"
    }
   ],
   "source": [
    "%%html\n",
    "<img src=\"test/image2.jpg\", width=60, height=100>"
   ]
  },
  {
   "cell_type": "code",
   "execution_count": 9,
   "metadata": {},
   "outputs": [],
   "source": [
    "from PIL import Image\n",
    "\n",
    "# create a transparent image\n",
    "img = Image.new(\"RGBA\", (300, 180))\n",
    "img.save(\"test/image3.png\")\n",
    "img.close()"
   ]
  },
  {
   "cell_type": "code",
   "execution_count": 10,
   "metadata": {},
   "outputs": [
    {
     "data": {
      "text/html": [
       "<img src=\"test/image3.png\", width=60, height=100>\n"
      ],
      "text/plain": [
       "<IPython.core.display.HTML object>"
      ]
     },
     "metadata": {},
     "output_type": "display_data"
    }
   ],
   "source": [
    "%%html\n",
    "<img src=\"test/image3.png\", width=60, height=100>"
   ]
  },
  {
   "cell_type": "markdown",
   "metadata": {},
   "source": [
    "### resize"
   ]
  },
  {
   "cell_type": "code",
   "execution_count": 12,
   "metadata": {},
   "outputs": [],
   "source": [
    "from PIL import Image\n",
    "\n",
    "img = Image.open(\"res/image.jpg\")\n",
    "width, height = img.size\n",
    "\n",
    "newImg = img.resize((int(width/2), height))\n",
    "newImg.save(\"test/image4.jpg\")\n",
    "\n",
    "newImg = img.resize((width, int(height/2)))\n",
    "newImg.save(\"test/image5.jpg\")\n",
    "\n",
    "img.close()"
   ]
  },
  {
   "cell_type": "markdown",
   "metadata": {},
   "source": [
    "### rotation"
   ]
  },
  {
   "cell_type": "code",
   "execution_count": 13,
   "metadata": {},
   "outputs": [],
   "source": [
    "from PIL import Image\n",
    "\n",
    "img = Image.open(\"res/image.jpg\")\n",
    "\n",
    "img.rotate(90).save(\"test/image6.jpg\")\n",
    "img.rotate(180).save(\"test/image7.jpg\")\n",
    "img.rotate(270).save(\"test/image8.jpg\")\n",
    "img.rotate(45).save(\"test/image9.jpg\")\n",
    "img.rotate(45, expand=True).save(\"test/image10.jpg\")\n",
    "\n",
    "img.close()"
   ]
  },
  {
   "cell_type": "code",
   "execution_count": 14,
   "metadata": {},
   "outputs": [
    {
     "data": {
      "text/html": [
       "<img src=\"res/image.jpg\", width=60, height=100>\n",
       "<img src=\"test/image6.jpg\", width=60, height=100>\n",
       "<img src=\"test/image7.jpg\", width=60, height=100>\n",
       "<img src=\"test/image8.jpg\", width=60, height=100>\n",
       "<img src=\"test/image9.jpg\", width=60, height=100>\n",
       "<img src=\"test/image10.jpg\", width=60, height=100>\n"
      ],
      "text/plain": [
       "<IPython.core.display.HTML object>"
      ]
     },
     "metadata": {},
     "output_type": "display_data"
    }
   ],
   "source": [
    "%%html\n",
    "<img src=\"res/image.jpg\", width=60, height=100>\n",
    "<img src=\"test/image6.jpg\", width=60, height=100>\n",
    "<img src=\"test/image7.jpg\", width=60, height=100>\n",
    "<img src=\"test/image8.jpg\", width=60, height=100>\n",
    "<img src=\"test/image9.jpg\", width=60, height=100>\n",
    "<img src=\"test/image10.jpg\", width=60, height=100>"
   ]
  },
  {
   "cell_type": "markdown",
   "metadata": {},
   "source": [
    "### transpose"
   ]
  },
  {
   "cell_type": "code",
   "execution_count": 15,
   "metadata": {},
   "outputs": [],
   "source": [
    "from PIL import Image\n",
    "\n",
    "img = Image.open(\"res/image.jpg\")\n",
    "img.transpose(Image.FLIP_LEFT_RIGHT).save(\"test/image11.jpg\")\n",
    "img.transpose(Image.FLIP_TOP_BOTTOM).save(\"test/image12.jpg\")\n",
    "img.close()"
   ]
  },
  {
   "cell_type": "code",
   "execution_count": 16,
   "metadata": {},
   "outputs": [
    {
     "data": {
      "text/html": [
       "<img src=\"res/image.jpg\", width=60, height=100>\n",
       "<img src=\"test/image11.jpg\", width=60, height=100>\n",
       "<img src=\"test/image12.jpg\", width=60, height=100>\n"
      ],
      "text/plain": [
       "<IPython.core.display.HTML object>"
      ]
     },
     "metadata": {},
     "output_type": "display_data"
    }
   ],
   "source": [
    "%%html\n",
    "<img src=\"res/image.jpg\", width=60, height=100>\n",
    "<img src=\"test/image11.jpg\", width=60, height=100>\n",
    "<img src=\"test/image12.jpg\", width=60, height=100>"
   ]
  },
  {
   "cell_type": "markdown",
   "metadata": {},
   "source": [
    "### edit image"
   ]
  },
  {
   "cell_type": "code",
   "execution_count": 17,
   "metadata": {},
   "outputs": [
    {
     "name": "stdout",
     "output_type": "stream",
     "text": [
      "(255, 255, 0, 255)\n"
     ]
    }
   ],
   "source": [
    "# img.getpixel((x, y))\n",
    "from PIL import Image\n",
    "\n",
    "img = Image.new(\"RGBA\", (300, 100), \"Yellow\")\n",
    "print(img.getpixel((150, 50)))\n",
    "img.save(\"test/image13.png\")\n",
    "img.close()"
   ]
  },
  {
   "cell_type": "code",
   "execution_count": 18,
   "metadata": {},
   "outputs": [],
   "source": [
    "# img.putpixel((x, y), (r, g, b, a))\n",
    "from PIL import Image\n",
    "from PIL import ImageColor\n",
    "\n",
    "img = Image.new(\"RGBA\", (300, 300), \"Yellow\")\n",
    "for x in range(50, 251):\n",
    "    for y in range(50, 151):\n",
    "        img.putpixel((x, y), (255, 0, 0, 255)) # RGBA\n",
    "img.save(\"test/image14.png\")\n",
    "for x in range(50, 251):\n",
    "    for y in range(151, 251):\n",
    "        img.putpixel((x, y), ImageColor.getcolor(\"blue\", \"RGBA\"))\n",
    "img.save(\"test/image15.png\")\n",
    "img.close()"
   ]
  },
  {
   "cell_type": "code",
   "execution_count": 19,
   "metadata": {},
   "outputs": [
    {
     "data": {
      "text/html": [
       "<img src=\"test/image14.png\", width=60, height=100>\n",
       "<img src=\"test/image15.png\", width=60, height=100>\n"
      ],
      "text/plain": [
       "<IPython.core.display.HTML object>"
      ]
     },
     "metadata": {},
     "output_type": "display_data"
    }
   ],
   "source": [
    "%%html\n",
    "<img src=\"test/image14.png\", width=60, height=100>\n",
    "<img src=\"test/image15.png\", width=60, height=100>"
   ]
  },
  {
   "cell_type": "markdown",
   "metadata": {},
   "source": [
    "### crop"
   ]
  },
  {
   "cell_type": "code",
   "execution_count": 20,
   "metadata": {},
   "outputs": [],
   "source": [
    "from PIL import Image\n",
    "\n",
    "img = Image.open(\"res/image.jpg\")\n",
    "img.crop((300, 0, 400, 300)).save(\"test/image16.jpg\")\n",
    "img.close()"
   ]
  },
  {
   "cell_type": "code",
   "execution_count": 21,
   "metadata": {},
   "outputs": [
    {
     "data": {
      "text/html": [
       "<img src=\"test/image16.jpg\", width=60, height=100>\n"
      ],
      "text/plain": [
       "<IPython.core.display.HTML object>"
      ]
     },
     "metadata": {},
     "output_type": "display_data"
    }
   ],
   "source": [
    "%%html\n",
    "<img src=\"test/image16.jpg\", width=60, height=100>"
   ]
  },
  {
   "cell_type": "markdown",
   "metadata": {},
   "source": [
    "### copy"
   ]
  },
  {
   "cell_type": "code",
   "execution_count": 22,
   "metadata": {},
   "outputs": [],
   "source": [
    "from PIL import Image\n",
    "\n",
    "img = Image.open(\"res/image.jpg\")\n",
    "img = img.copy()\n",
    "img.save(\"test/image17.jpg\")"
   ]
  },
  {
   "cell_type": "markdown",
   "metadata": {},
   "source": [
    "### image merge"
   ]
  },
  {
   "cell_type": "code",
   "execution_count": 23,
   "metadata": {},
   "outputs": [],
   "source": [
    "from PIL import Image\n",
    "\n",
    "img = Image.open(\"res/image.jpg\")\n",
    "img = img.copy()\n",
    "cropImg = img.crop((300, 0, 400, 100))\n",
    "img.paste(cropImg, (20, 20))\n",
    "img.paste(cropImg, (20, 120))\n",
    "img.save(\"test/image18.jpg\")\n",
    "img.close()"
   ]
  },
  {
   "cell_type": "code",
   "execution_count": 24,
   "metadata": {},
   "outputs": [
    {
     "data": {
      "text/html": [
       "<img src=\"test/image18.jpg\", width=60, height=100>\n"
      ],
      "text/plain": [
       "<IPython.core.display.HTML object>"
      ]
     },
     "metadata": {},
     "output_type": "display_data"
    }
   ],
   "source": [
    "%%html\n",
    "<img src=\"test/image18.jpg\", width=60, height=100>"
   ]
  },
  {
   "cell_type": "markdown",
   "metadata": {},
   "source": [
    "### draw"
   ]
  },
  {
   "cell_type": "code",
   "execution_count": 25,
   "metadata": {},
   "outputs": [],
   "source": [
    "from PIL import Image, ImageDraw, ImageFont\n",
    "\n",
    "img = Image.new(\"RGBA\", (300, 300), \"Green\")\n",
    "draw = ImageDraw.Draw(img)\n",
    "\n",
    "# point\n",
    "for x in range(10, 100, 2):\n",
    "    for y in range(50, 100, 2):\n",
    "        draw.point((x, y), fill=\"Red\")\n",
    "\n",
    "# line\n",
    "draw.line([(0,  5), (300, 5)])\n",
    "draw.line([(0, 10), (300, 10)], width=1, fill=\"black\")\n",
    "draw.line([(0, 20), (300, 20)], width=2, fill=\"yellow\")\n",
    "draw.line([(0, 30), (300, 30)], width=3, fill=\"blue\")\n",
    "\n",
    "# elipse((left, top, right, bottom), fill, outline)\n",
    "draw.ellipse((150, 50, 250, 100), fill=\"red\", outline=\"white\")\n",
    "\n",
    "# rectangle((left, top, right, bottom), fill, outline)\n",
    "draw.rectangle((10, 150, 100, 200), fill=\"blue\", outline=\"white\")\n",
    "\n",
    "# polygon([(x1, y1), ... (xn, yn)], fill, outline)\n",
    "draw.polygon([(150, 150), (200, 150), (180, 200)], fill=\"yellow\", outline=\"white\")\n",
    "\n",
    "# text\n",
    "draw.line([(0, 250), (300, 250)], width=3) # base line\n",
    "draw.text((0, 250), \"my text\", fill=\"Blue\")\n",
    "font1 = ImageFont.truetype(font=\"C:\\Windows\\Fonts\\mingliu.ttc\", size=18)\n",
    "draw.text((100, 250), u\"Hello World中文字\", fill=\"White\", font=font1)\n",
    "\n",
    "img.save(\"test/image19.png\")\n",
    "img.close()"
   ]
  },
  {
   "cell_type": "code",
   "execution_count": 26,
   "metadata": {},
   "outputs": [
    {
     "data": {
      "text/html": [
       "<img src=\"test/image19.png\", width=300, height=300>\n"
      ],
      "text/plain": [
       "<IPython.core.display.HTML object>"
      ]
     },
     "metadata": {},
     "output_type": "display_data"
    }
   ],
   "source": [
    "%%html\n",
    "<img src=\"test/image19.png\", width=300, height=300>"
   ]
  },
  {
   "cell_type": "markdown",
   "metadata": {},
   "source": [
    "### QR code"
   ]
  },
  {
   "cell_type": "markdown",
   "metadata": {},
   "source": [
    "pip install qrcode"
   ]
  },
  {
   "cell_type": "code",
   "execution_count": 27,
   "metadata": {},
   "outputs": [
    {
     "name": "stdout",
     "output_type": "stream",
     "text": [
      "<class 'qrcode.image.pil.PilImage'>\n"
     ]
    }
   ],
   "source": [
    "import qrcode\n",
    "\n",
    "text = \"http://www.google.com\"\n",
    "img = qrcode.make(text)\n",
    "print(type(img))\n",
    "img.save(\"test/image20.jpg\")"
   ]
  },
  {
   "cell_type": "code",
   "execution_count": 28,
   "metadata": {},
   "outputs": [
    {
     "data": {
      "text/html": [
       "<img src=\"test/image20.jpg\", width=60, height=100>\n"
      ],
      "text/plain": [
       "<IPython.core.display.HTML object>"
      ]
     },
     "metadata": {},
     "output_type": "display_data"
    }
   ],
   "source": [
    "%%html\n",
    "<img src=\"test/image20.jpg\", width=60, height=100>"
   ]
  },
  {
   "cell_type": "code",
   "execution_count": null,
   "metadata": {},
   "outputs": [],
   "source": []
  }
 ],
 "metadata": {
  "kernelspec": {
   "display_name": "Python 3",
   "language": "python",
   "name": "python3"
  },
  "language_info": {
   "codemirror_mode": {
    "name": "ipython",
    "version": 3
   },
   "file_extension": ".py",
   "mimetype": "text/x-python",
   "name": "python",
   "nbconvert_exporter": "python",
   "pygments_lexer": "ipython3",
   "version": "3.7.1"
  }
 },
 "nbformat": 4,
 "nbformat_minor": 2
}
