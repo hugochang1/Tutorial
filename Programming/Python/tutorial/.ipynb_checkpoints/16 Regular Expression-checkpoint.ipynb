{
 "cells": [
  {
   "cell_type": "markdown",
   "metadata": {},
   "source": [
    "### compile"
   ]
  },
  {
   "cell_type": "code",
   "execution_count": 1,
   "metadata": {},
   "outputs": [
    {
     "name": "stdout",
     "output_type": "stream",
     "text": [
      "<re.Match object; span=(19, 31), match='0912-345-678'>\n",
      "0912-345-678\n"
     ]
    }
   ],
   "source": [
    "import re\n",
    "\n",
    "msg = \"\"\"aaaabbbb000111234, 0912-345-678, 1234-456-44, 1234-456-789\n",
    "    aaaa0987-654-321,,,,,,,\"\"\"\n",
    "\n",
    "rule = re.compile(r\"\\d\\d\\d\\d-\\d\\d\\d-\\d\\d\\d\")\n",
    "ret = rule.search(msg)\n",
    "print(ret)\n",
    "print(ret.group())"
   ]
  },
  {
   "cell_type": "code",
   "execution_count": 2,
   "metadata": {},
   "outputs": [
    {
     "name": "stdout",
     "output_type": "stream",
     "text": [
      "None\n"
     ]
    }
   ],
   "source": [
    "#search()\n",
    "import re\n",
    "\n",
    "msg = \"hello world\"\n",
    "\n",
    "ret = rule.search(msg)\n",
    "print(ret)"
   ]
  },
  {
   "cell_type": "code",
   "execution_count": 3,
   "metadata": {},
   "outputs": [
    {
     "name": "stdout",
     "output_type": "stream",
     "text": [
      "['0912-345-678', '1234-456-789', '0987-654-321']\n"
     ]
    }
   ],
   "source": [
    "#findall()\n",
    "import re\n",
    "\n",
    "msg = \"\"\"aaaabbbb000111234, 0912-345-678, 1234-456-44, 1234-456-789\n",
    "    aaaa0987-654-321,,,,,,,\"\"\"\n",
    "\n",
    "rule = re.compile(r\"\\d\\d\\d\\d-\\d\\d\\d-\\d\\d\\d\")\n",
    "ret = rule.findall(msg)\n",
    "print(ret)"
   ]
  },
  {
   "cell_type": "code",
   "execution_count": 4,
   "metadata": {},
   "outputs": [
    {
     "name": "stdout",
     "output_type": "stream",
     "text": [
      "['0912-345-678', '1234-456-789', '0987-654-321']\n"
     ]
    }
   ],
   "source": [
    "#refine regular expression\n",
    "import re\n",
    "\n",
    "msg = \"\"\"aaaabbbb000111234, 0912-345-678, 1234-456-44, 1234-456-789\n",
    "    aaaa0987-654-321,,,,,,,\"\"\"\n",
    "\n",
    "rule = re.compile(r\"\\d{4}-\\d{3}-\\d{3}\")\n",
    "ret = rule.findall(msg)\n",
    "print(ret)"
   ]
  },
  {
   "cell_type": "markdown",
   "metadata": {},
   "source": [
    "### re.search"
   ]
  },
  {
   "cell_type": "code",
   "execution_count": 5,
   "metadata": {},
   "outputs": [
    {
     "name": "stdout",
     "output_type": "stream",
     "text": [
      "<re.Match object; span=(19, 31), match='0912-345-678'>\n",
      "0912-345-678\n",
      "()\n",
      "19\n",
      "31\n",
      "(19, 31)\n"
     ]
    }
   ],
   "source": [
    "import re\n",
    "\n",
    "msg =  \"\"\"aaaabbbb000111234, 0912-345-678, 1234-456-44, 1234-456-789\n",
    "    aaaa0987-654-321,,,,,,,\"\"\"\n",
    "\n",
    "ret = re.search(r\"\\d{4}-\\d{3}-\\d{3}\", msg)\n",
    "print(ret)\n",
    "print(ret.group())\n",
    "print(ret.groups())\n",
    "print(ret.start())\n",
    "print(ret.end())\n",
    "print(ret.span())"
   ]
  },
  {
   "cell_type": "markdown",
   "metadata": {},
   "source": [
    "### re.findall"
   ]
  },
  {
   "cell_type": "code",
   "execution_count": 6,
   "metadata": {},
   "outputs": [
    {
     "name": "stdout",
     "output_type": "stream",
     "text": [
      "['0912-345-678', '1234-456-789', '0987-654-321']\n"
     ]
    }
   ],
   "source": [
    "import re\n",
    "\n",
    "msg =  \"\"\"aaaabbbb000111234, 0912-345-678, 1234-456-44, 1234-456-789\n",
    "    aaaa0987-654-321,,,,,,,\"\"\"\n",
    "\n",
    "ret = re.findall(r\"\\d{4}-\\d{3}-\\d{3}\", msg)\n",
    "print(ret)"
   ]
  },
  {
   "cell_type": "markdown",
   "metadata": {},
   "source": [
    "### re.finditer"
   ]
  },
  {
   "cell_type": "code",
   "execution_count": 7,
   "metadata": {},
   "outputs": [
    {
     "name": "stdout",
     "output_type": "stream",
     "text": [
      "<callable_iterator object at 0x0000000004DA1B00>\n",
      "<re.Match object; span=(19, 31), match='0912-345-678'>\n",
      "<re.Match object; span=(46, 58), match='1234-456-789'>\n",
      "<re.Match object; span=(67, 79), match='0987-654-321'>\n"
     ]
    }
   ],
   "source": [
    "import re\n",
    "\n",
    "msg =  \"\"\"aaaabbbb000111234, 0912-345-678, 1234-456-44, 1234-456-789\n",
    "    aaaa0987-654-321,,,,,,,\"\"\"\n",
    "\n",
    "ret = re.finditer(r\"\\d{4}-\\d{3}-\\d{3}\", msg)\n",
    "print(ret)\n",
    "for a in ret:\n",
    "    print(a)"
   ]
  },
  {
   "cell_type": "markdown",
   "metadata": {},
   "source": [
    "### re.match"
   ]
  },
  {
   "cell_type": "code",
   "execution_count": 8,
   "metadata": {},
   "outputs": [
    {
     "name": "stdout",
     "output_type": "stream",
     "text": [
      "<re.Match object; span=(0, 12), match='0912-345-678'>\n",
      "0912-345-678\n",
      "0\n",
      "12\n",
      "(0, 12)\n",
      "\n",
      "None\n"
     ]
    }
   ],
   "source": [
    "#match() similar to search() but if the begin comparison failed, it will return none\n",
    "\n",
    "import re\n",
    "\n",
    "msg =  \"\"\"0912-345-678 aaaabbbb000111234, 0912-345-678, 1234-456-44, 1234-456-789\n",
    "    aaaa0987-654-321,,,,,,,\"\"\"\n",
    "\n",
    "ret = re.match(r\"\\d{4}-\\d{3}-\\d{3}\", msg)\n",
    "print(ret)\n",
    "print(ret.group())\n",
    "print(ret.start())\n",
    "print(ret.end())\n",
    "print(ret.span())\n",
    "\n",
    "print(\"\")\n",
    "\n",
    "msg =  \"\"\"aaaabbbb000111234, 0912-345-678, 1234-456-44, 1234-456-789\n",
    "    aaaa0987-654-321,,,,,,,\"\"\"\n",
    "ret = re.match(r\"\\d{4}-\\d{3}-\\d{3}\", msg)\n",
    "print(ret)"
   ]
  },
  {
   "cell_type": "markdown",
   "metadata": {},
   "source": [
    "### group"
   ]
  },
  {
   "cell_type": "code",
   "execution_count": 9,
   "metadata": {},
   "outputs": [
    {
     "name": "stdout",
     "output_type": "stream",
     "text": [
      "<re.Match object; span=(13, 20), match='02-1234'>\n",
      "02-1234\n",
      "02-1234\n",
      "02\n",
      "1234\n",
      "('02', '1234')\n"
     ]
    }
   ],
   "source": [
    "# r\"\\d\\d-\\d\\d\\d\\d\"\n",
    "# r\"\\d{2}-\\d{4}\"\n",
    "# r\"(\\d{2})-(\\d{4})\" -> group\n",
    "\n",
    "import re\n",
    "\n",
    "msg = \"asdfasdfasdf 02-1234 basdfa\"\n",
    "num = re.search(r\"(\\d{2})-(\\d{4})\", msg)\n",
    "print(num)\n",
    "print(num.group())\n",
    "print(num.group(0))\n",
    "print(num.group(1))\n",
    "print(num.group(2))\n",
    "print(num.groups())"
   ]
  },
  {
   "cell_type": "code",
   "execution_count": 10,
   "metadata": {},
   "outputs": [
    {
     "name": "stdout",
     "output_type": "stream",
     "text": [
      "[('02', '1234')]\n"
     ]
    }
   ],
   "source": [
    "import re\n",
    "\n",
    "msg = \"asdfasdfasdf 02-1234 basdfa\"\n",
    "num = re.findall(r\"(\\d{2})-(\\d{4})\", msg)\n",
    "print(num)"
   ]
  },
  {
   "cell_type": "markdown",
   "metadata": {},
   "source": [
    "### |"
   ]
  },
  {
   "cell_type": "markdown",
   "metadata": {},
   "source": [
    "or"
   ]
  },
  {
   "cell_type": "code",
   "execution_count": 11,
   "metadata": {},
   "outputs": [
    {
     "name": "stdout",
     "output_type": "stream",
     "text": [
      "['aaa', 'bbb', 'bbb', 'aaa']\n"
     ]
    }
   ],
   "source": [
    "import re\n",
    "\n",
    "msg = \"aaa bbb ccc ddd bbb aaa\"\n",
    "ret = re.findall(\"aaa|bbb\", msg)\n",
    "print(ret)"
   ]
  },
  {
   "cell_type": "code",
   "execution_count": 12,
   "metadata": {},
   "outputs": [
    {
     "name": "stdout",
     "output_type": "stream",
     "text": [
      "['bbb', 'ccc', 'eee', 'ccc']\n"
     ]
    }
   ],
   "source": [
    "import re\n",
    "\n",
    "msg = \"aaabbb aaaccc aaaddd aaaeee aaaccc bbbccc\"\n",
    "ret = re.findall(\"aaa(bbb|ccc|eee)\", msg)\n",
    "print(ret)"
   ]
  },
  {
   "cell_type": "code",
   "execution_count": 13,
   "metadata": {},
   "outputs": [
    {
     "name": "stdout",
     "output_type": "stream",
     "text": [
      "<re.Match object; span=(0, 6), match='aaabbb'>\n",
      "aaabbb\n",
      "aaabbb\n",
      "bbb\n"
     ]
    }
   ],
   "source": [
    "import re\n",
    "\n",
    "msg = \"aaabbb aaaccc aaaddd aaaeee aaaccc\"\n",
    "ret = re.search(\"aaa(bbb|ccc|eee)\", msg)\n",
    "print(ret)\n",
    "print(ret.group())\n",
    "print(ret.group())\n",
    "print(ret.group(1))"
   ]
  },
  {
   "cell_type": "markdown",
   "metadata": {},
   "source": [
    "### ?"
   ]
  },
  {
   "cell_type": "markdown",
   "metadata": {},
   "source": [
    "zero or once"
   ]
  },
  {
   "cell_type": "code",
   "execution_count": 14,
   "metadata": {},
   "outputs": [
    {
     "name": "stdout",
     "output_type": "stream",
     "text": [
      "abc\n",
      "bc\n"
     ]
    }
   ],
   "source": [
    "import re\n",
    "\n",
    "msg = \"aaa abc\"\n",
    "ret = re.search(\"a((e)?bc)\", msg)\n",
    "print(ret.group())\n",
    "print(ret.group(1))"
   ]
  },
  {
   "cell_type": "code",
   "execution_count": 15,
   "metadata": {},
   "outputs": [
    {
     "name": "stdout",
     "output_type": "stream",
     "text": [
      "aebc\n",
      "ebc\n"
     ]
    }
   ],
   "source": [
    "import re\n",
    "\n",
    "msg = \"aaa aebc\"\n",
    "ret = re.search(\"a((e)?bc)\", msg)\n",
    "print(ret.group())\n",
    "print(ret.group(1))"
   ]
  },
  {
   "cell_type": "markdown",
   "metadata": {},
   "source": [
    "### *"
   ]
  },
  {
   "cell_type": "markdown",
   "metadata": {},
   "source": [
    "\\>= 0 times"
   ]
  },
  {
   "cell_type": "code",
   "execution_count": 16,
   "metadata": {},
   "outputs": [
    {
     "name": "stdout",
     "output_type": "stream",
     "text": [
      "abc\n",
      "bc\n"
     ]
    }
   ],
   "source": [
    "import re\n",
    "\n",
    "msg = \"aaa abc\"\n",
    "ret = re.search(\"a((e)*bc)\", msg)\n",
    "print(ret.group())\n",
    "print(ret.group(1))"
   ]
  },
  {
   "cell_type": "code",
   "execution_count": 17,
   "metadata": {},
   "outputs": [
    {
     "name": "stdout",
     "output_type": "stream",
     "text": [
      "aeeeeeeeeebc\n",
      "eeeeeeeeebc\n"
     ]
    }
   ],
   "source": [
    "import re\n",
    "\n",
    "msg = \"aaa aeeeeeeeeebc\"\n",
    "ret = re.search(\"a((e)*bc)\", msg)\n",
    "print(ret.group())\n",
    "print(ret.group(1))"
   ]
  },
  {
   "cell_type": "markdown",
   "metadata": {},
   "source": [
    "### +"
   ]
  },
  {
   "cell_type": "markdown",
   "metadata": {},
   "source": [
    "\\>= 1 times"
   ]
  },
  {
   "cell_type": "code",
   "execution_count": 18,
   "metadata": {},
   "outputs": [
    {
     "name": "stdout",
     "output_type": "stream",
     "text": [
      "None\n"
     ]
    }
   ],
   "source": [
    "import re\n",
    "\n",
    "msg = \"aaa abc\"\n",
    "ret = re.search(\"a((e)+bc)\", msg)\n",
    "print(ret)"
   ]
  },
  {
   "cell_type": "code",
   "execution_count": 19,
   "metadata": {},
   "outputs": [
    {
     "name": "stdout",
     "output_type": "stream",
     "text": [
      "aebc\n",
      "ebc\n"
     ]
    }
   ],
   "source": [
    "import re\n",
    "\n",
    "msg = \"aaa aebc\"\n",
    "ret = re.search(\"a((e)+bc)\", msg)\n",
    "print(ret.group())\n",
    "print(ret.group(1))"
   ]
  },
  {
   "cell_type": "markdown",
   "metadata": {},
   "source": [
    "### case-insensitive"
   ]
  },
  {
   "cell_type": "markdown",
   "metadata": {},
   "source": [
    "re.I = re.IGNORECASE <br>\n",
    "re.findall(pattern, msg, re.I)  <br>\n",
    "re.search(pattern, msg, re.I) <br>"
   ]
  },
  {
   "cell_type": "code",
   "execution_count": 20,
   "metadata": {},
   "outputs": [
    {
     "name": "stdout",
     "output_type": "stream",
     "text": [
      "['aAa', 'bBb', 'CCC']\n",
      "[]\n"
     ]
    }
   ],
   "source": [
    "import re\n",
    "\n",
    "msg = \"aAa bBb CCC def\"\n",
    "ret = re.findall(\"aaa|bbb|ccc\", msg, re.I)\n",
    "print(ret)\n",
    "\n",
    "ret = re.findall(\"aaa|bbb|ccc\", msg)\n",
    "print(ret)"
   ]
  },
  {
   "cell_type": "markdown",
   "metadata": {},
   "source": [
    "### specific times match"
   ]
  },
  {
   "cell_type": "code",
   "execution_count": 21,
   "metadata": {},
   "outputs": [
    {
     "name": "stdout",
     "output_type": "stream",
     "text": [
      "1 ['ab']\n",
      "2 ['ab']\n",
      "3 ['ab', 'ab']\n",
      "4 ['ab', 'ab']\n",
      "5 ['ab', 'ab', 'ab']\n",
      "6 ['ab', 'ab', 'ab']\n"
     ]
    }
   ],
   "source": [
    "import re\n",
    "\n",
    "#greedy search, will match as more as possible\n",
    "pattern = \"(ab){1,2}\"\n",
    "print(1, re.findall(pattern, \"ab\"))\n",
    "print(2, re.findall(pattern, \"abab\"))\n",
    "print(3, re.findall(pattern, \"ababab\"))\n",
    "print(4, re.findall(pattern, \"abababab\"))\n",
    "print(5, re.findall(pattern, \"ababababab\"))\n",
    "print(6, re.findall(pattern, \"abababababab\"))"
   ]
  },
  {
   "cell_type": "code",
   "execution_count": 22,
   "metadata": {},
   "outputs": [
    {
     "name": "stdout",
     "output_type": "stream",
     "text": [
      "1 ['ab']\n",
      "2 ['ab', 'ab']\n",
      "3 ['ab', 'ab', 'ab']\n",
      "4 ['ab', 'ab', 'ab', 'ab']\n",
      "5 ['ab', 'ab', 'ab', 'ab', 'ab']\n",
      "6 ['ab', 'ab', 'ab', 'ab', 'ab', 'ab']\n"
     ]
    }
   ],
   "source": [
    "import re\n",
    "\n",
    "#non-greedy search, will match as less as possible\n",
    "pattern = \"(ab){1,2}?\"\n",
    "print(1, re.findall(pattern, \"ab\"))\n",
    "print(2, re.findall(pattern, \"abab\"))\n",
    "print(3, re.findall(pattern, \"ababab\"))\n",
    "print(4, re.findall(pattern, \"abababab\"))\n",
    "print(5, re.findall(pattern, \"ababababab\"))\n",
    "print(6, re.findall(pattern, \"abababababab\"))"
   ]
  },
  {
   "cell_type": "markdown",
   "metadata": {},
   "source": [
    "### special characters"
   ]
  },
  {
   "cell_type": "markdown",
   "metadata": {},
   "source": [
    "<b>\\\\d</b> \\[0-9\\] <br>\n",
    "<b>\\\\D</b> except \\[0-9\\] <br>\n",
    "<b>\\\\s</b> space, tab, new line, next page <br>\n",
    "<b>\\\\S</b> except \\\\s <br>\n",
    "<b>\\\\w</b> \\[0-9A-Za-z_\\] <br>\n",
    "<b>\\\\W</b> except \\[0-9A-Za-z_\\] <br>"
   ]
  },
  {
   "cell_type": "markdown",
   "metadata": {},
   "source": [
    "\\\\w+ 至少長度1由數字, 字母, 或底線的連續字串 <br>\n",
    "\\\\d+ 不限長度的數字"
   ]
  },
  {
   "cell_type": "code",
   "execution_count": 23,
   "metadata": {},
   "outputs": [
    {
     "name": "stdout",
     "output_type": "stream",
     "text": [
      "['abcd_efghABC', 'mmdd', '__a_c__']\n",
      "['aabcd', 'aadef', 'aaccc', 'aa']\n"
     ]
    }
   ],
   "source": [
    "import re\n",
    "\n",
    "msg = \"  abcd_efghABC mmdd __a_c__\"\n",
    "print(re.findall(\"\\w+\", msg))\n",
    "\n",
    "msg = \" aabcd aadef, aaccc aa bb\"\n",
    "print(re.findall(\"aa\\w*\", msg))"
   ]
  },
  {
   "cell_type": "markdown",
   "metadata": {},
   "source": [
    "### clarification"
   ]
  },
  {
   "cell_type": "markdown",
   "metadata": {},
   "source": [
    "<b>[a-z]</b> <br>\n",
    "<b>[A-Z]</b> <br>\n",
    "<b>[0-9]</b> <br>"
   ]
  },
  {
   "cell_type": "code",
   "execution_count": 24,
   "metadata": {},
   "outputs": [
    {
     "name": "stdout",
     "output_type": "stream",
     "text": [
      "['c', 'd', 'e', 'f', 'g', 'h', 'i']\n",
      "['3', '4', '5', '6']\n",
      "['3', '4', '5', '6', '.', '@']\n"
     ]
    }
   ],
   "source": [
    "import re\n",
    "\n",
    "msg = \"abcdefghijklmnopqrstuvwxyz\"\n",
    "print(re.findall(\"[c-i]\", msg))\n",
    "\n",
    "msg = \"0123456789.!@#$%\"\n",
    "print(re.findall(\"[3-6]\", msg))\n",
    "\n",
    "msg = \"0123456789.!@#$%\"\n",
    "print(re.findall(\"[3-6.@]\", msg))"
   ]
  },
  {
   "cell_type": "markdown",
   "metadata": {},
   "source": [
    "### ^ in clarfication"
   ]
  },
  {
   "cell_type": "code",
   "execution_count": 25,
   "metadata": {},
   "outputs": [
    {
     "name": "stdout",
     "output_type": "stream",
     "text": [
      "['0', '1', '2', '7', '8', '9']\n"
     ]
    }
   ],
   "source": [
    "#except\n",
    "\n",
    "import re\n",
    "\n",
    "msg = \"0123456789\"\n",
    "print(re.findall(\"[^3-6]\", msg))"
   ]
  },
  {
   "cell_type": "markdown",
   "metadata": {},
   "source": [
    "### ^"
   ]
  },
  {
   "cell_type": "code",
   "execution_count": 26,
   "metadata": {},
   "outputs": [
    {
     "name": "stdout",
     "output_type": "stream",
     "text": [
      "['abc']\n",
      "[]\n"
     ]
    }
   ],
   "source": [
    "#begin with\n",
    "\n",
    "import re\n",
    "\n",
    "msg = \"abcdefg\"\n",
    "print(re.findall(\"^abc\", msg))\n",
    "\n",
    "msg = \"bcdefg\"\n",
    "print(re.findall(\"^abc\", msg))"
   ]
  },
  {
   "cell_type": "markdown",
   "metadata": {},
   "source": [
    "### $"
   ]
  },
  {
   "cell_type": "code",
   "execution_count": 27,
   "metadata": {},
   "outputs": [
    {
     "name": "stdout",
     "output_type": "stream",
     "text": [
      "['xyz']\n",
      "[]\n"
     ]
    }
   ],
   "source": [
    "#end with\n",
    "\n",
    "import re\n",
    "\n",
    "msg = \"aaabbbcccxyz\"\n",
    "print(re.findall(\"xyz$\", msg))\n",
    "\n",
    "msg = \"aaabbbcccxy\"\n",
    "print(re.findall(\"xyz$\", msg))"
   ]
  },
  {
   "cell_type": "markdown",
   "metadata": {},
   "source": [
    "### ."
   ]
  },
  {
   "cell_type": "code",
   "execution_count": 28,
   "metadata": {},
   "outputs": [
    {
     "name": "stdout",
     "output_type": "stream",
     "text": [
      "['cat', 'hat', 'sat', ' at', 'mat', 'lat']\n"
     ]
    }
   ],
   "source": [
    "#wildcard\n",
    "\n",
    "import re\n",
    "\n",
    "msg = \"cat hat sat at matter flat\"\n",
    "print(re.findall(\".at\", msg))"
   ]
  },
  {
   "cell_type": "code",
   "execution_count": 29,
   "metadata": {},
   "outputs": [
    {
     "name": "stdout",
     "output_type": "stream",
     "text": [
      "('hugo chang', '4f, xihiz new taipei')\n"
     ]
    }
   ],
   "source": [
    "import re\n",
    "\n",
    "msg = \"name: hugo chang address: 4f, xihiz new taipei city\"\n",
    "print(re.search(\"name: (.*) address: (.*) \", msg).groups())"
   ]
  },
  {
   "cell_type": "markdown",
   "metadata": {},
   "source": [
    "### .* with new line"
   ]
  },
  {
   "cell_type": "code",
   "execution_count": 30,
   "metadata": {},
   "outputs": [
    {
     "name": "stdout",
     "output_type": "stream",
     "text": [
      "['abcdef', '', 'abcddd', '', 'abbbb', '', 'abcxyz', '']\n",
      "['abcdef\\nabcddd\\nabbbb\\nabcxyz', '']\n"
     ]
    }
   ],
   "source": [
    "import re\n",
    "\n",
    "msg = \"\"\"abcdef\n",
    "abcddd\n",
    "abbbb\n",
    "abcxyz\"\"\"\n",
    "print(re.findall(\".*\", msg))\n",
    "print(re.findall(\".*\", msg, re.DOTALL))"
   ]
  },
  {
   "cell_type": "markdown",
   "metadata": {},
   "source": [
    "### re.sub"
   ]
  },
  {
   "cell_type": "code",
   "execution_count": 31,
   "metadata": {},
   "outputs": [
    {
     "name": "stdout",
     "output_type": "stream",
     "text": [
      "zzz bbb ccc zzz ddd zzz\n"
     ]
    }
   ],
   "source": [
    "#substitute\n",
    "import re\n",
    "\n",
    "msg = \"aaa bbb ccc aaa ddd aaa\"\n",
    "pattern = r\"aaa\"\n",
    "newstr = r\"zzz\"\n",
    "print(re.sub(pattern, newstr, msg))"
   ]
  },
  {
   "cell_type": "code",
   "execution_count": 32,
   "metadata": {},
   "outputs": [
    {
     "name": "stdout",
     "output_type": "stream",
     "text": [
      "000 \u0000zzz 111\n",
      "000 azzz 111\n",
      "000 bzzz 111\n",
      "000 czzz 111\n",
      "invalid group reference 4 at position 1\n"
     ]
    }
   ],
   "source": [
    "import re\n",
    "\n",
    "msg = \"000 abc 111\"\n",
    "pattern = r\"(a)(b)(c)\"\n",
    "newstr = r\"\\0zzz\"\n",
    "print(re.sub(pattern, newstr, msg))\n",
    "\n",
    "newstr = r\"\\1zzz\"\n",
    "print(re.sub(pattern, newstr, msg))\n",
    "\n",
    "newstr = r\"\\2zzz\"\n",
    "print(re.sub(pattern, newstr, msg))\n",
    "\n",
    "newstr = r\"\\3zzz\"\n",
    "print(re.sub(pattern, newstr, msg))\n",
    "\n",
    "try:\n",
    "    newstr = r\"\\4zzz\"\n",
    "    print(re.sub(pattern, newstr, msg))\n",
    "except Exception as err:\n",
    "    print(err)"
   ]
  },
  {
   "cell_type": "markdown",
   "metadata": {},
   "source": [
    "### re.VERBOSE"
   ]
  },
  {
   "cell_type": "code",
   "execution_count": 33,
   "metadata": {},
   "outputs": [
    {
     "name": "stdout",
     "output_type": "stream",
     "text": [
      "[]\n",
      "[('aa@gmail.com.tw', ''), ('bb@pmail.com', '')]\n"
     ]
    }
   ],
   "source": [
    "#if you want to use some comment on your regular expression, then you need to use re.VERBOSE\n",
    "import re\n",
    "\n",
    "msg = \"aa@gmail.com.tw bb@pmail.com\"\n",
    "pattern = r'''(\n",
    "        [a-zA-Z0-9_.]+\n",
    "        @\n",
    "        [a-zA-Z0-9-.]+\n",
    "        \\.\n",
    "        [a-zA-Z]{2,4}\n",
    "        \\.?\n",
    "        ([a-zA-Z]{2,4})?\n",
    "        )'''\n",
    "\n",
    "print(re.findall(pattern, msg))\n",
    "print(re.findall(pattern, msg, re.VERBOSE))"
   ]
  },
  {
   "cell_type": "markdown",
   "metadata": {},
   "source": [
    "### re.IGNORECASE re.DOTALL re.VERBOSE"
   ]
  },
  {
   "cell_type": "code",
   "execution_count": 34,
   "metadata": {},
   "outputs": [
    {
     "name": "stdout",
     "output_type": "stream",
     "text": [
      "[('aa@gmail.com.tw', ''), ('bb@pmail.com', '')]\n"
     ]
    }
   ],
   "source": [
    "import re\n",
    "\n",
    "msg = \"aa@gmail.com.tw bb@pmail.com\"\n",
    "pattern = r'''(\n",
    "        [a-zA-Z0-9_.]+\n",
    "        @\n",
    "        [a-zA-Z0-9-.]+\n",
    "        \\.\n",
    "        [a-zA-Z]{2,4}\n",
    "        \\.?\n",
    "        ([a-zA-Z]{2,4})?\n",
    "        )'''\n",
    "\n",
    "print(re.findall(pattern, msg, re.VERBOSE | re.IGNORECASE | re.DOTALL))"
   ]
  },
  {
   "cell_type": "code",
   "execution_count": null,
   "metadata": {},
   "outputs": [],
   "source": []
  }
 ],
 "metadata": {
  "kernelspec": {
   "display_name": "Python 3",
   "language": "python",
   "name": "python3"
  },
  "language_info": {
   "codemirror_mode": {
    "name": "ipython",
    "version": 3
   },
   "file_extension": ".py",
   "mimetype": "text/x-python",
   "name": "python",
   "nbconvert_exporter": "python",
   "pygments_lexer": "ipython3",
   "version": "3.7.1"
  }
 },
 "nbformat": 4,
 "nbformat_minor": 2
}
