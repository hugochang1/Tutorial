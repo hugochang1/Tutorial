{
 "cells": [
  {
   "cell_type": "markdown",
   "metadata": {},
   "source": [
    "### definition"
   ]
  },
  {
   "cell_type": "code",
   "execution_count": 3,
   "metadata": {},
   "outputs": [
    {
     "name": "stdout",
     "output_type": "stream",
     "text": [
      "the document of class A\n",
      "the document of A's constructor\n",
      "the document of f1()\n"
     ]
    }
   ],
   "source": [
    "class A:\n",
    "    \"\"\"the document of class A\"\"\"\n",
    "    def __init__(self, a):\n",
    "        \"\"\"the document of A's constructor\"\"\"\n",
    "        self.a = a\n",
    "        self.b = 2\n",
    "    \n",
    "    def f1(self, x, y):\n",
    "        \"\"\"the document of f1()\"\"\"\n",
    "        return x+y\n",
    "\n",
    "print(A.__doc__)\n",
    "print(A.__init__.__doc__)\n",
    "print(A.f1.__doc__)"
   ]
  },
  {
   "cell_type": "code",
   "execution_count": 4,
   "metadata": {},
   "outputs": [
    {
     "name": "stdout",
     "output_type": "stream",
     "text": [
      "<class '__main__.A'>\n",
      "<__main__.A object at 0x0000000004D7BF60>\n",
      "3\n",
      "1\n",
      "2\n"
     ]
    }
   ],
   "source": [
    "a = A(1)\n",
    "print(type(a))\n",
    "print(a)\n",
    "print(a.f1(1,2))\n",
    "print(a.a)\n",
    "print(a.b)"
   ]
  },
  {
   "cell_type": "markdown",
   "metadata": {},
   "source": [
    "### private"
   ]
  },
  {
   "cell_type": "code",
   "execution_count": 2,
   "metadata": {},
   "outputs": [
    {
     "name": "stdout",
     "output_type": "stream",
     "text": [
      "10\n"
     ]
    }
   ],
   "source": [
    "class A:\n",
    "    def __init__(self):\n",
    "        self.__a = 1  #cannot be accessed from the outside\n",
    "        self.__b = 2  #cannot be accessed from the outside\n",
    "        \n",
    "    def f1(self, x):\n",
    "        return self.__f1(x)\n",
    "        \n",
    "    def __f1(self, x):\n",
    "        \"\"\"cannot be access by outside\"\"\"\n",
    "        return x*2\n",
    "    \n",
    "a = A()\n",
    "print(a.f1(5))"
   ]
  },
  {
   "cell_type": "markdown",
   "metadata": {},
   "source": [
    "### inheritance"
   ]
  },
  {
   "cell_type": "code",
   "execution_count": 6,
   "metadata": {},
   "outputs": [],
   "source": [
    "class A:\n",
    "    def __init__(self):\n",
    "        print(\"A.__init__()\")\n",
    "        \n",
    "    def f1(self):\n",
    "        print(\"A.f1()\")\n",
    "        \n",
    "class B(A):  # inheritance\n",
    "    def __init__(self):\n",
    "        print(\"B.__init__()\")\n",
    "        \n",
    "    def f1(self):\n",
    "        print(\"B.f1()\")"
   ]
  },
  {
   "cell_type": "code",
   "execution_count": 39,
   "metadata": {},
   "outputs": [
    {
     "name": "stdout",
     "output_type": "stream",
     "text": [
      "A.__init__()\n",
      "B.__init__()\n",
      "A.f1()\n",
      "B.f1()\n"
     ]
    }
   ],
   "source": [
    "a = A()\n",
    "b = B()\n",
    "\n",
    "a.f1()\n",
    "b.f1()"
   ]
  },
  {
   "cell_type": "code",
   "execution_count": 7,
   "metadata": {},
   "outputs": [],
   "source": [
    "class A():\n",
    "    def __init__(self):\n",
    "        print(\"A.__init__()\")\n",
    "        \n",
    "    def f1(self):\n",
    "        print(\"A.f1()\")\n",
    "        \n",
    "class B(A):\n",
    "    def __init__(self):\n",
    "        super().__init__()  # call parent's constructor\n",
    "        print(\"B.__init__()\")"
   ]
  },
  {
   "cell_type": "code",
   "execution_count": 8,
   "metadata": {},
   "outputs": [
    {
     "name": "stdout",
     "output_type": "stream",
     "text": [
      "A.__init__()\n",
      "B.__init__()\n",
      "A.f1()\n"
     ]
    }
   ],
   "source": [
    "b = B()\n",
    "b.f1()"
   ]
  },
  {
   "cell_type": "markdown",
   "metadata": {},
   "source": [
    "### polymorphism"
   ]
  },
  {
   "cell_type": "code",
   "execution_count": 44,
   "metadata": {},
   "outputs": [],
   "source": [
    "class A():\n",
    "    def f1(self):\n",
    "        print(\"A.f1()\")\n",
    "        \n",
    "class B(A):\n",
    "    def f1(self):\n",
    "        print(\"B.f1()\")\n",
    "        \n",
    "class C(B):\n",
    "    def f1(self):\n",
    "        print(\"C.f1()\")"
   ]
  },
  {
   "cell_type": "code",
   "execution_count": 45,
   "metadata": {},
   "outputs": [
    {
     "name": "stdout",
     "output_type": "stream",
     "text": [
      "A.f1()\n",
      "B.f1()\n",
      "C.f1()\n"
     ]
    }
   ],
   "source": [
    "a = A()\n",
    "b = B()\n",
    "c = C()\n",
    "\n",
    "a.f1()\n",
    "b.f1()\n",
    "c.f1()"
   ]
  },
  {
   "cell_type": "markdown",
   "metadata": {},
   "source": [
    "### type, instance"
   ]
  },
  {
   "cell_type": "code",
   "execution_count": 46,
   "metadata": {},
   "outputs": [
    {
     "name": "stdout",
     "output_type": "stream",
     "text": [
      "<class '__main__.A'>\n",
      "<class '__main__.B'>\n",
      "<class '__main__.C'>\n"
     ]
    }
   ],
   "source": [
    "print(type(a))\n",
    "print(type(b))\n",
    "print(type(c))"
   ]
  },
  {
   "cell_type": "code",
   "execution_count": 47,
   "metadata": {},
   "outputs": [
    {
     "name": "stdout",
     "output_type": "stream",
     "text": [
      "True\n",
      "False\n",
      "False\n",
      "\n",
      "True\n",
      "True\n",
      "False\n",
      "\n",
      "True\n",
      "True\n",
      "True\n"
     ]
    }
   ],
   "source": [
    "print(isinstance(a, A))\n",
    "print(isinstance(a, B))\n",
    "print(isinstance(a, C))\n",
    "print()\n",
    "print(isinstance(b, A))\n",
    "print(isinstance(b, B))\n",
    "print(isinstance(b, C))\n",
    "print()\n",
    "print(isinstance(c, A))\n",
    "print(isinstance(c, B))\n",
    "print(isinstance(c, C))"
   ]
  },
  {
   "cell_type": "markdown",
   "metadata": {},
   "source": [
    "### attribute"
   ]
  },
  {
   "cell_type": "code",
   "execution_count": 48,
   "metadata": {},
   "outputs": [
    {
     "name": "stdout",
     "output_type": "stream",
     "text": [
      "yes\n"
     ]
    }
   ],
   "source": [
    "if __name__ == \"__main__\":\n",
    "    print(\"yes\")"
   ]
  },
  {
   "cell_type": "code",
   "execution_count": 9,
   "metadata": {},
   "outputs": [
    {
     "name": "stdout",
     "output_type": "stream",
     "text": [
      "class.A a=11 b=22\n"
     ]
    }
   ],
   "source": [
    "#__str__, __repr__\n",
    "class A():\n",
    "    \"\"\"the document of class A\"\"\"\n",
    "    def __init__(self):\n",
    "        self.a = 1\n",
    "        self.b = 2\n",
    "        \n",
    "    def __str__(self):  # this is for print\n",
    "        return \"class.A a=%d b=%d\" % (self.a, self.b)\n",
    "    \n",
    "    __repr__ = __str__  # this is console output\n",
    "    \n",
    "a = A()\n",
    "a.a = 11\n",
    "a.b = 22\n",
    "print(a)"
   ]
  },
  {
   "cell_type": "code",
   "execution_count": 56,
   "metadata": {},
   "outputs": [
    {
     "name": "stdout",
     "output_type": "stream",
     "text": [
      "2\n",
      "4\n",
      "6\n",
      "8\n",
      "10\n"
     ]
    }
   ],
   "source": [
    "#__iter__, __next__\n",
    "class A():\n",
    "    def __init__(self):\n",
    "        self.a = 0\n",
    "        \n",
    "    def __iter__(self):\n",
    "        return self\n",
    "    \n",
    "    def __next__(self):\n",
    "        self.a +=2\n",
    "        if self.a > 10:\n",
    "            raise StopIteration\n",
    "        return self.a\n",
    "\n",
    "for i in A():\n",
    "    print(i)"
   ]
  },
  {
   "cell_type": "code",
   "execution_count": null,
   "metadata": {},
   "outputs": [],
   "source": []
  }
 ],
 "metadata": {
  "kernelspec": {
   "display_name": "Python 3",
   "language": "python",
   "name": "python3"
  },
  "language_info": {
   "codemirror_mode": {
    "name": "ipython",
    "version": 3
   },
   "file_extension": ".py",
   "mimetype": "text/x-python",
   "name": "python",
   "nbconvert_exporter": "python",
   "pygments_lexer": "ipython3",
   "version": "3.7.1"
  }
 },
 "nbformat": 4,
 "nbformat_minor": 2
}
