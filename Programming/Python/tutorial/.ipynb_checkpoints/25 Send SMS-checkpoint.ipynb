{
 "cells": [
  {
   "cell_type": "markdown",
   "metadata": {},
   "source": [
    "### Install twilio"
   ]
  },
  {
   "cell_type": "markdown",
   "metadata": {},
   "source": [
    "pip install twilio"
   ]
  },
  {
   "cell_type": "code",
   "execution_count": 17,
   "metadata": {},
   "outputs": [],
   "source": [
    "from twilio.rest import Client\n",
    "\n",
    "sid = \"ACafa98a7c3e750b52b052e972739febd9\"\n",
    "token = \"a4992ea00000000000000000000000000\" # your token\n",
    "\n",
    "c = Client(sid, token)\n",
    "msg = c.messages.create(\n",
    "    from_=\"+16309364429\",\n",
    "    to = \"+886926000000\", #trial account can only sent to verified number by Twilio \n",
    "    body = \"test\"\n",
    ")"
   ]
  },
  {
   "cell_type": "code",
   "execution_count": 13,
   "metadata": {},
   "outputs": [
    {
     "name": "stdout",
     "output_type": "stream",
     "text": [
      "+16309364429\n",
      "+886926041451\n",
      "Sent from your Twilio trial account - Python 測試中文字能不能通\n",
      "2019-01-10 15:28:57+00:00\n",
      "SM22d03f43ab2847f49c0f0602d05ebc77\n"
     ]
    }
   ],
   "source": [
    "print(msg.from_)\n",
    "print(msg.to)\n",
    "print(msg.body)\n",
    "print(msg.date_created)\n",
    "print(msg.sid)"
   ]
  },
  {
   "cell_type": "code",
   "execution_count": null,
   "metadata": {},
   "outputs": [],
   "source": []
  }
 ],
 "metadata": {
  "kernelspec": {
   "display_name": "Python 3",
   "language": "python",
   "name": "python3"
  },
  "language_info": {
   "codemirror_mode": {
    "name": "ipython",
    "version": 3
   },
   "file_extension": ".py",
   "mimetype": "text/x-python",
   "name": "python",
   "nbconvert_exporter": "python",
   "pygments_lexer": "ipython3",
   "version": "3.6.5"
  }
 },
 "nbformat": 4,
 "nbformat_minor": 2
}
