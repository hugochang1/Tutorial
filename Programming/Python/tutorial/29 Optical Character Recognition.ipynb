{
 "cells": [
  {
   "cell_type": "markdown",
   "metadata": {},
   "source": [
    "### pytesseract"
   ]
  },
  {
   "cell_type": "markdown",
   "metadata": {},
   "source": [
    "http://digi.bib.uni-mannheim.de/tesseract/tesseract-ocr-setup-4.00.00dev.exe <br>\n",
    "set \"C:\\Program Files (x86)\\Tesseract-OCR\" to your system environment <br>\n",
    "pip install pytesseract"
   ]
  },
  {
   "cell_type": "code",
   "execution_count": 5,
   "metadata": {},
   "outputs": [
    {
     "name": "stdout",
     "output_type": "stream",
     "text": [
      "Python is an interpreted, high-level, general-purpose programming\n",
      "language. Created by Guido van Rossum and first released in 1991, Python\n",
      "has a design philosophy that emphasizes code readability, notably using\n",
      "significant whitespace. It provides constructs that enable clear programming\n",
      "on both small and large scales.\"! Van Rossum led the language community\n",
      "until stepping down as leader in July 2018.27128]\n",
      "\n",
      "Python features a dynamic type system and automatic memory\n",
      "management. It supports multiple programming paradigms, including object-\n",
      "oriented, imperative, functional and procedural, and has a large and\n",
      "comprehensive standard library.\"\n",
      "\n",
      "Python interpreters are available for many operating systems. CPython, the\n",
      "reference implementation of Python, is open source software\"\" and has a\n",
      "community-based development model, as do nearly all of Python's other\n",
      "implementations. Python and CPython are managed by the non-profit\n",
      "Python Software Foundation.\n"
     ]
    }
   ],
   "source": [
    "import pytesseract\n",
    "from PIL import Image\n",
    "\n",
    "text = pytesseract.image_to_string(Image.open(\"res/text1.png\"))\n",
    "print(text)\n",
    "with open(\"test/text1.txt\", \"w\") as f:\n",
    "    f.write(text)"
   ]
  },
  {
   "cell_type": "code",
   "execution_count": 6,
   "metadata": {},
   "outputs": [
    {
     "name": "stdout",
     "output_type": "stream",
     "text": [
      "Python ( 英 國 發 言 :/ paTgann! 美 圈 發 音 : / paIOQ:n/ ) , 是 一 種 廣\n",
      "泛 使 用 的 高 階 程 式 語 言 , 屬 於 通 用 型 程 式 語 言 , 由 吉 多 - 范 羅 蘇\n",
      "\n",
      "娘 創 遨 , 第 一 版 釋 出 於 1991 年 。 可 以 視 之 為 一 種 改 良 ( 加 入 一 些\n",
      "共 他 程 式 語 言 的 優 點 , 如 物 件 導 向 ) 的 LISP 。 作 為 一 種 直 譯 語\n",
      "\n",
      "言 ,Python 的 設 計 哲 學 強 調 程 式 磅 的 可 讀 往 和 簡 潔 的 語 法 ( 尢 其\n",
      "是 使 用 空 格 縮 排 劃 分 程 式 磷 塚 , 而 非 使 用 大 括 號 或 者 關 鍵 詞 )\n",
      "相 比 於 C++ 或 Java,Python 讓 開 發 者 能 夠 用 更 少 的 代 硝 表 建 想\n",
      "\n",
      "法 。 不 管 是 小 型 灘 是 大 型 程 式 , 該 語 言 都 試 圖 讓 程 式 的 結 構 清 晰\n",
      "明 了 、\n",
      "\n",
      "輝 Scheme 、Ruby 、Per 、TCI 等 動 態 型 別 程 式 語 言 一 樣 ,Python\n",
      "擁 有 動 態 型 別 細 統 和 坡 坐 史 收 功 能 , 荊 夠 自 動 管 理 記 憶 體 使 用 ,\n",
      "並 且 支 援 多 種 編 程 範 式 , 包 括 物 件 導 向 、 命 令 式 、 數 式 和 程 序\n",
      "式 編 程 ‧ 其 本 身 擁 有 一 個 七 大 而 廣 泛 的 樣 準 卓 、\n",
      "\n",
      "Python 直 譯 器 本 身 幾 乎 可 以 在 所 有 的 作 業 細 統 中 執 行 >Python\n",
      "的 正 式 直 譯 器 CPython 是 用 C 語 言 編 寫 的 、 是 一 個 由 社 群 驅 動 的\n",
      "自 由 軟 體 , 目 前 由 Python 軟 體 基 金 會 管 理 、\n"
     ]
    }
   ],
   "source": [
    "import pytesseract\n",
    "from PIL import Image\n",
    "\n",
    "text = pytesseract.image_to_string(Image.open(\"res/text2.png\"), lang=\"chi_tra\")\n",
    "print(text)\n",
    "with open(\"test/text2.txt\", \"w\") as f:\n",
    "    f.write(text)"
   ]
  },
  {
   "cell_type": "code",
   "execution_count": 8,
   "metadata": {},
   "outputs": [
    {
     "name": "stdout",
     "output_type": "stream",
     "text": [
      "御 尾 呢 ~ 是 个 敲 可 爱 的 召 唤 师 啦 ~\n",
      "\n",
      "主 要 的 输 出 是 依 靠 猫 猎 来 的 , 伤 害 页 主 要 需 要 让 猫 猫 扣 , 毕 竟 自 己 防 御 太 低 嘛 。\n",
      "\n",
      "可 是 呢 , 御 尾 没 有 嘲 讽 技 能 , 仇 恨 总 在 自 己 身 上 , 放 技 能 又 会 有 硬 直 , 所 以 … 只 能 被 全 场 追 着 打 , 完 全 没 法 输 出 。\n",
      "希 望 官 方 大 大 能 修 改 一 下 御 尾 和 人 物 和 猫 猫 的 仇 恨 计 算 机 制\n"
     ]
    }
   ],
   "source": [
    "import pytesseract\n",
    "from PIL import Image\n",
    "\n",
    "text = pytesseract.image_to_string(Image.open(\"res/text3.png\"), lang=\"chi_sim\")\n",
    "print(text)\n",
    "with open(\"test/text3.txt\", \"w\", encoding=\"utf8\") as f:\n",
    "    f.write(text)"
   ]
  },
  {
   "cell_type": "code",
   "execution_count": null,
   "metadata": {},
   "outputs": [],
   "source": []
  }
 ],
 "metadata": {
  "kernelspec": {
   "display_name": "Python 3",
   "language": "python",
   "name": "python3"
  },
  "language_info": {
   "codemirror_mode": {
    "name": "ipython",
    "version": 3
   },
   "file_extension": ".py",
   "mimetype": "text/x-python",
   "name": "python",
   "nbconvert_exporter": "python",
   "pygments_lexer": "ipython3",
   "version": "3.7.1"
  }
 },
 "nbformat": 4,
 "nbformat_minor": 2
}
