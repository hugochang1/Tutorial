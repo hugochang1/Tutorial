{
 "cells": [
  {
   "cell_type": "markdown",
   "metadata": {},
   "source": [
    "### type()"
   ]
  },
  {
   "cell_type": "code",
   "execution_count": 1,
   "metadata": {},
   "outputs": [
    {
     "name": "stdout",
     "output_type": "stream",
     "text": [
      "<class 'int'>\n",
      "<class 'float'>\n",
      "<class 'str'>\n",
      "<class 'NoneType'>\n",
      "<class 'bool'>\n",
      "<class 'enumerate'>\n",
      "<class 'range'>\n"
     ]
    }
   ],
   "source": [
    "print(type(1))\n",
    "print(type(1.1))\n",
    "print(type(\"hello\"))\n",
    "print(type(None))\n",
    "print(type(False))\n",
    "print(type(enumerate(\"aa\")))\n",
    "print(type(range(0)))"
   ]
  },
  {
   "cell_type": "markdown",
   "metadata": {},
   "source": [
    "### 二進位, 八進位, 十六進位"
   ]
  },
  {
   "cell_type": "code",
   "execution_count": 2,
   "metadata": {},
   "outputs": [
    {
     "name": "stdout",
     "output_type": "stream",
     "text": [
      "13\n",
      "0b1101\n",
      "<class 'str'>\n"
     ]
    }
   ],
   "source": [
    "# binary\n",
    "a = 0b1101\n",
    "print(a)\n",
    "print(bin(a))\n",
    "print(type(bin(a)))"
   ]
  },
  {
   "cell_type": "code",
   "execution_count": 3,
   "metadata": {},
   "outputs": [
    {
     "name": "stdout",
     "output_type": "stream",
     "text": [
      "47\n",
      "0o57\n",
      "<class 'str'>\n"
     ]
    }
   ],
   "source": [
    "a = 0o57\n",
    "print(a)\n",
    "print(oct(a))\n",
    "print(type(oct(a)))"
   ]
  },
  {
   "cell_type": "code",
   "execution_count": 4,
   "metadata": {},
   "outputs": [
    {
     "name": "stdout",
     "output_type": "stream",
     "text": [
      "27\n",
      "0x1b\n",
      "<class 'str'>\n"
     ]
    }
   ],
   "source": [
    "a = 0x1B\n",
    "print(a)\n",
    "print(hex(a))\n",
    "print(type(hex(a)))"
   ]
  },
  {
   "cell_type": "markdown",
   "metadata": {},
   "source": [
    "### abs, pow"
   ]
  },
  {
   "cell_type": "code",
   "execution_count": 5,
   "metadata": {},
   "outputs": [
    {
     "name": "stdout",
     "output_type": "stream",
     "text": [
      "10\n",
      "8\n",
      "8\n"
     ]
    }
   ],
   "source": [
    "a = -10\n",
    "print(abs(a))\n",
    "\n",
    "print(pow(2, 3))\n",
    "print(2**3)"
   ]
  },
  {
   "cell_type": "markdown",
   "metadata": {},
   "source": [
    "### String"
   ]
  },
  {
   "cell_type": "code",
   "execution_count": 6,
   "metadata": {},
   "outputs": [
    {
     "name": "stdout",
     "output_type": "stream",
     "text": [
      "aabb\n",
      "aaaa\n"
     ]
    }
   ],
   "source": [
    "a = \"aa\"\n",
    "b = \"bb\"\n",
    "print(a+b)\n",
    "print(a*2)"
   ]
  },
  {
   "cell_type": "code",
   "execution_count": 7,
   "metadata": {},
   "outputs": [
    {
     "name": "stdout",
     "output_type": "stream",
     "text": [
      "multiple\n",
      "line\n"
     ]
    }
   ],
   "source": [
    "a = \"\"\"multiple\n",
    "line\"\"\"\n",
    "print(a)"
   ]
  },
  {
   "cell_type": "code",
   "execution_count": 8,
   "metadata": {},
   "outputs": [
    {
     "name": "stdout",
     "output_type": "stream",
     "text": [
      "asdfasdf\\n\n"
     ]
    }
   ],
   "source": [
    "#防止escape character\n",
    "a = r\"asdfasdf\\n\"\n",
    "print(a)"
   ]
  },
  {
   "cell_type": "code",
   "execution_count": 9,
   "metadata": {},
   "outputs": [
    {
     "name": "stdout",
     "output_type": "stream",
     "text": [
      "a\n",
      "<class 'str'>\n",
      "97\n",
      "<class 'int'>\n"
     ]
    }
   ],
   "source": [
    "a = 97\n",
    "print(chr(97))\n",
    "print(type(chr(97)))\n",
    "\n",
    "print(ord(\"a\"))\n",
    "print(type(ord(\"A\")))"
   ]
  },
  {
   "cell_type": "code",
   "execution_count": null,
   "metadata": {},
   "outputs": [],
   "source": []
  }
 ],
 "metadata": {
  "kernelspec": {
   "display_name": "Python 3",
   "language": "python",
   "name": "python3"
  },
  "language_info": {
   "codemirror_mode": {
    "name": "ipython",
    "version": 3
   },
   "file_extension": ".py",
   "mimetype": "text/x-python",
   "name": "python",
   "nbconvert_exporter": "python",
   "pygments_lexer": "ipython3",
   "version": "3.6.5"
  }
 },
 "nbformat": 4,
 "nbformat_minor": 2
}
