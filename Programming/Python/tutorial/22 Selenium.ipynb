{
 "cells": [
  {
   "cell_type": "markdown",
   "metadata": {},
   "source": [
    "### install Selenium"
   ]
  },
  {
   "cell_type": "markdown",
   "metadata": {},
   "source": [
    "pip install selenium"
   ]
  },
  {
   "cell_type": "code",
   "execution_count": 2,
   "metadata": {},
   "outputs": [
    {
     "name": "stdout",
     "output_type": "stream",
     "text": [
      "洪錦魁著作\n",
      "\n",
      "author tag_name:  h1\n",
      "author text:  洪錦魁\n",
      "\n",
      "content tag_name:  h1\n",
      "content text:  一個人的極境旅行 - 南極大陸北極海\n",
      "content tag_name:  h1\n",
      "content text:  HTML5+CSS3王者歸來\n",
      "\n",
      "p tag_name:  p\n",
      "p text:  2015/2016年洪錦魁一個人到南極\n",
      "p tag_name:  p\n",
      "p text:  本書講解網頁設計使用HTML5+CSS3\n",
      "\n",
      "img tag_name:  img\n",
      "img text:  http://aaa.24ht.com.tw/hung.jpg\n",
      "img tag_name:  img\n",
      "img text:  http://aaa.24ht.com.tw/travel.jpg\n",
      "img tag_name:  img\n",
      "img text:  http://aaa.24ht.com.tw/html5.jpg\n"
     ]
    }
   ],
   "source": [
    "from selenium import webdriver\n",
    "import time\n",
    "\n",
    "try:\n",
    "    browser = webdriver.Chrome(executable_path=r\"F:\\Work\\Python\\tools\\chromedriver.exe\") #will launch a Chrome\n",
    "    browser.get(\"http://aaa.24ht.com.tw\")\n",
    "    \n",
    "    print(browser.title)\n",
    "    print()\n",
    "    \n",
    "    tag = browser.find_element_by_id(\"author\")\n",
    "    print(\"author tag_name: \", tag.tag_name)\n",
    "    print(\"author text: \", tag.text)\n",
    "    print()\n",
    "    \n",
    "    tag = browser.find_elements_by_id(\"content\")\n",
    "    for i in range(len(tag)):\n",
    "        print(\"content tag_name: \", tag[i].tag_name)\n",
    "        print(\"content text: \", tag[i].text)\n",
    "    print()\n",
    "    \n",
    "    tag = browser.find_elements_by_tag_name(\"p\")\n",
    "    for i in range(len(tag)):\n",
    "        print(\"p tag_name: \", tag[i].tag_name)\n",
    "        print(\"p text: \", tag[i].text)\n",
    "    print()\n",
    "    \n",
    "    tag = browser.find_elements_by_tag_name(\"img\")\n",
    "    for i in range(len(tag)):\n",
    "        print(\"img tag_name: \", tag[i].tag_name)\n",
    "        print(\"img text: \", tag[i].get_attribute(\"src\"))\n",
    "    \n",
    "except Exception as err:\n",
    "    print(err)"
   ]
  },
  {
   "cell_type": "markdown",
   "metadata": {},
   "source": [
    "### click link"
   ]
  },
  {
   "cell_type": "code",
   "execution_count": 4,
   "metadata": {},
   "outputs": [
    {
     "name": "stdout",
     "output_type": "stream",
     "text": [
      "<class 'selenium.webdriver.remote.webelement.WebElement'>\n"
     ]
    }
   ],
   "source": [
    "from selenium import webdriver\n",
    "import time\n",
    "\n",
    "browser = webdriver.Chrome(executable_path=r\"F:\\Work\\Python\\tools\\chromedriver.exe\")\n",
    "try:\n",
    "    browser.get(\"http://www.grandtech.info\")\n",
    "    \n",
    "    link = browser.find_element_by_link_text(\"認證考試\")\n",
    "    print(type(link))\n",
    "    time.sleep(5)\n",
    "    link.click()\n",
    "except Exception as err:\n",
    "    print(err)"
   ]
  },
  {
   "cell_type": "markdown",
   "metadata": {},
   "source": [
    "### fill in form and submit"
   ]
  },
  {
   "cell_type": "code",
   "execution_count": 5,
   "metadata": {},
   "outputs": [],
   "source": [
    "from selenium import webdriver\n",
    "import time\n",
    "\n",
    "browser = webdriver.Chrome(executable_path=r\"F:\\Work\\Python\\tools\\chromedriver.exe\")\n",
    "try:\n",
    "    browser.get(\"http://www.grandtech.info\")\n",
    "    \n",
    "    box = browser.find_element_by_id(\"key\")\n",
    "    box.send_keys(\"洪錦魁\")\n",
    "    time.sleep(3)\n",
    "    box.submit()\n",
    "except Exception as err:\n",
    "    print(err)"
   ]
  },
  {
   "cell_type": "markdown",
   "metadata": {},
   "source": [
    "### special keys"
   ]
  },
  {
   "cell_type": "code",
   "execution_count": 6,
   "metadata": {},
   "outputs": [
    {
     "name": "stdout",
     "output_type": "stream",
     "text": [
      "get done\n"
     ]
    }
   ],
   "source": [
    "from selenium import webdriver\n",
    "from selenium.webdriver.common.keys import Keys\n",
    "import time\n",
    "\n",
    "browser = webdriver.Chrome(executable_path=r\"F:\\Work\\Python\\tools\\chromedriver.exe\")\n",
    "try:\n",
    "    browser.get(\"http://www.grandtech.info\")\n",
    "    print(\"get done\")\n",
    "\n",
    "    ele = browser.find_element_by_tag_name(\"body\")\n",
    "    time.sleep(2)\n",
    "    ele.send_keys(Keys.PAGE_DOWN)\n",
    "    time.sleep(2)\n",
    "    ele.send_keys(Keys.END)\n",
    "    time.sleep(2)\n",
    "    ele.send_keys(Keys.PAGE_UP)\n",
    "    time.sleep(2)\n",
    "    ele.send_keys(Keys.HOME)\n",
    "    time.sleep(2)\n",
    "    browser.refresh()\n",
    "    time.sleep(2)\n",
    "    browser.back()\n",
    "    time.sleep(2)\n",
    "    browser.forward()\n",
    "    time.sleep(2)\n",
    "    browser.quit()\n",
    "    \n",
    "except Exception as err:\n",
    "    print(err)"
   ]
  },
  {
   "cell_type": "code",
   "execution_count": null,
   "metadata": {},
   "outputs": [],
   "source": []
  }
 ],
 "metadata": {
  "kernelspec": {
   "display_name": "Python 3",
   "language": "python",
   "name": "python3"
  },
  "language_info": {
   "codemirror_mode": {
    "name": "ipython",
    "version": 3
   },
   "file_extension": ".py",
   "mimetype": "text/x-python",
   "name": "python",
   "nbconvert_exporter": "python",
   "pygments_lexer": "ipython3",
   "version": "3.7.1"
  }
 },
 "nbformat": 4,
 "nbformat_minor": 2
}
