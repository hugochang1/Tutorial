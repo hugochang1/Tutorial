{
 "cells": [
  {
   "cell_type": "markdown",
   "metadata": {},
   "source": [
    "### import"
   ]
  },
  {
   "cell_type": "code",
   "execution_count": 1,
   "metadata": {},
   "outputs": [
    {
     "name": "stdout",
     "output_type": "stream",
     "text": [
      "you have included my2.py\n",
      "you have included my.py\n",
      "A.__init__()\n",
      "f1()\n",
      "3\n",
      "f3()\n",
      "f4()\n"
     ]
    }
   ],
   "source": [
    "import src.my\n",
    "\n",
    "src.my.A()\n",
    "src.my.f1()\n",
    "print(src.my.f2(1,2))\n",
    "src.my.f3()"
   ]
  },
  {
   "cell_type": "code",
   "execution_count": 2,
   "metadata": {},
   "outputs": [
    {
     "name": "stdout",
     "output_type": "stream",
     "text": [
      "A.__init__()\n",
      "f1()\n"
     ]
    },
    {
     "data": {
      "text/plain": [
       "5"
      ]
     },
     "execution_count": 2,
     "metadata": {},
     "output_type": "execute_result"
    }
   ],
   "source": [
    "import src.my as my\n",
    "\n",
    "my.A()\n",
    "my.f1()\n",
    "my.f2(2,3)"
   ]
  },
  {
   "cell_type": "code",
   "execution_count": 3,
   "metadata": {},
   "outputs": [
    {
     "name": "stdout",
     "output_type": "stream",
     "text": [
      "f1()\n"
     ]
    }
   ],
   "source": [
    "from src.my import f1\n",
    "\n",
    "f1()"
   ]
  },
  {
   "cell_type": "code",
   "execution_count": 4,
   "metadata": {},
   "outputs": [
    {
     "data": {
      "text/plain": [
       "3"
      ]
     },
     "execution_count": 4,
     "metadata": {},
     "output_type": "execute_result"
    }
   ],
   "source": [
    "from src.my import f2\n",
    "\n",
    "f2(1,2)"
   ]
  },
  {
   "cell_type": "code",
   "execution_count": 5,
   "metadata": {},
   "outputs": [
    {
     "name": "stdout",
     "output_type": "stream",
     "text": [
      "A.__init__()\n",
      "f1()\n"
     ]
    },
    {
     "data": {
      "text/plain": [
       "3"
      ]
     },
     "execution_count": 5,
     "metadata": {},
     "output_type": "execute_result"
    }
   ],
   "source": [
    "from src.my import f1, f2, A\n",
    "\n",
    "A()\n",
    "f1()\n",
    "f2(1,2)"
   ]
  },
  {
   "cell_type": "code",
   "execution_count": 6,
   "metadata": {},
   "outputs": [
    {
     "name": "stdout",
     "output_type": "stream",
     "text": [
      "A.__init__()\n",
      "f1()\n",
      "3\n"
     ]
    }
   ],
   "source": [
    "from src.my import *\n",
    "\n",
    "A()\n",
    "f1()\n",
    "print(f2(1,2))"
   ]
  },
  {
   "cell_type": "code",
   "execution_count": 7,
   "metadata": {},
   "outputs": [
    {
     "name": "stdout",
     "output_type": "stream",
     "text": [
      "f1()\n"
     ]
    }
   ],
   "source": [
    "from src.my import f1 as ff\n",
    "\n",
    "ff()"
   ]
  },
  {
   "cell_type": "code",
   "execution_count": 8,
   "metadata": {},
   "outputs": [
    {
     "data": {
      "text/plain": [
       "3"
      ]
     },
     "execution_count": 8,
     "metadata": {},
     "output_type": "execute_result"
    }
   ],
   "source": [
    "from src.my import f2 as fff\n",
    "\n",
    "fff(1,2)"
   ]
  },
  {
   "cell_type": "code",
   "execution_count": 9,
   "metadata": {},
   "outputs": [
    {
     "name": "stdout",
     "output_type": "stream",
     "text": [
      "A.__init__()\n"
     ]
    }
   ],
   "source": [
    "from src.my import A as B\n",
    "\n",
    "b = B()"
   ]
  },
  {
   "cell_type": "code",
   "execution_count": 10,
   "metadata": {},
   "outputs": [
    {
     "name": "stdout",
     "output_type": "stream",
     "text": [
      "A.__init__()\n"
     ]
    }
   ],
   "source": [
    "from src.my import *\n",
    "\n",
    "a = A()"
   ]
  },
  {
   "cell_type": "code",
   "execution_count": 11,
   "metadata": {},
   "outputs": [
    {
     "name": "stdout",
     "output_type": "stream",
     "text": [
      "f5\n"
     ]
    }
   ],
   "source": [
    "import my3\n",
    "\n",
    "my3.f5()"
   ]
  },
  {
   "cell_type": "markdown",
   "metadata": {},
   "source": [
    "### random"
   ]
  },
  {
   "cell_type": "code",
   "execution_count": 12,
   "metadata": {},
   "outputs": [
    {
     "name": "stdout",
     "output_type": "stream",
     "text": [
      "2\n",
      "3\n",
      "1\n",
      "1\n",
      "2\n"
     ]
    }
   ],
   "source": [
    "import random\n",
    "\n",
    "#randint(min, max)\n",
    "for i in range(5):\n",
    "    print(random.randint(1,3))"
   ]
  },
  {
   "cell_type": "code",
   "execution_count": 13,
   "metadata": {},
   "outputs": [
    {
     "name": "stdout",
     "output_type": "stream",
     "text": [
      "2\n",
      "3\n",
      "3\n",
      "1\n",
      "1\n"
     ]
    }
   ],
   "source": [
    "import random\n",
    "\n",
    "a = [1,2,3]\n",
    "for i in range(5):\n",
    "    print(random.choice(a))"
   ]
  },
  {
   "cell_type": "code",
   "execution_count": 14,
   "metadata": {},
   "outputs": [
    {
     "name": "stdout",
     "output_type": "stream",
     "text": [
      "[2, 5, 1, 4, 3]\n"
     ]
    }
   ],
   "source": [
    "import random\n",
    "\n",
    "a = [1,2,3,4,5]\n",
    "random.shuffle(a)\n",
    "print(a)"
   ]
  },
  {
   "cell_type": "markdown",
   "metadata": {},
   "source": [
    "### time"
   ]
  },
  {
   "cell_type": "code",
   "execution_count": 15,
   "metadata": {},
   "outputs": [
    {
     "name": "stdout",
     "output_type": "stream",
     "text": [
      "1550244386.109348\n",
      "1550244386\n"
     ]
    }
   ],
   "source": [
    "import time\n",
    "\n",
    "# count from 1970/1/1\n",
    "print(time.time())\n",
    "print(int(time.time()))"
   ]
  },
  {
   "cell_type": "code",
   "execution_count": 16,
   "metadata": {},
   "outputs": [
    {
     "name": "stdout",
     "output_type": "stream",
     "text": [
      "1\n",
      "2\n"
     ]
    }
   ],
   "source": [
    "import time\n",
    "\n",
    "print(1)\n",
    "time.sleep(1.5)\n",
    "print(2)"
   ]
  },
  {
   "cell_type": "code",
   "execution_count": 17,
   "metadata": {},
   "outputs": [
    {
     "name": "stdout",
     "output_type": "stream",
     "text": [
      "Fri Feb 15 23:26:27 2019\n"
     ]
    }
   ],
   "source": [
    "import time\n",
    "\n",
    "print(time.asctime())"
   ]
  },
  {
   "cell_type": "code",
   "execution_count": 18,
   "metadata": {},
   "outputs": [
    {
     "name": "stdout",
     "output_type": "stream",
     "text": [
      "time.struct_time(tm_year=2019, tm_mon=2, tm_mday=15, tm_hour=23, tm_min=26, tm_sec=27, tm_wday=4, tm_yday=46, tm_isdst=0)\n",
      "year   2019\n",
      "month  2\n",
      "day    15\n",
      "hr     23\n",
      "min    26\n",
      "sec    27\n",
      "week   4\n",
      "day    46\n",
      "DTS    0\n"
     ]
    }
   ],
   "source": [
    "import time\n",
    "\n",
    "a = time.localtime()\n",
    "print(a)\n",
    "print(\"year  \", a[0])\n",
    "print(\"month \", a[1])\n",
    "print(\"day   \", a[2])\n",
    "print(\"hr    \", a[3])\n",
    "print(\"min   \", a[4])\n",
    "print(\"sec   \", a[5])\n",
    "print(\"week  \", a[6])\n",
    "print(\"day   \", a[7])\n",
    "print(\"DTS   \", a[8])"
   ]
  },
  {
   "cell_type": "markdown",
   "metadata": {},
   "source": [
    "### sys"
   ]
  },
  {
   "cell_type": "code",
   "execution_count": 19,
   "metadata": {},
   "outputs": [
    {
     "name": "stdout",
     "output_type": "stream",
     "text": [
      "3.7.1 (default, Dec 10 2018, 22:54:23) [MSC v.1915 64 bit (AMD64)]\n"
     ]
    }
   ],
   "source": [
    "import sys\n",
    "\n",
    "print(sys.version)"
   ]
  },
  {
   "cell_type": "code",
   "execution_count": 20,
   "metadata": {},
   "outputs": [
    {
     "name": "stdout",
     "output_type": "stream",
     "text": [
      "hello"
     ]
    }
   ],
   "source": [
    "import sys\n",
    "\n",
    "sys.stdout.write(\"hello\")"
   ]
  },
  {
   "cell_type": "code",
   "execution_count": 1,
   "metadata": {},
   "outputs": [
    {
     "name": "stdout",
     "output_type": "stream",
     "text": [
      "3\n",
      "\n",
      "c:\\users\\hugo\\miniconda3\\lib\\site-packages\\ipykernel_launcher.py\n",
      "-f\n",
      "C:\\Users\\Hugo\\AppData\\Roaming\\jupyter\\runtime\\kernel-bac97379-fbd8-498d-bd0b-caa537dba9bd.json\n"
     ]
    }
   ],
   "source": [
    "import sys\n",
    "\n",
    "print(len(sys.argv))\n",
    "print()\n",
    "for a in sys.argv:\n",
    "    print(a)"
   ]
  },
  {
   "cell_type": "markdown",
   "metadata": {},
   "source": [
    "### keyword"
   ]
  },
  {
   "cell_type": "code",
   "execution_count": 21,
   "metadata": {},
   "outputs": [
    {
     "name": "stdout",
     "output_type": "stream",
     "text": [
      "['False', 'None', 'True', 'and', 'as', 'assert', 'async', 'await', 'break', 'class', 'continue', 'def', 'del', 'elif', 'else', 'except', 'finally', 'for', 'from', 'global', 'if', 'import', 'in', 'is', 'lambda', 'nonlocal', 'not', 'or', 'pass', 'raise', 'return', 'try', 'while', 'with', 'yield']\n"
     ]
    }
   ],
   "source": [
    "import keyword\n",
    "\n",
    "print(keyword.kwlist)"
   ]
  },
  {
   "cell_type": "code",
   "execution_count": 22,
   "metadata": {},
   "outputs": [
    {
     "name": "stdout",
     "output_type": "stream",
     "text": [
      "1 False\n",
      "2 False\n",
      "a False\n",
      "b False\n",
      "False True\n",
      "None True\n",
      "false False\n"
     ]
    }
   ],
   "source": [
    "a = [1, 2, \"a\", \"b\", \"False\", \"None\", \"false\"]\n",
    "\n",
    "for b in a:\n",
    "    print(b, keyword.iskeyword(b))"
   ]
  },
  {
   "cell_type": "markdown",
   "metadata": {},
   "source": [
    "### copy paste"
   ]
  },
  {
   "cell_type": "markdown",
   "metadata": {},
   "source": [
    "pip install pyperclip"
   ]
  },
  {
   "cell_type": "code",
   "execution_count": 24,
   "metadata": {},
   "outputs": [
    {
     "name": "stdout",
     "output_type": "stream",
     "text": [
      "aaaabbbbb 你好嗎\n",
      "123\n"
     ]
    }
   ],
   "source": [
    "import pyperclip\n",
    "\n",
    "pyperclip.copy(\"aaaabbbbb 你好嗎\")\n",
    "print(pyperclip.paste())\n",
    "\n",
    "pyperclip.copy(\"123\")\n",
    "print(pyperclip.paste())"
   ]
  },
  {
   "cell_type": "code",
   "execution_count": null,
   "metadata": {},
   "outputs": [],
   "source": []
  }
 ],
 "metadata": {
  "kernelspec": {
   "display_name": "Python 3",
   "language": "python",
   "name": "python3"
  },
  "language_info": {
   "codemirror_mode": {
    "name": "ipython",
    "version": 3
   },
   "file_extension": ".py",
   "mimetype": "text/x-python",
   "name": "python",
   "nbconvert_exporter": "python",
   "pygments_lexer": "ipython3",
   "version": "3.7.1"
  }
 },
 "nbformat": 4,
 "nbformat_minor": 2
}
