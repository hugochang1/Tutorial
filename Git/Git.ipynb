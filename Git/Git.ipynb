{
 "cells": [
  {
   "cell_type": "markdown",
   "metadata": {},
   "source": [
    "# Download"
   ]
  },
  {
   "cell_type": "code",
   "execution_count": null,
   "metadata": {},
   "outputs": [],
   "source": [
    "https://git-scm.com/downloads"
   ]
  },
  {
   "cell_type": "markdown",
   "metadata": {},
   "source": [
    "# Config"
   ]
  },
  {
   "cell_type": "code",
   "execution_count": null,
   "metadata": {},
   "outputs": [],
   "source": [
    "$ git config --list\n",
    "\n",
    "$ git config --global user.name \"Hugo Chang\"\n",
    "$ git config --global user.email \"Hugo.Chang@gmail.com\"\n",
    "\n",
    "$ git config --local user.name \"Hugo Chang\"\n",
    "$ git config --local user.email \"Hugo.Chang@gmail.com\"\n",
    "\n",
    "$ git config --global alias.co checkout\n",
    "$ git config --global alias.l \"log --oneline --graph\"\n",
    "\n",
    "$ vi ~/.gitconfig"
   ]
  },
  {
   "cell_type": "markdown",
   "metadata": {},
   "source": [
    "# Basic Operation"
   ]
  },
  {
   "cell_type": "code",
   "execution_count": null,
   "metadata": {},
   "outputs": [],
   "source": [
    "$ git init\n",
    "$ rm -rf .git\n",
    "\n",
    "$ git status\n",
    "$ git diff\n",
    "$ git log -p\n",
    "\n",
    "$ git add file\n",
    "$ git add .\n",
    "\n",
    "withdraw git add\n",
    "$ git rm --cached file\n",
    "$ git rm --cached -r .\n",
    "\n",
    "$ git commit -m \"commit message\"\n",
    "\n",
    "$ gitk\n",
    "$ git log\n",
    "$ git log -3\n",
    "$ git log fileName\n",
    "$ git log -p fileName\n",
    "$ git log --oneline\n",
    "$ git log --autho=\"Hugo\"\n",
    "$ git log --autho=\"Hugo\\|Leo\"\n",
    "$ git log --grep=\"search something in commit message\"\n",
    "$ git log -p -S \"search something in the content\""
   ]
  },
  {
   "cell_type": "markdown",
   "metadata": {},
   "source": [
    "# Modify Last Commit"
   ]
  },
  {
   "cell_type": "code",
   "execution_count": null,
   "metadata": {},
   "outputs": [],
   "source": [
    "$ git commit --amend -m \"modify the last commit message\"\n",
    "\n",
    "add one file to the last commit without changing it\n",
    "$ git add newFile\n",
    "$ git commit --amend --no-edit"
   ]
  },
  {
   "cell_type": "markdown",
   "metadata": {},
   "source": [
    "# .gitignore"
   ]
  },
  {
   "cell_type": "code",
   "execution_count": null,
   "metadata": {},
   "outputs": [],
   "source": [
    "$ vi .gitignore\n",
    "\n",
    "# this is comment\n",
    "# ignore myself\n",
    ".gitignore\n",
    "\n",
    "# ignore file1.txt\n",
    "file1.txt\n",
    "*.txt\n",
    "!file2.txt"
   ]
  },
  {
   "cell_type": "markdown",
   "metadata": {},
   "source": [
    "# Check File Content"
   ]
  },
  {
   "cell_type": "code",
   "execution_count": null,
   "metadata": {},
   "outputs": [],
   "source": [
    "$ git blame fileName\n",
    "\n",
    "to check a range of specific lines\n",
    "$ git branch -L 3,10 fileName"
   ]
  },
  {
   "cell_type": "markdown",
   "metadata": {},
   "source": [
    "# Rollback the file for working directory"
   ]
  },
  {
   "cell_type": "code",
   "execution_count": null,
   "metadata": {},
   "outputs": [],
   "source": [
    "$ git checkout fileName\n",
    "$ git checkout .\n",
    "\n",
    "rollback whole codebase to previous two version\n",
    "$ git checkout HEAD~2 ."
   ]
  },
  {
   "cell_type": "markdown",
   "metadata": {},
   "source": [
    "# Rollback the file for working directory and staging area"
   ]
  },
  {
   "cell_type": "code",
   "execution_count": null,
   "metadata": {},
   "outputs": [],
   "source": [
    "$ git reset --hard HEAD\n",
    "\n",
    "rollback all to previous two commit\n",
    "$ git reset --hard HEAD~2\n",
    "\n",
    "$ git reflog\n",
    "$ git reset -hard 7bbaeeb"
   ]
  },
  {
   "cell_type": "markdown",
   "metadata": {},
   "source": [
    "# Branch"
   ]
  },
  {
   "cell_type": "code",
   "execution_count": null,
   "metadata": {},
   "outputs": [],
   "source": [
    "$ git branch\n",
    "\n",
    "create a branch\n",
    "$ git branch cat\n",
    "$ git branch cat commit_id\n",
    "\n",
    "change a branch name\n",
    "$ git branch -m cat tiger\n",
    "\n",
    "delete a branch\n",
    "$ git branch -d dog\n",
    "\n",
    "switch branch\n",
    "$ git checkout cat"
   ]
  },
  {
   "cell_type": "markdown",
   "metadata": {},
   "source": [
    "# Merge"
   ]
  },
  {
   "cell_type": "code",
   "execution_count": null,
   "metadata": {},
   "outputs": [],
   "source": [
    "merge branch\n",
    "$ git merge cat\n",
    "$ git merge commit_id\n",
    "\n",
    "it will create a new commit and its parents are cat and dog\n",
    "cat will be moved to this new commit\n",
    "\n",
    "merge conflict handling\n",
    "step 1. check which file conflict\n",
    "  $ git status\n",
    "step 2. correct it\n",
    "step 3. commit it\n",
    "  $ git add file\n",
    "  $ git commit -m \"conflict fixed\""
   ]
  },
  {
   "cell_type": "markdown",
   "metadata": {},
   "source": [
    "# Rebase"
   ]
  },
  {
   "cell_type": "code",
   "execution_count": null,
   "metadata": {},
   "outputs": [],
   "source": [
    "merge branch\n",
    "$ git rebase cat\n",
    "\n",
    "all commits in dog branch will generate new commits to cat branch\n",
    "dog will be moved to the last new commit\n",
    "\n",
    "merge conflict handling\n",
    "step 1. check which file conflict\n",
    "  $ git status\n",
    "step 2. correct it\n",
    "step 3. commit it\n",
    "  $ git add file\n",
    "  $ git rebase --continue"
   ]
  },
  {
   "cell_type": "markdown",
   "metadata": {},
   "source": [
    "# Merge Conflict for Binary File"
   ]
  },
  {
   "cell_type": "code",
   "execution_count": null,
   "metadata": {},
   "outputs": [],
   "source": [
    "merge conflict for binary file\n",
    "in step 2\n",
    "$ git checkout --ours file\n",
    "$ git checkout --theirs file"
   ]
  },
  {
   "cell_type": "markdown",
   "metadata": {},
   "source": [
    "# Give up the last rebase, merge, or reset"
   ]
  },
  {
   "cell_type": "code",
   "execution_count": null,
   "metadata": {},
   "outputs": [],
   "source": [
    "git reset --hard ORIG_HEAD"
   ]
  },
  {
   "cell_type": "markdown",
   "metadata": {},
   "source": [
    "# Change historical commit messages"
   ]
  },
  {
   "cell_type": "code",
   "execution_count": null,
   "metadata": {},
   "outputs": [],
   "source": [
    "check log list first\n",
    "$ git log --oneline\n",
    "$ git rebase -i commit_id"
   ]
  },
  {
   "cell_type": "markdown",
   "metadata": {},
   "source": [
    "# Generate a new commit message for rollback"
   ]
  },
  {
   "cell_type": "code",
   "execution_count": null,
   "metadata": {},
   "outputs": [],
   "source": [
    "git revert HEAD"
   ]
  },
  {
   "cell_type": "markdown",
   "metadata": {},
   "source": [
    "# Tag"
   ]
  },
  {
   "cell_type": "code",
   "execution_count": null,
   "metadata": {},
   "outputs": [],
   "source": [
    "1. lightweight tag\n",
    "$ git tag tag_name\n",
    "$ git tag tag_name commit_id\n",
    "\n",
    "2. annotated tag (recommended)\n",
    "$ git tag tag_name commit_id -a -m \"tag message\"\n",
    "\n",
    "check tag\n",
    "$ git show tag_name\n",
    "\n",
    "delete tag\n",
    "$ git tag -d tag_name"
   ]
  },
  {
   "cell_type": "markdown",
   "metadata": {},
   "source": [
    "# Cherry-pick"
   ]
  },
  {
   "cell_type": "code",
   "execution_count": null,
   "metadata": {},
   "outputs": [],
   "source": [
    "$ git cherry-pick commit_id\n",
    "$ git cherry-pick commit_id1 commit_id2 commit_id3\n",
    "$ git cherry-pick commit_id --no-commit"
   ]
  },
  {
   "cell_type": "markdown",
   "metadata": {},
   "source": [
    "# Clear reflog"
   ]
  },
  {
   "cell_type": "code",
   "execution_count": null,
   "metadata": {},
   "outputs": [],
   "source": [
    "$ git reflog expire --all --expire=now"
   ]
  },
  {
   "cell_type": "markdown",
   "metadata": {},
   "source": [
    "# Clone the whole repo"
   ]
  },
  {
   "cell_type": "code",
   "execution_count": null,
   "metadata": {},
   "outputs": [],
   "source": [
    "$ git clone git@github.com:hugochang/project.git\n",
    "$ git clone git@github.com:hugochang/project.git folder\n",
    "\n",
    "$ git remote add origin git@github.com:hugochang/project.git\n",
    "\n",
    "$ git push -u origin master\n",
    "\n",
    "$ git fetch\n",
    "$ git merge origin/master\n",
    "\n",
    "git pull = git fetch + git merge (please be noted that git merge will create a new commit)\n",
    "$ git pull\n",
    "\n",
    "if you don't want to generate the additional commit message\n",
    "$ git pull --rebase"
   ]
  },
  {
   "cell_type": "markdown",
   "metadata": {},
   "source": [
    "# Patches"
   ]
  },
  {
   "cell_type": "code",
   "execution_count": null,
   "metadata": {},
   "outputs": [],
   "source": [
    "$ git format-patch 8ec2e78..70b517c\n",
    "$ git format-patch -2\n",
    "$ git format-patch -2 -o ../patches/\n",
    "$ git am patches/*"
   ]
  }
 ],
 "metadata": {
  "kernelspec": {
   "display_name": "Python 3",
   "language": "python",
   "name": "python3"
  },
  "language_info": {
   "codemirror_mode": {
    "name": "ipython",
    "version": 3
   },
   "file_extension": ".py",
   "mimetype": "text/x-python",
   "name": "python",
   "nbconvert_exporter": "python",
   "pygments_lexer": "ipython3",
   "version": "3.7.1"
  }
 },
 "nbformat": 4,
 "nbformat_minor": 2
}
